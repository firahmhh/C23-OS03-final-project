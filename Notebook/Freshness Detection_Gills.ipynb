{
  "cells": [
    {
      "cell_type": "code",
      "execution_count": null,
      "metadata": {
        "colab": {
          "base_uri": "https://localhost:8080/"
        },
        "id": "MRbD5ZA7qxCb",
        "outputId": "db204b1e-fe1f-4e87-e936-470664bf027a"
      },
      "outputs": [
        {
          "name": "stdout",
          "output_type": "stream",
          "text": [
            "Mounted at /content/drive\n",
            "TensorFlow version:  2.12.0\n"
          ]
        }
      ],
      "source": [
        "import io\n",
        "import os\n",
        "import random\n",
        "import shutil\n",
        "import itertools\n",
        "import numpy as np\n",
        "import sklearn.metrics\n",
        "import tensorflow as tf\n",
        "import matplotlib.pyplot as plt\n",
        "\n",
        "from tensorflow.keras.preprocessing.image import ImageDataGenerator\n",
        "from tensorflow import keras\n",
        "from datetime import datetime\n",
        "from shutil import copyfile\n",
        "from os import getcwd\n",
        "\n",
        "from google.colab import drive\n",
        "drive.mount('/content/drive')\n",
        "print(\"TensorFlow version: \", tf.__version__)"
      ]
    },
    {
      "cell_type": "markdown",
      "metadata": {
        "id": "yLH1CtYVZpFt"
      },
      "source": [
        "#### Making Empty Folder in Drive"
      ]
    },
    {
      "cell_type": "code",
      "execution_count": null,
      "metadata": {
        "id": "P1y9kVzWrVdv"
      },
      "outputs": [],
      "source": [
        "root_dir = '/content/drive/MyDrive/ML/Coba Gills'\n",
        "\n",
        "if os.path.exists(root_dir):\n",
        "  shutil.rmtree(root_dir)\n",
        "\n",
        "def create_train_val_dirs(root_path):\n",
        "  train_dir = os.path.join(root_path, 'training')\n",
        "  validation_dir = os.path.join(root_path, 'validation')\n",
        "\n",
        "\n",
        "  train_busuk_dir = os.path.join(train_dir, 'busuk')\n",
        "  train_kurang_segar_dir = os.path.join(train_dir, 'kurang_segar')\n",
        "  train_segar_dir = os.path.join(train_dir, 'segar')\n",
        "  os.makedirs(train_busuk_dir)\n",
        "  os.makedirs(train_kurang_segar_dir)\n",
        "  os.makedirs(train_segar_dir)\n",
        "\n",
        "  \n",
        "  validation_busuk_dir = os.path.join(validation_dir, 'busuk')\n",
        "  validation_kurang_segar_dir = os.path.join(validation_dir, 'kurang_segar')\n",
        "  validation_segar_dir = os.path.join(validation_dir, 'segar')\n",
        "  os.makedirs(validation_busuk_dir)\n",
        "  os.makedirs(validation_kurang_segar_dir)\n",
        "  os.makedirs(validation_segar_dir)\n",
        "\n",
        "try:\n",
        "  create_train_val_dirs(root_path=root_dir)\n",
        "except FileExistsError:\n",
        "  print(\"You should not be seeing this since the upper directory is removed beforehand\")"
      ]
    },
    {
      "cell_type": "markdown",
      "metadata": {
        "id": "kzSRUKwAZ6_N"
      },
      "source": [
        "#### Split and add the images"
      ]
    },
    {
      "cell_type": "code",
      "execution_count": null,
      "metadata": {
        "id": "u30wqys_ULJ3"
      },
      "outputs": [],
      "source": [
        "def split_data(SOURCE_DIR, TRAINING_DIR, VALIDATION_DIR, SPLIT_SIZE):\n",
        "  files = os.listdir(SOURCE_DIR)\n",
        "\n",
        "  split = (len(files)*SPLIT_SIZE)\n",
        "\n",
        "  #Randomize the file sample\n",
        "  files = random.sample(files, len(files))\n",
        "\n",
        "  train = files[:int(split)]\n",
        "    \n",
        "  \n",
        "  for name in train:\n",
        "    source = os.path.join(SOURCE_DIR, name)\n",
        "    destination = os.path.join(TRAINING_DIR, name)\n",
        "    if os.path.getsize(source)>0:\n",
        "      copyfile(source, destination) \n",
        "    else:\n",
        "      print(f\"{name} is zero length, so ignoring.\")\n",
        "\n",
        "\n",
        "  valid = files[int(split):]\n",
        "  \n",
        "  for name in valid:\n",
        "    source = os.path.join(SOURCE_DIR, name)\n",
        "    destination = os.path.join(VALIDATION_DIR, name)\n",
        "    if os.path.getsize(source)>0:\n",
        "      copyfile(source, destination) \n",
        "    else:\n",
        "      print(f\"{name} is zero length, so ignoring.\")"
      ]
    },
    {
      "cell_type": "code",
      "execution_count": null,
      "metadata": {
        "colab": {
          "base_uri": "https://localhost:8080/"
        },
        "id": "84YGqgr2UVKB",
        "outputId": "6928d043-6dca-4e32-8393-53e1900c5031"
      },
      "outputs": [
        {
          "name": "stdout",
          "output_type": "stream",
          "text": [
            "Original fresh directory has 1470 images\n",
            "Original less_fresh directory has 1470 images\n",
            "Original spoiled directory has 1470 images\n",
            "\n",
            "There are 1249 images of fresh fish for training\n",
            "There are 221 images of fresh fish for validation\n",
            "There are 1249 images of less fresh fish for training\n",
            "There are 221 images of less fresh fish for validation\n",
            "There are 1249 images of spoiled fish for training\n",
            "There are 221 images of spoiled fish for validation\n"
          ]
        }
      ],
      "source": [
        "# Define paths\n",
        "TRAINING_DIR = \"/content/drive/MyDrive/ML/Coba Gills/training\"\n",
        "VALIDATION_DIR = \"/content/drive/MyDrive/ML/Coba Gills/validation\"\n",
        "\n",
        "SEGAR_DIR = \"/content/drive/MyDrive/ML/Data_Augmented/Gills/Segar\"\n",
        "KURANG_SEGAR_DIR = \"/content/drive/MyDrive/ML/Data_Augmented/Gills/Kurang Segar\"\n",
        "BUSUK_DIR = \"/content/drive/MyDrive/ML/Data_Augmented/Gills/Busuk\"\n",
        "\n",
        "TRAINING_SEGAR_DIR = os.path.join(TRAINING_DIR, \"segar/\")\n",
        "VALIDATION_SEGAR_DIR = os.path.join(VALIDATION_DIR, \"segar/\")\n",
        "TRAINING_KURANG_SEGAR_DIR = os.path.join(TRAINING_DIR, \"kurang_segar/\")\n",
        "VALIDATION_KURANG_SEGAR_DIR = os.path.join(VALIDATION_DIR, \"kurang_segar/\")\n",
        "TRAINING_BUSUK_DIR = os.path.join(TRAINING_DIR, \"busuk/\")\n",
        "VALIDATION_BUSUK_DIR = os.path.join(VALIDATION_DIR, \"busuk/\")\n",
        "\n",
        "# Empty directories in case you run this cell multiple times\n",
        "if len(os.listdir(TRAINING_SEGAR_DIR)) > 0:\n",
        "  for file in os.scandir(TRAINING_SEGAR_DIR):\n",
        "    os.remove(file.path)\n",
        "if len(os.listdir(TRAINING_KURANG_SEGAR_DIR)) > 0:\n",
        "  for file in os.scandir(TRAINING_KURANG_SEGAR_DIR):\n",
        "    os.remove(file.path)\n",
        "if len(os.listdir(TRAINING_BUSUK_DIR)) > 0:\n",
        "  for file in os.scandir(TRAINING_BUSUK_DIR):\n",
        "    os.remove(file.path)\n",
        "if len(os.listdir(VALIDATION_SEGAR_DIR)) > 0:\n",
        "  for file in os.scandir(VALIDATION_SEGAR_DIR):\n",
        "    os.remove(file.path)\n",
        "if len(os.listdir(VALIDATION_KURANG_SEGAR_DIR)) > 0:\n",
        "  for file in os.scandir(VALIDATION_KURANG_SEGAR_DIR):\n",
        "    os.remove(file.path)\n",
        "if len(os.listdir(VALIDATION_BUSUK_DIR)) > 0:\n",
        "  for file in os.scandir(VALIDATION_BUSUK_DIR):\n",
        "    os.remove(file.path)\n",
        "\n",
        "# Define proportion of images used for training\n",
        "split_size = .85\n",
        "\n",
        "# Run the function\n",
        "# NOTE: Messages about zero length images should be printed out\n",
        "split_data(SEGAR_DIR, TRAINING_SEGAR_DIR, VALIDATION_SEGAR_DIR, split_size)\n",
        "split_data(KURANG_SEGAR_DIR, TRAINING_KURANG_SEGAR_DIR, VALIDATION_KURANG_SEGAR_DIR, split_size)\n",
        "split_data(BUSUK_DIR, TRAINING_BUSUK_DIR, VALIDATION_BUSUK_DIR, split_size)\n",
        "\n",
        "# Your function should perform copies rather than moving images so original directories should contain unchanged images\n",
        "print(f\"Original fresh directory has {len(os.listdir(SEGAR_DIR))} images\")\n",
        "print(f\"Original less_fresh directory has {len(os.listdir(KURANG_SEGAR_DIR))} images\")\n",
        "print(f\"Original spoiled directory has {len(os.listdir(BUSUK_DIR))} images\\n\")\n",
        "\n",
        "# Training and validation splits. Check that the number of images matches the expected output.\n",
        "print(f\"There are {len(os.listdir(TRAINING_SEGAR_DIR))} images of fresh fish for training\")\n",
        "print(f\"There are {len(os.listdir(VALIDATION_SEGAR_DIR))} images of fresh fish for validation\")\n",
        "print(f\"There are {len(os.listdir(TRAINING_KURANG_SEGAR_DIR))} images of less fresh fish for training\")\n",
        "print(f\"There are {len(os.listdir(VALIDATION_KURANG_SEGAR_DIR))} images of less fresh fish for validation\")\n",
        "print(f\"There are {len(os.listdir(TRAINING_BUSUK_DIR))} images of spoiled fish for training\")\n",
        "print(f\"There are {len(os.listdir(VALIDATION_BUSUK_DIR))} images of spoiled fish for validation\")"
      ]
    },
    {
      "cell_type": "markdown",
      "metadata": {
        "id": "n7PH13nTW-cy"
      },
      "source": [
        "# Train"
      ]
    },
    {
      "cell_type": "code",
      "execution_count": null,
      "metadata": {
        "id": "-Hz7QEJGQyKj"
      },
      "outputs": [],
      "source": [
        "TRAINING_DIR = \"/content/drive/MyDrive/ML/Coba Gills/training\"\n",
        "VALIDATION_DIR = \"/content/drive/MyDrive/ML/Coba Gills/validation\""
      ]
    },
    {
      "cell_type": "code",
      "execution_count": null,
      "metadata": {
        "id": "PyIxz4o8b2V8"
      },
      "outputs": [],
      "source": [
        "def train_val_generators(TRAINING_DIR, VALIDATION_DIR):\n",
        "  # Instantiate the ImageDataGenerator class (don't forget to set the arguments to augment the images)\n",
        "  train_datagen = ImageDataGenerator(rescale=1.0/225,\n",
        "                                     horizontal_flip=True,\n",
        "                                     fill_mode=\"nearest\")\n",
        "\n",
        "  # Pass in the appropriate arguments to the flow_from_directory method\n",
        "  train_generator = train_datagen.flow_from_directory(directory=TRAINING_DIR,\n",
        "                                                      batch_size=100,\n",
        "                                                      class_mode=\"categorical\",\n",
        "                                                      target_size=(150,150))\n",
        "\n",
        "  # Instantiate the ImageDataGenerator class (don't forget to set the rescale argument)\n",
        "  validation_datagen = ImageDataGenerator(rescale=1.0/225)\n",
        "\n",
        "  # Pass in the appropriate arguments to the flow_from_directory method\n",
        "  validation_generator = validation_datagen.flow_from_directory(directory=VALIDATION_DIR,\n",
        "                                                                batch_size=100,\n",
        "                                                                class_mode=\"categorical\",\n",
        "                                                                target_size=(150,150))\n",
        "  return train_generator, validation_generator"
      ]
    },
    {
      "cell_type": "code",
      "execution_count": null,
      "metadata": {
        "colab": {
          "base_uri": "https://localhost:8080/"
        },
        "id": "X_Ku7-mXb4NC",
        "outputId": "b4fda73a-ccaf-41c6-efb3-c9e01de32961"
      },
      "outputs": [
        {
          "name": "stdout",
          "output_type": "stream",
          "text": [
            "Found 3732 images belonging to 3 classes.\n",
            "Found 658 images belonging to 3 classes.\n"
          ]
        }
      ],
      "source": [
        "train_generator, validation_generator = train_val_generators(TRAINING_DIR, VALIDATION_DIR)"
      ]
    },
    {
      "cell_type": "code",
      "execution_count": null,
      "metadata": {
        "colab": {
          "base_uri": "https://localhost:8080/"
        },
        "id": "4Z5CsBl8OcL1",
        "outputId": "d1a54d52-c776-4d56-c72b-a1ff1ab0a847"
      },
      "outputs": [
        {
          "data": {
            "text/plain": [
              "(150, 150, 3)"
            ]
          },
          "execution_count": 5,
          "metadata": {},
          "output_type": "execute_result"
        }
      ],
      "source": [
        "train_generator.image_shape"
      ]
    },
    {
      "cell_type": "code",
      "execution_count": null,
      "metadata": {
        "id": "_uynIuccOgv5"
      },
      "outputs": [],
      "source": [
        "def create_mNet2(train_gen):\n",
        "\n",
        "  pre_trained_model = tf.keras.applications.MobileNet(\n",
        "    input_shape=train_gen.image_shape,\n",
        "    dropout=0.001,\n",
        "    include_top=False,\n",
        "    weights=\"imagenet\",\n",
        "    classifier_activation=\"softmax\",\n",
        "    )\n",
        "\n",
        "  return pre_trained_model"
      ]
    },
    {
      "cell_type": "code",
      "execution_count": null,
      "metadata": {
        "colab": {
          "base_uri": "https://localhost:8080/"
        },
        "id": "NcKTFn0vO1yY",
        "outputId": "4505da30-78dc-43a6-f383-09ed64181791"
      },
      "outputs": [
        {
          "name": "stderr",
          "output_type": "stream",
          "text": [
            "WARNING:tensorflow:`input_shape` is undefined or non-square, or `rows` is not in [128, 160, 192, 224]. Weights for input shape (224, 224) will be loaded as the default.\n"
          ]
        },
        {
          "name": "stdout",
          "output_type": "stream",
          "text": [
            "Downloading data from https://storage.googleapis.com/tensorflow/keras-applications/mobilenet/mobilenet_1_0_224_tf_no_top.h5\n",
            "17225924/17225924 [==============================] - 0s 0us/step\n",
            "Model: \"mobilenet_1.00_224\"\n",
            "_________________________________________________________________\n",
            " Layer (type)                Output Shape              Param #   \n",
            "=================================================================\n",
            " input_1 (InputLayer)        [(None, 150, 150, 3)]     0         \n",
            "                                                                 \n",
            " conv1 (Conv2D)              (None, 75, 75, 32)        864       \n",
            "                                                                 \n",
            " conv1_bn (BatchNormalizatio  (None, 75, 75, 32)       128       \n",
            " n)                                                              \n",
            "                                                                 \n",
            " conv1_relu (ReLU)           (None, 75, 75, 32)        0         \n",
            "                                                                 \n",
            " conv_dw_1 (DepthwiseConv2D)  (None, 75, 75, 32)       288       \n",
            "                                                                 \n",
            " conv_dw_1_bn (BatchNormaliz  (None, 75, 75, 32)       128       \n",
            " ation)                                                          \n",
            "                                                                 \n",
            " conv_dw_1_relu (ReLU)       (None, 75, 75, 32)        0         \n",
            "                                                                 \n",
            " conv_pw_1 (Conv2D)          (None, 75, 75, 64)        2048      \n",
            "                                                                 \n",
            " conv_pw_1_bn (BatchNormaliz  (None, 75, 75, 64)       256       \n",
            " ation)                                                          \n",
            "                                                                 \n",
            " conv_pw_1_relu (ReLU)       (None, 75, 75, 64)        0         \n",
            "                                                                 \n",
            " conv_pad_2 (ZeroPadding2D)  (None, 76, 76, 64)        0         \n",
            "                                                                 \n",
            " conv_dw_2 (DepthwiseConv2D)  (None, 37, 37, 64)       576       \n",
            "                                                                 \n",
            " conv_dw_2_bn (BatchNormaliz  (None, 37, 37, 64)       256       \n",
            " ation)                                                          \n",
            "                                                                 \n",
            " conv_dw_2_relu (ReLU)       (None, 37, 37, 64)        0         \n",
            "                                                                 \n",
            " conv_pw_2 (Conv2D)          (None, 37, 37, 128)       8192      \n",
            "                                                                 \n",
            " conv_pw_2_bn (BatchNormaliz  (None, 37, 37, 128)      512       \n",
            " ation)                                                          \n",
            "                                                                 \n",
            " conv_pw_2_relu (ReLU)       (None, 37, 37, 128)       0         \n",
            "                                                                 \n",
            " conv_dw_3 (DepthwiseConv2D)  (None, 37, 37, 128)      1152      \n",
            "                                                                 \n",
            " conv_dw_3_bn (BatchNormaliz  (None, 37, 37, 128)      512       \n",
            " ation)                                                          \n",
            "                                                                 \n",
            " conv_dw_3_relu (ReLU)       (None, 37, 37, 128)       0         \n",
            "                                                                 \n",
            " conv_pw_3 (Conv2D)          (None, 37, 37, 128)       16384     \n",
            "                                                                 \n",
            " conv_pw_3_bn (BatchNormaliz  (None, 37, 37, 128)      512       \n",
            " ation)                                                          \n",
            "                                                                 \n",
            " conv_pw_3_relu (ReLU)       (None, 37, 37, 128)       0         \n",
            "                                                                 \n",
            " conv_pad_4 (ZeroPadding2D)  (None, 38, 38, 128)       0         \n",
            "                                                                 \n",
            " conv_dw_4 (DepthwiseConv2D)  (None, 18, 18, 128)      1152      \n",
            "                                                                 \n",
            " conv_dw_4_bn (BatchNormaliz  (None, 18, 18, 128)      512       \n",
            " ation)                                                          \n",
            "                                                                 \n",
            " conv_dw_4_relu (ReLU)       (None, 18, 18, 128)       0         \n",
            "                                                                 \n",
            " conv_pw_4 (Conv2D)          (None, 18, 18, 256)       32768     \n",
            "                                                                 \n",
            " conv_pw_4_bn (BatchNormaliz  (None, 18, 18, 256)      1024      \n",
            " ation)                                                          \n",
            "                                                                 \n",
            " conv_pw_4_relu (ReLU)       (None, 18, 18, 256)       0         \n",
            "                                                                 \n",
            " conv_dw_5 (DepthwiseConv2D)  (None, 18, 18, 256)      2304      \n",
            "                                                                 \n",
            " conv_dw_5_bn (BatchNormaliz  (None, 18, 18, 256)      1024      \n",
            " ation)                                                          \n",
            "                                                                 \n",
            " conv_dw_5_relu (ReLU)       (None, 18, 18, 256)       0         \n",
            "                                                                 \n",
            " conv_pw_5 (Conv2D)          (None, 18, 18, 256)       65536     \n",
            "                                                                 \n",
            " conv_pw_5_bn (BatchNormaliz  (None, 18, 18, 256)      1024      \n",
            " ation)                                                          \n",
            "                                                                 \n",
            " conv_pw_5_relu (ReLU)       (None, 18, 18, 256)       0         \n",
            "                                                                 \n",
            " conv_pad_6 (ZeroPadding2D)  (None, 19, 19, 256)       0         \n",
            "                                                                 \n",
            " conv_dw_6 (DepthwiseConv2D)  (None, 9, 9, 256)        2304      \n",
            "                                                                 \n",
            " conv_dw_6_bn (BatchNormaliz  (None, 9, 9, 256)        1024      \n",
            " ation)                                                          \n",
            "                                                                 \n",
            " conv_dw_6_relu (ReLU)       (None, 9, 9, 256)         0         \n",
            "                                                                 \n",
            " conv_pw_6 (Conv2D)          (None, 9, 9, 512)         131072    \n",
            "                                                                 \n",
            " conv_pw_6_bn (BatchNormaliz  (None, 9, 9, 512)        2048      \n",
            " ation)                                                          \n",
            "                                                                 \n",
            " conv_pw_6_relu (ReLU)       (None, 9, 9, 512)         0         \n",
            "                                                                 \n",
            " conv_dw_7 (DepthwiseConv2D)  (None, 9, 9, 512)        4608      \n",
            "                                                                 \n",
            " conv_dw_7_bn (BatchNormaliz  (None, 9, 9, 512)        2048      \n",
            " ation)                                                          \n",
            "                                                                 \n",
            " conv_dw_7_relu (ReLU)       (None, 9, 9, 512)         0         \n",
            "                                                                 \n",
            " conv_pw_7 (Conv2D)          (None, 9, 9, 512)         262144    \n",
            "                                                                 \n",
            " conv_pw_7_bn (BatchNormaliz  (None, 9, 9, 512)        2048      \n",
            " ation)                                                          \n",
            "                                                                 \n",
            " conv_pw_7_relu (ReLU)       (None, 9, 9, 512)         0         \n",
            "                                                                 \n",
            " conv_dw_8 (DepthwiseConv2D)  (None, 9, 9, 512)        4608      \n",
            "                                                                 \n",
            " conv_dw_8_bn (BatchNormaliz  (None, 9, 9, 512)        2048      \n",
            " ation)                                                          \n",
            "                                                                 \n",
            " conv_dw_8_relu (ReLU)       (None, 9, 9, 512)         0         \n",
            "                                                                 \n",
            " conv_pw_8 (Conv2D)          (None, 9, 9, 512)         262144    \n",
            "                                                                 \n",
            " conv_pw_8_bn (BatchNormaliz  (None, 9, 9, 512)        2048      \n",
            " ation)                                                          \n",
            "                                                                 \n",
            " conv_pw_8_relu (ReLU)       (None, 9, 9, 512)         0         \n",
            "                                                                 \n",
            " conv_dw_9 (DepthwiseConv2D)  (None, 9, 9, 512)        4608      \n",
            "                                                                 \n",
            " conv_dw_9_bn (BatchNormaliz  (None, 9, 9, 512)        2048      \n",
            " ation)                                                          \n",
            "                                                                 \n",
            " conv_dw_9_relu (ReLU)       (None, 9, 9, 512)         0         \n",
            "                                                                 \n",
            " conv_pw_9 (Conv2D)          (None, 9, 9, 512)         262144    \n",
            "                                                                 \n",
            " conv_pw_9_bn (BatchNormaliz  (None, 9, 9, 512)        2048      \n",
            " ation)                                                          \n",
            "                                                                 \n",
            " conv_pw_9_relu (ReLU)       (None, 9, 9, 512)         0         \n",
            "                                                                 \n",
            " conv_dw_10 (DepthwiseConv2D  (None, 9, 9, 512)        4608      \n",
            " )                                                               \n",
            "                                                                 \n",
            " conv_dw_10_bn (BatchNormali  (None, 9, 9, 512)        2048      \n",
            " zation)                                                         \n",
            "                                                                 \n",
            " conv_dw_10_relu (ReLU)      (None, 9, 9, 512)         0         \n",
            "                                                                 \n",
            " conv_pw_10 (Conv2D)         (None, 9, 9, 512)         262144    \n",
            "                                                                 \n",
            " conv_pw_10_bn (BatchNormali  (None, 9, 9, 512)        2048      \n",
            " zation)                                                         \n",
            "                                                                 \n",
            " conv_pw_10_relu (ReLU)      (None, 9, 9, 512)         0         \n",
            "                                                                 \n",
            " conv_dw_11 (DepthwiseConv2D  (None, 9, 9, 512)        4608      \n",
            " )                                                               \n",
            "                                                                 \n",
            " conv_dw_11_bn (BatchNormali  (None, 9, 9, 512)        2048      \n",
            " zation)                                                         \n",
            "                                                                 \n",
            " conv_dw_11_relu (ReLU)      (None, 9, 9, 512)         0         \n",
            "                                                                 \n",
            " conv_pw_11 (Conv2D)         (None, 9, 9, 512)         262144    \n",
            "                                                                 \n",
            " conv_pw_11_bn (BatchNormali  (None, 9, 9, 512)        2048      \n",
            " zation)                                                         \n",
            "                                                                 \n",
            " conv_pw_11_relu (ReLU)      (None, 9, 9, 512)         0         \n",
            "                                                                 \n",
            " conv_pad_12 (ZeroPadding2D)  (None, 10, 10, 512)      0         \n",
            "                                                                 \n",
            " conv_dw_12 (DepthwiseConv2D  (None, 4, 4, 512)        4608      \n",
            " )                                                               \n",
            "                                                                 \n",
            " conv_dw_12_bn (BatchNormali  (None, 4, 4, 512)        2048      \n",
            " zation)                                                         \n",
            "                                                                 \n",
            " conv_dw_12_relu (ReLU)      (None, 4, 4, 512)         0         \n",
            "                                                                 \n",
            " conv_pw_12 (Conv2D)         (None, 4, 4, 1024)        524288    \n",
            "                                                                 \n",
            " conv_pw_12_bn (BatchNormali  (None, 4, 4, 1024)       4096      \n",
            " zation)                                                         \n",
            "                                                                 \n",
            " conv_pw_12_relu (ReLU)      (None, 4, 4, 1024)        0         \n",
            "                                                                 \n",
            " conv_dw_13 (DepthwiseConv2D  (None, 4, 4, 1024)       9216      \n",
            " )                                                               \n",
            "                                                                 \n",
            " conv_dw_13_bn (BatchNormali  (None, 4, 4, 1024)       4096      \n",
            " zation)                                                         \n",
            "                                                                 \n",
            " conv_dw_13_relu (ReLU)      (None, 4, 4, 1024)        0         \n",
            "                                                                 \n",
            " conv_pw_13 (Conv2D)         (None, 4, 4, 1024)        1048576   \n",
            "                                                                 \n",
            " conv_pw_13_bn (BatchNormali  (None, 4, 4, 1024)       4096      \n",
            " zation)                                                         \n",
            "                                                                 \n",
            " conv_pw_13_relu (ReLU)      (None, 4, 4, 1024)        0         \n",
            "                                                                 \n",
            "=================================================================\n",
            "Total params: 3,228,864\n",
            "Trainable params: 3,206,976\n",
            "Non-trainable params: 21,888\n",
            "_________________________________________________________________\n"
          ]
        }
      ],
      "source": [
        "pre_trained_model = create_mNet2(train_generator)\n",
        "pre_trained_model.summary()"
      ]
    },
    {
      "cell_type": "code",
      "execution_count": null,
      "metadata": {
        "id": "VvMQA-WKrYPT"
      },
      "outputs": [],
      "source": [
        "# Build the model\n",
        "model = tf.keras.models.Sequential([\n",
        "    pre_trained_model,\n",
        "    tf.keras.layers.Flatten(),\n",
        "    tf.keras.layers.Dropout(0.2),\n",
        "    tf.keras.layers.Dense(3, activation='softmax')\n",
        "])\n",
        "\n",
        "model.compile(optimizer=tf.keras.optimizers.Adam(learning_rate=1e-5),\n",
        "              loss='categorical_crossentropy',\n",
        "              metrics=['accuracy'])"
      ]
    },
    {
      "cell_type": "code",
      "execution_count": null,
      "metadata": {
        "id": "_RpagvbMb8aY"
      },
      "outputs": [],
      "source": [
        "class myCallback(tf.keras.callbacks.Callback):\n",
        "  def on_epoch_end(self,epoch,logs={}):\n",
        "    if(logs.get(\"accuracy\")>0.9980 and logs.get(\"val_accuracy\")>0.9980):\n",
        "      print(\"stop train!\")\n",
        "      self.model.stop_training=True"
      ]
    },
    {
      "cell_type": "code",
      "execution_count": null,
      "metadata": {
        "colab": {
          "background_save": true,
          "base_uri": "https://localhost:8080/"
        },
        "id": "QKmNwa1pb-UD",
        "outputId": "5b350f3b-2fb5-4a9b-e2c2-06fceab71f1f"
      },
      "outputs": [
        {
          "name": "stdout",
          "output_type": "stream",
          "text": [
            "Epoch 1/50\n",
            "38/38 [==============================] - 716s 19s/step - loss: 1.8588 - accuracy: 0.4419 - val_loss: 1.2002 - val_accuracy: 0.5441\n",
            "Epoch 2/50\n",
            "38/38 [==============================] - 300s 8s/step - loss: 1.0333 - accuracy: 0.6434 - val_loss: 0.8749 - val_accuracy: 0.6839\n",
            "Epoch 3/50\n",
            "38/38 [==============================] - 291s 8s/step - loss: 0.6698 - accuracy: 0.7650 - val_loss: 0.7013 - val_accuracy: 0.7371\n",
            "Epoch 4/50\n",
            "38/38 [==============================] - 310s 8s/step - loss: 0.4534 - accuracy: 0.8288 - val_loss: 0.5208 - val_accuracy: 0.8131\n",
            "Epoch 5/50\n",
            "38/38 [==============================] - 296s 8s/step - loss: 0.3562 - accuracy: 0.8690 - val_loss: 0.3968 - val_accuracy: 0.8480\n",
            "Epoch 6/50\n",
            "38/38 [==============================] - 282s 7s/step - loss: 0.2777 - accuracy: 0.8979 - val_loss: 0.3282 - val_accuracy: 0.8769\n",
            "Epoch 7/50\n",
            "38/38 [==============================] - 294s 8s/step - loss: 0.2193 - accuracy: 0.9202 - val_loss: 0.2652 - val_accuracy: 0.8982\n",
            "Epoch 8/50\n",
            "38/38 [==============================] - 276s 7s/step - loss: 0.1885 - accuracy: 0.9311 - val_loss: 0.2203 - val_accuracy: 0.9149\n",
            "Epoch 9/50\n",
            "38/38 [==============================] - 293s 8s/step - loss: 0.1519 - accuracy: 0.9413 - val_loss: 0.1827 - val_accuracy: 0.9362\n",
            "Epoch 10/50\n",
            "38/38 [==============================] - 293s 8s/step - loss: 0.1218 - accuracy: 0.9544 - val_loss: 0.1551 - val_accuracy: 0.9407\n",
            "Epoch 11/50\n",
            "38/38 [==============================] - 285s 8s/step - loss: 0.0970 - accuracy: 0.9652 - val_loss: 0.1377 - val_accuracy: 0.9483\n",
            "Epoch 12/50\n",
            "38/38 [==============================] - 289s 8s/step - loss: 0.0912 - accuracy: 0.9678 - val_loss: 0.1253 - val_accuracy: 0.9468\n",
            "Epoch 13/50\n",
            "38/38 [==============================] - 282s 7s/step - loss: 0.0749 - accuracy: 0.9729 - val_loss: 0.1169 - val_accuracy: 0.9498\n",
            "Epoch 14/50\n",
            "38/38 [==============================] - 296s 8s/step - loss: 0.0690 - accuracy: 0.9753 - val_loss: 0.1121 - val_accuracy: 0.9559\n",
            "Epoch 15/50\n",
            "38/38 [==============================] - 274s 7s/step - loss: 0.0627 - accuracy: 0.9799 - val_loss: 0.1014 - val_accuracy: 0.9574\n",
            "Epoch 16/50\n",
            "38/38 [==============================] - 275s 7s/step - loss: 0.0456 - accuracy: 0.9855 - val_loss: 0.0960 - val_accuracy: 0.9635\n",
            "Epoch 17/50\n",
            "38/38 [==============================] - 282s 7s/step - loss: 0.0463 - accuracy: 0.9826 - val_loss: 0.0882 - val_accuracy: 0.9650\n",
            "Epoch 18/50\n",
            "38/38 [==============================] - 292s 8s/step - loss: 0.0404 - accuracy: 0.9877 - val_loss: 0.0833 - val_accuracy: 0.9696\n",
            "Epoch 19/50\n",
            "38/38 [==============================] - 282s 7s/step - loss: 0.0355 - accuracy: 0.9882 - val_loss: 0.0798 - val_accuracy: 0.9711\n",
            "Epoch 20/50\n",
            "38/38 [==============================] - 290s 8s/step - loss: 0.0315 - accuracy: 0.9901 - val_loss: 0.0749 - val_accuracy: 0.9696\n",
            "Epoch 21/50\n",
            "38/38 [==============================] - 285s 7s/step - loss: 0.0307 - accuracy: 0.9917 - val_loss: 0.0708 - val_accuracy: 0.9711\n",
            "Epoch 22/50\n",
            "38/38 [==============================] - 294s 8s/step - loss: 0.0283 - accuracy: 0.9906 - val_loss: 0.0683 - val_accuracy: 0.9711\n",
            "Epoch 23/50\n",
            "38/38 [==============================] - 292s 8s/step - loss: 0.0261 - accuracy: 0.9920 - val_loss: 0.0663 - val_accuracy: 0.9742\n",
            "Epoch 24/50\n",
            "38/38 [==============================] - 292s 8s/step - loss: 0.0224 - accuracy: 0.9922 - val_loss: 0.0627 - val_accuracy: 0.9726\n",
            "Epoch 25/50\n",
            "38/38 [==============================] - 292s 8s/step - loss: 0.0193 - accuracy: 0.9941 - val_loss: 0.0596 - val_accuracy: 0.9742\n",
            "Epoch 26/50\n",
            "38/38 [==============================] - 289s 8s/step - loss: 0.0189 - accuracy: 0.9960 - val_loss: 0.0565 - val_accuracy: 0.9757\n",
            "Epoch 27/50\n",
            "38/38 [==============================] - 278s 7s/step - loss: 0.0167 - accuracy: 0.9954 - val_loss: 0.0536 - val_accuracy: 0.9757\n",
            "Epoch 28/50\n",
            "38/38 [==============================] - 289s 8s/step - loss: 0.0151 - accuracy: 0.9962 - val_loss: 0.0518 - val_accuracy: 0.9757\n",
            "Epoch 29/50\n",
            "38/38 [==============================] - 284s 7s/step - loss: 0.0141 - accuracy: 0.9973 - val_loss: 0.0502 - val_accuracy: 0.9757\n",
            "Epoch 30/50\n",
            "38/38 [==============================] - 280s 7s/step - loss: 0.0137 - accuracy: 0.9976 - val_loss: 0.0486 - val_accuracy: 0.9772\n",
            "Epoch 31/50\n",
            "38/38 [==============================] - 293s 8s/step - loss: 0.0145 - accuracy: 0.9960 - val_loss: 0.0480 - val_accuracy: 0.9802\n",
            "Epoch 32/50\n",
            "38/38 [==============================] - 275s 7s/step - loss: 0.0105 - accuracy: 0.9979 - val_loss: 0.0470 - val_accuracy: 0.9818\n",
            "Epoch 33/50\n",
            "38/38 [==============================] - 290s 8s/step - loss: 0.0121 - accuracy: 0.9973 - val_loss: 0.0461 - val_accuracy: 0.9818\n",
            "Epoch 34/50\n",
            "38/38 [==============================] - 289s 8s/step - loss: 0.0118 - accuracy: 0.9979 - val_loss: 0.0445 - val_accuracy: 0.9802\n",
            "Epoch 35/50\n",
            "38/38 [==============================] - 289s 8s/step - loss: 0.0098 - accuracy: 0.9976 - val_loss: 0.0444 - val_accuracy: 0.9833\n",
            "Epoch 36/50\n",
            "38/38 [==============================] - 302s 8s/step - loss: 0.0089 - accuracy: 0.9984 - val_loss: 0.0437 - val_accuracy: 0.9833\n",
            "Epoch 37/50\n",
            "38/38 [==============================] - 287s 8s/step - loss: 0.0084 - accuracy: 0.9987 - val_loss: 0.0433 - val_accuracy: 0.9833\n",
            "Epoch 38/50\n",
            "38/38 [==============================] - 293s 8s/step - loss: 0.0096 - accuracy: 0.9976 - val_loss: 0.0412 - val_accuracy: 0.9848\n",
            "Epoch 39/50\n",
            "38/38 [==============================] - 273s 7s/step - loss: 0.0098 - accuracy: 0.9971 - val_loss: 0.0404 - val_accuracy: 0.9848\n",
            "Epoch 40/50\n",
            "38/38 [==============================] - 277s 7s/step - loss: 0.0088 - accuracy: 0.9976 - val_loss: 0.0396 - val_accuracy: 0.9848\n",
            "Epoch 41/50\n",
            "38/38 [==============================] - 291s 8s/step - loss: 0.0089 - accuracy: 0.9979 - val_loss: 0.0381 - val_accuracy: 0.9863\n",
            "Epoch 42/50\n",
            "38/38 [==============================] - 293s 8s/step - loss: 0.0079 - accuracy: 0.9984 - val_loss: 0.0371 - val_accuracy: 0.9863\n",
            "Epoch 43/50\n",
            "38/38 [==============================] - 290s 8s/step - loss: 0.0091 - accuracy: 0.9979 - val_loss: 0.0353 - val_accuracy: 0.9863\n",
            "Epoch 44/50\n",
            "38/38 [==============================] - 295s 8s/step - loss: 0.0059 - accuracy: 0.9989 - val_loss: 0.0351 - val_accuracy: 0.9863\n",
            "Epoch 45/50\n",
            "38/38 [==============================] - 299s 8s/step - loss: 0.0055 - accuracy: 0.9987 - val_loss: 0.0359 - val_accuracy: 0.9894\n",
            "Epoch 46/50\n",
            "38/38 [==============================] - 286s 7s/step - loss: 0.0077 - accuracy: 0.9965 - val_loss: 0.0368 - val_accuracy: 0.9863\n",
            "Epoch 47/50\n",
            "38/38 [==============================] - 292s 8s/step - loss: 0.0045 - accuracy: 0.9995 - val_loss: 0.0351 - val_accuracy: 0.9863\n",
            "Epoch 48/50\n",
            "38/38 [==============================] - 293s 8s/step - loss: 0.0036 - accuracy: 0.9997 - val_loss: 0.0347 - val_accuracy: 0.9863\n",
            "Epoch 49/50\n",
            "38/38 [==============================] - 286s 8s/step - loss: 0.0067 - accuracy: 0.9981 - val_loss: 0.0338 - val_accuracy: 0.9878\n",
            "Epoch 50/50\n",
            "38/38 [==============================] - 283s 7s/step - loss: 0.0044 - accuracy: 0.9995 - val_loss: 0.0343 - val_accuracy: 0.9878\n"
          ]
        }
      ],
      "source": [
        "callbacks = myCallback()\n",
        "# Train the model\n",
        "# Note that this may take some time.\n",
        "history = model.fit(train_generator,epochs=50,verbose=1,validation_data=validation_generator,callbacks=[callbacks])"
      ]
    },
    {
      "cell_type": "code",
      "execution_count": null,
      "metadata": {
        "colab": {
          "background_save": true
        },
        "id": "aP1PjfVvcrwx",
        "outputId": "5726543b-fc80-45b5-f5ce-7d149b10f90e"
      },
      "outputs": [
        {
          "data": {
            "image/png": "[encoded data removed]",
            "text/plain": [
              "<Figure size 640x480 with 1 Axes>"
            ]
          },
          "metadata": {},
          "output_type": "display_data"
        },
        {
          "data": {
            "image/png": "[encoded data removed]",
            "text/plain": [
              "<Figure size 640x480 with 1 Axes>"
            ]
          },
          "metadata": {},
          "output_type": "display_data"
        }
      ],
      "source": [
        "# Plot the chart for accuracy and loss on both training and validation\n",
        "acc = history.history['accuracy']\n",
        "val_acc = history.history['val_accuracy']\n",
        "loss = history.history['loss']\n",
        "val_loss = history.history['val_loss']\n",
        "\n",
        "epochs = range(len(acc))\n",
        "\n",
        "plt.plot(epochs, acc, 'r', label='Training accuracy')\n",
        "plt.plot(epochs, val_acc, 'b', label='Validation accuracy')\n",
        "plt.title('Training and validation accuracy')\n",
        "plt.legend()\n",
        "plt.figure()\n",
        "\n",
        "plt.plot(epochs, loss, 'r', label='Training Loss')\n",
        "plt.plot(epochs, val_loss, 'b', label='Validation Loss')\n",
        "plt.title('Training and validation loss')\n",
        "plt.legend()\n",
        "\n",
        "plt.show()"
      ]
    },
    {
      "cell_type": "code",
      "execution_count": null,
      "metadata": {
        "id": "ZmH7tV7GLBCS"
      },
      "outputs": [],
      "source": [
        "model.save(\"/content/drive/MyDrive/ML/Model/Freshness/Gills.h5\")"
      ]
    },
    {
      "cell_type": "markdown",
      "metadata": {
        "id": "FZIPVuwxqMGw"
      },
      "source": [
        "# Coba Modelnya"
      ]
    },
    {
      "cell_type": "code",
      "execution_count": null,
      "metadata": {
        "id": "m-0R8g52kfyg"
      },
      "outputs": [],
      "source": [
        "import numpy as np\n",
        "\n",
        "from google.colab import files\n",
        "from tensorflow.keras.utils import load_img, img_to_array,image_dataset_from_directory"
      ]
    },
    {
      "cell_type": "code",
      "execution_count": null,
      "metadata": {
        "id": "XGPQoF6wqmmK"
      },
      "outputs": [],
      "source": [
        "model = tf.keras.models.load_model('/content/drive/MyDrive/ML/Model/Freshness/Gills.h5')"
      ]
    },
    {
      "cell_type": "code",
      "execution_count": null,
      "metadata": {
        "colab": {
          "base_uri": "https://localhost:8080/"
        },
        "id": "iobD5gkm2Yej",
        "outputId": "209f4585-2125-4f4a-da3c-528e196dd57c"
      },
      "outputs": [
        {
          "output_type": "stream",
          "name": "stdout",
          "text": [
            "Found 150 images belonging to 3 classes.\n"
          ]
        }
      ],
      "source": [
        "test_datagen = ImageDataGenerator(rescale=1.0/225)\n",
        "test_generator = test_datagen.flow_from_directory(directory=\"/content/drive/MyDrive/ML/Dataset/Gills\",\n",
        "                                                              batch_size=100,\n",
        "                                                              class_mode=\"categorical\",\n",
        "                                                              target_size=(150,150))"
      ]
    },
    {
      "cell_type": "code",
      "execution_count": null,
      "metadata": {
        "colab": {
          "base_uri": "https://localhost:8080/"
        },
        "id": "y8rUnWEA30Ju",
        "outputId": "bdfceeb3-52e5-45c4-940a-c8f89c34f552"
      },
      "outputs": [
        {
          "output_type": "stream",
          "name": "stdout",
          "text": [
            "2/2 [==============================] - 3s 818ms/step - loss: 0.0097 - accuracy: 0.9933\n"
          ]
        },
        {
          "output_type": "execute_result",
          "data": {
            "text/plain": [
              "[0.009653308428823948, 0.9933333396911621]"
            ]
          },
          "metadata": {},
          "execution_count": 25
        }
      ],
      "source": [
        "model.evaluate(test_generator)"
      ]
    }
  ],
  "metadata": {
    "colab": {
      "provenance": []
    },
    "kernelspec": {
      "display_name": "Python 3",
      "name": "python3"
    },
    "language_info": {
      "name": "python"
    }
  },
  "nbformat": 4,
  "nbformat_minor": 0
}