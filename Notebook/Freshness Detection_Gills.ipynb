{
  "cells": [
    {
      "cell_type": "code",
      "execution_count": null,
      "metadata": {
        "colab": {
          "base_uri": "https://localhost:8080/"
        },
        "id": "MRbD5ZA7qxCb",
        "outputId": "217eb15b-92a2-4c4f-ab4a-5d247f4feb27"
      },
      "outputs": [
        {
          "output_type": "stream",
          "name": "stdout",
          "text": [
            "Mounted at /content/drive\n",
            "TensorFlow version:  2.12.0\n"
          ]
        }
      ],
      "source": [
        "import io\n",
        "import os\n",
        "import random\n",
        "import shutil\n",
        "import itertools\n",
        "import numpy as np\n",
        "import sklearn.metrics\n",
        "import tensorflow as tf\n",
        "import matplotlib.pyplot as plt\n",
        "\n",
        "from tensorflow.keras.preprocessing.image import ImageDataGenerator\n",
        "from tensorflow import keras\n",
        "from datetime import datetime\n",
        "from shutil import copyfile\n",
        "from os import getcwd\n",
        "\n",
        "from google.colab import drive\n",
        "drive.mount('/content/drive')\n",
        "print(\"TensorFlow version: \", tf.__version__)"
      ]
    },
    {
      "cell_type": "markdown",
      "metadata": {
        "id": "yLH1CtYVZpFt"
      },
      "source": [
        "#### Making Empty Folder in Drive"
      ]
    },
    {
      "cell_type": "code",
      "execution_count": null,
      "metadata": {
        "id": "P1y9kVzWrVdv"
      },
      "outputs": [],
      "source": [
        "root_dir = '/content/drive/MyDrive/ML/Coba Gills'\n",
        "\n",
        "if os.path.exists(root_dir):\n",
        "  shutil.rmtree(root_dir)\n",
        "\n",
        "def create_train_val_dirs(root_path):\n",
        "  train_dir = os.path.join(root_path, 'training')\n",
        "  validation_dir = os.path.join(root_path, 'validation')\n",
        "\n",
        "\n",
        "  train_busuk_dir = os.path.join(train_dir, 'busuk')\n",
        "  train_kurang_segar_dir = os.path.join(train_dir, 'kurang_segar')\n",
        "  train_segar_dir = os.path.join(train_dir, 'segar')\n",
        "  os.makedirs(train_busuk_dir)\n",
        "  os.makedirs(train_kurang_segar_dir)\n",
        "  os.makedirs(train_segar_dir)\n",
        "\n",
        "  \n",
        "  validation_busuk_dir = os.path.join(validation_dir, 'busuk')\n",
        "  validation_kurang_segar_dir = os.path.join(validation_dir, 'kurang_segar')\n",
        "  validation_segar_dir = os.path.join(validation_dir, 'segar')\n",
        "  os.makedirs(validation_busuk_dir)\n",
        "  os.makedirs(validation_kurang_segar_dir)\n",
        "  os.makedirs(validation_segar_dir)\n",
        "\n",
        "try:\n",
        "  create_train_val_dirs(root_path=root_dir)\n",
        "except FileExistsError:\n",
        "  print(\"You should not be seeing this since the upper directory is removed beforehand\")"
      ]
    },
    {
      "cell_type": "markdown",
      "metadata": {
        "id": "kzSRUKwAZ6_N"
      },
      "source": [
        "#### Split and add the images"
      ]
    },
    {
      "cell_type": "code",
      "execution_count": null,
      "metadata": {
        "id": "u30wqys_ULJ3"
      },
      "outputs": [],
      "source": [
        "def split_data(SOURCE_DIR, TRAINING_DIR, VALIDATION_DIR, SPLIT_SIZE):\n",
        "  files = os.listdir(SOURCE_DIR)\n",
        "\n",
        "  split = (len(files)*SPLIT_SIZE)\n",
        "\n",
        "  #Randomize the file sample\n",
        "  files = random.sample(files, len(files))\n",
        "\n",
        "  train = files[:int(split)]\n",
        "    \n",
        "  \n",
        "  for name in train:\n",
        "    source = os.path.join(SOURCE_DIR, name)\n",
        "    destination = os.path.join(TRAINING_DIR, name)\n",
        "    if os.path.getsize(source)>0:\n",
        "      copyfile(source, destination) \n",
        "    else:\n",
        "      print(f\"{name} is zero length, so ignoring.\")\n",
        "\n",
        "\n",
        "  valid = files[int(split):]\n",
        "  \n",
        "  for name in valid:\n",
        "    source = os.path.join(SOURCE_DIR, name)\n",
        "    destination = os.path.join(VALIDATION_DIR, name)\n",
        "    if os.path.getsize(source)>0:\n",
        "      copyfile(source, destination) \n",
        "    else:\n",
        "      print(f\"{name} is zero length, so ignoring.\")"
      ]
    },
    {
      "cell_type": "code",
      "execution_count": null,
      "metadata": {
        "colab": {
          "base_uri": "https://localhost:8080/"
        },
        "id": "84YGqgr2UVKB",
        "outputId": "1a6980dc-f8fd-467d-9c33-468a44f14606"
      },
      "outputs": [
        {
          "output_type": "stream",
          "name": "stdout",
          "text": [
            "Original fresh directory has 670 images\n",
            "Original less_fresh directory has 670 images\n",
            "Original spoiled directory has 670 images\n",
            "\n",
            "There are 569 images of fresh fish for training\n",
            "There are 101 images of fresh fish for validation\n",
            "There are 569 images of less fresh fish for training\n",
            "There are 101 images of less fresh fish for validation\n",
            "There are 569 images of spoiled fish for training\n",
            "There are 101 images of spoiled fish for validation\n"
          ]
        }
      ],
      "source": [
        "# Define paths\n",
        "TRAINING_DIR = \"/content/drive/MyDrive/ML/Coba Gills/training\"\n",
        "VALIDATION_DIR = \"/content/drive/MyDrive/ML/Coba Gills/validation\"\n",
        "\n",
        "SEGAR_DIR = \"/content/drive/MyDrive/ML/Data_Augmented/Gills/Segar\"\n",
        "KURANG_SEGAR_DIR = \"/content/drive/MyDrive/ML/Data_Augmented/Gills/Kurang Segar\"\n",
        "BUSUK_DIR = \"/content/drive/MyDrive/ML/Data_Augmented/Gills/Tidak Segar\"\n",
        "\n",
        "TRAINING_SEGAR_DIR = os.path.join(TRAINING_DIR, \"segar/\")\n",
        "VALIDATION_SEGAR_DIR = os.path.join(VALIDATION_DIR, \"segar/\")\n",
        "TRAINING_KURANG_SEGAR_DIR = os.path.join(TRAINING_DIR, \"kurang_segar/\")\n",
        "VALIDATION_KURANG_SEGAR_DIR = os.path.join(VALIDATION_DIR, \"kurang_segar/\")\n",
        "TRAINING_BUSUK_DIR = os.path.join(TRAINING_DIR, \"busuk/\")\n",
        "VALIDATION_BUSUK_DIR = os.path.join(VALIDATION_DIR, \"busuk/\")\n",
        "\n",
        "# Empty directories in case you run this cell multiple times\n",
        "if len(os.listdir(TRAINING_SEGAR_DIR)) > 0:\n",
        "  for file in os.scandir(TRAINING_SEGAR_DIR):\n",
        "    os.remove(file.path)\n",
        "if len(os.listdir(TRAINING_KURANG_SEGAR_DIR)) > 0:\n",
        "  for file in os.scandir(TRAINING_KURANG_SEGAR_DIR):\n",
        "    os.remove(file.path)\n",
        "if len(os.listdir(TRAINING_BUSUK_DIR)) > 0:\n",
        "  for file in os.scandir(TRAINING_BUSUK_DIR):\n",
        "    os.remove(file.path)\n",
        "if len(os.listdir(VALIDATION_SEGAR_DIR)) > 0:\n",
        "  for file in os.scandir(VALIDATION_SEGAR_DIR):\n",
        "    os.remove(file.path)\n",
        "if len(os.listdir(VALIDATION_KURANG_SEGAR_DIR)) > 0:\n",
        "  for file in os.scandir(VALIDATION_KURANG_SEGAR_DIR):\n",
        "    os.remove(file.path)\n",
        "if len(os.listdir(VALIDATION_BUSUK_DIR)) > 0:\n",
        "  for file in os.scandir(VALIDATION_BUSUK_DIR):\n",
        "    os.remove(file.path)\n",
        "\n",
        "# Define proportion of images used for training\n",
        "split_size = .85\n",
        "\n",
        "# Run the function\n",
        "# NOTE: Messages about zero length images should be printed out\n",
        "split_data(SEGAR_DIR, TRAINING_SEGAR_DIR, VALIDATION_SEGAR_DIR, split_size)\n",
        "split_data(KURANG_SEGAR_DIR, TRAINING_KURANG_SEGAR_DIR, VALIDATION_KURANG_SEGAR_DIR, split_size)\n",
        "split_data(BUSUK_DIR, TRAINING_BUSUK_DIR, VALIDATION_BUSUK_DIR, split_size)\n",
        "\n",
        "# Your function should perform copies rather than moving images so original directories should contain unchanged images\n",
        "print(f\"Original fresh directory has {len(os.listdir(SEGAR_DIR))} images\")\n",
        "print(f\"Original less_fresh directory has {len(os.listdir(KURANG_SEGAR_DIR))} images\")\n",
        "print(f\"Original spoiled directory has {len(os.listdir(BUSUK_DIR))} images\\n\")\n",
        "\n",
        "# Training and validation splits. Check that the number of images matches the expected output.\n",
        "print(f\"There are {len(os.listdir(TRAINING_SEGAR_DIR))} images of fresh fish for training\")\n",
        "print(f\"There are {len(os.listdir(VALIDATION_SEGAR_DIR))} images of fresh fish for validation\")\n",
        "print(f\"There are {len(os.listdir(TRAINING_KURANG_SEGAR_DIR))} images of less fresh fish for training\")\n",
        "print(f\"There are {len(os.listdir(VALIDATION_KURANG_SEGAR_DIR))} images of less fresh fish for validation\")\n",
        "print(f\"There are {len(os.listdir(TRAINING_BUSUK_DIR))} images of spoiled fish for training\")\n",
        "print(f\"There are {len(os.listdir(VALIDATION_BUSUK_DIR))} images of spoiled fish for validation\")"
      ]
    },
    {
      "cell_type": "markdown",
      "metadata": {
        "id": "n7PH13nTW-cy"
      },
      "source": [
        "# Train"
      ]
    },
    {
      "cell_type": "code",
      "execution_count": null,
      "metadata": {
        "id": "-Hz7QEJGQyKj"
      },
      "outputs": [],
      "source": [
        "TRAINING_DIR = \"/content/drive/MyDrive/ML/Coba Gills/training\"\n",
        "VALIDATION_DIR = \"/content/drive/MyDrive/ML/Coba Gills/validation\""
      ]
    },
    {
      "cell_type": "code",
      "execution_count": null,
      "metadata": {
        "id": "PyIxz4o8b2V8"
      },
      "outputs": [],
      "source": [
        "def train_val_generators(TRAINING_DIR, VALIDATION_DIR):\n",
        "  # Instantiate the ImageDataGenerator class (don't forget to set the arguments to augment the images)\n",
        "  train_datagen = ImageDataGenerator(rescale=1.0/225,\n",
        "                                     horizontal_flip=True,\n",
        "                                     fill_mode=\"nearest\")\n",
        "\n",
        "  # Pass in the appropriate arguments to the flow_from_directory method\n",
        "  train_generator = train_datagen.flow_from_directory(directory=TRAINING_DIR,\n",
        "                                                      batch_size=100,\n",
        "                                                      class_mode=\"categorical\",\n",
        "                                                      target_size=(224,224))\n",
        "\n",
        "  # Instantiate the ImageDataGenerator class (don't forget to set the rescale argument)\n",
        "  validation_datagen = ImageDataGenerator(rescale=1.0/225)\n",
        "\n",
        "  # Pass in the appropriate arguments to the flow_from_directory method\n",
        "  validation_generator = validation_datagen.flow_from_directory(directory=VALIDATION_DIR,\n",
        "                                                                batch_size=100,\n",
        "                                                                class_mode=\"categorical\",\n",
        "                                                                target_size=(224,224))\n",
        "  return train_generator, validation_generator"
      ]
    },
    {
      "cell_type": "code",
      "execution_count": null,
      "metadata": {
        "colab": {
          "base_uri": "https://localhost:8080/"
        },
        "id": "X_Ku7-mXb4NC",
        "outputId": "7861e501-6d8a-495b-f6cf-e6ed85a33cac"
      },
      "outputs": [
        {
          "output_type": "stream",
          "name": "stdout",
          "text": [
            "Found 1707 images belonging to 3 classes.\n",
            "Found 303 images belonging to 3 classes.\n"
          ]
        }
      ],
      "source": [
        "train_generator, validation_generator = train_val_generators(TRAINING_DIR, VALIDATION_DIR)"
      ]
    },
    {
      "cell_type": "code",
      "execution_count": null,
      "metadata": {
        "colab": {
          "base_uri": "https://localhost:8080/"
        },
        "id": "4Z5CsBl8OcL1",
        "outputId": "8becc53b-80b7-4922-b5f3-a81eefe1c8f9"
      },
      "outputs": [
        {
          "output_type": "execute_result",
          "data": {
            "text/plain": [
              "(224, 224, 3)"
            ]
          },
          "metadata": {},
          "execution_count": 8
        }
      ],
      "source": [
        "train_generator.image_shape"
      ]
    },
    {
      "cell_type": "code",
      "execution_count": null,
      "metadata": {
        "id": "_uynIuccOgv5"
      },
      "outputs": [],
      "source": [
        "def create_mNet2(train_gen):\n",
        "\n",
        "  pre_trained_model = tf.keras.applications.MobileNet(\n",
        "    input_shape=train_gen.image_shape,\n",
        "    dropout=0.001,\n",
        "    include_top=False,\n",
        "    weights=\"imagenet\",\n",
        "    classifier_activation=\"softmax\",\n",
        "    )\n",
        "\n",
        "  return pre_trained_model"
      ]
    },
    {
      "cell_type": "code",
      "execution_count": null,
      "metadata": {
        "colab": {
          "base_uri": "https://localhost:8080/"
        },
        "id": "NcKTFn0vO1yY",
        "outputId": "92201728-cce7-42f0-8c82-b6f6f4619d10"
      },
      "outputs": [
        {
          "output_type": "stream",
          "name": "stdout",
          "text": [
            "Downloading data from https://storage.googleapis.com/tensorflow/keras-applications/mobilenet/mobilenet_1_0_224_tf_no_top.h5\n",
            "17225924/17225924 [==============================] - 0s 0us/step\n",
            "Model: \"mobilenet_1.00_224\"\n",
            "_________________________________________________________________\n",
            " Layer (type)                Output Shape              Param #   \n",
            "=================================================================\n",
            " input_1 (InputLayer)        [(None, 224, 224, 3)]     0         \n",
            "                                                                 \n",
            " conv1 (Conv2D)              (None, 112, 112, 32)      864       \n",
            "                                                                 \n",
            " conv1_bn (BatchNormalizatio  (None, 112, 112, 32)     128       \n",
            " n)                                                              \n",
            "                                                                 \n",
            " conv1_relu (ReLU)           (None, 112, 112, 32)      0         \n",
            "                                                                 \n",
            " conv_dw_1 (DepthwiseConv2D)  (None, 112, 112, 32)     288       \n",
            "                                                                 \n",
            " conv_dw_1_bn (BatchNormaliz  (None, 112, 112, 32)     128       \n",
            " ation)                                                          \n",
            "                                                                 \n",
            " conv_dw_1_relu (ReLU)       (None, 112, 112, 32)      0         \n",
            "                                                                 \n",
            " conv_pw_1 (Conv2D)          (None, 112, 112, 64)      2048      \n",
            "                                                                 \n",
            " conv_pw_1_bn (BatchNormaliz  (None, 112, 112, 64)     256       \n",
            " ation)                                                          \n",
            "                                                                 \n",
            " conv_pw_1_relu (ReLU)       (None, 112, 112, 64)      0         \n",
            "                                                                 \n",
            " conv_pad_2 (ZeroPadding2D)  (None, 113, 113, 64)      0         \n",
            "                                                                 \n",
            " conv_dw_2 (DepthwiseConv2D)  (None, 56, 56, 64)       576       \n",
            "                                                                 \n",
            " conv_dw_2_bn (BatchNormaliz  (None, 56, 56, 64)       256       \n",
            " ation)                                                          \n",
            "                                                                 \n",
            " conv_dw_2_relu (ReLU)       (None, 56, 56, 64)        0         \n",
            "                                                                 \n",
            " conv_pw_2 (Conv2D)          (None, 56, 56, 128)       8192      \n",
            "                                                                 \n",
            " conv_pw_2_bn (BatchNormaliz  (None, 56, 56, 128)      512       \n",
            " ation)                                                          \n",
            "                                                                 \n",
            " conv_pw_2_relu (ReLU)       (None, 56, 56, 128)       0         \n",
            "                                                                 \n",
            " conv_dw_3 (DepthwiseConv2D)  (None, 56, 56, 128)      1152      \n",
            "                                                                 \n",
            " conv_dw_3_bn (BatchNormaliz  (None, 56, 56, 128)      512       \n",
            " ation)                                                          \n",
            "                                                                 \n",
            " conv_dw_3_relu (ReLU)       (None, 56, 56, 128)       0         \n",
            "                                                                 \n",
            " conv_pw_3 (Conv2D)          (None, 56, 56, 128)       16384     \n",
            "                                                                 \n",
            " conv_pw_3_bn (BatchNormaliz  (None, 56, 56, 128)      512       \n",
            " ation)                                                          \n",
            "                                                                 \n",
            " conv_pw_3_relu (ReLU)       (None, 56, 56, 128)       0         \n",
            "                                                                 \n",
            " conv_pad_4 (ZeroPadding2D)  (None, 57, 57, 128)       0         \n",
            "                                                                 \n",
            " conv_dw_4 (DepthwiseConv2D)  (None, 28, 28, 128)      1152      \n",
            "                                                                 \n",
            " conv_dw_4_bn (BatchNormaliz  (None, 28, 28, 128)      512       \n",
            " ation)                                                          \n",
            "                                                                 \n",
            " conv_dw_4_relu (ReLU)       (None, 28, 28, 128)       0         \n",
            "                                                                 \n",
            " conv_pw_4 (Conv2D)          (None, 28, 28, 256)       32768     \n",
            "                                                                 \n",
            " conv_pw_4_bn (BatchNormaliz  (None, 28, 28, 256)      1024      \n",
            " ation)                                                          \n",
            "                                                                 \n",
            " conv_pw_4_relu (ReLU)       (None, 28, 28, 256)       0         \n",
            "                                                                 \n",
            " conv_dw_5 (DepthwiseConv2D)  (None, 28, 28, 256)      2304      \n",
            "                                                                 \n",
            " conv_dw_5_bn (BatchNormaliz  (None, 28, 28, 256)      1024      \n",
            " ation)                                                          \n",
            "                                                                 \n",
            " conv_dw_5_relu (ReLU)       (None, 28, 28, 256)       0         \n",
            "                                                                 \n",
            " conv_pw_5 (Conv2D)          (None, 28, 28, 256)       65536     \n",
            "                                                                 \n",
            " conv_pw_5_bn (BatchNormaliz  (None, 28, 28, 256)      1024      \n",
            " ation)                                                          \n",
            "                                                                 \n",
            " conv_pw_5_relu (ReLU)       (None, 28, 28, 256)       0         \n",
            "                                                                 \n",
            " conv_pad_6 (ZeroPadding2D)  (None, 29, 29, 256)       0         \n",
            "                                                                 \n",
            " conv_dw_6 (DepthwiseConv2D)  (None, 14, 14, 256)      2304      \n",
            "                                                                 \n",
            " conv_dw_6_bn (BatchNormaliz  (None, 14, 14, 256)      1024      \n",
            " ation)                                                          \n",
            "                                                                 \n",
            " conv_dw_6_relu (ReLU)       (None, 14, 14, 256)       0         \n",
            "                                                                 \n",
            " conv_pw_6 (Conv2D)          (None, 14, 14, 512)       131072    \n",
            "                                                                 \n",
            " conv_pw_6_bn (BatchNormaliz  (None, 14, 14, 512)      2048      \n",
            " ation)                                                          \n",
            "                                                                 \n",
            " conv_pw_6_relu (ReLU)       (None, 14, 14, 512)       0         \n",
            "                                                                 \n",
            " conv_dw_7 (DepthwiseConv2D)  (None, 14, 14, 512)      4608      \n",
            "                                                                 \n",
            " conv_dw_7_bn (BatchNormaliz  (None, 14, 14, 512)      2048      \n",
            " ation)                                                          \n",
            "                                                                 \n",
            " conv_dw_7_relu (ReLU)       (None, 14, 14, 512)       0         \n",
            "                                                                 \n",
            " conv_pw_7 (Conv2D)          (None, 14, 14, 512)       262144    \n",
            "                                                                 \n",
            " conv_pw_7_bn (BatchNormaliz  (None, 14, 14, 512)      2048      \n",
            " ation)                                                          \n",
            "                                                                 \n",
            " conv_pw_7_relu (ReLU)       (None, 14, 14, 512)       0         \n",
            "                                                                 \n",
            " conv_dw_8 (DepthwiseConv2D)  (None, 14, 14, 512)      4608      \n",
            "                                                                 \n",
            " conv_dw_8_bn (BatchNormaliz  (None, 14, 14, 512)      2048      \n",
            " ation)                                                          \n",
            "                                                                 \n",
            " conv_dw_8_relu (ReLU)       (None, 14, 14, 512)       0         \n",
            "                                                                 \n",
            " conv_pw_8 (Conv2D)          (None, 14, 14, 512)       262144    \n",
            "                                                                 \n",
            " conv_pw_8_bn (BatchNormaliz  (None, 14, 14, 512)      2048      \n",
            " ation)                                                          \n",
            "                                                                 \n",
            " conv_pw_8_relu (ReLU)       (None, 14, 14, 512)       0         \n",
            "                                                                 \n",
            " conv_dw_9 (DepthwiseConv2D)  (None, 14, 14, 512)      4608      \n",
            "                                                                 \n",
            " conv_dw_9_bn (BatchNormaliz  (None, 14, 14, 512)      2048      \n",
            " ation)                                                          \n",
            "                                                                 \n",
            " conv_dw_9_relu (ReLU)       (None, 14, 14, 512)       0         \n",
            "                                                                 \n",
            " conv_pw_9 (Conv2D)          (None, 14, 14, 512)       262144    \n",
            "                                                                 \n",
            " conv_pw_9_bn (BatchNormaliz  (None, 14, 14, 512)      2048      \n",
            " ation)                                                          \n",
            "                                                                 \n",
            " conv_pw_9_relu (ReLU)       (None, 14, 14, 512)       0         \n",
            "                                                                 \n",
            " conv_dw_10 (DepthwiseConv2D  (None, 14, 14, 512)      4608      \n",
            " )                                                               \n",
            "                                                                 \n",
            " conv_dw_10_bn (BatchNormali  (None, 14, 14, 512)      2048      \n",
            " zation)                                                         \n",
            "                                                                 \n",
            " conv_dw_10_relu (ReLU)      (None, 14, 14, 512)       0         \n",
            "                                                                 \n",
            " conv_pw_10 (Conv2D)         (None, 14, 14, 512)       262144    \n",
            "                                                                 \n",
            " conv_pw_10_bn (BatchNormali  (None, 14, 14, 512)      2048      \n",
            " zation)                                                         \n",
            "                                                                 \n",
            " conv_pw_10_relu (ReLU)      (None, 14, 14, 512)       0         \n",
            "                                                                 \n",
            " conv_dw_11 (DepthwiseConv2D  (None, 14, 14, 512)      4608      \n",
            " )                                                               \n",
            "                                                                 \n",
            " conv_dw_11_bn (BatchNormali  (None, 14, 14, 512)      2048      \n",
            " zation)                                                         \n",
            "                                                                 \n",
            " conv_dw_11_relu (ReLU)      (None, 14, 14, 512)       0         \n",
            "                                                                 \n",
            " conv_pw_11 (Conv2D)         (None, 14, 14, 512)       262144    \n",
            "                                                                 \n",
            " conv_pw_11_bn (BatchNormali  (None, 14, 14, 512)      2048      \n",
            " zation)                                                         \n",
            "                                                                 \n",
            " conv_pw_11_relu (ReLU)      (None, 14, 14, 512)       0         \n",
            "                                                                 \n",
            " conv_pad_12 (ZeroPadding2D)  (None, 15, 15, 512)      0         \n",
            "                                                                 \n",
            " conv_dw_12 (DepthwiseConv2D  (None, 7, 7, 512)        4608      \n",
            " )                                                               \n",
            "                                                                 \n",
            " conv_dw_12_bn (BatchNormali  (None, 7, 7, 512)        2048      \n",
            " zation)                                                         \n",
            "                                                                 \n",
            " conv_dw_12_relu (ReLU)      (None, 7, 7, 512)         0         \n",
            "                                                                 \n",
            " conv_pw_12 (Conv2D)         (None, 7, 7, 1024)        524288    \n",
            "                                                                 \n",
            " conv_pw_12_bn (BatchNormali  (None, 7, 7, 1024)       4096      \n",
            " zation)                                                         \n",
            "                                                                 \n",
            " conv_pw_12_relu (ReLU)      (None, 7, 7, 1024)        0         \n",
            "                                                                 \n",
            " conv_dw_13 (DepthwiseConv2D  (None, 7, 7, 1024)       9216      \n",
            " )                                                               \n",
            "                                                                 \n",
            " conv_dw_13_bn (BatchNormali  (None, 7, 7, 1024)       4096      \n",
            " zation)                                                         \n",
            "                                                                 \n",
            " conv_dw_13_relu (ReLU)      (None, 7, 7, 1024)        0         \n",
            "                                                                 \n",
            " conv_pw_13 (Conv2D)         (None, 7, 7, 1024)        1048576   \n",
            "                                                                 \n",
            " conv_pw_13_bn (BatchNormali  (None, 7, 7, 1024)       4096      \n",
            " zation)                                                         \n",
            "                                                                 \n",
            " conv_pw_13_relu (ReLU)      (None, 7, 7, 1024)        0         \n",
            "                                                                 \n",
            "=================================================================\n",
            "Total params: 3,228,864\n",
            "Trainable params: 3,206,976\n",
            "Non-trainable params: 21,888\n",
            "_________________________________________________________________\n"
          ]
        }
      ],
      "source": [
        "pre_trained_model = create_mNet2(train_generator)\n",
        "pre_trained_model.summary()"
      ]
    },
    {
      "cell_type": "code",
      "execution_count": null,
      "metadata": {
        "id": "VvMQA-WKrYPT"
      },
      "outputs": [],
      "source": [
        "# Build the model\n",
        "model = tf.keras.models.Sequential([\n",
        "    pre_trained_model,\n",
        "    tf.keras.layers.Flatten(),\n",
        "    tf.keras.layers.Dropout(0.2),\n",
        "    tf.keras.layers.Dense(3, activation='softmax')\n",
        "])\n",
        "\n",
        "model.compile(optimizer=tf.keras.optimizers.Adam(learning_rate=1e-5),\n",
        "              loss='categorical_crossentropy',\n",
        "              metrics=['accuracy'])"
      ]
    },
    {
      "cell_type": "code",
      "execution_count": null,
      "metadata": {
        "id": "_RpagvbMb8aY"
      },
      "outputs": [],
      "source": [
        "class myCallback(tf.keras.callbacks.Callback):\n",
        "  def on_epoch_end(self,epoch,logs={}):\n",
        "    if(logs.get(\"accuracy\")>0.980 and logs.get(\"val_accuracy\")>0.980):\n",
        "      print(\"stop train!\")\n",
        "      self.model.stop_training=True"
      ]
    },
    {
      "cell_type": "code",
      "execution_count": null,
      "metadata": {
        "colab": {
          "base_uri": "https://localhost:8080/"
        },
        "id": "QKmNwa1pb-UD",
        "outputId": "0eba0aab-c072-4f20-cdba-cf3efa5d5f56"
      },
      "outputs": [
        {
          "output_type": "stream",
          "name": "stdout",
          "text": [
            "Epoch 1/25\n",
            "18/18 [==============================] - 250s 14s/step - loss: 2.0367 - accuracy: 0.4071 - val_loss: 1.4928 - val_accuracy: 0.4389\n",
            "Epoch 2/25\n",
            "18/18 [==============================] - 235s 13s/step - loss: 1.3095 - accuracy: 0.5507 - val_loss: 1.2806 - val_accuracy: 0.5314\n",
            "Epoch 3/25\n",
            "18/18 [==============================] - 246s 14s/step - loss: 0.9451 - accuracy: 0.6508 - val_loss: 1.0344 - val_accuracy: 0.6073\n",
            "Epoch 4/25\n",
            "18/18 [==============================] - 244s 14s/step - loss: 0.7202 - accuracy: 0.7417 - val_loss: 0.8832 - val_accuracy: 0.6733\n",
            "Epoch 5/25\n",
            "18/18 [==============================] - 241s 13s/step - loss: 0.5463 - accuracy: 0.7950 - val_loss: 0.7495 - val_accuracy: 0.7261\n",
            "Epoch 6/25\n",
            "18/18 [==============================] - 262s 15s/step - loss: 0.4511 - accuracy: 0.8389 - val_loss: 0.6350 - val_accuracy: 0.7558\n",
            "Epoch 7/25\n",
            "18/18 [==============================] - 253s 14s/step - loss: 0.3833 - accuracy: 0.8535 - val_loss: 0.5164 - val_accuracy: 0.8086\n",
            "Epoch 8/25\n",
            "18/18 [==============================] - 247s 14s/step - loss: 0.2961 - accuracy: 0.8951 - val_loss: 0.4392 - val_accuracy: 0.8317\n",
            "Epoch 9/25\n",
            "18/18 [==============================] - 245s 14s/step - loss: 0.2690 - accuracy: 0.8987 - val_loss: 0.3896 - val_accuracy: 0.8515\n",
            "Epoch 10/25\n",
            "18/18 [==============================] - 262s 15s/step - loss: 0.2368 - accuracy: 0.9127 - val_loss: 0.3589 - val_accuracy: 0.8482\n",
            "Epoch 11/25\n",
            "18/18 [==============================] - 247s 14s/step - loss: 0.2017 - accuracy: 0.9244 - val_loss: 0.3061 - val_accuracy: 0.8812\n",
            "Epoch 12/25\n",
            "18/18 [==============================] - 244s 14s/step - loss: 0.1961 - accuracy: 0.9274 - val_loss: 0.2919 - val_accuracy: 0.8746\n",
            "Epoch 13/25\n",
            "18/18 [==============================] - 244s 13s/step - loss: 0.1371 - accuracy: 0.9520 - val_loss: 0.2607 - val_accuracy: 0.9010\n",
            "Epoch 14/25\n",
            "18/18 [==============================] - 250s 14s/step - loss: 0.1512 - accuracy: 0.9508 - val_loss: 0.2476 - val_accuracy: 0.9241\n",
            "Epoch 15/25\n",
            "18/18 [==============================] - 255s 15s/step - loss: 0.1357 - accuracy: 0.9473 - val_loss: 0.2148 - val_accuracy: 0.9076\n",
            "Epoch 16/25\n",
            "18/18 [==============================] - 264s 15s/step - loss: 0.1080 - accuracy: 0.9637 - val_loss: 0.1863 - val_accuracy: 0.9274\n",
            "Epoch 17/25\n",
            "18/18 [==============================] - 245s 14s/step - loss: 0.1105 - accuracy: 0.9607 - val_loss: 0.1746 - val_accuracy: 0.9307\n",
            "Epoch 18/25\n",
            "18/18 [==============================] - 255s 14s/step - loss: 0.0904 - accuracy: 0.9672 - val_loss: 0.1634 - val_accuracy: 0.9373\n",
            "Epoch 19/25\n",
            "18/18 [==============================] - 245s 14s/step - loss: 0.0750 - accuracy: 0.9748 - val_loss: 0.1526 - val_accuracy: 0.9340\n",
            "Epoch 20/25\n",
            "18/18 [==============================] - 256s 14s/step - loss: 0.0800 - accuracy: 0.9725 - val_loss: 0.1440 - val_accuracy: 0.9340\n",
            "Epoch 21/25\n",
            "18/18 [==============================] - 266s 15s/step - loss: 0.0759 - accuracy: 0.9731 - val_loss: 0.1384 - val_accuracy: 0.9307\n",
            "Epoch 22/25\n",
            "18/18 [==============================] - 245s 14s/step - loss: 0.0758 - accuracy: 0.9731 - val_loss: 0.1277 - val_accuracy: 0.9406\n",
            "Epoch 23/25\n",
            "18/18 [==============================] - 263s 15s/step - loss: 0.0493 - accuracy: 0.9842 - val_loss: 0.1188 - val_accuracy: 0.9472\n",
            "Epoch 24/25\n",
            "18/18 [==============================] - 247s 14s/step - loss: 0.0702 - accuracy: 0.9783 - val_loss: 0.1221 - val_accuracy: 0.9406\n",
            "Epoch 25/25\n",
            "18/18 [==============================] - 256s 15s/step - loss: 0.0500 - accuracy: 0.9854 - val_loss: 0.1032 - val_accuracy: 0.9538\n"
          ]
        }
      ],
      "source": [
        "#callbacks = myCallback()\n",
        "# Train the model\n",
        "# Note that this may take some time.\n",
        "history = model.fit(train_generator,epochs=25,verbose=1,validation_data=validation_generator)"
      ]
    },
    {
      "cell_type": "code",
      "execution_count": null,
      "metadata": {
        "id": "aP1PjfVvcrwx",
        "colab": {
          "base_uri": "https://localhost:8080/",
          "height": 887
        },
        "outputId": "33d25d96-1a11-4ff0-b540-12f727e42587"
      },
      "outputs": [
        {
          "output_type": "display_data",
          "data": {
            "text/plain": [
              "<Figure size 640x480 with 1 Axes>"
            ],
            "image/png": "[encoded data removed]"
          },
          "metadata": {}
        },
        {
          "output_type": "display_data",
          "data": {
            "text/plain": [
              "<Figure size 640x480 with 1 Axes>"
            ],
            "image/png": "[encoded data removed]"
          },
          "metadata": {}
        }
      ],
      "source": [
        "# Plot the chart for accuracy and loss on both training and validation\n",
        "acc = history.history['accuracy']\n",
        "val_acc = history.history['val_accuracy']\n",
        "loss = history.history['loss']\n",
        "val_loss = history.history['val_loss']\n",
        "\n",
        "epochs = range(len(acc))\n",
        "\n",
        "plt.plot(epochs, acc, 'r', label='Training accuracy')\n",
        "plt.plot(epochs, val_acc, 'b', label='Validation accuracy')\n",
        "plt.title('Training and validation accuracy')\n",
        "plt.legend()\n",
        "plt.figure()\n",
        "\n",
        "plt.plot(epochs, loss, 'r', label='Training Loss')\n",
        "plt.plot(epochs, val_loss, 'b', label='Validation Loss')\n",
        "plt.title('Training and validation loss')\n",
        "plt.legend()\n",
        "\n",
        "plt.show()"
      ]
    },
    {
      "cell_type": "code",
      "execution_count": null,
      "metadata": {
        "id": "ZmH7tV7GLBCS"
      },
      "outputs": [],
      "source": [
        "model.save(\"/content/drive/MyDrive/ML/Model/Freshness/Gills(New).h5\")"
      ]
    },
    {
      "cell_type": "markdown",
      "metadata": {
        "id": "FZIPVuwxqMGw"
      },
      "source": [
        "# Coba Modelnya"
      ]
    },
    {
      "cell_type": "code",
      "execution_count": null,
      "metadata": {
        "id": "m-0R8g52kfyg"
      },
      "outputs": [],
      "source": [
        "import numpy as np\n",
        "\n",
        "from google.colab import files\n",
        "from tensorflow.keras.utils import load_img, img_to_array,image_dataset_from_directory"
      ]
    },
    {
      "cell_type": "code",
      "source": [
        "model = tf.keras.models.load_model('/content/drive/MyDrive/ML/Model/Freshness/Gills(New).h5')"
      ],
      "metadata": {
        "id": "m7K8fYnxxDwT"
      },
      "execution_count": null,
      "outputs": []
    },
    {
      "cell_type": "code",
      "source": [
        "test_datagen = ImageDataGenerator(rescale=1.0/225)\n",
        "test_generator = test_datagen.flow_from_directory(directory=\"/content/drive/MyDrive/ML/Dataset/Gills\",\n",
        "                                                              batch_size=100,\n",
        "                                                              class_mode=\"categorical\",\n",
        "                                                              target_size=(224,224))"
      ],
      "metadata": {
        "id": "X7NI3UnhxMX8",
        "colab": {
          "base_uri": "https://localhost:8080/"
        },
        "outputId": "75777a83-9e02-486e-84ad-8a027af0d6a0"
      },
      "execution_count": null,
      "outputs": [
        {
          "output_type": "stream",
          "name": "stdout",
          "text": [
            "Found 150 images belonging to 3 classes.\n"
          ]
        }
      ]
    },
    {
      "cell_type": "code",
      "source": [
        "model.evaluate(test_generator)"
      ],
      "metadata": {
        "id": "ATwdOm4bw-xU",
        "colab": {
          "base_uri": "https://localhost:8080/"
        },
        "outputId": "57a66ec6-b96c-4c30-e756-b03413798576"
      },
      "execution_count": null,
      "outputs": [
        {
          "output_type": "stream",
          "name": "stdout",
          "text": [
            "2/2 [==============================] - 15s 12s/step - loss: 0.0785 - accuracy: 0.9867\n"
          ]
        },
        {
          "output_type": "execute_result",
          "data": {
            "text/plain": [
              "[0.07849422842264175, 0.9866666793823242]"
            ]
          },
          "metadata": {},
          "execution_count": 16
        }
      ]
    },
    {
      "cell_type": "code",
      "source": [
        "from google.colab import files\n",
        "from tensorflow.keras.utils import load_img, img_to_array\n",
        "\n",
        "uploaded=files.upload()\n",
        "\n",
        "for fn in uploaded.keys():\n",
        " \n",
        "  # predicting images\n",
        "  path='/content/' + fn\n",
        "  img=load_img(path, target_size=(224, 224))\n",
        "\n",
        "  x=img_to_array(img)\n",
        "  x /= 255\n",
        "  x=np.expand_dims(x, axis=0)\n",
        "  images = np.vstack([x])\n",
        "\n",
        "  classes = model.predict(images)"
      ],
      "metadata": {
        "id": "uIgv3F1kxTcJ",
        "colab": {
          "base_uri": "https://localhost:8080/",
          "height": 90
        },
        "outputId": "d975804c-267b-4781-9155-174a45d252d6"
      },
      "execution_count": null,
      "outputs": [
        {
          "output_type": "display_data",
          "data": {
            "text/plain": [
              "<IPython.core.display.HTML object>"
            ],
            "text/html": [
              "\n",
              "     <input type=\"file\" id=\"files-aa9cba58-92f2-4e3a-84e0-c516d85158f2\" name=\"files[]\" multiple disabled\n",
              "        style=\"border:none\" />\n",
              "     <output id=\"result-aa9cba58-92f2-4e3a-84e0-c516d85158f2\">\n",
              "      Upload widget is only available when the cell has been executed in the\n",
              "      current browser session. Please rerun this cell to enable.\n",
              "      </output>\n",
              "      <script>// Copyright 2017 Google LLC\n",
              "//\n",
              "// Licensed under the Apache License, Version 2.0 (the \"License\");\n",
              "// you may not use this file except in compliance with the License.\n",
              "// You may obtain a copy of the License at\n",
              "//\n",
              "//      http://www.apache.org/licenses/LICENSE-2.0\n",
              "//\n",
              "// Unless required by applicable law or agreed to in writing, software\n",
              "// distributed under the License is distributed on an \"AS IS\" BASIS,\n",
              "// WITHOUT WARRANTIES OR CONDITIONS OF ANY KIND, either express or implied.\n",
              "// See the License for the specific language governing permissions and\n",
              "// limitations under the License.\n",
              "\n",
              "/**\n",
              " * @fileoverview Helpers for google.colab Python module.\n",
              " */\n",
              "(function(scope) {\n",
              "function span(text, styleAttributes = {}) {\n",
              "  const element = document.createElement('span');\n",
              "  element.textContent = text;\n",
              "  for (const key of Object.keys(styleAttributes)) {\n",
              "    element.style[key] = styleAttributes[key];\n",
              "  }\n",
              "  return element;\n",
              "}\n",
              "\n",
              "// Max number of bytes which will be uploaded at a time.\n",
              "const MAX_PAYLOAD_SIZE = 100 * 1024;\n",
              "\n",
              "function _uploadFiles(inputId, outputId) {\n",
              "  const steps = uploadFilesStep(inputId, outputId);\n",
              "  const outputElement = document.getElementById(outputId);\n",
              "  // Cache steps on the outputElement to make it available for the next call\n",
              "  // to uploadFilesContinue from Python.\n",
              "  outputElement.steps = steps;\n",
              "\n",
              "  return _uploadFilesContinue(outputId);\n",
              "}\n",
              "\n",
              "// This is roughly an async generator (not supported in the browser yet),\n",
              "// where there are multiple asynchronous steps and the Python side is going\n",
              "// to poll for completion of each step.\n",
              "// This uses a Promise to block the python side on completion of each step,\n",
              "// then passes the result of the previous step as the input to the next step.\n",
              "function _uploadFilesContinue(outputId) {\n",
              "  const outputElement = document.getElementById(outputId);\n",
              "  const steps = outputElement.steps;\n",
              "\n",
              "  const next = steps.next(outputElement.lastPromiseValue);\n",
              "  return Promise.resolve(next.value.promise).then((value) => {\n",
              "    // Cache the last promise value to make it available to the next\n",
              "    // step of the generator.\n",
              "    outputElement.lastPromiseValue = value;\n",
              "    return next.value.response;\n",
              "  });\n",
              "}\n",
              "\n",
              "/**\n",
              " * Generator function which is called between each async step of the upload\n",
              " * process.\n",
              " * @param {string} inputId Element ID of the input file picker element.\n",
              " * @param {string} outputId Element ID of the output display.\n",
              " * @return {!Iterable<!Object>} Iterable of next steps.\n",
              " */\n",
              "function* uploadFilesStep(inputId, outputId) {\n",
              "  const inputElement = document.getElementById(inputId);\n",
              "  inputElement.disabled = false;\n",
              "\n",
              "  const outputElement = document.getElementById(outputId);\n",
              "  outputElement.innerHTML = '';\n",
              "\n",
              "  const pickedPromise = new Promise((resolve) => {\n",
              "    inputElement.addEventListener('change', (e) => {\n",
              "      resolve(e.target.files);\n",
              "    });\n",
              "  });\n",
              "\n",
              "  const cancel = document.createElement('button');\n",
              "  inputElement.parentElement.appendChild(cancel);\n",
              "  cancel.textContent = 'Cancel upload';\n",
              "  const cancelPromise = new Promise((resolve) => {\n",
              "    cancel.onclick = () => {\n",
              "      resolve(null);\n",
              "    };\n",
              "  });\n",
              "\n",
              "  // Wait for the user to pick the files.\n",
              "  const files = yield {\n",
              "    promise: Promise.race([pickedPromise, cancelPromise]),\n",
              "    response: {\n",
              "      action: 'starting',\n",
              "    }\n",
              "  };\n",
              "\n",
              "  cancel.remove();\n",
              "\n",
              "  // Disable the input element since further picks are not allowed.\n",
              "  inputElement.disabled = true;\n",
              "\n",
              "  if (!files) {\n",
              "    return {\n",
              "      response: {\n",
              "        action: 'complete',\n",
              "      }\n",
              "    };\n",
              "  }\n",
              "\n",
              "  for (const file of files) {\n",
              "    const li = document.createElement('li');\n",
              "    li.append(span(file.name, {fontWeight: 'bold'}));\n",
              "    li.append(span(\n",
              "        `(${file.type || 'n/a'}) - ${file.size} bytes, ` +\n",
              "        `last modified: ${\n",
              "            file.lastModifiedDate ? file.lastModifiedDate.toLocaleDateString() :\n",
              "                                    'n/a'} - `));\n",
              "    const percent = span('0% done');\n",
              "    li.appendChild(percent);\n",
              "\n",
              "    outputElement.appendChild(li);\n",
              "\n",
              "    const fileDataPromise = new Promise((resolve) => {\n",
              "      const reader = new FileReader();\n",
              "      reader.onload = (e) => {\n",
              "        resolve(e.target.result);\n",
              "      };\n",
              "      reader.readAsArrayBuffer(file);\n",
              "    });\n",
              "    // Wait for the data to be ready.\n",
              "    let fileData = yield {\n",
              "      promise: fileDataPromise,\n",
              "      response: {\n",
              "        action: 'continue',\n",
              "      }\n",
              "    };\n",
              "\n",
              "    // Use a chunked sending to avoid message size limits. See b/62115660.\n",
              "    let position = 0;\n",
              "    do {\n",
              "      const length = Math.min(fileData.byteLength - position, MAX_PAYLOAD_SIZE);\n",
              "      const chunk = new Uint8Array(fileData, position, length);\n",
              "      position += length;\n",
              "\n",
              "      const base64 = btoa(String.fromCharCode.apply(null, chunk));\n",
              "      yield {\n",
              "        response: {\n",
              "          action: 'append',\n",
              "          file: file.name,\n",
              "          data: base64,\n",
              "        },\n",
              "      };\n",
              "\n",
              "      let percentDone = fileData.byteLength === 0 ?\n",
              "          100 :\n",
              "          Math.round((position / fileData.byteLength) * 100);\n",
              "      percent.textContent = `${percentDone}% done`;\n",
              "\n",
              "    } while (position < fileData.byteLength);\n",
              "  }\n",
              "\n",
              "  // All done.\n",
              "  yield {\n",
              "    response: {\n",
              "      action: 'complete',\n",
              "    }\n",
              "  };\n",
              "}\n",
              "\n",
              "scope.google = scope.google || {};\n",
              "scope.google.colab = scope.google.colab || {};\n",
              "scope.google.colab._files = {\n",
              "  _uploadFiles,\n",
              "  _uploadFilesContinue,\n",
              "};\n",
              "})(self);\n",
              "</script> "
            ]
          },
          "metadata": {}
        },
        {
          "output_type": "stream",
          "name": "stdout",
          "text": [
            "Saving 101.jpg to 101.jpg\n",
            "1/1 [==============================] - 0s 44ms/step\n"
          ]
        }
      ]
    },
    {
      "cell_type": "code",
      "source": [
        "print(classes)"
      ],
      "metadata": {
        "colab": {
          "base_uri": "https://localhost:8080/"
        },
        "id": "xB8FfeqRNM_j",
        "outputId": "0b914375-d40b-466c-deb6-d2331008adff"
      },
      "execution_count": null,
      "outputs": [
        {
          "output_type": "stream",
          "name": "stdout",
          "text": [
            "[[5.9468430e-01 4.0530381e-01 1.1819012e-05]]\n"
          ]
        }
      ]
    },
    {
      "cell_type": "code",
      "source": [],
      "metadata": {
        "id": "SO4O-M-gNmdt"
      },
      "execution_count": null,
      "outputs": []
    }
  ],
  "metadata": {
    "colab": {
      "provenance": []
    },
    "kernelspec": {
      "display_name": "Python 3",
      "name": "python3"
    },
    "language_info": {
      "name": "python"
    }
  },
  "nbformat": 4,
  "nbformat_minor": 0
}