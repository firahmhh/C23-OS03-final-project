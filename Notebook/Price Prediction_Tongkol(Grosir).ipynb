{
  "nbformat": 4,
  "nbformat_minor": 0,
  "metadata": {
    "colab": {
      "provenance": []
    },
    "kernelspec": {
      "name": "python3",
      "display_name": "Python 3"
    },
    "language_info": {
      "name": "python"
    }
  },
  "cells": [
    {
      "cell_type": "code",
      "execution_count": 2,
      "metadata": {
        "colab": {
          "base_uri": "https://localhost:8080/"
        },
        "id": "se_nIqvRFuyO",
        "outputId": "bb8bae5a-4d3d-4c7f-a016-6265d3c929ba"
      },
      "outputs": [
        {
          "output_type": "stream",
          "name": "stdout",
          "text": [
            "Mounted at /content/drive\n"
          ]
        }
      ],
      "source": [
        "import csv\n",
        "import numpy as np\n",
        "import tensorflow as tf\n",
        "import matplotlib.pyplot as plt\n",
        "import pandas as pd\n",
        "\n",
        "from dataclasses import dataclass\n",
        "from google.colab import drive\n",
        "drive.mount('/content/drive')"
      ]
    },
    {
      "cell_type": "code",
      "source": [
        "df1 = pd.read_csv('/content/drive/MyDrive/ML/Data Price Prediction - Yang perlu aja - Tongkol-Grosir.csv', sep =',')"
      ],
      "metadata": {
        "id": "12UiO3NUDjhN"
      },
      "execution_count": 3,
      "outputs": []
    },
    {
      "cell_type": "code",
      "source": [
        "Q1 = df1['Harga'].quantile(0.25)\n",
        "Q3 = df1['Harga'].quantile(0.75)\n",
        "IQR = Q3 - Q1\n",
        "# df = df1[(df1['Harga'] >= Q1 - 1.5 * IQR) & (df1['Harga'] <= Q3 + 1.5 * IQR)]\n",
        "threshold = 1.5*IQR\n",
        "median = np.median(df1['Harga'])\n",
        "outliers = (df1['Harga'] < Q1 - threshold) | (df1['Harga'] > Q3 + threshold)\n",
        "df1[outliers] = median"
      ],
      "metadata": {
        "id": "isMDMYveDvcD"
      },
      "execution_count": 4,
      "outputs": []
    },
    {
      "cell_type": "code",
      "source": [
        "def get_data(data):\n",
        "    \n",
        "    times = []\n",
        "    value = []\n",
        "\n",
        "    i = 0\n",
        "    for row in data:\n",
        "      times.append(i)\n",
        "      value.append(float(row)/1000)\n",
        "      i+=1\n",
        "\n",
        "    \n",
        "    return times, value"
      ],
      "metadata": {
        "id": "HP1EhGPwFzKR"
      },
      "execution_count": 5,
      "outputs": []
    },
    {
      "cell_type": "code",
      "source": [
        "def plot_series(time, series, format=\"-\", start=0, end=None):\n",
        "    plt.plot(time[start:end], series[start:end], format)\n",
        "    plt.xlabel(\"Time\")\n",
        "    plt.ylabel(\"Value\")\n",
        "    plt.grid(True)"
      ],
      "metadata": {
        "id": "6S8Mf3yBHNTg"
      },
      "execution_count": 6,
      "outputs": []
    },
    {
      "cell_type": "code",
      "source": [
        "# Test your function and save all \"global\" variables within the G class (G stands for global)\n",
        "@dataclass\n",
        "class G:\n",
        "    FILE_CSV = '/content/drive/MyDrive/ML/Data Price Prediction - Yang perlu aja - Tongkol-Grosir.csv'\n",
        "    times, price = get_data(df1['Harga'])\n",
        "    TIME = np.array(times)\n",
        "    SERIES = np.array(price)\n",
        "    SPLIT_TIME = 62\n",
        "    WINDOW_SIZE = 12\n",
        "    BATCH_SIZE = 12\n",
        "    SHUFFLE_BUFFER_SIZE = 150\n"
      ],
      "metadata": {
        "id": "RZ2bR_YiGkSh"
      },
      "execution_count": 7,
      "outputs": []
    },
    {
      "cell_type": "code",
      "source": [
        "plt.figure(figsize=(3, 2))\n",
        "plot_series(G.TIME, G.SERIES)\n",
        "plt.show()"
      ],
      "metadata": {
        "colab": {
          "base_uri": "https://localhost:8080/",
          "height": 234
        },
        "id": "R2HONSfzJRsk",
        "outputId": "28745051-9f98-4a5e-a9f7-d623c55665f3"
      },
      "execution_count": 8,
      "outputs": [
        {
          "output_type": "display_data",
          "data": {
            "text/plain": [
              "<Figure size 300x200 with 1 Axes>"
            ],
            "image/png": "[encoded data removed]"
          },
          "metadata": {}
        }
      ]
    },
    {
      "cell_type": "code",
      "source": [
        "def train_val_split(time, series, time_step=G.SPLIT_TIME):\n",
        "\n",
        "    time_train = time[:time_step]\n",
        "    series_train = series[:time_step]\n",
        "    time_valid = time[time_step:]\n",
        "    series_valid = series[time_step:]\n",
        "\n",
        "    return time_train, series_train, time_valid, series_valid"
      ],
      "metadata": {
        "id": "AKhlCThVHhCZ"
      },
      "execution_count": 9,
      "outputs": []
    },
    {
      "cell_type": "code",
      "source": [
        "# Split the dataset\n",
        "time_train, series_train, time_valid, series_valid = train_val_split(G.TIME, G.SERIES)"
      ],
      "metadata": {
        "id": "SF71F6BMJpF0"
      },
      "execution_count": 10,
      "outputs": []
    },
    {
      "cell_type": "code",
      "source": [
        "def windowed_dataset(series, window_size=G.WINDOW_SIZE, batch_size=G.BATCH_SIZE, shuffle_buffer=G.SHUFFLE_BUFFER_SIZE):\n",
        "    ds = tf.data.Dataset.from_tensor_slices(series)\n",
        "    ds = ds.window(window_size + 1, shift=1, drop_remainder=True)\n",
        "    ds = ds.flat_map(lambda w: w.batch(window_size + 1))\n",
        "    ds = ds.shuffle(shuffle_buffer)\n",
        "    ds = ds.map(lambda w: (w[:-1], w[-1]))\n",
        "    ds = ds.batch(batch_size).prefetch(1)\n",
        "    return ds\n"
      ],
      "metadata": {
        "id": "f9kaadcXJe5M"
      },
      "execution_count": 11,
      "outputs": []
    },
    {
      "cell_type": "code",
      "source": [
        "# Apply the transformation to the training set\n",
        "train_set = windowed_dataset(series_train, window_size=G.WINDOW_SIZE, batch_size=G.BATCH_SIZE, shuffle_buffer=G.SHUFFLE_BUFFER_SIZE)"
      ],
      "metadata": {
        "id": "Q84t5hDNJnDv"
      },
      "execution_count": 12,
      "outputs": []
    },
    {
      "cell_type": "markdown",
      "source": [
        "## Build the Model\n",
        "\n",
        "Here is the model architecture you will be using. It is very similar to the last RNN you built but with the [Conv1D](https://www.tensorflow.org/api_docs/python/tf/keras/layers/Conv1D) layer at the input. One important [argument](https://www.tensorflow.org/api_docs/python/tf/keras/layers/Conv1D#args) here is the `padding`. For time series data, it is good practice to not let computations for a particular time step to be affected by values into the future. Here is one way of looking at it:\n",
        "\n",
        "* Let's say you have a small time series window with these values: `[1, 2, 3, 4, 5]`. This means the value `1` is at `t=0`, `2` is at `t=1`, etc.\n",
        "* If you have a 1D kernel of size `3`, then the first convolution will be for the values at `[1, 2, 3]` which are values for `t=0` to `t=2`.\n",
        "* When you pass this to the first timestep of the `LSTM` after the convolution, it means that the value at `t=0` of the LSTM depends on `t=1` and `t=2` which are values into the future.\n",
        "* For time series data, you want computations to only rely on current and previous time steps.\n",
        "* One way to do that is to pad the array depending on the kernel size and stride. For a kernel size of 3 and stride of 1, the window can be padded as such: `[0, 0, 1, 2, 3, 4, 5]`. `1` is still at `t=0` and two zeroes are prepended to simulate values in the past.\n",
        "* This way, the first stride will be at `[0, 0, 1]` and this does not contain any future values when it is passed on to subsequent layers.\n",
        "\n",
        "The `Conv1D` layer does this kind of padding by setting `padding=causal` and you'll see that below."
      ],
      "metadata": {
        "id": "M4vF3mFnKD-R"
      }
    },
    {
      "cell_type": "code",
      "source": [
        "def create_model():\n",
        "    \n",
        "    model = tf.keras.models.Sequential([ \n",
        "        tf.keras.layers.Conv1D(filters=32, kernel_size=3,\n",
        "                      strides=1, padding=\"causal\",\n",
        "                      activation=\"relu\",\n",
        "                      input_shape=[G.WINDOW_SIZE, 1]),\n",
        "        tf.keras.layers.Bidirectional(tf.keras.layers.LSTM(128, return_sequences=True)),\n",
        "        tf.keras.layers.Bidirectional(tf.keras.layers.LSTM(64, return_sequences=True)),\n",
        "        tf.keras.layers.Bidirectional(tf.keras.layers.LSTM(32)),\n",
        "        tf.keras.layers.Dense(1),\n",
        "        tf.keras.layers.Lambda(lambda x: x * 100)\n",
        "    ]) \n",
        "\n",
        "    return model\n",
        "model = create_model()\n",
        "model.summary()"
      ],
      "metadata": {
        "colab": {
          "base_uri": "https://localhost:8080/"
        },
        "id": "wkMqwGDyKE1u",
        "outputId": "68037d38-4464-42ba-e87d-e2ab7dfa457a"
      },
      "execution_count": 13,
      "outputs": [
        {
          "output_type": "stream",
          "name": "stdout",
          "text": [
            "Model: \"sequential\"\n",
            "_________________________________________________________________\n",
            " Layer (type)                Output Shape              Param #   \n",
            "=================================================================\n",
            " conv1d (Conv1D)             (None, 12, 32)            128       \n",
            "                                                                 \n",
            " bidirectional (Bidirectiona  (None, 12, 256)          164864    \n",
            " l)                                                              \n",
            "                                                                 \n",
            " bidirectional_1 (Bidirectio  (None, 12, 128)          164352    \n",
            " nal)                                                            \n",
            "                                                                 \n",
            " bidirectional_2 (Bidirectio  (None, 64)               41216     \n",
            " nal)                                                            \n",
            "                                                                 \n",
            " dense (Dense)               (None, 1)                 65        \n",
            "                                                                 \n",
            " lambda (Lambda)             (None, 1)                 0         \n",
            "                                                                 \n",
            "=================================================================\n",
            "Total params: 370,625\n",
            "Trainable params: 370,625\n",
            "Non-trainable params: 0\n",
            "_________________________________________________________________\n"
          ]
        }
      ]
    },
    {
      "cell_type": "code",
      "source": [
        "# Test your uncompiled model\n",
        "uncompiled_model = create_model()\n",
        "\n",
        "try:\n",
        "    uncompiled_model.predict(train_set)\n",
        "except:\n",
        "    print(\"Your current architecture is incompatible with the windowed dataset, try adjusting it.\")\n",
        "else:\n",
        "    print(\"Your current architecture is compatible with the windowed dataset! :)\")"
      ],
      "metadata": {
        "colab": {
          "base_uri": "https://localhost:8080/"
        },
        "id": "k0RbzOK2L1xZ",
        "outputId": "8f7e208f-dd16-442a-920a-b1dae43f485e"
      },
      "execution_count": 14,
      "outputs": [
        {
          "output_type": "stream",
          "name": "stdout",
          "text": [
            "5/5 [==============================] - 3s 34ms/step\n",
            "Your current architecture is compatible with the windowed dataset! :)\n"
          ]
        }
      ]
    },
    {
      "cell_type": "code",
      "source": [
        "# Get initial weights\n",
        "init_weights = model.get_weights()\n",
        "\n",
        "# Set the learning rate scheduler\n",
        "lr_schedule = tf.keras.callbacks.LearningRateScheduler(\n",
        "    lambda epoch: 1e-8 * 10**(epoch / 20))\n",
        "\n",
        "# Initialize the optimizer\n",
        "optimizer = tf.keras.optimizers.SGD(momentum=0.9)\n",
        "\n",
        "# Set the training parameters\n",
        "model.compile(loss=tf.keras.losses.Huber(), optimizer=optimizer)\n",
        "\n",
        "# Train the model\n",
        "history = model.fit(train_set, epochs=100, callbacks=[lr_schedule])"
      ],
      "metadata": {
        "colab": {
          "base_uri": "https://localhost:8080/"
        },
        "id": "lg_SnB7TM3la",
        "outputId": "838a4c47-bc18-4b9d-e35a-aa6c54c1d4f4"
      },
      "execution_count": 15,
      "outputs": [
        {
          "output_type": "stream",
          "name": "stdout",
          "text": [
            "Epoch 1/100\n",
            "5/5 [==============================] - 10s 46ms/step - loss: 18.5305 - lr: 1.0000e-08\n",
            "Epoch 2/100\n",
            "5/5 [==============================] - 1s 130ms/step - loss: 18.4505 - lr: 1.1220e-08\n",
            "Epoch 3/100\n",
            "5/5 [==============================] - 0s 39ms/step - loss: 18.3064 - lr: 1.2589e-08\n",
            "Epoch 4/100\n",
            "5/5 [==============================] - 0s 39ms/step - loss: 18.1128 - lr: 1.4125e-08\n",
            "Epoch 5/100\n",
            "5/5 [==============================] - 0s 38ms/step - loss: 17.8766 - lr: 1.5849e-08\n",
            "Epoch 6/100\n",
            "5/5 [==============================] - 0s 38ms/step - loss: 17.6006 - lr: 1.7783e-08\n",
            "Epoch 7/100\n",
            "5/5 [==============================] - 0s 38ms/step - loss: 17.2844 - lr: 1.9953e-08\n",
            "Epoch 8/100\n",
            "5/5 [==============================] - 0s 45ms/step - loss: 16.9258 - lr: 2.2387e-08\n",
            "Epoch 9/100\n",
            "5/5 [==============================] - 0s 70ms/step - loss: 16.5214 - lr: 2.5119e-08\n",
            "Epoch 10/100\n",
            "5/5 [==============================] - 0s 65ms/step - loss: 16.0664 - lr: 2.8184e-08\n",
            "Epoch 11/100\n",
            "5/5 [==============================] - 0s 63ms/step - loss: 15.5547 - lr: 3.1623e-08\n",
            "Epoch 12/100\n",
            "5/5 [==============================] - 0s 69ms/step - loss: 14.9808 - lr: 3.5481e-08\n",
            "Epoch 13/100\n",
            "5/5 [==============================] - 0s 72ms/step - loss: 14.3363 - lr: 3.9811e-08\n",
            "Epoch 14/100\n",
            "5/5 [==============================] - 0s 70ms/step - loss: 13.6132 - lr: 4.4668e-08\n",
            "Epoch 15/100\n",
            "5/5 [==============================] - 0s 42ms/step - loss: 12.8021 - lr: 5.0119e-08\n",
            "Epoch 16/100\n",
            "5/5 [==============================] - 0s 41ms/step - loss: 11.8929 - lr: 5.6234e-08\n",
            "Epoch 17/100\n",
            "5/5 [==============================] - 0s 39ms/step - loss: 10.8731 - lr: 6.3096e-08\n",
            "Epoch 18/100\n",
            "5/5 [==============================] - 0s 41ms/step - loss: 9.7301 - lr: 7.0795e-08\n",
            "Epoch 19/100\n",
            "5/5 [==============================] - 0s 43ms/step - loss: 8.4486 - lr: 7.9433e-08\n",
            "Epoch 20/100\n",
            "5/5 [==============================] - 0s 43ms/step - loss: 7.0123 - lr: 8.9125e-08\n",
            "Epoch 21/100\n",
            "5/5 [==============================] - 0s 40ms/step - loss: 5.4021 - lr: 1.0000e-07\n",
            "Epoch 22/100\n",
            "5/5 [==============================] - 0s 37ms/step - loss: 3.5984 - lr: 1.1220e-07\n",
            "Epoch 23/100\n",
            "5/5 [==============================] - 0s 106ms/step - loss: 1.5948 - lr: 1.2589e-07\n",
            "Epoch 24/100\n",
            "5/5 [==============================] - 0s 41ms/step - loss: 0.3105 - lr: 1.4125e-07\n",
            "Epoch 25/100\n",
            "5/5 [==============================] - 0s 42ms/step - loss: 0.7410 - lr: 1.5849e-07\n",
            "Epoch 26/100\n",
            "5/5 [==============================] - 0s 39ms/step - loss: 0.5524 - lr: 1.7783e-07\n",
            "Epoch 27/100\n",
            "5/5 [==============================] - 0s 40ms/step - loss: 0.2711 - lr: 1.9953e-07\n",
            "Epoch 28/100\n",
            "5/5 [==============================] - 0s 39ms/step - loss: 0.4646 - lr: 2.2387e-07\n",
            "Epoch 29/100\n",
            "5/5 [==============================] - 0s 41ms/step - loss: 0.3253 - lr: 2.5119e-07\n",
            "Epoch 30/100\n",
            "5/5 [==============================] - 0s 38ms/step - loss: 0.3138 - lr: 2.8184e-07\n",
            "Epoch 31/100\n",
            "5/5 [==============================] - 0s 41ms/step - loss: 0.2911 - lr: 3.1623e-07\n",
            "Epoch 32/100\n",
            "5/5 [==============================] - 0s 39ms/step - loss: 0.2876 - lr: 3.5481e-07\n",
            "Epoch 33/100\n",
            "5/5 [==============================] - 0s 41ms/step - loss: 0.3040 - lr: 3.9811e-07\n",
            "Epoch 34/100\n",
            "5/5 [==============================] - 0s 40ms/step - loss: 0.2985 - lr: 4.4668e-07\n",
            "Epoch 35/100\n",
            "5/5 [==============================] - 0s 45ms/step - loss: 0.3340 - lr: 5.0119e-07\n",
            "Epoch 36/100\n",
            "5/5 [==============================] - 0s 53ms/step - loss: 0.3153 - lr: 5.6234e-07\n",
            "Epoch 37/100\n",
            "5/5 [==============================] - 0s 79ms/step - loss: 0.3003 - lr: 6.3096e-07\n",
            "Epoch 38/100\n",
            "5/5 [==============================] - 0s 42ms/step - loss: 0.3192 - lr: 7.0795e-07\n",
            "Epoch 39/100\n",
            "5/5 [==============================] - 0s 89ms/step - loss: 0.2984 - lr: 7.9433e-07\n",
            "Epoch 40/100\n",
            "5/5 [==============================] - 1s 107ms/step - loss: 0.2995 - lr: 8.9125e-07\n",
            "Epoch 41/100\n",
            "5/5 [==============================] - 0s 97ms/step - loss: 0.3247 - lr: 1.0000e-06\n",
            "Epoch 42/100\n",
            "5/5 [==============================] - 1s 106ms/step - loss: 0.3303 - lr: 1.1220e-06\n",
            "Epoch 43/100\n",
            "5/5 [==============================] - 0s 91ms/step - loss: 0.3164 - lr: 1.2589e-06\n",
            "Epoch 44/100\n",
            "5/5 [==============================] - 1s 160ms/step - loss: 0.3797 - lr: 1.4125e-06\n",
            "Epoch 45/100\n",
            "5/5 [==============================] - 0s 67ms/step - loss: 0.6967 - lr: 1.5849e-06\n",
            "Epoch 46/100\n",
            "5/5 [==============================] - 0s 66ms/step - loss: 0.7398 - lr: 1.7783e-06\n",
            "Epoch 47/100\n",
            "5/5 [==============================] - 0s 66ms/step - loss: 0.4507 - lr: 1.9953e-06\n",
            "Epoch 48/100\n",
            "5/5 [==============================] - 0s 72ms/step - loss: 0.4096 - lr: 2.2387e-06\n",
            "Epoch 49/100\n",
            "5/5 [==============================] - 0s 37ms/step - loss: 0.4403 - lr: 2.5119e-06\n",
            "Epoch 50/100\n",
            "5/5 [==============================] - 0s 38ms/step - loss: 0.4211 - lr: 2.8184e-06\n",
            "Epoch 51/100\n",
            "5/5 [==============================] - 0s 43ms/step - loss: 0.5390 - lr: 3.1623e-06\n",
            "Epoch 52/100\n",
            "5/5 [==============================] - 0s 39ms/step - loss: 0.3956 - lr: 3.5481e-06\n",
            "Epoch 53/100\n",
            "5/5 [==============================] - 0s 39ms/step - loss: 0.4984 - lr: 3.9811e-06\n",
            "Epoch 54/100\n",
            "5/5 [==============================] - 0s 39ms/step - loss: 0.4530 - lr: 4.4668e-06\n",
            "Epoch 55/100\n",
            "5/5 [==============================] - 0s 40ms/step - loss: 0.4388 - lr: 5.0119e-06\n",
            "Epoch 56/100\n",
            "5/5 [==============================] - 0s 38ms/step - loss: 0.4468 - lr: 5.6234e-06\n",
            "Epoch 57/100\n",
            "5/5 [==============================] - 0s 39ms/step - loss: 0.3658 - lr: 6.3096e-06\n",
            "Epoch 58/100\n",
            "5/5 [==============================] - 0s 42ms/step - loss: 0.3786 - lr: 7.0795e-06\n",
            "Epoch 59/100\n",
            "5/5 [==============================] - 0s 80ms/step - loss: 0.4898 - lr: 7.9433e-06\n",
            "Epoch 60/100\n",
            "5/5 [==============================] - 0s 42ms/step - loss: 0.6158 - lr: 8.9125e-06\n",
            "Epoch 61/100\n",
            "5/5 [==============================] - 0s 59ms/step - loss: 0.4567 - lr: 1.0000e-05\n",
            "Epoch 62/100\n",
            "5/5 [==============================] - 0s 37ms/step - loss: 2.3596 - lr: 1.1220e-05\n",
            "Epoch 63/100\n",
            "5/5 [==============================] - 0s 38ms/step - loss: 1.2953 - lr: 1.2589e-05\n",
            "Epoch 64/100\n",
            "5/5 [==============================] - 0s 41ms/step - loss: 3.6807 - lr: 1.4125e-05\n",
            "Epoch 65/100\n",
            "5/5 [==============================] - 0s 38ms/step - loss: 3.3227 - lr: 1.5849e-05\n",
            "Epoch 66/100\n",
            "5/5 [==============================] - 0s 43ms/step - loss: 5.1833 - lr: 1.7783e-05\n",
            "Epoch 67/100\n",
            "5/5 [==============================] - 0s 40ms/step - loss: 0.9852 - lr: 1.9953e-05\n",
            "Epoch 68/100\n",
            "5/5 [==============================] - 0s 38ms/step - loss: 0.9534 - lr: 2.2387e-05\n",
            "Epoch 69/100\n",
            "5/5 [==============================] - 0s 38ms/step - loss: 2.9336 - lr: 2.5119e-05\n",
            "Epoch 70/100\n",
            "5/5 [==============================] - 0s 38ms/step - loss: 1.1468 - lr: 2.8184e-05\n",
            "Epoch 71/100\n",
            "5/5 [==============================] - 0s 38ms/step - loss: 1.4253 - lr: 3.1623e-05\n",
            "Epoch 72/100\n",
            "5/5 [==============================] - 0s 38ms/step - loss: 3.2176 - lr: 3.5481e-05\n",
            "Epoch 73/100\n",
            "5/5 [==============================] - 0s 40ms/step - loss: 3.9049 - lr: 3.9811e-05\n",
            "Epoch 74/100\n",
            "5/5 [==============================] - 0s 38ms/step - loss: 4.1143 - lr: 4.4668e-05\n",
            "Epoch 75/100\n",
            "5/5 [==============================] - 0s 40ms/step - loss: 5.7937 - lr: 5.0119e-05\n",
            "Epoch 76/100\n",
            "5/5 [==============================] - 0s 37ms/step - loss: 10.9137 - lr: 5.6234e-05\n",
            "Epoch 77/100\n",
            "5/5 [==============================] - 0s 39ms/step - loss: 4.3184 - lr: 6.3096e-05\n",
            "Epoch 78/100\n",
            "5/5 [==============================] - 0s 41ms/step - loss: 2.2070 - lr: 7.0795e-05\n",
            "Epoch 79/100\n",
            "5/5 [==============================] - 0s 38ms/step - loss: 4.1450 - lr: 7.9433e-05\n",
            "Epoch 80/100\n",
            "5/5 [==============================] - 0s 40ms/step - loss: 5.0796 - lr: 8.9125e-05\n",
            "Epoch 81/100\n",
            "5/5 [==============================] - 0s 38ms/step - loss: 10.4343 - lr: 1.0000e-04\n",
            "Epoch 82/100\n",
            "5/5 [==============================] - 0s 43ms/step - loss: 5.4695 - lr: 1.1220e-04\n",
            "Epoch 83/100\n",
            "5/5 [==============================] - 0s 67ms/step - loss: 4.4835 - lr: 1.2589e-04\n",
            "Epoch 84/100\n",
            "5/5 [==============================] - 0s 67ms/step - loss: 5.2802 - lr: 1.4125e-04\n",
            "Epoch 85/100\n",
            "5/5 [==============================] - 0s 67ms/step - loss: 5.5213 - lr: 1.5849e-04\n",
            "Epoch 86/100\n",
            "5/5 [==============================] - 0s 67ms/step - loss: 6.8091 - lr: 1.7783e-04\n",
            "Epoch 87/100\n",
            "5/5 [==============================] - 0s 49ms/step - loss: 5.7548 - lr: 1.9953e-04\n",
            "Epoch 88/100\n",
            "5/5 [==============================] - 0s 38ms/step - loss: 2.2685 - lr: 2.2387e-04\n",
            "Epoch 89/100\n",
            "5/5 [==============================] - 0s 39ms/step - loss: 3.0857 - lr: 2.5119e-04\n",
            "Epoch 90/100\n",
            "5/5 [==============================] - 0s 39ms/step - loss: 3.1378 - lr: 2.8184e-04\n",
            "Epoch 91/100\n",
            "5/5 [==============================] - 0s 38ms/step - loss: 7.2454 - lr: 3.1623e-04\n",
            "Epoch 92/100\n",
            "5/5 [==============================] - 0s 38ms/step - loss: 2.4822 - lr: 3.5481e-04\n",
            "Epoch 93/100\n",
            "5/5 [==============================] - 0s 39ms/step - loss: 3.3406 - lr: 3.9811e-04\n",
            "Epoch 94/100\n",
            "5/5 [==============================] - 0s 42ms/step - loss: 3.6397 - lr: 4.4668e-04\n",
            "Epoch 95/100\n",
            "5/5 [==============================] - 0s 40ms/step - loss: 4.6275 - lr: 5.0119e-04\n",
            "Epoch 96/100\n",
            "5/5 [==============================] - 0s 42ms/step - loss: 14.2655 - lr: 5.6234e-04\n",
            "Epoch 97/100\n",
            "5/5 [==============================] - 0s 40ms/step - loss: 22.6614 - lr: 6.3096e-04\n",
            "Epoch 98/100\n",
            "5/5 [==============================] - 0s 39ms/step - loss: 13.9037 - lr: 7.0795e-04\n",
            "Epoch 99/100\n",
            "5/5 [==============================] - 0s 39ms/step - loss: 18.6404 - lr: 7.9433e-04\n",
            "Epoch 100/100\n",
            "5/5 [==============================] - 0s 43ms/step - loss: 16.3923 - lr: 8.9125e-04\n"
          ]
        }
      ]
    },
    {
      "cell_type": "code",
      "source": [
        "# Define the learning rate array\n",
        "lrs = 1e-8 * (10 ** (np.arange(100) / 20))\n",
        "\n",
        "# Set the figure size\n",
        "plt.figure(figsize=(10, 6))\n",
        "\n",
        "# Set the grid\n",
        "plt.grid(True)\n",
        "\n",
        "# Plot the loss in log scale\n",
        "plt.semilogx(lrs, history.history[\"loss\"])\n",
        "\n",
        "# Increase the tickmarks size\n",
        "plt.tick_params('both', length=10, width=1, which='both')\n",
        "\n",
        "# Set the plot boundaries\n",
        "plt.axis([1e-8, 1e-3, 0, 50])"
      ],
      "metadata": {
        "colab": {
          "base_uri": "https://localhost:8080/",
          "height": 558
        },
        "id": "_U5sUnBTNdfC",
        "outputId": "f90260c9-5d11-4490-de42-878de5a6213a"
      },
      "execution_count": 16,
      "outputs": [
        {
          "output_type": "execute_result",
          "data": {
            "text/plain": [
              "(1e-08, 0.001, 0.0, 50.0)"
            ]
          },
          "metadata": {},
          "execution_count": 16
        },
        {
          "output_type": "display_data",
          "data": {
            "text/plain": [
              "<Figure size 1000x600 with 1 Axes>"
            ],
            "image/png": "[encoded data removed]"
          },
          "metadata": {}
        }
      ]
    },
    {
      "cell_type": "code",
      "source": [
        "# Reset states generated by Keras\n",
        "tf.keras.backend.clear_session()\n",
        "\n",
        "# Reset the weights\n",
        "model.set_weights(init_weights)"
      ],
      "metadata": {
        "id": "MclF3BmrNnAi"
      },
      "execution_count": 17,
      "outputs": []
    },
    {
      "cell_type": "code",
      "source": [
        "# Set the training parameters\n",
        "model.compile(loss=tf.keras.losses.Huber(),\n",
        "              optimizer = tf.keras.optimizers.SGD(learning_rate=1e-07),\n",
        "              metrics=[\"mae\"])"
      ],
      "metadata": {
        "id": "DZIbxKGgNoMh"
      },
      "execution_count": 18,
      "outputs": []
    },
    {
      "cell_type": "code",
      "source": [
        "history = model.fit(train_set,epochs=100)"
      ],
      "metadata": {
        "colab": {
          "base_uri": "https://localhost:8080/"
        },
        "id": "ljSTZCVLN2F5",
        "outputId": "781632a6-2859-44d7-cde1-c8d72cbccdab"
      },
      "execution_count": 19,
      "outputs": [
        {
          "output_type": "stream",
          "name": "stdout",
          "text": [
            "Epoch 1/100\n",
            "5/5 [==============================] - 10s 46ms/step - loss: 18.4741 - mae: 18.9741\n",
            "Epoch 2/100\n",
            "5/5 [==============================] - 0s 40ms/step - loss: 18.2629 - mae: 18.7629\n",
            "Epoch 3/100\n",
            "5/5 [==============================] - 0s 40ms/step - loss: 18.0517 - mae: 18.5517\n",
            "Epoch 4/100\n",
            "5/5 [==============================] - 0s 38ms/step - loss: 17.8406 - mae: 18.3406\n",
            "Epoch 5/100\n",
            "5/5 [==============================] - 0s 45ms/step - loss: 17.6297 - mae: 18.1297\n",
            "Epoch 6/100\n",
            "5/5 [==============================] - 0s 36ms/step - loss: 17.4187 - mae: 17.9187\n",
            "Epoch 7/100\n",
            "5/5 [==============================] - 0s 38ms/step - loss: 17.2077 - mae: 17.7077\n",
            "Epoch 8/100\n",
            "5/5 [==============================] - 0s 40ms/step - loss: 16.9966 - mae: 17.4966\n",
            "Epoch 9/100\n",
            "5/5 [==============================] - 0s 39ms/step - loss: 16.7857 - mae: 17.2857\n",
            "Epoch 10/100\n",
            "5/5 [==============================] - 0s 39ms/step - loss: 16.5747 - mae: 17.0747\n",
            "Epoch 11/100\n",
            "5/5 [==============================] - 0s 38ms/step - loss: 16.3636 - mae: 16.8636\n",
            "Epoch 12/100\n",
            "5/5 [==============================] - 0s 42ms/step - loss: 16.1528 - mae: 16.6528\n",
            "Epoch 13/100\n",
            "5/5 [==============================] - 0s 39ms/step - loss: 15.9420 - mae: 16.4420\n",
            "Epoch 14/100\n",
            "5/5 [==============================] - 0s 36ms/step - loss: 15.7310 - mae: 16.2310\n",
            "Epoch 15/100\n",
            "5/5 [==============================] - 0s 39ms/step - loss: 15.5201 - mae: 16.0201\n",
            "Epoch 16/100\n",
            "5/5 [==============================] - 0s 37ms/step - loss: 15.3094 - mae: 15.8094\n",
            "Epoch 17/100\n",
            "5/5 [==============================] - 0s 39ms/step - loss: 15.0988 - mae: 15.5988\n",
            "Epoch 18/100\n",
            "5/5 [==============================] - 0s 40ms/step - loss: 14.8882 - mae: 15.3882\n",
            "Epoch 19/100\n",
            "5/5 [==============================] - 0s 39ms/step - loss: 14.6775 - mae: 15.1775\n",
            "Epoch 20/100\n",
            "5/5 [==============================] - 0s 39ms/step - loss: 14.4667 - mae: 14.9667\n",
            "Epoch 21/100\n",
            "5/5 [==============================] - 0s 40ms/step - loss: 14.2559 - mae: 14.7559\n",
            "Epoch 22/100\n",
            "5/5 [==============================] - 0s 39ms/step - loss: 14.0454 - mae: 14.5454\n",
            "Epoch 23/100\n",
            "5/5 [==============================] - 0s 42ms/step - loss: 13.8348 - mae: 14.3348\n",
            "Epoch 24/100\n",
            "5/5 [==============================] - 0s 39ms/step - loss: 13.6244 - mae: 14.1244\n",
            "Epoch 25/100\n",
            "5/5 [==============================] - 0s 38ms/step - loss: 13.4138 - mae: 13.9138\n",
            "Epoch 26/100\n",
            "5/5 [==============================] - 0s 37ms/step - loss: 13.2034 - mae: 13.7034\n",
            "Epoch 27/100\n",
            "5/5 [==============================] - 0s 44ms/step - loss: 12.9932 - mae: 13.4932\n",
            "Epoch 28/100\n",
            "5/5 [==============================] - 0s 40ms/step - loss: 12.7829 - mae: 13.2829\n",
            "Epoch 29/100\n",
            "5/5 [==============================] - 0s 39ms/step - loss: 12.5724 - mae: 13.0724\n",
            "Epoch 30/100\n",
            "5/5 [==============================] - 0s 46ms/step - loss: 12.3618 - mae: 12.8618\n",
            "Epoch 31/100\n",
            "5/5 [==============================] - 0s 42ms/step - loss: 12.1513 - mae: 12.6513\n",
            "Epoch 32/100\n",
            "5/5 [==============================] - 0s 40ms/step - loss: 11.9412 - mae: 12.4412\n",
            "Epoch 33/100\n",
            "5/5 [==============================] - 0s 38ms/step - loss: 11.7312 - mae: 12.2312\n",
            "Epoch 34/100\n",
            "5/5 [==============================] - 0s 39ms/step - loss: 11.5208 - mae: 12.0208\n",
            "Epoch 35/100\n",
            "5/5 [==============================] - 0s 40ms/step - loss: 11.3105 - mae: 11.8105\n",
            "Epoch 36/100\n",
            "5/5 [==============================] - 0s 56ms/step - loss: 11.1003 - mae: 11.6003\n",
            "Epoch 37/100\n",
            "5/5 [==============================] - 0s 69ms/step - loss: 10.8901 - mae: 11.3901\n",
            "Epoch 38/100\n",
            "5/5 [==============================] - 0s 66ms/step - loss: 10.6799 - mae: 11.1799\n",
            "Epoch 39/100\n",
            "5/5 [==============================] - 0s 73ms/step - loss: 10.4697 - mae: 10.9697\n",
            "Epoch 40/100\n",
            "5/5 [==============================] - 0s 69ms/step - loss: 10.2593 - mae: 10.7593\n",
            "Epoch 41/100\n",
            "5/5 [==============================] - 0s 68ms/step - loss: 10.0490 - mae: 10.5490\n",
            "Epoch 42/100\n",
            "5/5 [==============================] - 0s 39ms/step - loss: 9.8390 - mae: 10.3390\n",
            "Epoch 43/100\n",
            "5/5 [==============================] - 0s 40ms/step - loss: 9.6288 - mae: 10.1288\n",
            "Epoch 44/100\n",
            "5/5 [==============================] - 0s 37ms/step - loss: 9.4187 - mae: 9.9187\n",
            "Epoch 45/100\n",
            "5/5 [==============================] - 0s 39ms/step - loss: 9.2090 - mae: 9.7090\n",
            "Epoch 46/100\n",
            "5/5 [==============================] - 0s 40ms/step - loss: 8.9993 - mae: 9.4993\n",
            "Epoch 47/100\n",
            "5/5 [==============================] - 0s 40ms/step - loss: 8.7893 - mae: 9.2893\n",
            "Epoch 48/100\n",
            "5/5 [==============================] - 0s 39ms/step - loss: 8.5791 - mae: 9.0791\n",
            "Epoch 49/100\n",
            "5/5 [==============================] - 0s 40ms/step - loss: 8.3691 - mae: 8.8691\n",
            "Epoch 50/100\n",
            "5/5 [==============================] - 0s 38ms/step - loss: 8.1592 - mae: 8.6592\n",
            "Epoch 51/100\n",
            "5/5 [==============================] - 0s 39ms/step - loss: 7.9492 - mae: 8.4492\n",
            "Epoch 52/100\n",
            "5/5 [==============================] - 0s 39ms/step - loss: 7.7393 - mae: 8.2393\n",
            "Epoch 53/100\n",
            "5/5 [==============================] - 0s 41ms/step - loss: 7.5297 - mae: 8.0297\n",
            "Epoch 54/100\n",
            "5/5 [==============================] - 0s 37ms/step - loss: 7.3198 - mae: 7.8198\n",
            "Epoch 55/100\n",
            "5/5 [==============================] - 0s 37ms/step - loss: 7.1099 - mae: 7.6099\n",
            "Epoch 56/100\n",
            "5/5 [==============================] - 0s 38ms/step - loss: 6.9003 - mae: 7.4003\n",
            "Epoch 57/100\n",
            "5/5 [==============================] - 0s 37ms/step - loss: 6.6906 - mae: 7.1906\n",
            "Epoch 58/100\n",
            "5/5 [==============================] - 0s 43ms/step - loss: 6.4806 - mae: 6.9806\n",
            "Epoch 59/100\n",
            "5/5 [==============================] - 0s 37ms/step - loss: 6.2711 - mae: 6.7711\n",
            "Epoch 60/100\n",
            "5/5 [==============================] - 0s 42ms/step - loss: 6.0613 - mae: 6.5613\n",
            "Epoch 61/100\n",
            "5/5 [==============================] - 0s 38ms/step - loss: 5.8517 - mae: 6.3517\n",
            "Epoch 62/100\n",
            "5/5 [==============================] - 0s 39ms/step - loss: 5.6420 - mae: 6.1420\n",
            "Epoch 63/100\n",
            "5/5 [==============================] - 0s 39ms/step - loss: 5.4325 - mae: 5.9325\n",
            "Epoch 64/100\n",
            "5/5 [==============================] - 0s 42ms/step - loss: 5.2228 - mae: 5.7228\n",
            "Epoch 65/100\n",
            "5/5 [==============================] - 0s 41ms/step - loss: 5.0131 - mae: 5.5131\n",
            "Epoch 66/100\n",
            "5/5 [==============================] - 0s 41ms/step - loss: 4.8039 - mae: 5.3039\n",
            "Epoch 67/100\n",
            "5/5 [==============================] - 0s 38ms/step - loss: 4.5947 - mae: 5.0947\n",
            "Epoch 68/100\n",
            "5/5 [==============================] - 0s 40ms/step - loss: 4.3852 - mae: 4.8852\n",
            "Epoch 69/100\n",
            "5/5 [==============================] - 0s 40ms/step - loss: 4.1758 - mae: 4.6758\n",
            "Epoch 70/100\n",
            "5/5 [==============================] - 0s 38ms/step - loss: 3.9663 - mae: 4.4663\n",
            "Epoch 71/100\n",
            "5/5 [==============================] - 0s 42ms/step - loss: 3.7569 - mae: 4.2569\n",
            "Epoch 72/100\n",
            "5/5 [==============================] - 0s 38ms/step - loss: 3.5477 - mae: 4.0477\n",
            "Epoch 73/100\n",
            "5/5 [==============================] - 0s 39ms/step - loss: 3.3382 - mae: 3.8382\n",
            "Epoch 74/100\n",
            "5/5 [==============================] - 0s 39ms/step - loss: 3.1288 - mae: 3.6288\n",
            "Epoch 75/100\n",
            "5/5 [==============================] - 0s 41ms/step - loss: 2.9194 - mae: 3.4194\n",
            "Epoch 76/100\n",
            "5/5 [==============================] - 0s 38ms/step - loss: 2.7104 - mae: 3.2104\n",
            "Epoch 77/100\n",
            "5/5 [==============================] - 0s 41ms/step - loss: 2.5010 - mae: 3.0010\n",
            "Epoch 78/100\n",
            "5/5 [==============================] - 0s 41ms/step - loss: 2.2919 - mae: 2.7919\n",
            "Epoch 79/100\n",
            "5/5 [==============================] - 0s 70ms/step - loss: 2.0826 - mae: 2.5826\n",
            "Epoch 80/100\n",
            "5/5 [==============================] - 0s 68ms/step - loss: 1.8735 - mae: 2.3735\n",
            "Epoch 81/100\n",
            "5/5 [==============================] - 0s 65ms/step - loss: 1.6651 - mae: 2.1650\n",
            "Epoch 82/100\n",
            "5/5 [==============================] - 0s 64ms/step - loss: 1.4604 - mae: 1.9575\n",
            "Epoch 83/100\n",
            "5/5 [==============================] - 0s 56ms/step - loss: 1.2713 - mae: 1.7617\n",
            "Epoch 84/100\n",
            "5/5 [==============================] - 0s 39ms/step - loss: 1.0892 - mae: 1.5632\n",
            "Epoch 85/100\n",
            "5/5 [==============================] - 0s 40ms/step - loss: 0.9250 - mae: 1.3793\n",
            "Epoch 86/100\n",
            "5/5 [==============================] - 0s 37ms/step - loss: 0.7805 - mae: 1.2071\n",
            "Epoch 87/100\n",
            "5/5 [==============================] - 0s 40ms/step - loss: 0.6602 - mae: 1.0635\n",
            "Epoch 88/100\n",
            "5/5 [==============================] - 0s 40ms/step - loss: 0.5757 - mae: 0.9652\n",
            "Epoch 89/100\n",
            "5/5 [==============================] - 0s 39ms/step - loss: 0.4982 - mae: 0.8793\n",
            "Epoch 90/100\n",
            "5/5 [==============================] - 0s 40ms/step - loss: 0.4430 - mae: 0.8190\n",
            "Epoch 91/100\n",
            "5/5 [==============================] - 0s 41ms/step - loss: 0.4040 - mae: 0.7747\n",
            "Epoch 92/100\n",
            "5/5 [==============================] - 0s 43ms/step - loss: 0.3738 - mae: 0.7403\n",
            "Epoch 93/100\n",
            "5/5 [==============================] - 0s 41ms/step - loss: 0.3554 - mae: 0.7180\n",
            "Epoch 94/100\n",
            "5/5 [==============================] - 0s 39ms/step - loss: 0.3386 - mae: 0.7003\n",
            "Epoch 95/100\n",
            "5/5 [==============================] - 0s 38ms/step - loss: 0.3188 - mae: 0.6764\n",
            "Epoch 96/100\n",
            "5/5 [==============================] - 0s 40ms/step - loss: 0.3123 - mae: 0.6686\n",
            "Epoch 97/100\n",
            "5/5 [==============================] - 0s 40ms/step - loss: 0.3040 - mae: 0.6567\n",
            "Epoch 98/100\n",
            "5/5 [==============================] - 0s 37ms/step - loss: 0.2978 - mae: 0.6484\n",
            "Epoch 99/100\n",
            "5/5 [==============================] - 0s 42ms/step - loss: 0.2944 - mae: 0.6459\n",
            "Epoch 100/100\n",
            "5/5 [==============================] - 0s 39ms/step - loss: 0.2906 - mae: 0.6400\n"
          ]
        }
      ]
    },
    {
      "cell_type": "code",
      "source": [
        "def model_forecast(model, series, window_size, batch_size):\n",
        "    \"\"\"Uses an input model to generate predictions on data windows\n",
        "\n",
        "    Args:\n",
        "      model (TF Keras Model) - model that accepts data windows\n",
        "      series (array of float) - contains the values of the time series\n",
        "      window_size (int) - the number of time steps to include in the window\n",
        "      batch_size (int) - the batch size\n",
        "\n",
        "    Returns:\n",
        "      forecast (numpy array) - array containing predictions\n",
        "    \"\"\"\n",
        "\n",
        "    # Generate a TF Dataset from the series values\n",
        "    dataset = tf.data.Dataset.from_tensor_slices(series)\n",
        "\n",
        "    # Window the data but only take those with the specified size\n",
        "    dataset = dataset.window(window_size, shift=1, drop_remainder=True)\n",
        "\n",
        "    # Flatten the windows by putting its elements in a single batch\n",
        "    dataset = dataset.flat_map(lambda w: w.batch(window_size))\n",
        "    \n",
        "    # Create batches of windows\n",
        "    dataset = dataset.batch(batch_size).prefetch(1)\n",
        "    \n",
        "    # Get predictions on the entire dataset\n",
        "    forecast = model.predict(dataset)\n",
        "    \n",
        "    return forecast"
      ],
      "metadata": {
        "id": "-ELlKWGOOufn"
      },
      "execution_count": 20,
      "outputs": []
    },
    {
      "cell_type": "code",
      "source": [
        "def compute_metrics(true_series, forecast):\n",
        "    \n",
        "    mse = tf.keras.metrics.mean_squared_error(true_series, forecast).numpy()\n",
        "    mae = tf.keras.metrics.mean_absolute_error(true_series, forecast).numpy()\n",
        "\n",
        "    return mse, mae"
      ],
      "metadata": {
        "id": "P0PawUqAOXLu"
      },
      "execution_count": 21,
      "outputs": []
    },
    {
      "cell_type": "code",
      "source": [
        "cnn_forecast = model_forecast(model, G.SERIES, G.WINDOW_SIZE, G.BATCH_SIZE).squeeze()\n",
        "cnn_forecast = cnn_forecast[G.SPLIT_TIME - G.WINDOW_SIZE:-1]\n",
        "mse, mae = compute_metrics(series_valid, cnn_forecast)\n",
        "\n",
        "print(f\"mse: {mse:.2f}, mae: {mae:.2f} for forecast\")"
      ],
      "metadata": {
        "colab": {
          "base_uri": "https://localhost:8080/"
        },
        "id": "frlRqkXtOfYt",
        "outputId": "0c05d3bc-c174-40ba-cc1a-a7a73ba288e4"
      },
      "execution_count": 22,
      "outputs": [
        {
          "output_type": "stream",
          "name": "stdout",
          "text": [
            "9/9 [==============================] - 2s 12ms/step\n",
            "mse: 0.52, mae: 0.42 for forecast\n"
          ]
        }
      ]
    },
    {
      "cell_type": "code",
      "source": [
        "# Compute the forecast for all the series\n",
        "cnn_forecast = model_forecast(model, G.SERIES, G.WINDOW_SIZE, G.BATCH_SIZE).squeeze()\n",
        "tam = [None,None,None,None,None,None,None,None,None,None,None]\n",
        "\n",
        "\n",
        "# Slice the forecast to get only the predictions for the validation set\n",
        "# cnn_forecast = cnn_forecast[G.SPLIT_TIME - G.WINDOW_SIZE:-1]\n",
        "cnn_forecast = np.insert(cnn_forecast, 0, tam)\n",
        "\n",
        "# Plot the forecast\n",
        "plt.figure(figsize=(10, 5))\n",
        "plot_series(G.TIME, G.SERIES)\n",
        "plot_series(G.TIME, cnn_forecast)"
      ],
      "metadata": {
        "colab": {
          "base_uri": "https://localhost:8080/",
          "height": 482
        },
        "id": "kKeQPGFCPMLB",
        "outputId": "e7412cc0-e9c6-49fc-a519-efd5cb97a221"
      },
      "execution_count": 23,
      "outputs": [
        {
          "output_type": "stream",
          "name": "stdout",
          "text": [
            "9/9 [==============================] - 0s 13ms/step\n"
          ]
        },
        {
          "output_type": "display_data",
          "data": {
            "text/plain": [
              "<Figure size 1000x500 with 1 Axes>"
            ],
            "image/png": "[encoded data removed]"
          },
          "metadata": {}
        }
      ]
    },
    {
      "cell_type": "code",
      "source": [
        "plt.figure(figsize=(10, 5))\n",
        "plt.plot(range(100), history.history[\"loss\"])\n",
        "plt.plot(range(100), history.history[\"mae\"])\n",
        "plt.xlabel(\"Epochs\")\n",
        "plt.ylabel(\"Value\")\n",
        "\n",
        "plt.show()"
      ],
      "metadata": {
        "colab": {
          "base_uri": "https://localhost:8080/",
          "height": 465
        },
        "id": "to5Oy-NxR1-j",
        "outputId": "41cd1cef-8f13-4695-ab4d-f35a1b9acc72"
      },
      "execution_count": 24,
      "outputs": [
        {
          "output_type": "display_data",
          "data": {
            "text/plain": [
              "<Figure size 1000x500 with 1 Axes>"
            ],
            "image/png": "[encoded data removed]"
          },
          "metadata": {}
        }
      ]
    },
    {
      "cell_type": "code",
      "source": [
        "# prepare data for forecasting\n",
        "last_window = G.SERIES[-G.WINDOW_SIZE:]\n",
        "last_window = np.reshape(last_window, (1, G.WINDOW_SIZE, 1))\n",
        "\n",
        "# make a forecast for 5 steps ahead\n",
        "forecast_norm = []\n",
        "for _ in range(24):\n",
        "    pred = model.predict(last_window)[0, 0]\n",
        "    forecast_norm.append(pred)\n",
        "    last_window = np.roll(last_window, -1, axis=1)\n",
        "    last_window[0, -1, 0] = pred\n",
        "\n",
        "# invert the normalization\n",
        "forecast = forecast_norm\n",
        "print(\"Forecast:\", forecast)"
      ],
      "metadata": {
        "colab": {
          "base_uri": "https://localhost:8080/"
        },
        "id": "EBmQ4eAT8caf",
        "outputId": "d5aa71b5-788d-4583-d9aa-4aab07b198c8"
      },
      "execution_count": 25,
      "outputs": [
        {
          "output_type": "stream",
          "name": "stdout",
          "text": [
            "1/1 [==============================] - 2s 2s/step\n",
            "1/1 [==============================] - 0s 25ms/step\n",
            "1/1 [==============================] - 0s 35ms/step\n",
            "1/1 [==============================] - 0s 37ms/step\n",
            "1/1 [==============================] - 0s 38ms/step\n",
            "1/1 [==============================] - 0s 32ms/step\n",
            "1/1 [==============================] - 0s 34ms/step\n",
            "1/1 [==============================] - 0s 32ms/step\n",
            "1/1 [==============================] - 0s 32ms/step\n",
            "1/1 [==============================] - 0s 31ms/step\n",
            "1/1 [==============================] - 0s 31ms/step\n",
            "1/1 [==============================] - 0s 34ms/step\n",
            "1/1 [==============================] - 0s 32ms/step\n",
            "1/1 [==============================] - 0s 29ms/step\n",
            "1/1 [==============================] - 0s 30ms/step\n",
            "1/1 [==============================] - 0s 32ms/step\n",
            "1/1 [==============================] - 0s 33ms/step\n",
            "1/1 [==============================] - 0s 32ms/step\n",
            "1/1 [==============================] - 0s 31ms/step\n",
            "1/1 [==============================] - 0s 32ms/step\n",
            "1/1 [==============================] - 0s 27ms/step\n",
            "1/1 [==============================] - 0s 31ms/step\n",
            "1/1 [==============================] - 0s 28ms/step\n",
            "1/1 [==============================] - 0s 28ms/step\n",
            "Forecast: [20.125101, 20.129023, 20.129593, 20.128302, 20.12611, 20.124289, 20.122849, 20.121735, 20.12091, 20.120283, 20.12, 20.119072, 20.118595, 20.118994, 20.119509, 20.119982, 20.120333, 20.120535, 20.120625, 20.12063, 20.120613, 20.120556, 20.120508, 20.120474]\n"
          ]
        }
      ]
    },
    {
      "cell_type": "code",
      "source": [
        "model.save(\"/content/drive/MyDrive/ML/Model/Price/Price Prediction - Tongkol.h5\")"
      ],
      "metadata": {
        "id": "2_2UQpXT5Y3i"
      },
      "execution_count": 28,
      "outputs": []
    },
    {
      "cell_type": "code",
      "source": [],
      "metadata": {
        "id": "WfhRDuwi_4cb"
      },
      "execution_count": null,
      "outputs": []
    }
  ]
}