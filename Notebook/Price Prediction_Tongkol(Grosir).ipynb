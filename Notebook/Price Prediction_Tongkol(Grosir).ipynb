{
  "nbformat": 4,
  "nbformat_minor": 0,
  "metadata": {
    "colab": {
      "provenance": []
    },
    "kernelspec": {
      "name": "python3",
      "display_name": "Python 3"
    },
    "language_info": {
      "name": "python"
    }
  },
  "cells": [
    {
      "cell_type": "code",
      "execution_count": null,
      "metadata": {
        "colab": {
          "base_uri": "https://localhost:8080/"
        },
        "id": "se_nIqvRFuyO",
        "outputId": "ee545c27-88f1-48e4-9f9b-61c5c9b3e179"
      },
      "outputs": [
        {
          "output_type": "stream",
          "name": "stdout",
          "text": [
            "Drive already mounted at /content/drive; to attempt to forcibly remount, call drive.mount(\"/content/drive\", force_remount=True).\n"
          ]
        }
      ],
      "source": [
        "import csv\n",
        "import numpy as np\n",
        "import tensorflow as tf\n",
        "import matplotlib.pyplot as plt\n",
        "import pandas as pd\n",
        "\n",
        "from dataclasses import dataclass\n",
        "from google.colab import drive\n",
        "drive.mount('/content/drive')"
      ]
    },
    {
      "cell_type": "code",
      "source": [
        "df1 = pd.read_csv('/content/drive/MyDrive/ML/Data Price Prediction - Yang perlu aja - Tongkol-Grosir.csv', sep =',')"
      ],
      "metadata": {
        "id": "12UiO3NUDjhN"
      },
      "execution_count": null,
      "outputs": []
    },
    {
      "cell_type": "code",
      "source": [
        "Q1 = df1['Harga'].quantile(0.25)\n",
        "Q3 = df1['Harga'].quantile(0.75)\n",
        "IQR = Q3 - Q1\n",
        "# df = df1[(df1['Harga'] >= Q1 - 1.5 * IQR) & (df1['Harga'] <= Q3 + 1.5 * IQR)]\n",
        "threshold = 1.5*IQR\n",
        "median = np.median(df1['Harga'])\n",
        "outliers = (df1['Harga'] < Q1 - threshold) | (df1['Harga'] > Q3 + threshold)\n",
        "df1[outliers] = median"
      ],
      "metadata": {
        "id": "isMDMYveDvcD"
      },
      "execution_count": null,
      "outputs": []
    },
    {
      "cell_type": "code",
      "source": [
        "def get_data(data):\n",
        "    \n",
        "    times = []\n",
        "    value = []\n",
        "\n",
        "    i = 0\n",
        "    for row in data:\n",
        "      times.append(i)\n",
        "      value.append(float(row)/1000)\n",
        "      i+=1\n",
        "\n",
        "    \n",
        "    return times, value"
      ],
      "metadata": {
        "id": "HP1EhGPwFzKR"
      },
      "execution_count": null,
      "outputs": []
    },
    {
      "cell_type": "code",
      "source": [
        "def plot_series(time, series, format=\"-\", start=0, end=None):\n",
        "    plt.plot(time[start:end], series[start:end], format)\n",
        "    plt.xlabel(\"Time\")\n",
        "    plt.ylabel(\"Value\")\n",
        "    plt.grid(True)"
      ],
      "metadata": {
        "id": "6S8Mf3yBHNTg"
      },
      "execution_count": null,
      "outputs": []
    },
    {
      "cell_type": "code",
      "source": [
        "# Test your function and save all \"global\" variables within the G class (G stands for global)\n",
        "@dataclass\n",
        "class G:\n",
        "    FILE_CSV = '/content/drive/MyDrive/ML/Data Price Prediction - Yang perlu aja - Tongkol-Grosir.csv'\n",
        "    times, price = get_data(df1['Harga'])\n",
        "    TIME = np.array(times)\n",
        "    SERIES = np.array(price)\n",
        "    SPLIT_TIME = 62\n",
        "    WINDOW_SIZE = 12\n",
        "    BATCH_SIZE = 12\n",
        "    SHUFFLE_BUFFER_SIZE = 150\n"
      ],
      "metadata": {
        "id": "RZ2bR_YiGkSh"
      },
      "execution_count": null,
      "outputs": []
    },
    {
      "cell_type": "code",
      "source": [
        "plt.figure(figsize=(3, 2))\n",
        "plot_series(G.TIME, G.SERIES)\n",
        "plt.show()"
      ],
      "metadata": {
        "colab": {
          "base_uri": "https://localhost:8080/",
          "height": 234
        },
        "id": "R2HONSfzJRsk",
        "outputId": "cee6d6dc-ce66-4cc1-cce9-9edba14988ab"
      },
      "execution_count": null,
      "outputs": [
        {
          "output_type": "display_data",
          "data": {
            "text/plain": [
              "<Figure size 300x200 with 1 Axes>"
            ],
            "image/png": "[encoded data removed]"
          },
          "metadata": {}
        }
      ]
    },
    {
      "cell_type": "code",
      "source": [
        "def train_val_split(time, series, time_step=G.SPLIT_TIME):\n",
        "\n",
        "    time_train = time[:time_step]\n",
        "    series_train = series[:time_step]\n",
        "    time_valid = time[time_step:]\n",
        "    series_valid = series[time_step:]\n",
        "\n",
        "    return time_train, series_train, time_valid, series_valid"
      ],
      "metadata": {
        "id": "AKhlCThVHhCZ"
      },
      "execution_count": null,
      "outputs": []
    },
    {
      "cell_type": "code",
      "source": [
        "# Split the dataset\n",
        "time_train, series_train, time_valid, series_valid = train_val_split(G.TIME, G.SERIES)"
      ],
      "metadata": {
        "id": "SF71F6BMJpF0"
      },
      "execution_count": null,
      "outputs": []
    },
    {
      "cell_type": "code",
      "source": [
        "def windowed_dataset(series, window_size=G.WINDOW_SIZE, batch_size=G.BATCH_SIZE, shuffle_buffer=G.SHUFFLE_BUFFER_SIZE):\n",
        "    ds = tf.data.Dataset.from_tensor_slices(series)\n",
        "    ds = ds.window(window_size + 1, shift=1, drop_remainder=True)\n",
        "    ds = ds.flat_map(lambda w: w.batch(window_size + 1))\n",
        "    ds = ds.shuffle(shuffle_buffer)\n",
        "    ds = ds.map(lambda w: (w[:-1], w[-1]))\n",
        "    ds = ds.batch(batch_size).prefetch(1)\n",
        "    return ds\n"
      ],
      "metadata": {
        "id": "f9kaadcXJe5M"
      },
      "execution_count": null,
      "outputs": []
    },
    {
      "cell_type": "code",
      "source": [
        "# Apply the transformation to the training set\n",
        "train_set = windowed_dataset(series_train, window_size=G.WINDOW_SIZE, batch_size=G.BATCH_SIZE, shuffle_buffer=G.SHUFFLE_BUFFER_SIZE)"
      ],
      "metadata": {
        "id": "Q84t5hDNJnDv"
      },
      "execution_count": null,
      "outputs": []
    },
    {
      "cell_type": "markdown",
      "source": [
        "## Build the Model\n",
        "\n",
        "Here is the model architecture you will be using. It is very similar to the last RNN you built but with the [Conv1D](https://www.tensorflow.org/api_docs/python/tf/keras/layers/Conv1D) layer at the input. One important [argument](https://www.tensorflow.org/api_docs/python/tf/keras/layers/Conv1D#args) here is the `padding`. For time series data, it is good practice to not let computations for a particular time step to be affected by values into the future. Here is one way of looking at it:\n",
        "\n",
        "* Let's say you have a small time series window with these values: `[1, 2, 3, 4, 5]`. This means the value `1` is at `t=0`, `2` is at `t=1`, etc.\n",
        "* If you have a 1D kernel of size `3`, then the first convolution will be for the values at `[1, 2, 3]` which are values for `t=0` to `t=2`.\n",
        "* When you pass this to the first timestep of the `LSTM` after the convolution, it means that the value at `t=0` of the LSTM depends on `t=1` and `t=2` which are values into the future.\n",
        "* For time series data, you want computations to only rely on current and previous time steps.\n",
        "* One way to do that is to pad the array depending on the kernel size and stride. For a kernel size of 3 and stride of 1, the window can be padded as such: `[0, 0, 1, 2, 3, 4, 5]`. `1` is still at `t=0` and two zeroes are prepended to simulate values in the past.\n",
        "* This way, the first stride will be at `[0, 0, 1]` and this does not contain any future values when it is passed on to subsequent layers.\n",
        "\n",
        "The `Conv1D` layer does this kind of padding by setting `padding=causal` and you'll see that below."
      ],
      "metadata": {
        "id": "M4vF3mFnKD-R"
      }
    },
    {
      "cell_type": "code",
      "source": [
        "def create_model():\n",
        "    \n",
        "    model = tf.keras.models.Sequential([ \n",
        "        tf.keras.layers.Conv1D(filters=32, kernel_size=3,\n",
        "                      strides=1, padding=\"causal\",\n",
        "                      activation=\"relu\",\n",
        "                      input_shape=[G.WINDOW_SIZE, 1]),\n",
        "        tf.keras.layers.Bidirectional(tf.keras.layers.LSTM(128, return_sequences=True)),\n",
        "        tf.keras.layers.Bidirectional(tf.keras.layers.LSTM(64, return_sequences=True)),\n",
        "        tf.keras.layers.Bidirectional(tf.keras.layers.LSTM(32)),\n",
        "        tf.keras.layers.Dense(1),\n",
        "        tf.keras.layers.Lambda(lambda x: x * 100)\n",
        "    ]) \n",
        "\n",
        "    return model\n",
        "model = create_model()\n",
        "model.summary()"
      ],
      "metadata": {
        "colab": {
          "base_uri": "https://localhost:8080/"
        },
        "id": "wkMqwGDyKE1u",
        "outputId": "e0085bb1-392f-4496-da8e-64931c2f2777"
      },
      "execution_count": null,
      "outputs": [
        {
          "output_type": "stream",
          "name": "stdout",
          "text": [
            "Model: \"sequential\"\n",
            "_________________________________________________________________\n",
            " Layer (type)                Output Shape              Param #   \n",
            "=================================================================\n",
            " conv1d (Conv1D)             (None, 12, 32)            128       \n",
            "                                                                 \n",
            " bidirectional (Bidirectiona  (None, 12, 256)          164864    \n",
            " l)                                                              \n",
            "                                                                 \n",
            " bidirectional_1 (Bidirectio  (None, 12, 128)          164352    \n",
            " nal)                                                            \n",
            "                                                                 \n",
            " bidirectional_2 (Bidirectio  (None, 64)               41216     \n",
            " nal)                                                            \n",
            "                                                                 \n",
            " dense (Dense)               (None, 1)                 65        \n",
            "                                                                 \n",
            " lambda (Lambda)             (None, 1)                 0         \n",
            "                                                                 \n",
            "=================================================================\n",
            "Total params: 370,625\n",
            "Trainable params: 370,625\n",
            "Non-trainable params: 0\n",
            "_________________________________________________________________\n"
          ]
        }
      ]
    },
    {
      "cell_type": "code",
      "source": [
        "# Test your uncompiled model\n",
        "uncompiled_model = create_model()\n",
        "\n",
        "try:\n",
        "    uncompiled_model.predict(train_set)\n",
        "except:\n",
        "    print(\"Your current architecture is incompatible with the windowed dataset, try adjusting it.\")\n",
        "else:\n",
        "    print(\"Your current architecture is compatible with the windowed dataset! :)\")"
      ],
      "metadata": {
        "colab": {
          "base_uri": "https://localhost:8080/"
        },
        "id": "k0RbzOK2L1xZ",
        "outputId": "49a91067-7e14-458b-8f31-2b77cc2d9d7c"
      },
      "execution_count": null,
      "outputs": [
        {
          "output_type": "stream",
          "name": "stdout",
          "text": [
            "5/5 [==============================] - 9s 227ms/step\n",
            "Your current architecture is compatible with the windowed dataset! :)\n"
          ]
        }
      ]
    },
    {
      "cell_type": "code",
      "source": [
        "# Get initial weights\n",
        "init_weights = model.get_weights()\n",
        "\n",
        "# Set the learning rate scheduler\n",
        "lr_schedule = tf.keras.callbacks.LearningRateScheduler(\n",
        "    lambda epoch: 1e-8 * 10**(epoch / 20))\n",
        "\n",
        "# Initialize the optimizer\n",
        "optimizer = tf.keras.optimizers.SGD(momentum=0.9)\n",
        "\n",
        "# Set the training parameters\n",
        "model.compile(loss=tf.keras.losses.Huber(), optimizer=optimizer)\n",
        "\n",
        "# Train the model\n",
        "history = model.fit(train_set, epochs=100, callbacks=[lr_schedule])"
      ],
      "metadata": {
        "colab": {
          "base_uri": "https://localhost:8080/"
        },
        "id": "lg_SnB7TM3la",
        "outputId": "ba3c2389-1428-433c-b946-c2a60a1e7380"
      },
      "execution_count": null,
      "outputs": [
        {
          "output_type": "stream",
          "name": "stdout",
          "text": [
            "Epoch 1/100\n",
            "5/5 [==============================] - 14s 60ms/step - loss: 13.0160 - lr: 1.0000e-08\n",
            "Epoch 2/100\n",
            "5/5 [==============================] - 0s 54ms/step - loss: 12.7829 - lr: 1.1220e-08\n",
            "Epoch 3/100\n",
            "5/5 [==============================] - 0s 57ms/step - loss: 12.3644 - lr: 1.2589e-08\n",
            "Epoch 4/100\n",
            "5/5 [==============================] - 0s 56ms/step - loss: 11.8032 - lr: 1.4125e-08\n",
            "Epoch 5/100\n",
            "5/5 [==============================] - 0s 55ms/step - loss: 11.1222 - lr: 1.5849e-08\n",
            "Epoch 6/100\n",
            "5/5 [==============================] - 0s 53ms/step - loss: 10.3285 - lr: 1.7783e-08\n",
            "Epoch 7/100\n",
            "5/5 [==============================] - 0s 57ms/step - loss: 9.4244 - lr: 1.9953e-08\n",
            "Epoch 8/100\n",
            "5/5 [==============================] - 0s 58ms/step - loss: 8.4061 - lr: 2.2387e-08\n",
            "Epoch 9/100\n",
            "5/5 [==============================] - 0s 61ms/step - loss: 7.2663 - lr: 2.5119e-08\n",
            "Epoch 10/100\n",
            "5/5 [==============================] - 0s 56ms/step - loss: 5.9956 - lr: 2.8184e-08\n",
            "Epoch 11/100\n",
            "5/5 [==============================] - 0s 57ms/step - loss: 4.5845 - lr: 3.1623e-08\n",
            "Epoch 12/100\n",
            "5/5 [==============================] - 0s 57ms/step - loss: 3.0175 - lr: 3.5481e-08\n",
            "Epoch 13/100\n",
            "5/5 [==============================] - 0s 54ms/step - loss: 1.3108 - lr: 3.9811e-08\n",
            "Epoch 14/100\n",
            "5/5 [==============================] - 0s 53ms/step - loss: 0.3112 - lr: 4.4668e-08\n",
            "Epoch 15/100\n",
            "5/5 [==============================] - 0s 57ms/step - loss: 0.6529 - lr: 5.0119e-08\n",
            "Epoch 16/100\n",
            "5/5 [==============================] - 0s 55ms/step - loss: 0.5712 - lr: 5.6234e-08\n",
            "Epoch 17/100\n",
            "5/5 [==============================] - 0s 65ms/step - loss: 0.2596 - lr: 6.3096e-08\n",
            "Epoch 18/100\n",
            "5/5 [==============================] - 0s 59ms/step - loss: 0.3056 - lr: 7.0795e-08\n",
            "Epoch 19/100\n",
            "5/5 [==============================] - 0s 59ms/step - loss: 0.2820 - lr: 7.9433e-08\n",
            "Epoch 20/100\n",
            "5/5 [==============================] - 0s 55ms/step - loss: 0.2505 - lr: 8.9125e-08\n",
            "Epoch 21/100\n",
            "5/5 [==============================] - 0s 51ms/step - loss: 0.2676 - lr: 1.0000e-07\n",
            "Epoch 22/100\n",
            "5/5 [==============================] - 0s 55ms/step - loss: 0.2528 - lr: 1.1220e-07\n",
            "Epoch 23/100\n",
            "5/5 [==============================] - 0s 54ms/step - loss: 0.2610 - lr: 1.2589e-07\n",
            "Epoch 24/100\n",
            "5/5 [==============================] - 1s 105ms/step - loss: 0.2596 - lr: 1.4125e-07\n",
            "Epoch 25/100\n",
            "5/5 [==============================] - 1s 98ms/step - loss: 0.2452 - lr: 1.5849e-07\n",
            "Epoch 26/100\n",
            "5/5 [==============================] - 1s 99ms/step - loss: 0.2486 - lr: 1.7783e-07\n",
            "Epoch 27/100\n",
            "5/5 [==============================] - 1s 102ms/step - loss: 0.2513 - lr: 1.9953e-07\n",
            "Epoch 28/100\n",
            "5/5 [==============================] - 1s 109ms/step - loss: 0.2843 - lr: 2.2387e-07\n",
            "Epoch 29/100\n",
            "5/5 [==============================] - 1s 103ms/step - loss: 0.2616 - lr: 2.5119e-07\n",
            "Epoch 30/100\n",
            "5/5 [==============================] - 1s 109ms/step - loss: 0.2492 - lr: 2.8184e-07\n",
            "Epoch 31/100\n",
            "5/5 [==============================] - 0s 60ms/step - loss: 0.2576 - lr: 3.1623e-07\n",
            "Epoch 32/100\n",
            "5/5 [==============================] - 0s 60ms/step - loss: 0.2602 - lr: 3.5481e-07\n",
            "Epoch 33/100\n",
            "5/5 [==============================] - 0s 53ms/step - loss: 0.2678 - lr: 3.9811e-07\n",
            "Epoch 34/100\n",
            "5/5 [==============================] - 0s 66ms/step - loss: 0.3055 - lr: 4.4668e-07\n",
            "Epoch 35/100\n",
            "5/5 [==============================] - 0s 52ms/step - loss: 0.2605 - lr: 5.0119e-07\n",
            "Epoch 36/100\n",
            "5/5 [==============================] - 0s 60ms/step - loss: 0.4442 - lr: 5.6234e-07\n",
            "Epoch 37/100\n",
            "5/5 [==============================] - 0s 54ms/step - loss: 0.3221 - lr: 6.3096e-07\n",
            "Epoch 38/100\n",
            "5/5 [==============================] - 0s 57ms/step - loss: 0.2658 - lr: 7.0795e-07\n",
            "Epoch 39/100\n",
            "5/5 [==============================] - 0s 52ms/step - loss: 0.3159 - lr: 7.9433e-07\n",
            "Epoch 40/100\n",
            "5/5 [==============================] - 0s 57ms/step - loss: 0.2394 - lr: 8.9125e-07\n",
            "Epoch 41/100\n",
            "5/5 [==============================] - 0s 51ms/step - loss: 0.4003 - lr: 1.0000e-06\n",
            "Epoch 42/100\n",
            "5/5 [==============================] - 0s 53ms/step - loss: 0.2940 - lr: 1.1220e-06\n",
            "Epoch 43/100\n",
            "5/5 [==============================] - 0s 59ms/step - loss: 0.2788 - lr: 1.2589e-06\n",
            "Epoch 44/100\n",
            "5/5 [==============================] - 0s 52ms/step - loss: 0.2893 - lr: 1.4125e-06\n",
            "Epoch 45/100\n",
            "5/5 [==============================] - 0s 55ms/step - loss: 0.5207 - lr: 1.5849e-06\n",
            "Epoch 46/100\n",
            "5/5 [==============================] - 0s 56ms/step - loss: 0.2818 - lr: 1.7783e-06\n",
            "Epoch 47/100\n",
            "5/5 [==============================] - 0s 52ms/step - loss: 0.5195 - lr: 1.9953e-06\n",
            "Epoch 48/100\n",
            "5/5 [==============================] - 0s 54ms/step - loss: 0.6917 - lr: 2.2387e-06\n",
            "Epoch 49/100\n",
            "5/5 [==============================] - 0s 60ms/step - loss: 0.7415 - lr: 2.5119e-06\n",
            "Epoch 50/100\n",
            "5/5 [==============================] - 0s 60ms/step - loss: 0.7547 - lr: 2.8184e-06\n",
            "Epoch 51/100\n",
            "5/5 [==============================] - 0s 55ms/step - loss: 0.6522 - lr: 3.1623e-06\n",
            "Epoch 52/100\n",
            "5/5 [==============================] - 0s 52ms/step - loss: 0.6703 - lr: 3.5481e-06\n",
            "Epoch 53/100\n",
            "5/5 [==============================] - 0s 54ms/step - loss: 0.3688 - lr: 3.9811e-06\n",
            "Epoch 54/100\n",
            "5/5 [==============================] - 0s 54ms/step - loss: 0.7821 - lr: 4.4668e-06\n",
            "Epoch 55/100\n",
            "5/5 [==============================] - 0s 56ms/step - loss: 2.8895 - lr: 5.0119e-06\n",
            "Epoch 56/100\n",
            "5/5 [==============================] - 0s 56ms/step - loss: 4.8031 - lr: 5.6234e-06\n",
            "Epoch 57/100\n",
            "5/5 [==============================] - 0s 52ms/step - loss: 2.9248 - lr: 6.3096e-06\n",
            "Epoch 58/100\n",
            "5/5 [==============================] - 0s 59ms/step - loss: 4.7355 - lr: 7.0795e-06\n",
            "Epoch 59/100\n",
            "5/5 [==============================] - 1s 98ms/step - loss: 4.2029 - lr: 7.9433e-06\n",
            "Epoch 60/100\n",
            "5/5 [==============================] - 1s 107ms/step - loss: 2.3977 - lr: 8.9125e-06\n",
            "Epoch 61/100\n",
            "5/5 [==============================] - 1s 104ms/step - loss: 0.7613 - lr: 1.0000e-05\n",
            "Epoch 62/100\n",
            "5/5 [==============================] - 1s 100ms/step - loss: 1.0397 - lr: 1.1220e-05\n",
            "Epoch 63/100\n",
            "5/5 [==============================] - 1s 108ms/step - loss: 1.1076 - lr: 1.2589e-05\n",
            "Epoch 64/100\n",
            "5/5 [==============================] - 1s 99ms/step - loss: 1.1025 - lr: 1.4125e-05\n",
            "Epoch 65/100\n",
            "5/5 [==============================] - 1s 104ms/step - loss: 1.5801 - lr: 1.5849e-05\n",
            "Epoch 66/100\n",
            "5/5 [==============================] - 1s 107ms/step - loss: 1.1707 - lr: 1.7783e-05\n",
            "Epoch 67/100\n",
            "5/5 [==============================] - 0s 63ms/step - loss: 1.4739 - lr: 1.9953e-05\n",
            "Epoch 68/100\n",
            "5/5 [==============================] - 0s 52ms/step - loss: 2.7200 - lr: 2.2387e-05\n",
            "Epoch 69/100\n",
            "5/5 [==============================] - 0s 57ms/step - loss: 4.7215 - lr: 2.5119e-05\n",
            "Epoch 70/100\n",
            "5/5 [==============================] - 0s 51ms/step - loss: 5.0100 - lr: 2.8184e-05\n",
            "Epoch 71/100\n",
            "5/5 [==============================] - 0s 60ms/step - loss: 5.6480 - lr: 3.1623e-05\n",
            "Epoch 72/100\n",
            "5/5 [==============================] - 0s 59ms/step - loss: 5.2697 - lr: 3.5481e-05\n",
            "Epoch 73/100\n",
            "5/5 [==============================] - 0s 59ms/step - loss: 1.7698 - lr: 3.9811e-05\n",
            "Epoch 74/100\n",
            "5/5 [==============================] - 0s 60ms/step - loss: 7.1579 - lr: 4.4668e-05\n",
            "Epoch 75/100\n",
            "5/5 [==============================] - 0s 56ms/step - loss: 7.6846 - lr: 5.0119e-05\n",
            "Epoch 76/100\n",
            "5/5 [==============================] - 0s 53ms/step - loss: 13.5697 - lr: 5.6234e-05\n",
            "Epoch 77/100\n",
            "5/5 [==============================] - 0s 56ms/step - loss: 9.3407 - lr: 6.3096e-05\n",
            "Epoch 78/100\n",
            "5/5 [==============================] - 0s 56ms/step - loss: 9.9449 - lr: 7.0795e-05\n",
            "Epoch 79/100\n",
            "5/5 [==============================] - 0s 58ms/step - loss: 11.8083 - lr: 7.9433e-05\n",
            "Epoch 80/100\n",
            "5/5 [==============================] - 0s 69ms/step - loss: 8.5632 - lr: 8.9125e-05\n",
            "Epoch 81/100\n",
            "5/5 [==============================] - 0s 59ms/step - loss: 10.9865 - lr: 1.0000e-04\n",
            "Epoch 82/100\n",
            "5/5 [==============================] - 0s 61ms/step - loss: 9.8619 - lr: 1.1220e-04\n",
            "Epoch 83/100\n",
            "5/5 [==============================] - 0s 54ms/step - loss: 15.5172 - lr: 1.2589e-04\n",
            "Epoch 84/100\n",
            "5/5 [==============================] - 0s 54ms/step - loss: 20.4984 - lr: 1.4125e-04\n",
            "Epoch 85/100\n",
            "5/5 [==============================] - 0s 69ms/step - loss: 6.8651 - lr: 1.5849e-04\n",
            "Epoch 86/100\n",
            "5/5 [==============================] - 0s 56ms/step - loss: 10.2311 - lr: 1.7783e-04\n",
            "Epoch 87/100\n",
            "5/5 [==============================] - 0s 56ms/step - loss: 10.9411 - lr: 1.9953e-04\n",
            "Epoch 88/100\n",
            "5/5 [==============================] - 0s 60ms/step - loss: 5.1666 - lr: 2.2387e-04\n",
            "Epoch 89/100\n",
            "5/5 [==============================] - 0s 87ms/step - loss: 4.9130 - lr: 2.5119e-04\n",
            "Epoch 90/100\n",
            "5/5 [==============================] - 1s 97ms/step - loss: 3.7497 - lr: 2.8184e-04\n",
            "Epoch 91/100\n",
            "5/5 [==============================] - 1s 101ms/step - loss: 11.8213 - lr: 3.1623e-04\n",
            "Epoch 92/100\n",
            "5/5 [==============================] - 1s 100ms/step - loss: 16.2302 - lr: 3.5481e-04\n",
            "Epoch 93/100\n",
            "5/5 [==============================] - 1s 106ms/step - loss: 8.9415 - lr: 3.9811e-04\n",
            "Epoch 94/100\n",
            "5/5 [==============================] - 1s 105ms/step - loss: 7.0487 - lr: 4.4668e-04\n",
            "Epoch 95/100\n",
            "5/5 [==============================] - 1s 104ms/step - loss: 3.2346 - lr: 5.0119e-04\n",
            "Epoch 96/100\n",
            "5/5 [==============================] - 0s 93ms/step - loss: 6.0859 - lr: 5.6234e-04\n",
            "Epoch 97/100\n",
            "5/5 [==============================] - 0s 60ms/step - loss: 7.1054 - lr: 6.3096e-04\n",
            "Epoch 98/100\n",
            "5/5 [==============================] - 0s 56ms/step - loss: 10.3967 - lr: 7.0795e-04\n",
            "Epoch 99/100\n",
            "5/5 [==============================] - 0s 60ms/step - loss: 8.7320 - lr: 7.9433e-04\n",
            "Epoch 100/100\n",
            "5/5 [==============================] - 0s 55ms/step - loss: 19.7848 - lr: 8.9125e-04\n"
          ]
        }
      ]
    },
    {
      "cell_type": "code",
      "source": [
        "# Define the learning rate array\n",
        "lrs = 1e-8 * (10 ** (np.arange(100) / 20))\n",
        "\n",
        "# Set the figure size\n",
        "plt.figure(figsize=(10, 6))\n",
        "\n",
        "# Set the grid\n",
        "plt.grid(True)\n",
        "\n",
        "# Plot the loss in log scale\n",
        "plt.semilogx(lrs, history.history[\"loss\"])\n",
        "\n",
        "# Increase the tickmarks size\n",
        "plt.tick_params('both', length=10, width=1, which='both')\n",
        "\n",
        "# Set the plot boundaries\n",
        "plt.axis([1e-8, 1e-3, 0, 50])"
      ],
      "metadata": {
        "colab": {
          "base_uri": "https://localhost:8080/",
          "height": 558
        },
        "id": "_U5sUnBTNdfC",
        "outputId": "dd916e04-a3a7-4e5e-bde5-fdda8bc546ec"
      },
      "execution_count": null,
      "outputs": [
        {
          "output_type": "execute_result",
          "data": {
            "text/plain": [
              "(1e-08, 0.001, 0.0, 50.0)"
            ]
          },
          "metadata": {},
          "execution_count": 15
        },
        {
          "output_type": "display_data",
          "data": {
            "text/plain": [
              "<Figure size 1000x600 with 1 Axes>"
            ],
            "image/png": "[encoded data removed]"
          },
          "metadata": {}
        }
      ]
    },
    {
      "cell_type": "code",
      "source": [
        "# Reset states generated by Keras\n",
        "tf.keras.backend.clear_session()\n",
        "\n",
        "# Reset the weights\n",
        "model.set_weights(init_weights)"
      ],
      "metadata": {
        "id": "MclF3BmrNnAi"
      },
      "execution_count": null,
      "outputs": []
    },
    {
      "cell_type": "code",
      "source": [
        "# Set the training parameters\n",
        "model.compile(loss=tf.keras.losses.Huber(),\n",
        "              optimizer = tf.keras.optimizers.SGD(learning_rate=1e-07),\n",
        "              metrics=[\"mae\"])"
      ],
      "metadata": {
        "id": "DZIbxKGgNoMh"
      },
      "execution_count": null,
      "outputs": []
    },
    {
      "cell_type": "code",
      "source": [
        "history = model.fit(train_set,epochs=100)"
      ],
      "metadata": {
        "colab": {
          "base_uri": "https://localhost:8080/"
        },
        "id": "ljSTZCVLN2F5",
        "outputId": "85de8a86-b40b-41a1-d909-62b0b8f8ea37"
      },
      "execution_count": null,
      "outputs": [
        {
          "output_type": "stream",
          "name": "stdout",
          "text": [
            "Epoch 1/100\n",
            "5/5 [==============================] - 13s 60ms/step - loss: 12.8519 - mae: 13.3519\n",
            "Epoch 2/100\n",
            "5/5 [==============================] - 0s 53ms/step - loss: 12.2392 - mae: 12.7392\n",
            "Epoch 3/100\n",
            "5/5 [==============================] - 0s 54ms/step - loss: 11.6296 - mae: 12.1296\n",
            "Epoch 4/100\n",
            "5/5 [==============================] - 0s 57ms/step - loss: 11.0231 - mae: 11.5231\n",
            "Epoch 5/100\n",
            "5/5 [==============================] - 0s 53ms/step - loss: 10.4189 - mae: 10.9189\n",
            "Epoch 6/100\n",
            "5/5 [==============================] - 0s 53ms/step - loss: 9.8152 - mae: 10.3152\n",
            "Epoch 7/100\n",
            "5/5 [==============================] - 0s 59ms/step - loss: 9.2157 - mae: 9.7157\n",
            "Epoch 8/100\n",
            "5/5 [==============================] - 0s 57ms/step - loss: 8.6186 - mae: 9.1186\n",
            "Epoch 9/100\n",
            "5/5 [==============================] - 0s 53ms/step - loss: 8.0236 - mae: 8.5236\n",
            "Epoch 10/100\n",
            "5/5 [==============================] - 0s 54ms/step - loss: 7.4323 - mae: 7.9323\n",
            "Epoch 11/100\n",
            "5/5 [==============================] - 0s 53ms/step - loss: 6.8432 - mae: 7.3432\n",
            "Epoch 12/100\n",
            "5/5 [==============================] - 0s 52ms/step - loss: 6.2574 - mae: 6.7574\n",
            "Epoch 13/100\n",
            "5/5 [==============================] - 0s 54ms/step - loss: 5.6738 - mae: 6.1738\n",
            "Epoch 14/100\n",
            "5/5 [==============================] - 0s 57ms/step - loss: 5.0932 - mae: 5.5932\n",
            "Epoch 15/100\n",
            "5/5 [==============================] - 0s 53ms/step - loss: 4.5150 - mae: 5.0150\n",
            "Epoch 16/100\n",
            "5/5 [==============================] - 0s 64ms/step - loss: 3.9406 - mae: 4.4406\n",
            "Epoch 17/100\n",
            "5/5 [==============================] - 0s 56ms/step - loss: 3.3677 - mae: 3.8677\n",
            "Epoch 18/100\n",
            "5/5 [==============================] - 0s 54ms/step - loss: 2.7967 - mae: 3.2967\n",
            "Epoch 19/100\n",
            "5/5 [==============================] - 0s 55ms/step - loss: 2.2297 - mae: 2.7297\n",
            "Epoch 20/100\n",
            "5/5 [==============================] - 0s 56ms/step - loss: 1.6639 - mae: 2.1637\n",
            "Epoch 21/100\n",
            "5/5 [==============================] - 0s 53ms/step - loss: 1.1235 - mae: 1.6078\n",
            "Epoch 22/100\n",
            "5/5 [==============================] - 0s 53ms/step - loss: 0.6883 - mae: 1.1239\n",
            "Epoch 23/100\n",
            "5/5 [==============================] - 0s 61ms/step - loss: 0.4141 - mae: 0.8003\n",
            "Epoch 24/100\n",
            "5/5 [==============================] - 0s 55ms/step - loss: 0.3091 - mae: 0.6659\n",
            "Epoch 25/100\n",
            "5/5 [==============================] - 0s 56ms/step - loss: 0.2696 - mae: 0.6199\n",
            "Epoch 26/100\n",
            "5/5 [==============================] - 0s 92ms/step - loss: 0.2541 - mae: 0.5925\n",
            "Epoch 27/100\n",
            "5/5 [==============================] - 1s 110ms/step - loss: 0.2454 - mae: 0.5751\n",
            "Epoch 28/100\n",
            "5/5 [==============================] - 1s 102ms/step - loss: 0.2406 - mae: 0.5590\n",
            "Epoch 29/100\n",
            "5/5 [==============================] - 1s 110ms/step - loss: 0.2413 - mae: 0.5571\n",
            "Epoch 30/100\n",
            "5/5 [==============================] - 1s 101ms/step - loss: 0.2408 - mae: 0.5478\n",
            "Epoch 31/100\n",
            "5/5 [==============================] - 1s 98ms/step - loss: 0.2412 - mae: 0.5467\n",
            "Epoch 32/100\n",
            "5/5 [==============================] - 1s 109ms/step - loss: 0.2414 - mae: 0.5514\n",
            "Epoch 33/100\n",
            "5/5 [==============================] - 0s 67ms/step - loss: 0.2420 - mae: 0.5529\n",
            "Epoch 34/100\n",
            "5/5 [==============================] - 0s 54ms/step - loss: 0.2461 - mae: 0.5637\n",
            "Epoch 35/100\n",
            "5/5 [==============================] - 0s 58ms/step - loss: 0.2406 - mae: 0.5502\n",
            "Epoch 36/100\n",
            "5/5 [==============================] - 0s 53ms/step - loss: 0.2424 - mae: 0.5506\n",
            "Epoch 37/100\n",
            "5/5 [==============================] - 0s 57ms/step - loss: 0.2397 - mae: 0.5508\n",
            "Epoch 38/100\n",
            "5/5 [==============================] - 0s 65ms/step - loss: 0.2407 - mae: 0.5513\n",
            "Epoch 39/100\n",
            "5/5 [==============================] - 0s 58ms/step - loss: 0.2412 - mae: 0.5596\n",
            "Epoch 40/100\n",
            "5/5 [==============================] - 0s 54ms/step - loss: 0.2432 - mae: 0.5675\n",
            "Epoch 41/100\n",
            "5/5 [==============================] - 0s 55ms/step - loss: 0.2436 - mae: 0.5708\n",
            "Epoch 42/100\n",
            "5/5 [==============================] - 0s 59ms/step - loss: 0.2400 - mae: 0.5486\n",
            "Epoch 43/100\n",
            "5/5 [==============================] - 0s 59ms/step - loss: 0.2413 - mae: 0.5605\n",
            "Epoch 44/100\n",
            "5/5 [==============================] - 0s 58ms/step - loss: 0.2406 - mae: 0.5516\n",
            "Epoch 45/100\n",
            "5/5 [==============================] - 0s 54ms/step - loss: 0.2430 - mae: 0.5624\n",
            "Epoch 46/100\n",
            "5/5 [==============================] - 0s 58ms/step - loss: 0.2416 - mae: 0.5526\n",
            "Epoch 47/100\n",
            "5/5 [==============================] - 0s 58ms/step - loss: 0.2411 - mae: 0.5489\n",
            "Epoch 48/100\n",
            "5/5 [==============================] - 0s 60ms/step - loss: 0.2409 - mae: 0.5507\n",
            "Epoch 49/100\n",
            "5/5 [==============================] - 0s 52ms/step - loss: 0.2410 - mae: 0.5484\n",
            "Epoch 50/100\n",
            "5/5 [==============================] - 0s 59ms/step - loss: 0.2410 - mae: 0.5578\n",
            "Epoch 51/100\n",
            "5/5 [==============================] - 0s 56ms/step - loss: 0.2398 - mae: 0.5503\n",
            "Epoch 52/100\n",
            "5/5 [==============================] - 0s 53ms/step - loss: 0.2412 - mae: 0.5550\n",
            "Epoch 53/100\n",
            "5/5 [==============================] - 0s 60ms/step - loss: 0.2417 - mae: 0.5560\n",
            "Epoch 54/100\n",
            "5/5 [==============================] - 0s 56ms/step - loss: 0.2411 - mae: 0.5505\n",
            "Epoch 55/100\n",
            "5/5 [==============================] - 0s 59ms/step - loss: 0.2415 - mae: 0.5524\n",
            "Epoch 56/100\n",
            "5/5 [==============================] - 0s 57ms/step - loss: 0.2411 - mae: 0.5511\n",
            "Epoch 57/100\n",
            "5/5 [==============================] - 0s 61ms/step - loss: 0.2431 - mae: 0.5684\n",
            "Epoch 58/100\n",
            "5/5 [==============================] - 0s 104ms/step - loss: 0.2409 - mae: 0.5566\n",
            "Epoch 59/100\n",
            "5/5 [==============================] - 1s 105ms/step - loss: 0.2407 - mae: 0.5592\n",
            "Epoch 60/100\n",
            "5/5 [==============================] - 1s 98ms/step - loss: 0.2412 - mae: 0.5504\n",
            "Epoch 61/100\n",
            "5/5 [==============================] - 1s 94ms/step - loss: 0.2406 - mae: 0.5516\n",
            "Epoch 62/100\n",
            "5/5 [==============================] - 1s 100ms/step - loss: 0.2427 - mae: 0.5512\n",
            "Epoch 63/100\n",
            "5/5 [==============================] - 1s 106ms/step - loss: 0.2398 - mae: 0.5523\n",
            "Epoch 64/100\n",
            "5/5 [==============================] - 1s 99ms/step - loss: 0.2422 - mae: 0.5499\n",
            "Epoch 65/100\n",
            "5/5 [==============================] - 1s 110ms/step - loss: 0.2402 - mae: 0.5515\n",
            "Epoch 66/100\n",
            "5/5 [==============================] - 1s 124ms/step - loss: 0.2409 - mae: 0.5511\n",
            "Epoch 67/100\n",
            "5/5 [==============================] - 1s 126ms/step - loss: 0.2440 - mae: 0.5488\n",
            "Epoch 68/100\n",
            "5/5 [==============================] - 0s 57ms/step - loss: 0.2455 - mae: 0.5508\n",
            "Epoch 69/100\n",
            "5/5 [==============================] - 1s 163ms/step - loss: 0.2484 - mae: 0.5571\n",
            "Epoch 70/100\n",
            "5/5 [==============================] - 0s 72ms/step - loss: 0.2411 - mae: 0.5496\n",
            "Epoch 71/100\n",
            "5/5 [==============================] - 0s 56ms/step - loss: 0.2399 - mae: 0.5524\n",
            "Epoch 72/100\n",
            "5/5 [==============================] - 0s 50ms/step - loss: 0.2406 - mae: 0.5544\n",
            "Epoch 73/100\n",
            "5/5 [==============================] - 0s 63ms/step - loss: 0.2406 - mae: 0.5492\n",
            "Epoch 74/100\n",
            "5/5 [==============================] - 0s 56ms/step - loss: 0.2416 - mae: 0.5466\n",
            "Epoch 75/100\n",
            "5/5 [==============================] - 0s 58ms/step - loss: 0.2399 - mae: 0.5514\n",
            "Epoch 76/100\n",
            "5/5 [==============================] - 0s 57ms/step - loss: 0.2400 - mae: 0.5488\n",
            "Epoch 77/100\n",
            "5/5 [==============================] - 0s 60ms/step - loss: 0.2399 - mae: 0.5488\n",
            "Epoch 78/100\n",
            "5/5 [==============================] - 0s 50ms/step - loss: 0.2436 - mae: 0.5527\n",
            "Epoch 79/100\n",
            "5/5 [==============================] - 0s 55ms/step - loss: 0.2410 - mae: 0.5551\n",
            "Epoch 80/100\n",
            "5/5 [==============================] - 0s 59ms/step - loss: 0.2399 - mae: 0.5537\n",
            "Epoch 81/100\n",
            "5/5 [==============================] - 0s 58ms/step - loss: 0.2417 - mae: 0.5541\n",
            "Epoch 82/100\n",
            "5/5 [==============================] - 0s 56ms/step - loss: 0.2436 - mae: 0.5668\n",
            "Epoch 83/100\n",
            "5/5 [==============================] - 0s 53ms/step - loss: 0.2405 - mae: 0.5519\n",
            "Epoch 84/100\n",
            "5/5 [==============================] - 0s 54ms/step - loss: 0.2396 - mae: 0.5505\n",
            "Epoch 85/100\n",
            "5/5 [==============================] - 0s 60ms/step - loss: 0.2408 - mae: 0.5480\n",
            "Epoch 86/100\n",
            "5/5 [==============================] - 0s 83ms/step - loss: 0.2408 - mae: 0.5498\n",
            "Epoch 87/100\n",
            "5/5 [==============================] - 1s 103ms/step - loss: 0.2418 - mae: 0.5460\n",
            "Epoch 88/100\n",
            "5/5 [==============================] - 1s 113ms/step - loss: 0.2444 - mae: 0.5526\n",
            "Epoch 89/100\n",
            "5/5 [==============================] - 1s 108ms/step - loss: 0.2465 - mae: 0.5515\n",
            "Epoch 90/100\n",
            "5/5 [==============================] - 1s 104ms/step - loss: 0.2414 - mae: 0.5480\n",
            "Epoch 91/100\n",
            "5/5 [==============================] - 1s 105ms/step - loss: 0.2403 - mae: 0.5502\n",
            "Epoch 92/100\n",
            "5/5 [==============================] - 1s 96ms/step - loss: 0.2406 - mae: 0.5524\n",
            "Epoch 93/100\n",
            "5/5 [==============================] - 1s 100ms/step - loss: 0.2416 - mae: 0.5483\n",
            "Epoch 94/100\n",
            "5/5 [==============================] - 0s 53ms/step - loss: 0.2445 - mae: 0.5499\n",
            "Epoch 95/100\n",
            "5/5 [==============================] - 0s 58ms/step - loss: 0.2402 - mae: 0.5478\n",
            "Epoch 96/100\n",
            "5/5 [==============================] - 0s 70ms/step - loss: 0.2420 - mae: 0.5539\n",
            "Epoch 97/100\n",
            "5/5 [==============================] - 0s 63ms/step - loss: 0.2397 - mae: 0.5502\n",
            "Epoch 98/100\n",
            "5/5 [==============================] - 0s 60ms/step - loss: 0.2398 - mae: 0.5482\n",
            "Epoch 99/100\n",
            "5/5 [==============================] - 0s 51ms/step - loss: 0.2407 - mae: 0.5511\n",
            "Epoch 100/100\n",
            "5/5 [==============================] - 0s 61ms/step - loss: 0.2409 - mae: 0.5505\n"
          ]
        }
      ]
    },
    {
      "cell_type": "code",
      "source": [
        "def model_forecast(model, series, window_size, batch_size):\n",
        "    \"\"\"Uses an input model to generate predictions on data windows\n",
        "\n",
        "    Args:\n",
        "      model (TF Keras Model) - model that accepts data windows\n",
        "      series (array of float) - contains the values of the time series\n",
        "      window_size (int) - the number of time steps to include in the window\n",
        "      batch_size (int) - the batch size\n",
        "\n",
        "    Returns:\n",
        "      forecast (numpy array) - array containing predictions\n",
        "    \"\"\"\n",
        "\n",
        "    # Generate a TF Dataset from the series values\n",
        "    dataset = tf.data.Dataset.from_tensor_slices(series)\n",
        "\n",
        "    # Window the data but only take those with the specified size\n",
        "    dataset = dataset.window(window_size, shift=1, drop_remainder=True)\n",
        "\n",
        "    # Flatten the windows by putting its elements in a single batch\n",
        "    dataset = dataset.flat_map(lambda w: w.batch(window_size))\n",
        "    \n",
        "    # Create batches of windows\n",
        "    dataset = dataset.batch(batch_size).prefetch(1)\n",
        "    \n",
        "    # Get predictions on the entire dataset\n",
        "    forecast = model.predict(dataset)\n",
        "    \n",
        "    return forecast"
      ],
      "metadata": {
        "id": "-ELlKWGOOufn"
      },
      "execution_count": null,
      "outputs": []
    },
    {
      "cell_type": "code",
      "source": [
        "def compute_metrics(true_series, forecast):\n",
        "    \n",
        "    mse = tf.keras.metrics.mean_squared_error(true_series, forecast).numpy()\n",
        "    mae = tf.keras.metrics.mean_absolute_error(true_series, forecast).numpy()\n",
        "\n",
        "    return mse, mae"
      ],
      "metadata": {
        "id": "P0PawUqAOXLu"
      },
      "execution_count": null,
      "outputs": []
    },
    {
      "cell_type": "code",
      "source": [
        "cnn_forecast = model_forecast(model, G.SERIES, G.WINDOW_SIZE, G.BATCH_SIZE).squeeze()\n",
        "cnn_forecast = cnn_forecast[G.SPLIT_TIME - G.WINDOW_SIZE:-1]\n",
        "mse, mae = compute_metrics(series_valid, cnn_forecast)\n",
        "\n",
        "print(f\"mse: {mse:.2f}, mae: {mae:.2f} for forecast\")"
      ],
      "metadata": {
        "colab": {
          "base_uri": "https://localhost:8080/"
        },
        "id": "frlRqkXtOfYt",
        "outputId": "a35f842c-e0f2-4d01-c353-abb7d1752550"
      },
      "execution_count": null,
      "outputs": [
        {
          "output_type": "stream",
          "name": "stdout",
          "text": [
            "9/9 [==============================] - 3s 18ms/step\n",
            "mse: 0.78, mae: 0.55 for forecast\n"
          ]
        }
      ]
    },
    {
      "cell_type": "code",
      "source": [
        "# Compute the forecast for all the series\n",
        "cnn_forecast = model_forecast(model, G.SERIES, G.WINDOW_SIZE, G.BATCH_SIZE).squeeze()\n",
        "tam = [None,None,None,None,None,None,None,None,None,None,None]\n",
        "\n",
        "\n",
        "# Slice the forecast to get only the predictions for the validation set\n",
        "# cnn_forecast = cnn_forecast[G.SPLIT_TIME - G.WINDOW_SIZE:-1]\n",
        "cnn_forecast = np.insert(cnn_forecast, 0, tam)\n",
        "\n",
        "# Plot the forecast\n",
        "plt.figure(figsize=(10, 5))\n",
        "plot_series(G.TIME, G.SERIES)\n",
        "plot_series(G.TIME, cnn_forecast)"
      ],
      "metadata": {
        "colab": {
          "base_uri": "https://localhost:8080/",
          "height": 482
        },
        "id": "kKeQPGFCPMLB",
        "outputId": "2cf03451-7f72-4576-c47f-d147e17e2edd"
      },
      "execution_count": null,
      "outputs": [
        {
          "output_type": "stream",
          "name": "stdout",
          "text": [
            "9/9 [==============================] - 0s 20ms/step\n"
          ]
        },
        {
          "output_type": "display_data",
          "data": {
            "text/plain": [
              "<Figure size 1000x500 with 1 Axes>"
            ],
            "image/png": "[encoded data removed]"
          },
          "metadata": {}
        }
      ]
    },
    {
      "cell_type": "code",
      "source": [
        "plt.figure(figsize=(10, 5))\n",
        "plt.plot(range(100), history.history[\"loss\"])\n",
        "plt.plot(range(100), history.history[\"mae\"])\n",
        "plt.xlabel(\"Epochs\")\n",
        "plt.ylabel(\"Value\")\n",
        "\n",
        "plt.show()"
      ],
      "metadata": {
        "colab": {
          "base_uri": "https://localhost:8080/",
          "height": 470
        },
        "id": "to5Oy-NxR1-j",
        "outputId": "098792f9-de72-4c65-b54a-8e062ecf4731"
      },
      "execution_count": null,
      "outputs": [
        {
          "output_type": "display_data",
          "data": {
            "text/plain": [
              "<Figure size 1000x500 with 1 Axes>"
            ],
            "image/png": "[encoded data removed]"
          },
          "metadata": {}
        }
      ]
    },
    {
      "cell_type": "code",
      "source": [
        "# prepare data for forecasting\n",
        "last_window = G.SERIES[-G.WINDOW_SIZE:]\n",
        "last_window = np.reshape(last_window, (1, G.WINDOW_SIZE, 1))\n",
        "\n",
        "# make a forecast for 5 steps ahead\n",
        "forecast_norm = []\n",
        "for _ in range(24):\n",
        "    pred = model.predict(last_window)[0, 0]\n",
        "    forecast_norm.append(pred)\n",
        "    last_window = np.roll(last_window, -1, axis=1)\n",
        "    last_window[0, -1, 0] = pred\n",
        "\n",
        "# invert the normalization\n",
        "forecast = forecast_norm\n",
        "print(\"Forecast:\", forecast)"
      ],
      "metadata": {
        "colab": {
          "base_uri": "https://localhost:8080/"
        },
        "id": "EBmQ4eAT8caf",
        "outputId": "915a1aef-bb2c-49f9-a1eb-39bf8593ab53"
      },
      "execution_count": null,
      "outputs": [
        {
          "output_type": "stream",
          "name": "stdout",
          "text": [
            "1/1 [==============================] - 2s 2s/step\n",
            "1/1 [==============================] - 0s 27ms/step\n",
            "1/1 [==============================] - 0s 28ms/step\n",
            "1/1 [==============================] - 0s 32ms/step\n",
            "1/1 [==============================] - 0s 25ms/step\n",
            "1/1 [==============================] - 0s 34ms/step\n",
            "1/1 [==============================] - 0s 45ms/step\n",
            "1/1 [==============================] - 0s 47ms/step\n",
            "1/1 [==============================] - 0s 42ms/step\n",
            "1/1 [==============================] - 0s 42ms/step\n",
            "1/1 [==============================] - 0s 41ms/step\n",
            "1/1 [==============================] - 0s 45ms/step\n",
            "1/1 [==============================] - 0s 52ms/step\n",
            "1/1 [==============================] - 0s 59ms/step\n",
            "1/1 [==============================] - 0s 42ms/step\n",
            "1/1 [==============================] - 0s 41ms/step\n",
            "1/1 [==============================] - 0s 43ms/step\n",
            "1/1 [==============================] - 0s 52ms/step\n",
            "1/1 [==============================] - 0s 53ms/step\n",
            "1/1 [==============================] - 0s 71ms/step\n",
            "1/1 [==============================] - 0s 52ms/step\n",
            "1/1 [==============================] - 0s 57ms/step\n",
            "1/1 [==============================] - 0s 51ms/step\n",
            "1/1 [==============================] - 0s 45ms/step\n",
            "Forecast: [20.241497, 20.212635, 20.219154, 20.228981, 20.216043, 20.187546, 20.1471, 20.138866, 20.118559, 20.11397, 20.114351, 20.106691, 20.102938, 20.098524, 20.09568, 20.093952, 20.092892, 20.091698, 20.091154, 20.090185, 20.089575, 20.089235, 20.088886, 20.088701]\n"
          ]
        }
      ]
    },
    {
      "cell_type": "code",
      "source": [
        "model.save(\"/content/drive/MyDrive/ML/Model/Price Prediction - Tongkol.h5\")"
      ],
      "metadata": {
        "id": "PHPxvymSLf-Q"
      },
      "execution_count": null,
      "outputs": []
    },
    {
      "cell_type": "code",
      "source": [],
      "metadata": {
        "id": "2_2UQpXT5Y3i"
      },
      "execution_count": null,
      "outputs": []
    }
  ]
}