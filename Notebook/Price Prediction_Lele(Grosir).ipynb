{
  "nbformat": 4,
  "nbformat_minor": 0,
  "metadata": {
    "colab": {
      "provenance": []
    },
    "kernelspec": {
      "name": "python3",
      "display_name": "Python 3"
    },
    "language_info": {
      "name": "python"
    }
  },
  "cells": [
    {
      "cell_type": "markdown",
      "source": [
        "#PRICE PREDICTION FOR LELE (GROSIR)"
      ],
      "metadata": {
        "id": "dd6w3EQv4uK0"
      }
    },
    {
      "cell_type": "markdown",
      "source": [
        "##Import Some Modules"
      ],
      "metadata": {
        "id": "mC8_Qyei40_2"
      }
    },
    {
      "cell_type": "code",
      "execution_count": null,
      "metadata": {
        "id": "se_nIqvRFuyO"
      },
      "outputs": [],
      "source": [
        "import csv\n",
        "import numpy as np\n",
        "import tensorflow as tf\n",
        "import matplotlib.pyplot as plt\n",
        "import pandas as pd\n",
        "\n",
        "from dataclasses import dataclass\n",
        "\n",
        "#if importing csv from google drive\n",
        "#from google.colab import drive \n",
        "#drive.mount('/content/drive')"
      ]
    },
    {
      "cell_type": "code",
      "source": [
        "#Load dataset\n",
        "df1 = pd.read_csv('LeleInputForecast.csv', sep =',')"
      ],
      "metadata": {
        "id": "12UiO3NUDjhN"
      },
      "execution_count": null,
      "outputs": []
    },
    {
      "cell_type": "markdown",
      "source": [
        "#PREPROCESSING"
      ],
      "metadata": {
        "id": "e9ECO_Pw5893"
      }
    },
    {
      "cell_type": "markdown",
      "source": [
        "##Outlier Detection and Changing Outlier to Median\n"
      ],
      "metadata": {
        "id": "qh3abGjq5D4j"
      }
    },
    {
      "cell_type": "markdown",
      "source": [
        "\n",
        "\n",
        "*   Outliers are extreme values that stand out greatly from the overall pattern of values in a dataset or graph.\n",
        "*   Median is the value in the middle of a data set.\n",
        "* We can use the IQR method of identifying outliers to set up a “fence” outside of Q1 and Q3. Any values that fall outside of this fence are considered outliers. To build this fence we take 1.5 times the IQR and then subtract this value from Q1 and add this value to Q3.\n",
        "* We replace the extreme values with the mode value, we can use median or mean\n",
        " value but it is advised not to use the mean values because it is highly susceptible to outliers.\n",
        "\n"
      ],
      "metadata": {
        "id": "e6fUrsWyZ6P2"
      }
    },
    {
      "cell_type": "code",
      "source": [
        "Q1 = df1['Harga'].quantile(0.25)\n",
        "Q3 = df1['Harga'].quantile(0.75)\n",
        "IQR = Q3 - Q1\n",
        "threshold = 1.5*IQR\n",
        "median = np.median(df1['Harga'])\n",
        "outliers = (df1['Harga'] < Q1 - threshold) | (df1['Harga'] > Q3 + threshold)\n",
        "df1[outliers] = median"
      ],
      "metadata": {
        "id": "isMDMYveDvcD"
      },
      "execution_count": null,
      "outputs": []
    },
    {
      "cell_type": "markdown",
      "source": [
        "#Taking Data"
      ],
      "metadata": {
        "id": "pB1vcg7B7Jyp"
      }
    },
    {
      "cell_type": "code",
      "source": [
        "def get_data(data):\n",
        "    \n",
        "    times = []\n",
        "    value = []\n",
        "\n",
        "    i = 0\n",
        "    for row in data:\n",
        "      times.append(i)\n",
        "      value.append(float(row)/1000)\n",
        "      i+=1\n",
        "\n",
        "    \n",
        "    return times, value"
      ],
      "metadata": {
        "id": "HP1EhGPwFzKR"
      },
      "execution_count": null,
      "outputs": []
    },
    {
      "cell_type": "code",
      "source": [
        "def plot_series(time, series, format=\"-\", start=0, end=None):\n",
        "    plt.plot(time[start:end], series[start:end], format)\n",
        "    plt.xlabel(\"Time\")\n",
        "    plt.ylabel(\"Value\")\n",
        "    plt.grid(True)"
      ],
      "metadata": {
        "id": "6S8Mf3yBHNTg"
      },
      "execution_count": null,
      "outputs": []
    },
    {
      "cell_type": "code",
      "source": [
        "# Test your function and save all \"global\" variables within the G class (G stands for global)\n",
        "@dataclass\n",
        "class G:\n",
        "    FILE_CSV = 'LeleInputForecast.csv'\n",
        "    times, price = get_data(df1['Harga'])\n",
        "    TIME = np.array(times)\n",
        "    SERIES = np.array(price)\n",
        "    SPLIT_TIME = 90\n",
        "    WINDOW_SIZE = 12\n",
        "    BATCH_SIZE = 12\n",
        "    SHUFFLE_BUFFER_SIZE = 10\n"
      ],
      "metadata": {
        "id": "RZ2bR_YiGkSh"
      },
      "execution_count": null,
      "outputs": []
    },
    {
      "cell_type": "code",
      "source": [
        "plt.figure(figsize=(3, 2))\n",
        "plot_series(G.TIME, G.SERIES)\n",
        "plt.show()"
      ],
      "metadata": {
        "colab": {
          "base_uri": "https://localhost:8080/",
          "height": 234
        },
        "id": "R2HONSfzJRsk",
        "outputId": "e5bf7187-47d4-4df0-81c9-d26764fc094f"
      },
      "execution_count": null,
      "outputs": [
        {
          "output_type": "display_data",
          "data": {
            "text/plain": [
              "<Figure size 300x200 with 1 Axes>"
            ],
            "image/png": "[encoded data removed]"
          },
          "metadata": {}
        }
      ]
    },
    {
      "cell_type": "code",
      "source": [
        "def train_val_split(time, series, time_step=G.SPLIT_TIME):\n",
        "\n",
        "    time_train = time[:time_step]\n",
        "    series_train = series[:time_step]\n",
        "    time_valid = time[time_step:]\n",
        "    series_valid = series[time_step:]\n",
        "\n",
        "    return time_train, series_train, time_valid, series_valid"
      ],
      "metadata": {
        "id": "AKhlCThVHhCZ"
      },
      "execution_count": null,
      "outputs": []
    },
    {
      "cell_type": "code",
      "source": [
        "# Split the dataset\n",
        "time_train, series_train, time_valid, series_valid = train_val_split(G.TIME, G.SERIES)"
      ],
      "metadata": {
        "id": "SF71F6BMJpF0"
      },
      "execution_count": null,
      "outputs": []
    },
    {
      "cell_type": "code",
      "source": [
        "def windowed_dataset(series, window_size=G.WINDOW_SIZE, batch_size=G.BATCH_SIZE, shuffle_buffer=G.SHUFFLE_BUFFER_SIZE):\n",
        "    ds = tf.data.Dataset.from_tensor_slices(series)\n",
        "    ds = ds.window(window_size + 1, shift=1, drop_remainder=True)\n",
        "    ds = ds.flat_map(lambda w: w.batch(window_size + 1))\n",
        "    ds = ds.shuffle(shuffle_buffer)\n",
        "    ds = ds.map(lambda w: (w[:-1], w[-1]))\n",
        "    ds = ds.batch(batch_size).prefetch(1)\n",
        "    return ds\n"
      ],
      "metadata": {
        "id": "f9kaadcXJe5M"
      },
      "execution_count": null,
      "outputs": []
    },
    {
      "cell_type": "code",
      "source": [
        "# Apply the transformation to the training set\n",
        "train_set = windowed_dataset(series_train, window_size=G.WINDOW_SIZE, batch_size=G.BATCH_SIZE, shuffle_buffer=G.SHUFFLE_BUFFER_SIZE)"
      ],
      "metadata": {
        "id": "Q84t5hDNJnDv"
      },
      "execution_count": null,
      "outputs": []
    },
    {
      "cell_type": "markdown",
      "source": [
        "# BUILD THE MODEL\n"
      ],
      "metadata": {
        "id": "M4vF3mFnKD-R"
      }
    },
    {
      "cell_type": "markdown",
      "source": [
        "The code snippet provided defines a function `create_model()` that creates a sequential model using the Keras API in TensorFlow. The model architecture is designed for time series forecasting or sequence prediction tasks. Here's a breakdown of the layers in the model:\n",
        "\n",
        "1. Conv1D layer: This layer performs a 1-dimensional convolution operation on the input data. It uses 32 filters with a kernel size of 3, applying the \"causal\" padding to preserve the temporal ordering of the sequence. The activation function used is ReLU.\n",
        "\n",
        "2. Bidirectional LSTM layers: These layers consist of two LSTM (Long Short-Term Memory) layers stacked together, with one processing the input sequence in a forward direction and the other in a backward direction. This allows the model to capture both past and future context information. The LSTM layers have 32 units and return sequences.\n",
        "\n",
        "3. Dense layers: There are two dense layers in the model. The first dense layer has 30 units with the ReLU activation function. The second dense layer has 1 unit, which is the output layer of the model.\n",
        "\n",
        "4. Lambda layer: The lambda layer applies a scaling operation on the output of the model. It multiplies the output by 100, potentially to rescale the predictions based on the specific problem or desired range.\n",
        "\n",
        "After defining the model architecture, the `create_model()` function returns the created model. Then, the `model.summary()` function is called to display a summary of the model's architecture, including the layer types, output shapes, and number of parameters. This summary provides a useful overview of the model's structure and can help in verifying that the model is constructed as intended."
      ],
      "metadata": {
        "id": "Nzwh92IUb4q7"
      }
    },
    {
      "cell_type": "code",
      "source": [
        "def create_model():\n",
        "    \n",
        "    model = tf.keras.models.Sequential([ \n",
        "        tf.keras.layers.Conv1D(filters=32, kernel_size=3,\n",
        "                      strides=1, padding=\"causal\",\n",
        "                      activation=\"relu\",\n",
        "                      input_shape=[G.WINDOW_SIZE, 1]),\n",
        "        tf.keras.layers.Bidirectional(tf.keras.layers.LSTM(32, return_sequences=True)),\n",
        "        tf.keras.layers.Bidirectional(tf.keras.layers.LSTM(32)),\n",
        "        tf.keras.layers.Dense(30, activation='relu'),\n",
        "        tf.keras.layers.Dense(1),\n",
        "        tf.keras.layers.Lambda(lambda x: x * 100)\n",
        "    ]) \n",
        "\n",
        "    return model\n",
        "model = create_model()\n",
        "model.summary()"
      ],
      "metadata": {
        "colab": {
          "base_uri": "https://localhost:8080/"
        },
        "id": "wkMqwGDyKE1u",
        "outputId": "fb3803ba-efc2-4035-b589-167c63c803c3"
      },
      "execution_count": null,
      "outputs": [
        {
          "output_type": "stream",
          "name": "stdout",
          "text": [
            "Model: \"sequential\"\n",
            "_________________________________________________________________\n",
            " Layer (type)                Output Shape              Param #   \n",
            "=================================================================\n",
            " conv1d (Conv1D)             (None, 12, 32)            128       \n",
            "                                                                 \n",
            " bidirectional (Bidirectiona  (None, 12, 64)           16640     \n",
            " l)                                                              \n",
            "                                                                 \n",
            " bidirectional_1 (Bidirectio  (None, 64)               24832     \n",
            " nal)                                                            \n",
            "                                                                 \n",
            " dense (Dense)               (None, 30)                1950      \n",
            "                                                                 \n",
            " dense_1 (Dense)             (None, 1)                 31        \n",
            "                                                                 \n",
            " lambda (Lambda)             (None, 1)                 0         \n",
            "                                                                 \n",
            "=================================================================\n",
            "Total params: 43,581\n",
            "Trainable params: 43,581\n",
            "Non-trainable params: 0\n",
            "_________________________________________________________________\n"
          ]
        }
      ]
    },
    {
      "cell_type": "code",
      "source": [
        "# Test your uncompiled model\n",
        "uncompiled_model = create_model()\n",
        "\n",
        "try:\n",
        "    uncompiled_model.predict(train_set)\n",
        "except:\n",
        "    print(\"Your current architecture is incompatible with the windowed dataset, try adjusting it.\")\n",
        "else:\n",
        "    print(\"Your current architecture is compatible with the windowed dataset! :)\")"
      ],
      "metadata": {
        "colab": {
          "base_uri": "https://localhost:8080/"
        },
        "id": "k0RbzOK2L1xZ",
        "outputId": "295ab0d9-11af-499b-ba25-aa82ae2e2d0c"
      },
      "execution_count": null,
      "outputs": [
        {
          "output_type": "stream",
          "name": "stdout",
          "text": [
            "7/7 [==============================] - 2s 12ms/step\n",
            "Your current architecture is compatible with the windowed dataset! :)\n"
          ]
        }
      ]
    },
    {
      "cell_type": "markdown",
      "source": [
        "Finding best learning rate:"
      ],
      "metadata": {
        "id": "lWUOdK6OdeWd"
      }
    },
    {
      "cell_type": "code",
      "source": [
        "# Get initial weights\n",
        "init_weights = model.get_weights()\n",
        "\n",
        "# Set the learning rate scheduler\n",
        "lr_schedule = tf.keras.callbacks.LearningRateScheduler(\n",
        "    lambda epoch: 1e-8 * 10**(epoch / 20))\n",
        "\n",
        "# Initialize the optimizer\n",
        "optimizer = tf.keras.optimizers.SGD(momentum=0.9)\n",
        "\n",
        "# Set the training parameters\n",
        "model.compile(loss=tf.keras.losses.Huber(), optimizer=optimizer)\n",
        "\n",
        "# Train the model\n",
        "history = model.fit(train_set, epochs=100, callbacks=[lr_schedule])"
      ],
      "metadata": {
        "colab": {
          "base_uri": "https://localhost:8080/"
        },
        "id": "lg_SnB7TM3la",
        "outputId": "713a49ee-5fb7-4138-fd02-efb3ffc9353b"
      },
      "execution_count": null,
      "outputs": [
        {
          "output_type": "stream",
          "name": "stdout",
          "text": [
            "Epoch 1/100\n",
            "7/7 [==============================] - 10s 29ms/step - loss: 20.5503 - lr: 1.0000e-08\n",
            "Epoch 2/100\n",
            "7/7 [==============================] - 0s 28ms/step - loss: 20.5125 - lr: 1.1220e-08\n",
            "Epoch 3/100\n",
            "7/7 [==============================] - 0s 25ms/step - loss: 20.4501 - lr: 1.2589e-08\n",
            "Epoch 4/100\n",
            "7/7 [==============================] - 0s 24ms/step - loss: 20.3706 - lr: 1.4125e-08\n",
            "Epoch 5/100\n",
            "7/7 [==============================] - 0s 25ms/step - loss: 20.2769 - lr: 1.5849e-08\n",
            "Epoch 6/100\n",
            "7/7 [==============================] - 0s 31ms/step - loss: 20.1699 - lr: 1.7783e-08\n",
            "Epoch 7/100\n",
            "7/7 [==============================] - 0s 27ms/step - loss: 20.0491 - lr: 1.9953e-08\n",
            "Epoch 8/100\n",
            "7/7 [==============================] - 0s 28ms/step - loss: 19.9134 - lr: 2.2387e-08\n",
            "Epoch 9/100\n",
            "7/7 [==============================] - 0s 26ms/step - loss: 19.7612 - lr: 2.5119e-08\n",
            "Epoch 10/100\n",
            "7/7 [==============================] - 0s 25ms/step - loss: 19.5908 - lr: 2.8184e-08\n",
            "Epoch 11/100\n",
            "7/7 [==============================] - 0s 26ms/step - loss: 19.4000 - lr: 3.1623e-08\n",
            "Epoch 12/100\n",
            "7/7 [==============================] - 0s 25ms/step - loss: 19.1863 - lr: 3.5481e-08\n",
            "Epoch 13/100\n",
            "7/7 [==============================] - 0s 27ms/step - loss: 18.9469 - lr: 3.9811e-08\n",
            "Epoch 14/100\n",
            "7/7 [==============================] - 0s 26ms/step - loss: 18.6785 - lr: 4.4668e-08\n",
            "Epoch 15/100\n",
            "7/7 [==============================] - 0s 25ms/step - loss: 18.3774 - lr: 5.0119e-08\n",
            "Epoch 16/100\n",
            "7/7 [==============================] - 0s 28ms/step - loss: 18.0394 - lr: 5.6234e-08\n",
            "Epoch 17/100\n",
            "7/7 [==============================] - 0s 26ms/step - loss: 17.6593 - lr: 6.3096e-08\n",
            "Epoch 18/100\n",
            "7/7 [==============================] - 0s 26ms/step - loss: 17.2310 - lr: 7.0795e-08\n",
            "Epoch 19/100\n",
            "7/7 [==============================] - 0s 24ms/step - loss: 16.7474 - lr: 7.9433e-08\n",
            "Epoch 20/100\n",
            "7/7 [==============================] - 0s 23ms/step - loss: 16.1994 - lr: 8.9125e-08\n",
            "Epoch 21/100\n",
            "7/7 [==============================] - 0s 25ms/step - loss: 15.5756 - lr: 1.0000e-07\n",
            "Epoch 22/100\n",
            "7/7 [==============================] - 0s 25ms/step - loss: 14.8599 - lr: 1.1220e-07\n",
            "Epoch 23/100\n",
            "7/7 [==============================] - 0s 25ms/step - loss: 14.0304 - lr: 1.2589e-07\n",
            "Epoch 24/100\n",
            "7/7 [==============================] - 0s 48ms/step - loss: 13.0534 - lr: 1.4125e-07\n",
            "Epoch 25/100\n",
            "7/7 [==============================] - 0s 49ms/step - loss: 11.8732 - lr: 1.5849e-07\n",
            "Epoch 26/100\n",
            "7/7 [==============================] - 0s 47ms/step - loss: 10.4047 - lr: 1.7783e-07\n",
            "Epoch 27/100\n",
            "7/7 [==============================] - 0s 47ms/step - loss: 8.5704 - lr: 1.9953e-07\n",
            "Epoch 28/100\n",
            "7/7 [==============================] - 0s 43ms/step - loss: 6.6348 - lr: 2.2387e-07\n",
            "Epoch 29/100\n",
            "7/7 [==============================] - 0s 24ms/step - loss: 5.0662 - lr: 2.5119e-07\n",
            "Epoch 30/100\n",
            "7/7 [==============================] - 0s 25ms/step - loss: 3.3670 - lr: 2.8184e-07\n",
            "Epoch 31/100\n",
            "7/7 [==============================] - 0s 26ms/step - loss: 1.4682 - lr: 3.1623e-07\n",
            "Epoch 32/100\n",
            "7/7 [==============================] - 0s 28ms/step - loss: 0.2551 - lr: 3.5481e-07\n",
            "Epoch 33/100\n",
            "7/7 [==============================] - 0s 28ms/step - loss: 0.5278 - lr: 3.9811e-07\n",
            "Epoch 34/100\n",
            "7/7 [==============================] - 0s 27ms/step - loss: 0.3570 - lr: 4.4668e-07\n",
            "Epoch 35/100\n",
            "7/7 [==============================] - 0s 30ms/step - loss: 0.2940 - lr: 5.0119e-07\n",
            "Epoch 36/100\n",
            "7/7 [==============================] - 0s 30ms/step - loss: 0.2599 - lr: 5.6234e-07\n",
            "Epoch 37/100\n",
            "7/7 [==============================] - 0s 29ms/step - loss: 0.2480 - lr: 6.3096e-07\n",
            "Epoch 38/100\n",
            "7/7 [==============================] - 0s 25ms/step - loss: 0.2606 - lr: 7.0795e-07\n",
            "Epoch 39/100\n",
            "7/7 [==============================] - 0s 27ms/step - loss: 0.2410 - lr: 7.9433e-07\n",
            "Epoch 40/100\n",
            "7/7 [==============================] - 0s 24ms/step - loss: 0.2377 - lr: 8.9125e-07\n",
            "Epoch 41/100\n",
            "7/7 [==============================] - 0s 26ms/step - loss: 0.2393 - lr: 1.0000e-06\n",
            "Epoch 42/100\n",
            "7/7 [==============================] - 0s 30ms/step - loss: 0.2451 - lr: 1.1220e-06\n",
            "Epoch 43/100\n",
            "7/7 [==============================] - 0s 32ms/step - loss: 0.2335 - lr: 1.2589e-06\n",
            "Epoch 44/100\n",
            "7/7 [==============================] - 0s 29ms/step - loss: 0.2420 - lr: 1.4125e-06\n",
            "Epoch 45/100\n",
            "7/7 [==============================] - 0s 28ms/step - loss: 0.2419 - lr: 1.5849e-06\n",
            "Epoch 46/100\n",
            "7/7 [==============================] - 0s 25ms/step - loss: 0.2372 - lr: 1.7783e-06\n",
            "Epoch 47/100\n",
            "7/7 [==============================] - 0s 26ms/step - loss: 0.2421 - lr: 1.9953e-06\n",
            "Epoch 48/100\n",
            "7/7 [==============================] - 0s 24ms/step - loss: 0.2356 - lr: 2.2387e-06\n",
            "Epoch 49/100\n",
            "7/7 [==============================] - 0s 29ms/step - loss: 0.2520 - lr: 2.5119e-06\n",
            "Epoch 50/100\n",
            "7/7 [==============================] - 0s 28ms/step - loss: 0.2432 - lr: 2.8184e-06\n",
            "Epoch 51/100\n",
            "7/7 [==============================] - 0s 33ms/step - loss: 0.2564 - lr: 3.1623e-06\n",
            "Epoch 52/100\n",
            "7/7 [==============================] - 0s 28ms/step - loss: 0.2790 - lr: 3.5481e-06\n",
            "Epoch 53/100\n",
            "7/7 [==============================] - 0s 29ms/step - loss: 0.2603 - lr: 3.9811e-06\n",
            "Epoch 54/100\n",
            "7/7 [==============================] - 0s 27ms/step - loss: 0.2401 - lr: 4.4668e-06\n",
            "Epoch 55/100\n",
            "7/7 [==============================] - 0s 33ms/step - loss: 0.2431 - lr: 5.0119e-06\n",
            "Epoch 56/100\n",
            "7/7 [==============================] - 0s 36ms/step - loss: 0.2550 - lr: 5.6234e-06\n",
            "Epoch 57/100\n",
            "7/7 [==============================] - 0s 27ms/step - loss: 0.2897 - lr: 6.3096e-06\n",
            "Epoch 58/100\n",
            "7/7 [==============================] - 0s 26ms/step - loss: 0.4561 - lr: 7.0795e-06\n",
            "Epoch 59/100\n",
            "7/7 [==============================] - 0s 29ms/step - loss: 0.3678 - lr: 7.9433e-06\n",
            "Epoch 60/100\n",
            "7/7 [==============================] - 0s 29ms/step - loss: 0.3992 - lr: 8.9125e-06\n",
            "Epoch 61/100\n",
            "7/7 [==============================] - 0s 24ms/step - loss: 0.5015 - lr: 1.0000e-05\n",
            "Epoch 62/100\n",
            "7/7 [==============================] - 0s 23ms/step - loss: 0.8945 - lr: 1.1220e-05\n",
            "Epoch 63/100\n",
            "7/7 [==============================] - 0s 27ms/step - loss: 0.8313 - lr: 1.2589e-05\n",
            "Epoch 64/100\n",
            "7/7 [==============================] - 0s 24ms/step - loss: 0.9153 - lr: 1.4125e-05\n",
            "Epoch 65/100\n",
            "7/7 [==============================] - 0s 24ms/step - loss: 0.9866 - lr: 1.5849e-05\n",
            "Epoch 66/100\n",
            "7/7 [==============================] - 0s 45ms/step - loss: 1.3513 - lr: 1.7783e-05\n",
            "Epoch 67/100\n",
            "7/7 [==============================] - 0s 48ms/step - loss: 0.7179 - lr: 1.9953e-05\n",
            "Epoch 68/100\n",
            "7/7 [==============================] - 0s 50ms/step - loss: 0.5469 - lr: 2.2387e-05\n",
            "Epoch 69/100\n",
            "7/7 [==============================] - 0s 43ms/step - loss: 0.4035 - lr: 2.5119e-05\n",
            "Epoch 70/100\n",
            "7/7 [==============================] - 0s 24ms/step - loss: 0.6132 - lr: 2.8184e-05\n",
            "Epoch 71/100\n",
            "7/7 [==============================] - 0s 25ms/step - loss: 0.8339 - lr: 3.1623e-05\n",
            "Epoch 72/100\n",
            "7/7 [==============================] - 0s 28ms/step - loss: 0.8328 - lr: 3.5481e-05\n",
            "Epoch 73/100\n",
            "7/7 [==============================] - 0s 29ms/step - loss: 0.5671 - lr: 3.9811e-05\n",
            "Epoch 74/100\n",
            "7/7 [==============================] - 0s 25ms/step - loss: 1.3431 - lr: 4.4668e-05\n",
            "Epoch 75/100\n",
            "7/7 [==============================] - 0s 24ms/step - loss: 1.6836 - lr: 5.0119e-05\n",
            "Epoch 76/100\n",
            "7/7 [==============================] - 0s 26ms/step - loss: 0.5267 - lr: 5.6234e-05\n",
            "Epoch 77/100\n",
            "7/7 [==============================] - 0s 23ms/step - loss: 1.0313 - lr: 6.3096e-05\n",
            "Epoch 78/100\n",
            "7/7 [==============================] - 0s 30ms/step - loss: 1.4149 - lr: 7.0795e-05\n",
            "Epoch 79/100\n",
            "7/7 [==============================] - 0s 28ms/step - loss: 3.9995 - lr: 7.9433e-05\n",
            "Epoch 80/100\n",
            "7/7 [==============================] - 0s 27ms/step - loss: 1.6988 - lr: 8.9125e-05\n",
            "Epoch 81/100\n",
            "7/7 [==============================] - 0s 26ms/step - loss: 2.2219 - lr: 1.0000e-04\n",
            "Epoch 82/100\n",
            "7/7 [==============================] - 0s 30ms/step - loss: 5.8438 - lr: 1.1220e-04\n",
            "Epoch 83/100\n",
            "7/7 [==============================] - 0s 31ms/step - loss: 8.3618 - lr: 1.2589e-04\n",
            "Epoch 84/100\n",
            "7/7 [==============================] - 0s 30ms/step - loss: 7.0343 - lr: 1.4125e-04\n",
            "Epoch 85/100\n",
            "7/7 [==============================] - 0s 26ms/step - loss: 2.2739 - lr: 1.5849e-04\n",
            "Epoch 86/100\n",
            "7/7 [==============================] - 0s 23ms/step - loss: 5.1289 - lr: 1.7783e-04\n",
            "Epoch 87/100\n",
            "7/7 [==============================] - 0s 24ms/step - loss: 4.5236 - lr: 1.9953e-04\n",
            "Epoch 88/100\n",
            "7/7 [==============================] - 0s 26ms/step - loss: 1.7219 - lr: 2.2387e-04\n",
            "Epoch 89/100\n",
            "7/7 [==============================] - 0s 30ms/step - loss: 3.8804 - lr: 2.5119e-04\n",
            "Epoch 90/100\n",
            "7/7 [==============================] - 0s 27ms/step - loss: 2.8030 - lr: 2.8184e-04\n",
            "Epoch 91/100\n",
            "7/7 [==============================] - 0s 31ms/step - loss: 3.0027 - lr: 3.1623e-04\n",
            "Epoch 92/100\n",
            "7/7 [==============================] - 0s 27ms/step - loss: 3.4852 - lr: 3.5481e-04\n",
            "Epoch 93/100\n",
            "7/7 [==============================] - 0s 24ms/step - loss: 3.0325 - lr: 3.9811e-04\n",
            "Epoch 94/100\n",
            "7/7 [==============================] - 0s 27ms/step - loss: 6.7002 - lr: 4.4668e-04\n",
            "Epoch 95/100\n",
            "7/7 [==============================] - 0s 24ms/step - loss: 3.4102 - lr: 5.0119e-04\n",
            "Epoch 96/100\n",
            "7/7 [==============================] - 0s 26ms/step - loss: 4.9735 - lr: 5.6234e-04\n",
            "Epoch 97/100\n",
            "7/7 [==============================] - 0s 25ms/step - loss: 4.8608 - lr: 6.3096e-04\n",
            "Epoch 98/100\n",
            "7/7 [==============================] - 0s 28ms/step - loss: 6.0769 - lr: 7.0795e-04\n",
            "Epoch 99/100\n",
            "7/7 [==============================] - 0s 25ms/step - loss: 3.9767 - lr: 7.9433e-04\n",
            "Epoch 100/100\n",
            "7/7 [==============================] - 0s 26ms/step - loss: 6.7403 - lr: 8.9125e-04\n"
          ]
        }
      ]
    },
    {
      "cell_type": "code",
      "source": [
        "# Define the learning rate array\n",
        "lrs = 1e-8 * (10 ** (np.arange(100) / 20))\n",
        "\n",
        "# Set the figure size\n",
        "plt.figure(figsize=(10, 6))\n",
        "\n",
        "# Set the grid\n",
        "plt.grid(True)\n",
        "\n",
        "# Plot the loss in log scale\n",
        "plt.semilogx(lrs, history.history[\"loss\"])\n",
        "\n",
        "# Increase the tickmarks size\n",
        "plt.tick_params('both', length=10, width=1, which='both')\n",
        "\n",
        "# Set the plot boundaries\n",
        "plt.axis([1e-8, 1e-3, 0, 50])"
      ],
      "metadata": {
        "colab": {
          "base_uri": "https://localhost:8080/",
          "height": 558
        },
        "id": "_U5sUnBTNdfC",
        "outputId": "c136da83-d685-4255-daaf-2f0ac4d82283"
      },
      "execution_count": null,
      "outputs": [
        {
          "output_type": "execute_result",
          "data": {
            "text/plain": [
              "(1e-08, 0.001, 0.0, 50.0)"
            ]
          },
          "metadata": {},
          "execution_count": 67
        },
        {
          "output_type": "display_data",
          "data": {
            "text/plain": [
              "<Figure size 1000x600 with 1 Axes>"
            ],
            "image/png": "[encoded data removed]"
          },
          "metadata": {}
        }
      ]
    },
    {
      "cell_type": "code",
      "source": [
        "# Reset states generated by Keras\n",
        "tf.keras.backend.clear_session()\n",
        "\n",
        "# Reset the weights\n",
        "model.set_weights(init_weights)"
      ],
      "metadata": {
        "id": "MclF3BmrNnAi"
      },
      "execution_count": null,
      "outputs": []
    },
    {
      "cell_type": "markdown",
      "source": [
        "Based on the graph above, the recommended learning rate is 1e-6"
      ],
      "metadata": {
        "id": "OaFLwgPncl14"
      }
    },
    {
      "cell_type": "code",
      "source": [
        "# Set the learning rate\n",
        "learning_rate = 1e-6\n",
        "\n",
        "# Set the optimizer\n",
        "optimizer = tf.keras.optimizers.SGD(learning_rate=learning_rate, momentum=0.9)\n",
        "\n",
        "# Set the training parameters\n",
        "model.compile(loss=tf.keras.losses.Huber(),\n",
        "              optimizer=optimizer,\n",
        "              metrics=[\"mae\"])"
      ],
      "metadata": {
        "id": "DZIbxKGgNoMh"
      },
      "execution_count": null,
      "outputs": []
    },
    {
      "cell_type": "code",
      "source": [
        "# Train the model\n",
        "Epochs = 100\n",
        "history = model.fit(train_set,epochs=Epochs)"
      ],
      "metadata": {
        "colab": {
          "base_uri": "https://localhost:8080/"
        },
        "id": "ljSTZCVLN2F5",
        "outputId": "f4670678-ba23-4bf5-a8da-c291b0ff02b4"
      },
      "execution_count": null,
      "outputs": [
        {
          "output_type": "stream",
          "name": "stdout",
          "text": [
            "Epoch 1/100\n",
            "7/7 [==============================] - 11s 30ms/step - loss: 19.8892 - mae: 20.3892\n",
            "Epoch 2/100\n",
            "7/7 [==============================] - 0s 24ms/step - loss: 16.2672 - mae: 16.7672\n",
            "Epoch 3/100\n",
            "7/7 [==============================] - 0s 25ms/step - loss: 10.2523 - mae: 10.7523\n",
            "Epoch 4/100\n",
            "7/7 [==============================] - 0s 24ms/step - loss: 2.7915 - mae: 3.2839\n",
            "Epoch 5/100\n",
            "7/7 [==============================] - 0s 25ms/step - loss: 1.6714 - mae: 2.1518\n",
            "Epoch 6/100\n",
            "7/7 [==============================] - 0s 26ms/step - loss: 1.6017 - mae: 2.0811\n",
            "Epoch 7/100\n",
            "7/7 [==============================] - 0s 25ms/step - loss: 0.5359 - mae: 0.9322\n",
            "Epoch 8/100\n",
            "7/7 [==============================] - 0s 24ms/step - loss: 0.4070 - mae: 0.7987\n",
            "Epoch 9/100\n",
            "7/7 [==============================] - 0s 28ms/step - loss: 0.4047 - mae: 0.7903\n",
            "Epoch 10/100\n",
            "7/7 [==============================] - 0s 34ms/step - loss: 0.2886 - mae: 0.6248\n",
            "Epoch 11/100\n",
            "7/7 [==============================] - 0s 45ms/step - loss: 0.2531 - mae: 0.6061\n",
            "Epoch 12/100\n",
            "7/7 [==============================] - 0s 47ms/step - loss: 0.2560 - mae: 0.5822\n",
            "Epoch 13/100\n",
            "7/7 [==============================] - 0s 44ms/step - loss: 0.2519 - mae: 0.5774\n",
            "Epoch 14/100\n",
            "7/7 [==============================] - 0s 43ms/step - loss: 0.2310 - mae: 0.5485\n",
            "Epoch 15/100\n",
            "7/7 [==============================] - 0s 25ms/step - loss: 0.2451 - mae: 0.5616\n",
            "Epoch 16/100\n",
            "7/7 [==============================] - 0s 23ms/step - loss: 0.2408 - mae: 0.5598\n",
            "Epoch 17/100\n",
            "7/7 [==============================] - 0s 27ms/step - loss: 0.2322 - mae: 0.5466\n",
            "Epoch 18/100\n",
            "7/7 [==============================] - 0s 24ms/step - loss: 0.2428 - mae: 0.5572\n",
            "Epoch 19/100\n",
            "7/7 [==============================] - 0s 24ms/step - loss: 0.2366 - mae: 0.5539\n",
            "Epoch 20/100\n",
            "7/7 [==============================] - 0s 23ms/step - loss: 0.2307 - mae: 0.5458\n",
            "Epoch 21/100\n",
            "7/7 [==============================] - 0s 25ms/step - loss: 0.2373 - mae: 0.5478\n",
            "Epoch 22/100\n",
            "7/7 [==============================] - 0s 26ms/step - loss: 0.2332 - mae: 0.5524\n",
            "Epoch 23/100\n",
            "7/7 [==============================] - 0s 26ms/step - loss: 0.2310 - mae: 0.5505\n",
            "Epoch 24/100\n",
            "7/7 [==============================] - 0s 25ms/step - loss: 0.2302 - mae: 0.5396\n",
            "Epoch 25/100\n",
            "7/7 [==============================] - 0s 28ms/step - loss: 0.2377 - mae: 0.5516\n",
            "Epoch 26/100\n",
            "7/7 [==============================] - 0s 24ms/step - loss: 0.2291 - mae: 0.5443\n",
            "Epoch 27/100\n",
            "7/7 [==============================] - 0s 25ms/step - loss: 0.2316 - mae: 0.5418\n",
            "Epoch 28/100\n",
            "7/7 [==============================] - 0s 23ms/step - loss: 0.2347 - mae: 0.5466\n",
            "Epoch 29/100\n",
            "7/7 [==============================] - 0s 25ms/step - loss: 0.2347 - mae: 0.5514\n",
            "Epoch 30/100\n",
            "7/7 [==============================] - 0s 24ms/step - loss: 0.2303 - mae: 0.5435\n",
            "Epoch 31/100\n",
            "7/7 [==============================] - 0s 28ms/step - loss: 0.2331 - mae: 0.5433\n",
            "Epoch 32/100\n",
            "7/7 [==============================] - 0s 30ms/step - loss: 0.2287 - mae: 0.5400\n",
            "Epoch 33/100\n",
            "7/7 [==============================] - 0s 27ms/step - loss: 0.2291 - mae: 0.5432\n",
            "Epoch 34/100\n",
            "7/7 [==============================] - 0s 28ms/step - loss: 0.2298 - mae: 0.5440\n",
            "Epoch 35/100\n",
            "7/7 [==============================] - 0s 24ms/step - loss: 0.2271 - mae: 0.5432\n",
            "Epoch 36/100\n",
            "7/7 [==============================] - 0s 24ms/step - loss: 0.2279 - mae: 0.5382\n",
            "Epoch 37/100\n",
            "7/7 [==============================] - 0s 24ms/step - loss: 0.2352 - mae: 0.5485\n",
            "Epoch 38/100\n",
            "7/7 [==============================] - 0s 26ms/step - loss: 0.2222 - mae: 0.5386\n",
            "Epoch 39/100\n",
            "7/7 [==============================] - 0s 24ms/step - loss: 0.2317 - mae: 0.5442\n",
            "Epoch 40/100\n",
            "7/7 [==============================] - 0s 24ms/step - loss: 0.2264 - mae: 0.5430\n",
            "Epoch 41/100\n",
            "7/7 [==============================] - 0s 24ms/step - loss: 0.2228 - mae: 0.5388\n",
            "Epoch 42/100\n",
            "7/7 [==============================] - 0s 22ms/step - loss: 0.2267 - mae: 0.5372\n",
            "Epoch 43/100\n",
            "7/7 [==============================] - 0s 25ms/step - loss: 0.2254 - mae: 0.5370\n",
            "Epoch 44/100\n",
            "7/7 [==============================] - 0s 24ms/step - loss: 0.2258 - mae: 0.5362\n",
            "Epoch 45/100\n",
            "7/7 [==============================] - 0s 24ms/step - loss: 0.2253 - mae: 0.5385\n",
            "Epoch 46/100\n",
            "7/7 [==============================] - 0s 25ms/step - loss: 0.2231 - mae: 0.5325\n",
            "Epoch 47/100\n",
            "7/7 [==============================] - 0s 25ms/step - loss: 0.2262 - mae: 0.5375\n",
            "Epoch 48/100\n",
            "7/7 [==============================] - 0s 24ms/step - loss: 0.2241 - mae: 0.5341\n",
            "Epoch 49/100\n",
            "7/7 [==============================] - 0s 24ms/step - loss: 0.2255 - mae: 0.5376\n",
            "Epoch 50/100\n",
            "7/7 [==============================] - 0s 25ms/step - loss: 0.2216 - mae: 0.5328\n",
            "Epoch 51/100\n",
            "7/7 [==============================] - 0s 25ms/step - loss: 0.2236 - mae: 0.5359\n",
            "Epoch 52/100\n",
            "7/7 [==============================] - 0s 26ms/step - loss: 0.2215 - mae: 0.5293\n",
            "Epoch 53/100\n",
            "7/7 [==============================] - 0s 24ms/step - loss: 0.2248 - mae: 0.5376\n",
            "Epoch 54/100\n",
            "7/7 [==============================] - 0s 26ms/step - loss: 0.2207 - mae: 0.5314\n",
            "Epoch 55/100\n",
            "7/7 [==============================] - 0s 29ms/step - loss: 0.2281 - mae: 0.5409\n",
            "Epoch 56/100\n",
            "7/7 [==============================] - 0s 45ms/step - loss: 0.2205 - mae: 0.5395\n",
            "Epoch 57/100\n",
            "7/7 [==============================] - 0s 43ms/step - loss: 0.2215 - mae: 0.5315\n",
            "Epoch 58/100\n",
            "7/7 [==============================] - 0s 46ms/step - loss: 0.2282 - mae: 0.5390\n",
            "Epoch 59/100\n",
            "7/7 [==============================] - 0s 47ms/step - loss: 0.2200 - mae: 0.5329\n",
            "Epoch 60/100\n",
            "7/7 [==============================] - 0s 49ms/step - loss: 0.2229 - mae: 0.5337\n",
            "Epoch 61/100\n",
            "7/7 [==============================] - 0s 44ms/step - loss: 0.2183 - mae: 0.5268\n",
            "Epoch 62/100\n",
            "7/7 [==============================] - 0s 37ms/step - loss: 0.2226 - mae: 0.5308\n",
            "Epoch 63/100\n",
            "7/7 [==============================] - 0s 26ms/step - loss: 0.2179 - mae: 0.5301\n",
            "Epoch 64/100\n",
            "7/7 [==============================] - 0s 27ms/step - loss: 0.2227 - mae: 0.5282\n",
            "Epoch 65/100\n",
            "7/7 [==============================] - 0s 29ms/step - loss: 0.2224 - mae: 0.5322\n",
            "Epoch 66/100\n",
            "7/7 [==============================] - 0s 29ms/step - loss: 0.2169 - mae: 0.5250\n",
            "Epoch 67/100\n",
            "7/7 [==============================] - 0s 25ms/step - loss: 0.2207 - mae: 0.5325\n",
            "Epoch 68/100\n",
            "7/7 [==============================] - 0s 23ms/step - loss: 0.2229 - mae: 0.5328\n",
            "Epoch 69/100\n",
            "7/7 [==============================] - 0s 25ms/step - loss: 0.2191 - mae: 0.5310\n",
            "Epoch 70/100\n",
            "7/7 [==============================] - 0s 26ms/step - loss: 0.2163 - mae: 0.5260\n",
            "Epoch 71/100\n",
            "7/7 [==============================] - 0s 25ms/step - loss: 0.2184 - mae: 0.5271\n",
            "Epoch 72/100\n",
            "7/7 [==============================] - 0s 25ms/step - loss: 0.2154 - mae: 0.5254\n",
            "Epoch 73/100\n",
            "7/7 [==============================] - 0s 27ms/step - loss: 0.2131 - mae: 0.5231\n",
            "Epoch 74/100\n",
            "7/7 [==============================] - 0s 27ms/step - loss: 0.2130 - mae: 0.5200\n",
            "Epoch 75/100\n",
            "7/7 [==============================] - 0s 25ms/step - loss: 0.2178 - mae: 0.5295\n",
            "Epoch 76/100\n",
            "7/7 [==============================] - 0s 27ms/step - loss: 0.2124 - mae: 0.5216\n",
            "Epoch 77/100\n",
            "7/7 [==============================] - 0s 25ms/step - loss: 0.2173 - mae: 0.5255\n",
            "Epoch 78/100\n",
            "7/7 [==============================] - 0s 26ms/step - loss: 0.2142 - mae: 0.5225\n",
            "Epoch 79/100\n",
            "7/7 [==============================] - 0s 30ms/step - loss: 0.2139 - mae: 0.5220\n",
            "Epoch 80/100\n",
            "7/7 [==============================] - 0s 29ms/step - loss: 0.2169 - mae: 0.5220\n",
            "Epoch 81/100\n",
            "7/7 [==============================] - 0s 29ms/step - loss: 0.2171 - mae: 0.5263\n",
            "Epoch 82/100\n",
            "7/7 [==============================] - 0s 25ms/step - loss: 0.2122 - mae: 0.5232\n",
            "Epoch 83/100\n",
            "7/7 [==============================] - 0s 25ms/step - loss: 0.2116 - mae: 0.5188\n",
            "Epoch 84/100\n",
            "7/7 [==============================] - 0s 26ms/step - loss: 0.2132 - mae: 0.5223\n",
            "Epoch 85/100\n",
            "7/7 [==============================] - 0s 27ms/step - loss: 0.2121 - mae: 0.5194\n",
            "Epoch 86/100\n",
            "7/7 [==============================] - 0s 25ms/step - loss: 0.2115 - mae: 0.5211\n",
            "Epoch 87/100\n",
            "7/7 [==============================] - 0s 26ms/step - loss: 0.2112 - mae: 0.5184\n",
            "Epoch 88/100\n",
            "7/7 [==============================] - 0s 23ms/step - loss: 0.2103 - mae: 0.5207\n",
            "Epoch 89/100\n",
            "7/7 [==============================] - 0s 26ms/step - loss: 0.2151 - mae: 0.5248\n",
            "Epoch 90/100\n",
            "7/7 [==============================] - 0s 24ms/step - loss: 0.2150 - mae: 0.5251\n",
            "Epoch 91/100\n",
            "7/7 [==============================] - 0s 28ms/step - loss: 0.2073 - mae: 0.5175\n",
            "Epoch 92/100\n",
            "7/7 [==============================] - 0s 25ms/step - loss: 0.2147 - mae: 0.5184\n",
            "Epoch 93/100\n",
            "7/7 [==============================] - 0s 25ms/step - loss: 0.2185 - mae: 0.5269\n",
            "Epoch 94/100\n",
            "7/7 [==============================] - 0s 27ms/step - loss: 0.2054 - mae: 0.5137\n",
            "Epoch 95/100\n",
            "7/7 [==============================] - 0s 27ms/step - loss: 0.2165 - mae: 0.5245\n",
            "Epoch 96/100\n",
            "7/7 [==============================] - 0s 24ms/step - loss: 0.2125 - mae: 0.5197\n",
            "Epoch 97/100\n",
            "7/7 [==============================] - 0s 26ms/step - loss: 0.2099 - mae: 0.5170\n",
            "Epoch 98/100\n",
            "7/7 [==============================] - 0s 24ms/step - loss: 0.2091 - mae: 0.5165\n",
            "Epoch 99/100\n",
            "7/7 [==============================] - 0s 28ms/step - loss: 0.2083 - mae: 0.5154\n",
            "Epoch 100/100\n",
            "7/7 [==============================] - 0s 33ms/step - loss: 0.2072 - mae: 0.5144\n"
          ]
        }
      ]
    },
    {
      "cell_type": "code",
      "source": [
        "def model_forecast(model, series, window_size, batch_size):\n",
        "    \"\"\"Uses an input model to generate predictions on data windows\n",
        "\n",
        "    Args:\n",
        "      model (TF Keras Model) - model that accepts data windows\n",
        "      series (array of float) - contains the values of the time series\n",
        "      window_size (int) - the number of time steps to include in the window\n",
        "      batch_size (int) - the batch size\n",
        "\n",
        "    Returns:\n",
        "      forecast (numpy array) - array containing predictions\n",
        "    \"\"\"\n",
        "\n",
        "    # Generate a TF Dataset from the series values\n",
        "    dataset = tf.data.Dataset.from_tensor_slices(series)\n",
        "\n",
        "    # Window the data but only take those with the specified size\n",
        "    dataset = dataset.window(window_size, shift=1, drop_remainder=True)\n",
        "\n",
        "    # Flatten the windows by putting its elements in a single batch\n",
        "    dataset = dataset.flat_map(lambda w: w.batch(window_size))\n",
        "    \n",
        "    # Create batches of windows\n",
        "    dataset = dataset.batch(batch_size).prefetch(1)\n",
        "    \n",
        "    # Get predictions on the entire dataset\n",
        "    forecast = model.predict(dataset)\n",
        "    \n",
        "    return forecast"
      ],
      "metadata": {
        "id": "-ELlKWGOOufn"
      },
      "execution_count": null,
      "outputs": []
    },
    {
      "cell_type": "markdown",
      "source": [
        "#EVALUATE THE MODEL"
      ],
      "metadata": {
        "id": "-wwwKF5Q6ZT_"
      }
    },
    {
      "cell_type": "code",
      "source": [
        "def compute_metrics(true_series, forecast):\n",
        "    \n",
        "    mse = tf.keras.metrics.mean_squared_error(true_series, forecast).numpy()\n",
        "    mae = tf.keras.metrics.mean_absolute_error(true_series, forecast).numpy()\n",
        "\n",
        "    return mse, mae"
      ],
      "metadata": {
        "id": "P0PawUqAOXLu"
      },
      "execution_count": null,
      "outputs": []
    },
    {
      "cell_type": "code",
      "source": [
        "cnn_forecast = model_forecast(model, G.SERIES, G.WINDOW_SIZE, G.BATCH_SIZE).squeeze()\n",
        "cnn_forecast = cnn_forecast[G.SPLIT_TIME - G.WINDOW_SIZE:-1]\n",
        "mse, mae = compute_metrics(series_valid, cnn_forecast)\n",
        "\n",
        "print(f\"mse: {mse:.2f}, mae: {mae:.2f} for forecast\")"
      ],
      "metadata": {
        "colab": {
          "base_uri": "https://localhost:8080/"
        },
        "id": "frlRqkXtOfYt",
        "outputId": "7e75e994-5698-478e-8c82-88a72b03d694"
      },
      "execution_count": null,
      "outputs": [
        {
          "output_type": "stream",
          "name": "stdout",
          "text": [
            "9/9 [==============================] - 3s 13ms/step\n",
            "mse: 0.47, mae: 0.48 for forecast\n"
          ]
        }
      ]
    },
    {
      "cell_type": "markdown",
      "source": [
        "MAE: 0.48 implies that, on average, the forecast's distance from the true value is 0.48 (Rp480,00)"
      ],
      "metadata": {
        "id": "Ve5LF8ireNhZ"
      }
    },
    {
      "cell_type": "code",
      "source": [
        "# Compute the forecast for all the series\n",
        "cnn_forecast = model_forecast(model, G.SERIES, G.WINDOW_SIZE, G.BATCH_SIZE).squeeze()\n",
        "tam = [None,None,None,None,None,None,None,None,None,None,None]\n",
        "\n",
        "\n",
        "# Slice the forecast to get only the predictions for the validation set\n",
        "cnn_forecast = np.insert(cnn_forecast, 0, tam)\n",
        "\n",
        "# Plot the forecast\n",
        "plt.figure(figsize=(10, 5))\n",
        "plot_series(G.TIME, G.SERIES)\n",
        "plot_series(G.TIME, cnn_forecast)"
      ],
      "metadata": {
        "colab": {
          "base_uri": "https://localhost:8080/",
          "height": 482
        },
        "id": "kKeQPGFCPMLB",
        "outputId": "1c6cc3a5-b476-4bcb-fd43-49c46bd5f02c"
      },
      "execution_count": null,
      "outputs": [
        {
          "output_type": "stream",
          "name": "stdout",
          "text": [
            "9/9 [==============================] - 0s 14ms/step\n"
          ]
        },
        {
          "output_type": "display_data",
          "data": {
            "text/plain": [
              "<Figure size 1000x500 with 1 Axes>"
            ],
            "image/png": "[encoded data removed]"
          },
          "metadata": {}
        }
      ]
    },
    {
      "cell_type": "code",
      "source": [
        "plt.figure(figsize=(10, 5))\n",
        "plt.plot(range(10), history.history[\"loss\"][:10])\n",
        "plt.plot(range(10), history.history[\"mae\"][:10])\n",
        "plt.xlabel(\"Epochs\")\n",
        "plt.ylabel(\"Value\")\n",
        "\n",
        "plt.show()"
      ],
      "metadata": {
        "colab": {
          "base_uri": "https://localhost:8080/",
          "height": 465
        },
        "id": "to5Oy-NxR1-j",
        "outputId": "2557bbc5-783f-46a7-d727-d5877a09d9fa"
      },
      "execution_count": null,
      "outputs": [
        {
          "output_type": "display_data",
          "data": {
            "text/plain": [
              "<Figure size 1000x500 with 1 Axes>"
            ],
            "image/png": "[encoded data removed]"
          },
          "metadata": {}
        }
      ]
    },
    {
      "cell_type": "markdown",
      "source": [
        "#FORECASTING"
      ],
      "metadata": {
        "id": "nNqxFQo96TMx"
      }
    },
    {
      "cell_type": "code",
      "source": [
        "# prepare data for forecasting\n",
        "last_window = G.SERIES[-G.WINDOW_SIZE:]\n",
        "last_window = np.reshape(last_window, (1, G.WINDOW_SIZE, 1))\n",
        "\n",
        "# make a forecast for n steps ahead\n",
        "forecast_norm = []\n",
        "for _ in range(3):\n",
        "    pred = model.predict(last_window)[0, 0]\n",
        "    forecast_norm.append(pred)\n",
        "    last_window = np.roll(last_window, -1, axis=1)\n",
        "    last_window[0, -1, 0] = pred\n",
        "\n",
        "forecast = forecast_norm\n",
        "print(\"Forecast:\", forecast)"
      ],
      "metadata": {
        "colab": {
          "base_uri": "https://localhost:8080/"
        },
        "id": "EBmQ4eAT8caf",
        "outputId": "95cddd0c-a273-44a8-9380-70cc2affb72f"
      },
      "execution_count": null,
      "outputs": [
        {
          "output_type": "stream",
          "name": "stdout",
          "text": [
            "1/1 [==============================] - 2s 2s/step\n",
            "1/1 [==============================] - 0s 32ms/step\n",
            "1/1 [==============================] - 0s 29ms/step\n",
            "Forecast: [19.237019, 19.286457, 19.161919]\n"
          ]
        }
      ]
    },
    {
      "cell_type": "markdown",
      "source": [
        "#SAVE THE MODEL"
      ],
      "metadata": {
        "id": "-WoZ6wL16eXr"
      }
    },
    {
      "cell_type": "code",
      "source": [
        "model.save(\"LelewithForecastedData90.h5\")"
      ],
      "metadata": {
        "id": "PHPxvymSLf-Q"
      },
      "execution_count": null,
      "outputs": []
    },
    {
      "cell_type": "markdown",
      "source": [
        "#REFERENSI\n",
        "\n",
        "* coursera\n",
        "* https://medium.com/analytics-vidhya/identifying-cleaning-and-replacing-outliers-titanic-dataset-20182a062893\n",
        "* https://online.stat.psu.edu/stat200/lesson/3/3.2#:~:text=We%20can%20use%20the%20IQR,add%20this%20value%20to%20Q3.\n"
      ],
      "metadata": {
        "id": "scWhEb1Harkj"
      }
    }
  ]
}