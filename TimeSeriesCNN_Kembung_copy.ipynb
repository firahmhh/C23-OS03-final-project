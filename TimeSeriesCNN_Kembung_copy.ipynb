{
  "nbformat": 4,
  "nbformat_minor": 0,
  "metadata": {
    "colab": {
      "provenance": [],
      "include_colab_link": true
    },
    "kernelspec": {
      "name": "python3",
      "display_name": "Python 3"
    },
    "language_info": {
      "name": "python"
    }
  },
  "cells": [
    {
      "cell_type": "markdown",
      "metadata": {
        "id": "view-in-github",
        "colab_type": "text"
      },
      "source": [
        "<a href=\"https://colab.research.google.com/github/firahmhh/OCTOFISH-CHECKPOINT/blob/Machine-Learning/TimeSeriesCNN_Kembung_copy.ipynb\" target=\"_parent\"><img src=\"https://colab.research.google.com/assets/colab-badge.svg\" alt=\"Open In Colab\"/></a>"
      ]
    },
    {
      "cell_type": "code",
      "execution_count": 1,
      "metadata": {
        "colab": {
          "base_uri": "https://localhost:8080/"
        },
        "id": "se_nIqvRFuyO",
        "outputId": "5a65f3ef-609d-44f1-cb5c-1d09f971d70d"
      },
      "outputs": [
        {
          "output_type": "stream",
          "name": "stdout",
          "text": [
            "Mounted at /content/drive\n"
          ]
        }
      ],
      "source": [
        "import csv\n",
        "import numpy as np\n",
        "import tensorflow as tf\n",
        "import matplotlib.pyplot as plt\n",
        "import pandas as pd\n",
        "\n",
        "from dataclasses import dataclass\n",
        "from google.colab import drive\n",
        "drive.mount('/content/drive')"
      ]
    },
    {
      "cell_type": "code",
      "source": [
        "df1 = pd.read_csv('https://raw.githubusercontent.com/firahmhh/OCTOFISH-CHECKPOINT/Machine-Learning/Dataset/Dataset%20-%20Price%20Prediction/Kembung.csv', sep =',')"
      ],
      "metadata": {
        "id": "12UiO3NUDjhN"
      },
      "execution_count": 2,
      "outputs": []
    },
    {
      "cell_type": "code",
      "source": [
        "Q1 = df1['Harga'].quantile(0.25)\n",
        "Q3 = df1['Harga'].quantile(0.75)\n",
        "IQR = Q3 - Q1\n",
        "# df = df1[(df1['Harga'] >= Q1 - 1.5 * IQR) & (df1['Harga'] <= Q3 + 1.5 * IQR)]\n",
        "threshold = 1.5*IQR\n",
        "median = np.median(df1['Harga'])\n",
        "outliers = (df1['Harga'] < Q1 - threshold) | (df1['Harga'] > Q3 + threshold)\n",
        "df1[outliers] = median"
      ],
      "metadata": {
        "id": "isMDMYveDvcD"
      },
      "execution_count": 3,
      "outputs": []
    },
    {
      "cell_type": "code",
      "source": [
        "# def get_data(filename):\n",
        "    \n",
        "#     times = []\n",
        "#     value = []\n",
        "\n",
        "#     with open(filename) as csvfile:\n",
        "        \n",
        "#         reader = csv.reader(csvfile, delimiter=',')\n",
        "#         next(reader)\n",
        "#         i = 0\n",
        "#         for row in reader:\n",
        "#             times.append(i)\n",
        "#             value.append(float(row[1])/1000)\n",
        "#             i+=1\n",
        "\n",
        "    \n",
        "#     return times, value\n",
        "\n",
        "\n",
        "\n",
        "def get_data(data):\n",
        "    \n",
        "    times = []\n",
        "    value = []\n",
        "\n",
        "    i = 0\n",
        "    for row in data:\n",
        "      times.append(i)\n",
        "      value.append(float(row)/1000)\n",
        "      i+=1\n",
        "\n",
        "    \n",
        "    return times, value\n",
        "\n",
        "\n",
        "\n"
      ],
      "metadata": {
        "id": "HP1EhGPwFzKR"
      },
      "execution_count": 4,
      "outputs": []
    },
    {
      "cell_type": "code",
      "source": [
        "def plot_series(time, series, format=\"-\", start=0, end=None):\n",
        "    plt.plot(time[start:end], series[start:end], format)\n",
        "    plt.xlabel(\"Time\")\n",
        "    plt.ylabel(\"Value\")\n",
        "    plt.grid(True)"
      ],
      "metadata": {
        "id": "6S8Mf3yBHNTg"
      },
      "execution_count": 5,
      "outputs": []
    },
    {
      "cell_type": "code",
      "source": [
        "# Test your function and save all \"global\" variables within the G class (G stands for global)\n",
        "@dataclass\n",
        "class G:\n",
        "    FILE_CSV = 'https://raw.githubusercontent.com/firahmhh/OCTOFISH-CHECKPOINT/Machine-Learning/Dataset/Dataset%20-%20Price%20Prediction/Kembung.csv'\n",
        "    times, price = get_data(df1['Harga'])\n",
        "    TIME = np.array(times)\n",
        "    SERIES = np.array(price)\n",
        "    SPLIT_TIME = 62\n",
        "    WINDOW_SIZE = 12\n",
        "    BATCH_SIZE = 12\n",
        "    SHUFFLE_BUFFER_SIZE = 150\n"
      ],
      "metadata": {
        "id": "RZ2bR_YiGkSh"
      },
      "execution_count": 6,
      "outputs": []
    },
    {
      "cell_type": "code",
      "source": [
        "plt.figure(figsize=(3, 2))\n",
        "plot_series(G.TIME, G.SERIES)\n",
        "plt.show()"
      ],
      "metadata": {
        "colab": {
          "base_uri": "https://localhost:8080/",
          "height": 234
        },
        "id": "R2HONSfzJRsk",
        "outputId": "38baa25d-06b2-4209-89aa-a5ed87d722b1"
      },
      "execution_count": 7,
      "outputs": [
        {
          "output_type": "display_data",
          "data": {
            "text/plain": [
              "<Figure size 300x200 with 1 Axes>"
            ],
            "image/png": "[encoded data removed]"
          },
          "metadata": {}
        }
      ]
    },
    {
      "cell_type": "code",
      "source": [
        "def train_val_split(time, series, time_step=G.SPLIT_TIME):\n",
        "\n",
        "    time_train = time[:time_step]\n",
        "    series_train = series[:time_step]\n",
        "    time_valid = time[time_step:]\n",
        "    series_valid = series[time_step:]\n",
        "\n",
        "    return time_train, series_train, time_valid, series_valid"
      ],
      "metadata": {
        "id": "AKhlCThVHhCZ"
      },
      "execution_count": 8,
      "outputs": []
    },
    {
      "cell_type": "code",
      "source": [
        "# Split the dataset\n",
        "time_train, series_train, time_valid, series_valid = train_val_split(G.TIME, G.SERIES)"
      ],
      "metadata": {
        "id": "SF71F6BMJpF0"
      },
      "execution_count": 9,
      "outputs": []
    },
    {
      "cell_type": "code",
      "source": [
        "def windowed_dataset(series, window_size=G.WINDOW_SIZE, batch_size=G.BATCH_SIZE, shuffle_buffer=G.SHUFFLE_BUFFER_SIZE):\n",
        "    ds = tf.data.Dataset.from_tensor_slices(series)\n",
        "    ds = ds.window(window_size + 1, shift=1, drop_remainder=True)\n",
        "    ds = ds.flat_map(lambda w: w.batch(window_size + 1))\n",
        "    ds = ds.shuffle(shuffle_buffer)\n",
        "    ds = ds.map(lambda w: (w[:-1], w[-1]))\n",
        "    ds = ds.batch(batch_size).prefetch(1)\n",
        "    return ds\n"
      ],
      "metadata": {
        "id": "f9kaadcXJe5M"
      },
      "execution_count": 10,
      "outputs": []
    },
    {
      "cell_type": "code",
      "source": [
        "# Apply the transformation to the training set\n",
        "train_set = windowed_dataset(series_train, window_size=G.WINDOW_SIZE, batch_size=G.BATCH_SIZE, shuffle_buffer=G.SHUFFLE_BUFFER_SIZE)"
      ],
      "metadata": {
        "id": "Q84t5hDNJnDv"
      },
      "execution_count": 11,
      "outputs": []
    },
    {
      "cell_type": "markdown",
      "source": [
        "## Build the Model\n",
        "\n",
        "Here is the model architecture you will be using. It is very similar to the last RNN you built but with the [Conv1D](https://www.tensorflow.org/api_docs/python/tf/keras/layers/Conv1D) layer at the input. One important [argument](https://www.tensorflow.org/api_docs/python/tf/keras/layers/Conv1D#args) here is the `padding`. For time series data, it is good practice to not let computations for a particular time step to be affected by values into the future. Here is one way of looking at it:\n",
        "\n",
        "* Let's say you have a small time series window with these values: `[1, 2, 3, 4, 5]`. This means the value `1` is at `t=0`, `2` is at `t=1`, etc.\n",
        "* If you have a 1D kernel of size `3`, then the first convolution will be for the values at `[1, 2, 3]` which are values for `t=0` to `t=2`.\n",
        "* When you pass this to the first timestep of the `LSTM` after the convolution, it means that the value at `t=0` of the LSTM depends on `t=1` and `t=2` which are values into the future.\n",
        "* For time series data, you want computations to only rely on current and previous time steps.\n",
        "* One way to do that is to pad the array depending on the kernel size and stride. For a kernel size of 3 and stride of 1, the window can be padded as such: `[0, 0, 1, 2, 3, 4, 5]`. `1` is still at `t=0` and two zeroes are prepended to simulate values in the past.\n",
        "* This way, the first stride will be at `[0, 0, 1]` and this does not contain any future values when it is passed on to subsequent layers.\n",
        "\n",
        "The `Conv1D` layer does this kind of padding by setting `padding=causal` and you'll see that below."
      ],
      "metadata": {
        "id": "M4vF3mFnKD-R"
      }
    },
    {
      "cell_type": "code",
      "source": [
        "def create_model():\n",
        "    \n",
        "    model = tf.keras.models.Sequential([ \n",
        "        tf.keras.layers.Conv1D(filters=32, kernel_size=3,\n",
        "                      strides=1, padding=\"causal\",\n",
        "                      activation=\"relu\",\n",
        "                      input_shape=[G.WINDOW_SIZE, 1]),\n",
        "        tf.keras.layers.Bidirectional(tf.keras.layers.LSTM(32, return_sequences=True)), #ganti 64\n",
        "        tf.keras.layers.Bidirectional(tf.keras.layers.LSTM(32, return_sequences=True)),\n",
        "        tf.keras.layers.Bidirectional(tf.keras.layers.LSTM(32)),\n",
        "        tf.keras.layers.Dense(30, activation='relu'),\n",
        "        tf.keras.layers.Dense(1),\n",
        "        tf.keras.layers.Lambda(lambda x: x * 100)\n",
        "    ]) \n",
        "\n",
        "    return model\n",
        "model = create_model()\n",
        "model.summary()"
      ],
      "metadata": {
        "colab": {
          "base_uri": "https://localhost:8080/"
        },
        "id": "wkMqwGDyKE1u",
        "outputId": "262a80d6-ea58-4b7c-9c40-7d73ded01c2d"
      },
      "execution_count": 12,
      "outputs": [
        {
          "output_type": "stream",
          "name": "stdout",
          "text": [
            "Model: \"sequential\"\n",
            "_________________________________________________________________\n",
            " Layer (type)                Output Shape              Param #   \n",
            "=================================================================\n",
            " conv1d (Conv1D)             (None, 12, 32)            128       \n",
            "                                                                 \n",
            " bidirectional (Bidirectiona  (None, 12, 64)           16640     \n",
            " l)                                                              \n",
            "                                                                 \n",
            " bidirectional_1 (Bidirectio  (None, 12, 64)           24832     \n",
            " nal)                                                            \n",
            "                                                                 \n",
            " bidirectional_2 (Bidirectio  (None, 64)               24832     \n",
            " nal)                                                            \n",
            "                                                                 \n",
            " dense (Dense)               (None, 30)                1950      \n",
            "                                                                 \n",
            " dense_1 (Dense)             (None, 1)                 31        \n",
            "                                                                 \n",
            " lambda (Lambda)             (None, 1)                 0         \n",
            "                                                                 \n",
            "=================================================================\n",
            "Total params: 68,413\n",
            "Trainable params: 68,413\n",
            "Non-trainable params: 0\n",
            "_________________________________________________________________\n"
          ]
        }
      ]
    },
    {
      "cell_type": "code",
      "source": [
        "# Test your uncompiled model\n",
        "uncompiled_model = create_model()\n",
        "\n",
        "try:\n",
        "    uncompiled_model.predict(train_set)\n",
        "except:\n",
        "    print(\"Your current architecture is incompatible with the windowed dataset, try adjusting it.\")\n",
        "else:\n",
        "    print(\"Your current architecture is compatible with the windowed dataset! :)\")"
      ],
      "metadata": {
        "colab": {
          "base_uri": "https://localhost:8080/"
        },
        "id": "k0RbzOK2L1xZ",
        "outputId": "eaa1700e-6ba4-481a-eb6e-0ca5c274bb53"
      },
      "execution_count": 13,
      "outputs": [
        {
          "output_type": "stream",
          "name": "stdout",
          "text": [
            "5/5 [==============================] - 2s 80ms/step\n",
            "Your current architecture is compatible with the windowed dataset! :)\n"
          ]
        }
      ]
    },
    {
      "cell_type": "code",
      "source": [
        "# Get initial weights\n",
        "init_weights = model.get_weights()\n",
        "\n",
        "# Set the learning rate scheduler\n",
        "lr_schedule = tf.keras.callbacks.LearningRateScheduler(\n",
        "    lambda epoch: 1e-8 * 10**(epoch / 20))\n",
        "\n",
        "# Initialize the optimizer\n",
        "optimizer = tf.keras.optimizers.SGD(momentum=0.9)\n",
        "\n",
        "# Set the training parameters\n",
        "model.compile(loss=tf.keras.losses.Huber(), optimizer=optimizer)\n",
        "\n",
        "# Train the model\n",
        "history = model.fit(train_set, epochs=100, callbacks=[lr_schedule])"
      ],
      "metadata": {
        "colab": {
          "base_uri": "https://localhost:8080/"
        },
        "id": "lg_SnB7TM3la",
        "outputId": "7287dc74-0644-44d6-9b51-53cae64f77d6"
      },
      "execution_count": 14,
      "outputs": [
        {
          "output_type": "stream",
          "name": "stdout",
          "text": [
            "Epoch 1/100\n",
            "5/5 [==============================] - 10s 27ms/step - loss: 22.7178 - lr: 1.0000e-08\n",
            "Epoch 2/100\n",
            "5/5 [==============================] - 0s 26ms/step - loss: 22.6880 - lr: 1.1220e-08\n",
            "Epoch 3/100\n",
            "5/5 [==============================] - 0s 27ms/step - loss: 22.6344 - lr: 1.2589e-08\n",
            "Epoch 4/100\n",
            "5/5 [==============================] - 0s 24ms/step - loss: 22.5622 - lr: 1.4125e-08\n",
            "Epoch 5/100\n",
            "5/5 [==============================] - 0s 23ms/step - loss: 22.4742 - lr: 1.5849e-08\n",
            "Epoch 6/100\n",
            "5/5 [==============================] - 0s 23ms/step - loss: 22.3711 - lr: 1.7783e-08\n",
            "Epoch 7/100\n",
            "5/5 [==============================] - 0s 23ms/step - loss: 22.2531 - lr: 1.9953e-08\n",
            "Epoch 8/100\n",
            "5/5 [==============================] - 0s 26ms/step - loss: 22.1189 - lr: 2.2387e-08\n",
            "Epoch 9/100\n",
            "5/5 [==============================] - 0s 22ms/step - loss: 21.9670 - lr: 2.5119e-08\n",
            "Epoch 10/100\n",
            "5/5 [==============================] - 0s 28ms/step - loss: 21.7958 - lr: 2.8184e-08\n",
            "Epoch 11/100\n",
            "5/5 [==============================] - 0s 23ms/step - loss: 21.6032 - lr: 3.1623e-08\n",
            "Epoch 12/100\n",
            "5/5 [==============================] - 0s 24ms/step - loss: 21.3863 - lr: 3.5481e-08\n",
            "Epoch 13/100\n",
            "5/5 [==============================] - 0s 24ms/step - loss: 21.1418 - lr: 3.9811e-08\n",
            "Epoch 14/100\n",
            "5/5 [==============================] - 0s 23ms/step - loss: 20.8666 - lr: 4.4668e-08\n",
            "Epoch 15/100\n",
            "5/5 [==============================] - 0s 23ms/step - loss: 20.5559 - lr: 5.0119e-08\n",
            "Epoch 16/100\n",
            "5/5 [==============================] - 0s 74ms/step - loss: 20.2050 - lr: 5.6234e-08\n",
            "Epoch 17/100\n",
            "5/5 [==============================] - 0s 91ms/step - loss: 19.8079 - lr: 6.3096e-08\n",
            "Epoch 18/100\n",
            "5/5 [==============================] - 0s 25ms/step - loss: 19.3578 - lr: 7.0795e-08\n",
            "Epoch 19/100\n",
            "5/5 [==============================] - 0s 23ms/step - loss: 18.8461 - lr: 7.9433e-08\n",
            "Epoch 20/100\n",
            "5/5 [==============================] - 0s 33ms/step - loss: 18.2613 - lr: 8.9125e-08\n",
            "Epoch 21/100\n",
            "5/5 [==============================] - 0s 39ms/step - loss: 17.5867 - lr: 1.0000e-07\n",
            "Epoch 22/100\n",
            "5/5 [==============================] - 0s 22ms/step - loss: 16.8018 - lr: 1.1220e-07\n",
            "Epoch 23/100\n",
            "5/5 [==============================] - 0s 24ms/step - loss: 15.8752 - lr: 1.2589e-07\n",
            "Epoch 24/100\n",
            "5/5 [==============================] - 0s 22ms/step - loss: 14.7441 - lr: 1.4125e-07\n",
            "Epoch 25/100\n",
            "5/5 [==============================] - 0s 55ms/step - loss: 13.2730 - lr: 1.5849e-07\n",
            "Epoch 26/100\n",
            "5/5 [==============================] - 0s 23ms/step - loss: 11.1580 - lr: 1.7783e-07\n",
            "Epoch 27/100\n",
            "5/5 [==============================] - 0s 25ms/step - loss: 8.0373 - lr: 1.9953e-07\n",
            "Epoch 28/100\n",
            "5/5 [==============================] - 0s 30ms/step - loss: 5.1307 - lr: 2.2387e-07\n",
            "Epoch 29/100\n",
            "5/5 [==============================] - 0s 45ms/step - loss: 3.3990 - lr: 2.5119e-07\n",
            "Epoch 30/100\n",
            "5/5 [==============================] - 0s 47ms/step - loss: 2.1873 - lr: 2.8184e-07\n",
            "Epoch 31/100\n",
            "5/5 [==============================] - 0s 47ms/step - loss: 1.3447 - lr: 3.1623e-07\n",
            "Epoch 32/100\n",
            "5/5 [==============================] - 0s 42ms/step - loss: 0.9053 - lr: 3.5481e-07\n",
            "Epoch 33/100\n",
            "5/5 [==============================] - 0s 42ms/step - loss: 1.0230 - lr: 3.9811e-07\n",
            "Epoch 34/100\n",
            "5/5 [==============================] - 0s 46ms/step - loss: 1.0760 - lr: 4.4668e-07\n",
            "Epoch 35/100\n",
            "5/5 [==============================] - 0s 42ms/step - loss: 0.9784 - lr: 5.0119e-07\n",
            "Epoch 36/100\n",
            "5/5 [==============================] - 0s 50ms/step - loss: 0.9261 - lr: 5.6234e-07\n",
            "Epoch 37/100\n",
            "5/5 [==============================] - 0s 46ms/step - loss: 0.9284 - lr: 6.3096e-07\n",
            "Epoch 38/100\n",
            "5/5 [==============================] - 0s 45ms/step - loss: 0.9072 - lr: 7.0795e-07\n",
            "Epoch 39/100\n",
            "5/5 [==============================] - 0s 45ms/step - loss: 0.9122 - lr: 7.9433e-07\n",
            "Epoch 40/100\n",
            "5/5 [==============================] - 0s 43ms/step - loss: 0.9013 - lr: 8.9125e-07\n",
            "Epoch 41/100\n",
            "5/5 [==============================] - 0s 22ms/step - loss: 0.9247 - lr: 1.0000e-06\n",
            "Epoch 42/100\n",
            "5/5 [==============================] - 0s 24ms/step - loss: 0.9524 - lr: 1.1220e-06\n",
            "Epoch 43/100\n",
            "5/5 [==============================] - 0s 23ms/step - loss: 0.9100 - lr: 1.2589e-06\n",
            "Epoch 44/100\n",
            "5/5 [==============================] - 0s 23ms/step - loss: 0.9034 - lr: 1.4125e-06\n",
            "Epoch 45/100\n",
            "5/5 [==============================] - 0s 25ms/step - loss: 0.9125 - lr: 1.5849e-06\n",
            "Epoch 46/100\n",
            "5/5 [==============================] - 0s 23ms/step - loss: 0.8969 - lr: 1.7783e-06\n",
            "Epoch 47/100\n",
            "5/5 [==============================] - 0s 30ms/step - loss: 0.9289 - lr: 1.9953e-06\n",
            "Epoch 48/100\n",
            "5/5 [==============================] - 0s 22ms/step - loss: 0.9354 - lr: 2.2387e-06\n",
            "Epoch 49/100\n",
            "5/5 [==============================] - 0s 24ms/step - loss: 0.9229 - lr: 2.5119e-06\n",
            "Epoch 50/100\n",
            "5/5 [==============================] - 0s 23ms/step - loss: 0.9853 - lr: 2.8184e-06\n",
            "Epoch 51/100\n",
            "5/5 [==============================] - 0s 23ms/step - loss: 0.9427 - lr: 3.1623e-06\n",
            "Epoch 52/100\n",
            "5/5 [==============================] - 0s 23ms/step - loss: 0.9246 - lr: 3.5481e-06\n",
            "Epoch 53/100\n",
            "5/5 [==============================] - 0s 23ms/step - loss: 0.9885 - lr: 3.9811e-06\n",
            "Epoch 54/100\n",
            "5/5 [==============================] - 0s 27ms/step - loss: 0.9815 - lr: 4.4668e-06\n",
            "Epoch 55/100\n",
            "5/5 [==============================] - 0s 39ms/step - loss: 0.9442 - lr: 5.0119e-06\n",
            "Epoch 56/100\n",
            "5/5 [==============================] - 0s 75ms/step - loss: 0.9565 - lr: 5.6234e-06\n",
            "Epoch 57/100\n",
            "5/5 [==============================] - 0s 52ms/step - loss: 0.9494 - lr: 6.3096e-06\n",
            "Epoch 58/100\n",
            "5/5 [==============================] - 0s 23ms/step - loss: 0.9655 - lr: 7.0795e-06\n",
            "Epoch 59/100\n",
            "5/5 [==============================] - 0s 25ms/step - loss: 0.9442 - lr: 7.9433e-06\n",
            "Epoch 60/100\n",
            "5/5 [==============================] - 0s 26ms/step - loss: 0.9263 - lr: 8.9125e-06\n",
            "Epoch 61/100\n",
            "5/5 [==============================] - 0s 22ms/step - loss: 1.0026 - lr: 1.0000e-05\n",
            "Epoch 62/100\n",
            "5/5 [==============================] - 0s 23ms/step - loss: 1.5583 - lr: 1.1220e-05\n",
            "Epoch 63/100\n",
            "5/5 [==============================] - 0s 24ms/step - loss: 1.4062 - lr: 1.2589e-05\n",
            "Epoch 64/100\n",
            "5/5 [==============================] - 0s 23ms/step - loss: 1.0870 - lr: 1.4125e-05\n",
            "Epoch 65/100\n",
            "5/5 [==============================] - 0s 23ms/step - loss: 1.1349 - lr: 1.5849e-05\n",
            "Epoch 66/100\n",
            "5/5 [==============================] - 0s 23ms/step - loss: 1.9365 - lr: 1.7783e-05\n",
            "Epoch 67/100\n",
            "5/5 [==============================] - 0s 24ms/step - loss: 1.7418 - lr: 1.9953e-05\n",
            "Epoch 68/100\n",
            "5/5 [==============================] - 0s 25ms/step - loss: 1.1331 - lr: 2.2387e-05\n",
            "Epoch 69/100\n",
            "5/5 [==============================] - 0s 25ms/step - loss: 1.8021 - lr: 2.5119e-05\n",
            "Epoch 70/100\n",
            "5/5 [==============================] - 0s 23ms/step - loss: 2.6443 - lr: 2.8184e-05\n",
            "Epoch 71/100\n",
            "5/5 [==============================] - 0s 23ms/step - loss: 2.4735 - lr: 3.1623e-05\n",
            "Epoch 72/100\n",
            "5/5 [==============================] - 0s 22ms/step - loss: 2.0932 - lr: 3.5481e-05\n",
            "Epoch 73/100\n",
            "5/5 [==============================] - 0s 23ms/step - loss: 3.0401 - lr: 3.9811e-05\n",
            "Epoch 74/100\n",
            "5/5 [==============================] - 0s 22ms/step - loss: 3.5153 - lr: 4.4668e-05\n",
            "Epoch 75/100\n",
            "5/5 [==============================] - 0s 23ms/step - loss: 2.6630 - lr: 5.0119e-05\n",
            "Epoch 76/100\n",
            "5/5 [==============================] - 0s 24ms/step - loss: 1.7654 - lr: 5.6234e-05\n",
            "Epoch 77/100\n",
            "5/5 [==============================] - 0s 24ms/step - loss: 1.3243 - lr: 6.3096e-05\n",
            "Epoch 78/100\n",
            "5/5 [==============================] - 0s 22ms/step - loss: 1.5129 - lr: 7.0795e-05\n",
            "Epoch 79/100\n",
            "5/5 [==============================] - 0s 24ms/step - loss: 2.1925 - lr: 7.9433e-05\n",
            "Epoch 80/100\n",
            "5/5 [==============================] - 0s 23ms/step - loss: 3.2838 - lr: 8.9125e-05\n",
            "Epoch 81/100\n",
            "5/5 [==============================] - 0s 28ms/step - loss: 1.7432 - lr: 1.0000e-04\n",
            "Epoch 82/100\n",
            "5/5 [==============================] - 0s 23ms/step - loss: 3.8568 - lr: 1.1220e-04\n",
            "Epoch 83/100\n",
            "5/5 [==============================] - 0s 22ms/step - loss: 2.8159 - lr: 1.2589e-04\n",
            "Epoch 84/100\n",
            "5/5 [==============================] - 0s 23ms/step - loss: 3.3399 - lr: 1.4125e-04\n",
            "Epoch 85/100\n",
            "5/5 [==============================] - 0s 23ms/step - loss: 1.9485 - lr: 1.5849e-04\n",
            "Epoch 86/100\n",
            "5/5 [==============================] - 0s 26ms/step - loss: 5.9541 - lr: 1.7783e-04\n",
            "Epoch 87/100\n",
            "5/5 [==============================] - 0s 24ms/step - loss: 6.4547 - lr: 1.9953e-04\n",
            "Epoch 88/100\n",
            "5/5 [==============================] - 0s 23ms/step - loss: 5.8324 - lr: 2.2387e-04\n",
            "Epoch 89/100\n",
            "5/5 [==============================] - 0s 25ms/step - loss: 4.6766 - lr: 2.5119e-04\n",
            "Epoch 90/100\n",
            "5/5 [==============================] - 0s 23ms/step - loss: 4.3817 - lr: 2.8184e-04\n",
            "Epoch 91/100\n",
            "5/5 [==============================] - 0s 23ms/step - loss: 6.5010 - lr: 3.1623e-04\n",
            "Epoch 92/100\n",
            "5/5 [==============================] - 0s 23ms/step - loss: 11.9953 - lr: 3.5481e-04\n",
            "Epoch 93/100\n",
            "5/5 [==============================] - 0s 22ms/step - loss: 7.0490 - lr: 3.9811e-04\n",
            "Epoch 94/100\n",
            "5/5 [==============================] - 0s 22ms/step - loss: 2.0275 - lr: 4.4668e-04\n",
            "Epoch 95/100\n",
            "5/5 [==============================] - 0s 23ms/step - loss: 5.9719 - lr: 5.0119e-04\n",
            "Epoch 96/100\n",
            "5/5 [==============================] - 0s 25ms/step - loss: 13.7259 - lr: 5.6234e-04\n",
            "Epoch 97/100\n",
            "5/5 [==============================] - 0s 23ms/step - loss: 18.5110 - lr: 6.3096e-04\n",
            "Epoch 98/100\n",
            "5/5 [==============================] - 0s 22ms/step - loss: 4.6841 - lr: 7.0795e-04\n",
            "Epoch 99/100\n",
            "5/5 [==============================] - 0s 39ms/step - loss: 3.9431 - lr: 7.9433e-04\n",
            "Epoch 100/100\n",
            "5/5 [==============================] - 0s 44ms/step - loss: 5.4171 - lr: 8.9125e-04\n"
          ]
        }
      ]
    },
    {
      "cell_type": "code",
      "source": [
        "# Define the learning rate array\n",
        "lrs = 1e-8 * (10 ** (np.arange(100) / 20))\n",
        "\n",
        "# Set the figure size\n",
        "plt.figure(figsize=(10, 6))\n",
        "\n",
        "# Set the grid\n",
        "plt.grid(True)\n",
        "\n",
        "# Plot the loss in log scale\n",
        "plt.semilogx(lrs, history.history[\"loss\"])\n",
        "\n",
        "# Increase the tickmarks size\n",
        "plt.tick_params('both', length=10, width=1, which='both')\n",
        "\n",
        "# Set the plot boundaries\n",
        "plt.axis([1e-8, 1e-3, 0, 50])"
      ],
      "metadata": {
        "colab": {
          "base_uri": "https://localhost:8080/",
          "height": 558
        },
        "id": "_U5sUnBTNdfC",
        "outputId": "f7cc514b-2851-421c-d435-bf420cb0c79f"
      },
      "execution_count": 17,
      "outputs": [
        {
          "output_type": "execute_result",
          "data": {
            "text/plain": [
              "(1e-08, 0.001, 0.0, 50.0)"
            ]
          },
          "metadata": {},
          "execution_count": 17
        },
        {
          "output_type": "display_data",
          "data": {
            "text/plain": [
              "<Figure size 1000x600 with 1 Axes>"
            ],
            "image/png": "[encoded data removed]"
          },
          "metadata": {}
        }
      ]
    },
    {
      "cell_type": "code",
      "source": [
        "# Reset states generated by Keras\n",
        "tf.keras.backend.clear_session()\n",
        "\n",
        "# Reset the weights\n",
        "model.set_weights(init_weights)"
      ],
      "metadata": {
        "id": "MclF3BmrNnAi"
      },
      "execution_count": 18,
      "outputs": []
    },
    {
      "cell_type": "code",
      "source": [
        "# Set the learning rate\n",
        "learning_rate = 1e-6 \n",
        "\n",
        "# Set the optimizer\n",
        "optimizer = tf.keras.optimizers.SGD(learning_rate=learning_rate, momentum=0.9)\n",
        "\n",
        "# Set the training parameters\n",
        "model.compile(loss=tf.keras.losses.Huber(),\n",
        "              optimizer=optimizer,\n",
        "              metrics=[\"mae\"])"
      ],
      "metadata": {
        "id": "DZIbxKGgNoMh"
      },
      "execution_count": 19,
      "outputs": []
    },
    {
      "cell_type": "code",
      "source": [
        "# Train the model\n",
        "Epochs = 100\n",
        "history = model.fit(train_set,epochs=Epochs)"
      ],
      "metadata": {
        "colab": {
          "base_uri": "https://localhost:8080/"
        },
        "id": "ljSTZCVLN2F5",
        "outputId": "4334b8dc-fb61-4059-c4a4-f3c0f824154d"
      },
      "execution_count": 20,
      "outputs": [
        {
          "output_type": "stream",
          "name": "stdout",
          "text": [
            "Epoch 1/100\n",
            "5/5 [==============================] - 10s 28ms/step - loss: 22.3059 - mae: 22.8059\n",
            "Epoch 2/100\n",
            "5/5 [==============================] - 0s 24ms/step - loss: 19.3235 - mae: 19.8235\n",
            "Epoch 3/100\n",
            "5/5 [==============================] - 0s 23ms/step - loss: 13.6259 - mae: 14.1259\n",
            "Epoch 4/100\n",
            "5/5 [==============================] - 0s 23ms/step - loss: 4.1437 - mae: 4.6247\n",
            "Epoch 5/100\n",
            "5/5 [==============================] - 0s 22ms/step - loss: 1.5622 - mae: 2.0200\n",
            "Epoch 6/100\n",
            "5/5 [==============================] - 0s 25ms/step - loss: 2.6914 - mae: 3.1898\n",
            "Epoch 7/100\n",
            "5/5 [==============================] - 0s 24ms/step - loss: 1.4019 - mae: 1.8410\n",
            "Epoch 8/100\n",
            "5/5 [==============================] - 0s 23ms/step - loss: 1.1853 - mae: 1.6273\n",
            "Epoch 9/100\n",
            "5/5 [==============================] - 0s 22ms/step - loss: 1.0808 - mae: 1.4852\n",
            "Epoch 10/100\n",
            "5/5 [==============================] - 0s 23ms/step - loss: 0.9136 - mae: 1.3121\n",
            "Epoch 11/100\n",
            "5/5 [==============================] - 0s 23ms/step - loss: 0.9997 - mae: 1.3940\n",
            "Epoch 12/100\n",
            "5/5 [==============================] - 0s 26ms/step - loss: 0.9329 - mae: 1.3102\n",
            "Epoch 13/100\n",
            "5/5 [==============================] - 0s 28ms/step - loss: 0.9143 - mae: 1.2978\n",
            "Epoch 14/100\n",
            "5/5 [==============================] - 0s 24ms/step - loss: 0.9068 - mae: 1.2792\n",
            "Epoch 15/100\n",
            "5/5 [==============================] - 0s 27ms/step - loss: 0.9397 - mae: 1.3248\n",
            "Epoch 16/100\n",
            "5/5 [==============================] - 0s 23ms/step - loss: 0.9195 - mae: 1.3028\n",
            "Epoch 17/100\n",
            "5/5 [==============================] - 0s 23ms/step - loss: 0.9179 - mae: 1.3083\n",
            "Epoch 18/100\n",
            "5/5 [==============================] - 0s 24ms/step - loss: 0.9020 - mae: 1.2811\n",
            "Epoch 19/100\n",
            "5/5 [==============================] - 0s 23ms/step - loss: 0.9026 - mae: 1.2835\n",
            "Epoch 20/100\n",
            "5/5 [==============================] - 0s 23ms/step - loss: 0.8965 - mae: 1.2770\n",
            "Epoch 21/100\n",
            "5/5 [==============================] - 0s 25ms/step - loss: 0.9478 - mae: 1.3415\n",
            "Epoch 22/100\n",
            "5/5 [==============================] - 0s 25ms/step - loss: 0.9255 - mae: 1.3112\n",
            "Epoch 23/100\n",
            "5/5 [==============================] - 0s 25ms/step - loss: 0.9718 - mae: 1.3547\n",
            "Epoch 24/100\n",
            "5/5 [==============================] - 0s 23ms/step - loss: 0.9027 - mae: 1.2703\n",
            "Epoch 25/100\n",
            "5/5 [==============================] - 0s 23ms/step - loss: 0.9312 - mae: 1.3266\n",
            "Epoch 26/100\n",
            "5/5 [==============================] - 0s 24ms/step - loss: 0.9114 - mae: 1.3012\n",
            "Epoch 27/100\n",
            "5/5 [==============================] - 0s 26ms/step - loss: 0.8983 - mae: 1.2813\n",
            "Epoch 28/100\n",
            "5/5 [==============================] - 0s 24ms/step - loss: 0.8961 - mae: 1.2769\n",
            "Epoch 29/100\n",
            "5/5 [==============================] - 0s 27ms/step - loss: 0.9079 - mae: 1.2828\n",
            "Epoch 30/100\n",
            "5/5 [==============================] - 0s 22ms/step - loss: 0.9041 - mae: 1.2844\n",
            "Epoch 31/100\n",
            "5/5 [==============================] - 0s 23ms/step - loss: 0.8891 - mae: 1.2681\n",
            "Epoch 32/100\n",
            "5/5 [==============================] - 0s 24ms/step - loss: 0.8962 - mae: 1.2750\n",
            "Epoch 33/100\n",
            "5/5 [==============================] - 0s 24ms/step - loss: 0.8928 - mae: 1.2723\n",
            "Epoch 34/100\n",
            "5/5 [==============================] - 0s 24ms/step - loss: 0.9129 - mae: 1.2896\n",
            "Epoch 35/100\n",
            "5/5 [==============================] - 0s 24ms/step - loss: 0.9298 - mae: 1.3246\n",
            "Epoch 36/100\n",
            "5/5 [==============================] - 0s 22ms/step - loss: 0.9126 - mae: 1.3017\n",
            "Epoch 37/100\n",
            "5/5 [==============================] - 0s 22ms/step - loss: 0.8880 - mae: 1.2590\n",
            "Epoch 38/100\n",
            "5/5 [==============================] - 0s 24ms/step - loss: 0.9073 - mae: 1.2953\n",
            "Epoch 39/100\n",
            "5/5 [==============================] - 0s 21ms/step - loss: 0.9037 - mae: 1.2848\n",
            "Epoch 40/100\n",
            "5/5 [==============================] - 0s 24ms/step - loss: 0.9142 - mae: 1.2964\n",
            "Epoch 41/100\n",
            "5/5 [==============================] - 0s 41ms/step - loss: 0.8884 - mae: 1.2642\n",
            "Epoch 42/100\n",
            "5/5 [==============================] - 0s 43ms/step - loss: 0.8898 - mae: 1.2680\n",
            "Epoch 43/100\n",
            "5/5 [==============================] - 0s 44ms/step - loss: 0.8878 - mae: 1.2618\n",
            "Epoch 44/100\n",
            "5/5 [==============================] - 0s 43ms/step - loss: 0.8899 - mae: 1.2704\n",
            "Epoch 45/100\n",
            "5/5 [==============================] - 0s 43ms/step - loss: 0.8922 - mae: 1.2739\n",
            "Epoch 46/100\n",
            "5/5 [==============================] - 0s 44ms/step - loss: 0.9189 - mae: 1.3030\n",
            "Epoch 47/100\n",
            "5/5 [==============================] - 0s 46ms/step - loss: 0.8960 - mae: 1.2755\n",
            "Epoch 48/100\n",
            "5/5 [==============================] - 0s 46ms/step - loss: 0.9083 - mae: 1.2931\n",
            "Epoch 49/100\n",
            "5/5 [==============================] - 0s 42ms/step - loss: 0.9205 - mae: 1.2880\n",
            "Epoch 50/100\n",
            "5/5 [==============================] - 0s 46ms/step - loss: 0.9157 - mae: 1.2985\n",
            "Epoch 51/100\n",
            "5/5 [==============================] - 0s 47ms/step - loss: 0.9013 - mae: 1.2799\n",
            "Epoch 52/100\n",
            "5/5 [==============================] - 0s 51ms/step - loss: 0.8919 - mae: 1.2668\n",
            "Epoch 53/100\n",
            "5/5 [==============================] - 0s 75ms/step - loss: 0.8785 - mae: 1.2502\n",
            "Epoch 54/100\n",
            "5/5 [==============================] - 0s 23ms/step - loss: 0.8757 - mae: 1.2508\n",
            "Epoch 55/100\n",
            "5/5 [==============================] - 0s 22ms/step - loss: 0.8785 - mae: 1.2498\n",
            "Epoch 56/100\n",
            "5/5 [==============================] - 0s 77ms/step - loss: 0.8881 - mae: 1.2724\n",
            "Epoch 57/100\n",
            "5/5 [==============================] - 0s 66ms/step - loss: 0.9207 - mae: 1.3134\n",
            "Epoch 58/100\n",
            "5/5 [==============================] - 0s 24ms/step - loss: 0.9103 - mae: 1.2837\n",
            "Epoch 59/100\n",
            "5/5 [==============================] - 0s 44ms/step - loss: 0.9134 - mae: 1.2949\n",
            "Epoch 60/100\n",
            "5/5 [==============================] - 0s 65ms/step - loss: 0.8780 - mae: 1.2454\n",
            "Epoch 61/100\n",
            "5/5 [==============================] - 0s 24ms/step - loss: 0.8853 - mae: 1.2684\n",
            "Epoch 62/100\n",
            "5/5 [==============================] - 0s 23ms/step - loss: 0.8858 - mae: 1.2528\n",
            "Epoch 63/100\n",
            "5/5 [==============================] - 0s 25ms/step - loss: 0.8871 - mae: 1.2609\n",
            "Epoch 64/100\n",
            "5/5 [==============================] - 0s 24ms/step - loss: 0.8881 - mae: 1.2591\n",
            "Epoch 65/100\n",
            "5/5 [==============================] - 0s 23ms/step - loss: 0.8742 - mae: 1.2522\n",
            "Epoch 66/100\n",
            "5/5 [==============================] - 0s 23ms/step - loss: 0.8742 - mae: 1.2442\n",
            "Epoch 67/100\n",
            "5/5 [==============================] - 0s 23ms/step - loss: 0.8758 - mae: 1.2501\n",
            "Epoch 68/100\n",
            "5/5 [==============================] - 0s 22ms/step - loss: 0.8756 - mae: 1.2488\n",
            "Epoch 69/100\n",
            "5/5 [==============================] - 0s 23ms/step - loss: 0.8740 - mae: 1.2449\n",
            "Epoch 70/100\n",
            "5/5 [==============================] - 0s 26ms/step - loss: 0.8724 - mae: 1.2408\n",
            "Epoch 71/100\n",
            "5/5 [==============================] - 0s 23ms/step - loss: 0.8725 - mae: 1.2430\n",
            "Epoch 72/100\n",
            "5/5 [==============================] - 0s 23ms/step - loss: 0.8947 - mae: 1.2689\n",
            "Epoch 73/100\n",
            "5/5 [==============================] - 0s 24ms/step - loss: 0.8776 - mae: 1.2477\n",
            "Epoch 74/100\n",
            "5/5 [==============================] - 0s 23ms/step - loss: 0.8809 - mae: 1.2581\n",
            "Epoch 75/100\n",
            "5/5 [==============================] - 0s 23ms/step - loss: 0.9349 - mae: 1.3295\n",
            "Epoch 76/100\n",
            "5/5 [==============================] - 0s 26ms/step - loss: 0.8589 - mae: 1.2329\n",
            "Epoch 77/100\n",
            "5/5 [==============================] - 0s 24ms/step - loss: 0.9052 - mae: 1.2824\n",
            "Epoch 78/100\n",
            "5/5 [==============================] - 0s 23ms/step - loss: 0.8762 - mae: 1.2334\n",
            "Epoch 79/100\n",
            "5/5 [==============================] - 0s 26ms/step - loss: 0.8712 - mae: 1.2426\n",
            "Epoch 80/100\n",
            "5/5 [==============================] - 0s 25ms/step - loss: 0.8734 - mae: 1.2471\n",
            "Epoch 81/100\n",
            "5/5 [==============================] - 0s 23ms/step - loss: 0.8759 - mae: 1.2545\n",
            "Epoch 82/100\n",
            "5/5 [==============================] - 0s 26ms/step - loss: 0.9002 - mae: 1.2928\n",
            "Epoch 83/100\n",
            "5/5 [==============================] - 0s 23ms/step - loss: 0.8762 - mae: 1.2584\n",
            "Epoch 84/100\n",
            "5/5 [==============================] - 0s 23ms/step - loss: 0.8803 - mae: 1.2546\n",
            "Epoch 85/100\n",
            "5/5 [==============================] - 0s 22ms/step - loss: 0.8753 - mae: 1.2540\n",
            "Epoch 86/100\n",
            "5/5 [==============================] - 0s 22ms/step - loss: 0.8745 - mae: 1.2437\n",
            "Epoch 87/100\n",
            "5/5 [==============================] - 0s 22ms/step - loss: 0.8964 - mae: 1.2906\n",
            "Epoch 88/100\n",
            "5/5 [==============================] - 0s 28ms/step - loss: 0.9135 - mae: 1.3066\n",
            "Epoch 89/100\n",
            "5/5 [==============================] - 0s 22ms/step - loss: 0.8873 - mae: 1.2632\n",
            "Epoch 90/100\n",
            "5/5 [==============================] - 0s 23ms/step - loss: 0.8688 - mae: 1.2383\n",
            "Epoch 91/100\n",
            "5/5 [==============================] - 0s 22ms/step - loss: 0.8738 - mae: 1.2489\n",
            "Epoch 92/100\n",
            "5/5 [==============================] - 0s 22ms/step - loss: 0.8669 - mae: 1.2411\n",
            "Epoch 93/100\n",
            "5/5 [==============================] - 0s 22ms/step - loss: 0.8659 - mae: 1.2364\n",
            "Epoch 94/100\n",
            "5/5 [==============================] - 0s 22ms/step - loss: 0.8706 - mae: 1.2417\n",
            "Epoch 95/100\n",
            "5/5 [==============================] - 0s 26ms/step - loss: 0.8798 - mae: 1.2615\n",
            "Epoch 96/100\n",
            "5/5 [==============================] - 0s 23ms/step - loss: 0.8787 - mae: 1.2484\n",
            "Epoch 97/100\n",
            "5/5 [==============================] - 0s 22ms/step - loss: 0.8871 - mae: 1.2536\n",
            "Epoch 98/100\n",
            "5/5 [==============================] - 0s 22ms/step - loss: 0.8740 - mae: 1.2447\n",
            "Epoch 99/100\n",
            "5/5 [==============================] - 0s 21ms/step - loss: 0.9033 - mae: 1.2744\n",
            "Epoch 100/100\n",
            "5/5 [==============================] - 0s 25ms/step - loss: 0.9039 - mae: 1.2981\n"
          ]
        }
      ]
    },
    {
      "cell_type": "code",
      "source": [
        "def model_forecast(model, series, window_size, batch_size):\n",
        "    \"\"\"Uses an input model to generate predictions on data windows\n",
        "\n",
        "    Args:\n",
        "      model (TF Keras Model) - model that accepts data windows\n",
        "      series (array of float) - contains the values of the time series\n",
        "      window_size (int) - the number of time steps to include in the window\n",
        "      batch_size (int) - the batch size\n",
        "\n",
        "    Returns:\n",
        "      forecast (numpy array) - array containing predictions\n",
        "    \"\"\"\n",
        "\n",
        "    # Generate a TF Dataset from the series values\n",
        "    dataset = tf.data.Dataset.from_tensor_slices(series)\n",
        "\n",
        "    # Window the data but only take those with the specified size\n",
        "    dataset = dataset.window(window_size, shift=1, drop_remainder=True)\n",
        "\n",
        "    # Flatten the windows by putting its elements in a single batch\n",
        "    dataset = dataset.flat_map(lambda w: w.batch(window_size))\n",
        "    \n",
        "    # Create batches of windows\n",
        "    dataset = dataset.batch(batch_size).prefetch(1)\n",
        "    \n",
        "    # Get predictions on the entire dataset\n",
        "    forecast = model.predict(dataset)\n",
        "    \n",
        "    return forecast"
      ],
      "metadata": {
        "id": "-ELlKWGOOufn"
      },
      "execution_count": 21,
      "outputs": []
    },
    {
      "cell_type": "code",
      "source": [
        "def compute_metrics(true_series, forecast):\n",
        "    \n",
        "    mse = tf.keras.metrics.mean_squared_error(true_series, forecast).numpy()\n",
        "    mae = tf.keras.metrics.mean_absolute_error(true_series, forecast).numpy()\n",
        "\n",
        "    return mse, mae"
      ],
      "metadata": {
        "id": "P0PawUqAOXLu"
      },
      "execution_count": 22,
      "outputs": []
    },
    {
      "cell_type": "code",
      "source": [
        "cnn_forecast = model_forecast(model, G.SERIES, G.WINDOW_SIZE, G.BATCH_SIZE).squeeze()\n",
        "cnn_forecast = cnn_forecast[G.SPLIT_TIME - G.WINDOW_SIZE:-1]\n",
        "mse, mae = compute_metrics(series_valid, cnn_forecast)\n",
        "\n",
        "print(f\"mse: {mse:.2f}, mae: {mae:.2f} for forecast\")"
      ],
      "metadata": {
        "colab": {
          "base_uri": "https://localhost:8080/"
        },
        "id": "frlRqkXtOfYt",
        "outputId": "2e833d0b-f5b4-40a7-d1ec-32bae157aad8"
      },
      "execution_count": 23,
      "outputs": [
        {
          "output_type": "stream",
          "name": "stdout",
          "text": [
            "9/9 [==============================] - 2s 14ms/step\n",
            "mse: 7.78, mae: 2.26 for forecast\n"
          ]
        }
      ]
    },
    {
      "cell_type": "code",
      "source": [
        "# Compute the forecast for all the series\n",
        "cnn_forecast = model_forecast(model, G.SERIES, G.WINDOW_SIZE, G.BATCH_SIZE).squeeze()\n",
        "tam = [None,None,None,None,None,None,None,None,None,None,None]\n",
        "\n",
        "\n",
        "# Slice the forecast to get only the predictions for the validation set\n",
        "# cnn_forecast = cnn_forecast[G.SPLIT_TIME - G.WINDOW_SIZE:-1]\n",
        "cnn_forecast = np.insert(cnn_forecast, 0, tam)\n",
        "\n",
        "# Plot the forecast\n",
        "plt.figure(figsize=(10, 5))\n",
        "plot_series(G.TIME, G.SERIES)\n",
        "plot_series(G.TIME, cnn_forecast)"
      ],
      "metadata": {
        "colab": {
          "base_uri": "https://localhost:8080/",
          "height": 482
        },
        "id": "kKeQPGFCPMLB",
        "outputId": "a3ed7024-c133-4a86-811e-d0ce4e4d4307"
      },
      "execution_count": 24,
      "outputs": [
        {
          "output_type": "stream",
          "name": "stdout",
          "text": [
            "9/9 [==============================] - 0s 9ms/step\n"
          ]
        },
        {
          "output_type": "display_data",
          "data": {
            "text/plain": [
              "<Figure size 1000x500 with 1 Axes>"
            ],
            "image/png": "[encoded data removed]"
          },
          "metadata": {}
        }
      ]
    },
    {
      "cell_type": "code",
      "source": [
        "plt.figure(figsize=(10, 5))\n",
        "plt.plot(range(10), history.history[\"loss\"][:10])\n",
        "plt.plot(range(10), history.history[\"mae\"][:10])\n",
        "plt.xlabel(\"Epochs\")\n",
        "plt.ylabel(\"Value\")\n",
        "\n",
        "plt.show()"
      ],
      "metadata": {
        "colab": {
          "base_uri": "https://localhost:8080/",
          "height": 465
        },
        "id": "to5Oy-NxR1-j",
        "outputId": "ccf35e24-9541-4050-8392-c1ed89384982"
      },
      "execution_count": 25,
      "outputs": [
        {
          "output_type": "display_data",
          "data": {
            "text/plain": [
              "<Figure size 1000x500 with 1 Axes>"
            ],
            "image/png": "[encoded data removed]"
          },
          "metadata": {}
        }
      ]
    },
    {
      "cell_type": "code",
      "source": [
        "# prepare data for forecasting\n",
        "last_window = G.SERIES[-G.WINDOW_SIZE:]\n",
        "last_window = np.reshape(last_window, (1, G.WINDOW_SIZE, 1))\n",
        "\n",
        "# make a forecast for 5 steps ahead\n",
        "forecast_norm = []\n",
        "for _ in range(3):\n",
        "    pred = model.predict(last_window)[0, 0]\n",
        "    forecast_norm.append(pred)\n",
        "    last_window = np.roll(last_window, -1, axis=1)\n",
        "    last_window[0, -1, 0] = pred\n",
        "\n",
        "# invert the normalization\n",
        "forecast = forecast_norm\n",
        "print(\"Forecast:\", forecast)"
      ],
      "metadata": {
        "colab": {
          "base_uri": "https://localhost:8080/"
        },
        "id": "EBmQ4eAT8caf",
        "outputId": "d72fd3b0-b150-494b-9e86-226cbbbdeb05"
      },
      "execution_count": 27,
      "outputs": [
        {
          "output_type": "stream",
          "name": "stdout",
          "text": [
            "1/1 [==============================] - 0s 76ms/step\n",
            "1/1 [==============================] - 0s 174ms/step\n",
            "1/1 [==============================] - 0s 178ms/step\n",
            "Forecast: [25.141207, 25.248262, 25.10298]\n"
          ]
        }
      ]
    },
    {
      "cell_type": "code",
      "source": [],
      "metadata": {
        "id": "PHPxvymSLf-Q"
      },
      "execution_count": null,
      "outputs": []
    }
  ]
}