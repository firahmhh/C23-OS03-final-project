{
  "nbformat": 4,
  "nbformat_minor": 0,
  "metadata": {
    "colab": {
      "provenance": []
    },
    "kernelspec": {
      "name": "python3",
      "display_name": "Python 3"
    },
    "language_info": {
      "name": "python"
    }
  },
  "cells": [
    {
      "cell_type": "code",
      "execution_count": null,
      "metadata": {
        "colab": {
          "base_uri": "https://localhost:8080/"
        },
        "id": "se_nIqvRFuyO",
        "outputId": "9d0c72c5-5d30-411f-8204-803c1e7a5b74"
      },
      "outputs": [
        {
          "output_type": "stream",
          "name": "stdout",
          "text": [
            "Drive already mounted at /content/drive; to attempt to forcibly remount, call drive.mount(\"/content/drive\", force_remount=True).\n"
          ]
        }
      ],
      "source": [
        "import csv\n",
        "import numpy as np\n",
        "import tensorflow as tf\n",
        "import matplotlib.pyplot as plt\n",
        "import pandas as pd\n",
        "\n",
        "from dataclasses import dataclass\n",
        "from google.colab import drive\n",
        "drive.mount('/content/drive')"
      ]
    },
    {
      "cell_type": "code",
      "source": [
        "df1 = pd.read_csv('/content/drive/MyDrive/Dataset/Copy of Data Price Prediction - Kembung-Grosir.csv', sep =',')"
      ],
      "metadata": {
        "id": "12UiO3NUDjhN"
      },
      "execution_count": null,
      "outputs": []
    },
    {
      "cell_type": "code",
      "source": [
        "Q1 = df1['Harga'].quantile(0.25)\n",
        "Q3 = df1['Harga'].quantile(0.75)\n",
        "IQR = Q3 - Q1\n",
        "# df = df1[(df1['Harga'] >= Q1 - 1.5 * IQR) & (df1['Harga'] <= Q3 + 1.5 * IQR)]\n",
        "threshold = 1.5*IQR\n",
        "median = np.median(df1['Harga'])\n",
        "outliers = (df1['Harga'] < Q1 - threshold) | (df1['Harga'] > Q3 + threshold)\n",
        "df1[outliers] = median"
      ],
      "metadata": {
        "id": "isMDMYveDvcD"
      },
      "execution_count": null,
      "outputs": []
    },
    {
      "cell_type": "code",
      "source": [
        "# def get_data(filename):\n",
        "    \n",
        "#     times = []\n",
        "#     value = []\n",
        "\n",
        "#     with open(filename) as csvfile:\n",
        "        \n",
        "#         reader = csv.reader(csvfile, delimiter=',')\n",
        "#         next(reader)\n",
        "#         i = 0\n",
        "#         for row in reader:\n",
        "#             times.append(i)\n",
        "#             value.append(float(row[1])/1000)\n",
        "#             i+=1\n",
        "\n",
        "    \n",
        "#     return times, value\n",
        "\n",
        "\n",
        "\n",
        "def get_data(data):\n",
        "    \n",
        "    times = []\n",
        "    value = []\n",
        "\n",
        "    i = 0\n",
        "    for row in data:\n",
        "      times.append(i)\n",
        "      value.append(float(row)/1000)\n",
        "      i+=1\n",
        "\n",
        "    \n",
        "    return times, value\n",
        "\n",
        "\n",
        "\n"
      ],
      "metadata": {
        "id": "HP1EhGPwFzKR"
      },
      "execution_count": null,
      "outputs": []
    },
    {
      "cell_type": "code",
      "source": [
        "def plot_series(time, series, format=\"-\", start=0, end=None):\n",
        "    plt.plot(time[start:end], series[start:end], format)\n",
        "    plt.xlabel(\"Time\")\n",
        "    plt.ylabel(\"Value\")\n",
        "    plt.grid(True)"
      ],
      "metadata": {
        "id": "6S8Mf3yBHNTg"
      },
      "execution_count": null,
      "outputs": []
    },
    {
      "cell_type": "code",
      "source": [
        "# Test your function and save all \"global\" variables within the G class (G stands for global)\n",
        "@dataclass\n",
        "class G:\n",
        "    FILE_CSV = '/content/drive/MyDrive/Dataset/Copy of Data Price Prediction - Kembung-Grosir.csv'\n",
        "    times, price = get_data(df1['Harga'])\n",
        "    TIME = np.array(times)\n",
        "    SERIES = np.array(price)\n",
        "    SPLIT_TIME = 62\n",
        "    WINDOW_SIZE = 12\n",
        "    BATCH_SIZE = 12\n",
        "    SHUFFLE_BUFFER_SIZE = 150\n"
      ],
      "metadata": {
        "id": "RZ2bR_YiGkSh"
      },
      "execution_count": null,
      "outputs": []
    },
    {
      "cell_type": "code",
      "source": [
        "plt.figure(figsize=(3, 2))\n",
        "plot_series(G.TIME, G.SERIES)\n",
        "plt.show()"
      ],
      "metadata": {
        "colab": {
          "base_uri": "https://localhost:8080/",
          "height": 234
        },
        "id": "R2HONSfzJRsk",
        "outputId": "3979fd45-7c51-41a6-d9c4-ea083f0b7fbf"
      },
      "execution_count": null,
      "outputs": [
        {
          "output_type": "display_data",
          "data": {
            "text/plain": [
              "<Figure size 300x200 with 1 Axes>"
            ],
            "image/png": "[encoded data removed]"
          },
          "metadata": {}
        }
      ]
    },
    {
      "cell_type": "code",
      "source": [
        "def train_val_split(time, series, time_step=G.SPLIT_TIME):\n",
        "\n",
        "    time_train = time[:time_step]\n",
        "    series_train = series[:time_step]\n",
        "    time_valid = time[time_step:]\n",
        "    series_valid = series[time_step:]\n",
        "\n",
        "    return time_train, series_train, time_valid, series_valid"
      ],
      "metadata": {
        "id": "AKhlCThVHhCZ"
      },
      "execution_count": null,
      "outputs": []
    },
    {
      "cell_type": "code",
      "source": [
        "# Split the dataset\n",
        "time_train, series_train, time_valid, series_valid = train_val_split(G.TIME, G.SERIES)"
      ],
      "metadata": {
        "id": "SF71F6BMJpF0"
      },
      "execution_count": null,
      "outputs": []
    },
    {
      "cell_type": "code",
      "source": [
        "def windowed_dataset(series, window_size=G.WINDOW_SIZE, batch_size=G.BATCH_SIZE, shuffle_buffer=G.SHUFFLE_BUFFER_SIZE):\n",
        "    ds = tf.data.Dataset.from_tensor_slices(series)\n",
        "    ds = ds.window(window_size + 1, shift=1, drop_remainder=True)\n",
        "    ds = ds.flat_map(lambda w: w.batch(window_size + 1))\n",
        "    ds = ds.shuffle(shuffle_buffer)\n",
        "    ds = ds.map(lambda w: (w[:-1], w[-1]))\n",
        "    ds = ds.batch(batch_size).prefetch(1)\n",
        "    return ds\n"
      ],
      "metadata": {
        "id": "f9kaadcXJe5M"
      },
      "execution_count": null,
      "outputs": []
    },
    {
      "cell_type": "code",
      "source": [
        "# Apply the transformation to the training set\n",
        "train_set = windowed_dataset(series_train, window_size=G.WINDOW_SIZE, batch_size=G.BATCH_SIZE, shuffle_buffer=G.SHUFFLE_BUFFER_SIZE)"
      ],
      "metadata": {
        "id": "Q84t5hDNJnDv"
      },
      "execution_count": null,
      "outputs": []
    },
    {
      "cell_type": "markdown",
      "source": [
        "## Build the Model\n",
        "\n",
        "Here is the model architecture you will be using. It is very similar to the last RNN you built but with the [Conv1D](https://www.tensorflow.org/api_docs/python/tf/keras/layers/Conv1D) layer at the input. One important [argument](https://www.tensorflow.org/api_docs/python/tf/keras/layers/Conv1D#args) here is the `padding`. For time series data, it is good practice to not let computations for a particular time step to be affected by values into the future. Here is one way of looking at it:\n",
        "\n",
        "* Let's say you have a small time series window with these values: `[1, 2, 3, 4, 5]`. This means the value `1` is at `t=0`, `2` is at `t=1`, etc.\n",
        "* If you have a 1D kernel of size `3`, then the first convolution will be for the values at `[1, 2, 3]` which are values for `t=0` to `t=2`.\n",
        "* When you pass this to the first timestep of the `LSTM` after the convolution, it means that the value at `t=0` of the LSTM depends on `t=1` and `t=2` which are values into the future.\n",
        "* For time series data, you want computations to only rely on current and previous time steps.\n",
        "* One way to do that is to pad the array depending on the kernel size and stride. For a kernel size of 3 and stride of 1, the window can be padded as such: `[0, 0, 1, 2, 3, 4, 5]`. `1` is still at `t=0` and two zeroes are prepended to simulate values in the past.\n",
        "* This way, the first stride will be at `[0, 0, 1]` and this does not contain any future values when it is passed on to subsequent layers.\n",
        "\n",
        "The `Conv1D` layer does this kind of padding by setting `padding=causal` and you'll see that below."
      ],
      "metadata": {
        "id": "M4vF3mFnKD-R"
      }
    },
    {
      "cell_type": "code",
      "source": [
        "def create_model():\n",
        "    \n",
        "    model = tf.keras.models.Sequential([ \n",
        "        tf.keras.layers.Conv1D(filters=32, kernel_size=3,\n",
        "                      strides=1, padding=\"causal\",\n",
        "                      activation=\"relu\",\n",
        "                      input_shape=[G.WINDOW_SIZE, 1]),\n",
        "        tf.keras.layers.Bidirectional(tf.keras.layers.LSTM(32, return_sequences=True)), #ganti 64\n",
        "        tf.keras.layers.Bidirectional(tf.keras.layers.LSTM(32, return_sequences=True)),\n",
        "        tf.keras.layers.Bidirectional(tf.keras.layers.LSTM(32)),\n",
        "        tf.keras.layers.Dense(30, activation='relu'),\n",
        "        tf.keras.layers.Dense(1),\n",
        "        tf.keras.layers.Lambda(lambda x: x * 100)\n",
        "    ]) \n",
        "\n",
        "    return model\n",
        "model = create_model()\n",
        "model.summary()"
      ],
      "metadata": {
        "colab": {
          "base_uri": "https://localhost:8080/"
        },
        "id": "wkMqwGDyKE1u",
        "outputId": "bef82fbb-c667-4523-ed73-1c4c5d2de84b"
      },
      "execution_count": null,
      "outputs": [
        {
          "output_type": "stream",
          "name": "stdout",
          "text": [
            "Model: \"sequential\"\n",
            "_________________________________________________________________\n",
            " Layer (type)                Output Shape              Param #   \n",
            "=================================================================\n",
            " conv1d (Conv1D)             (None, 12, 32)            128       \n",
            "                                                                 \n",
            " bidirectional (Bidirectiona  (None, 12, 64)           16640     \n",
            " l)                                                              \n",
            "                                                                 \n",
            " bidirectional_1 (Bidirectio  (None, 12, 64)           24832     \n",
            " nal)                                                            \n",
            "                                                                 \n",
            " bidirectional_2 (Bidirectio  (None, 64)               24832     \n",
            " nal)                                                            \n",
            "                                                                 \n",
            " dense (Dense)               (None, 30)                1950      \n",
            "                                                                 \n",
            " dense_1 (Dense)             (None, 1)                 31        \n",
            "                                                                 \n",
            " lambda (Lambda)             (None, 1)                 0         \n",
            "                                                                 \n",
            "=================================================================\n",
            "Total params: 68,413\n",
            "Trainable params: 68,413\n",
            "Non-trainable params: 0\n",
            "_________________________________________________________________\n"
          ]
        }
      ]
    },
    {
      "cell_type": "code",
      "source": [
        "# Test your uncompiled model\n",
        "uncompiled_model = create_model()\n",
        "\n",
        "try:\n",
        "    uncompiled_model.predict(train_set)\n",
        "except:\n",
        "    print(\"Your current architecture is incompatible with the windowed dataset, try adjusting it.\")\n",
        "else:\n",
        "    print(\"Your current architecture is compatible with the windowed dataset! :)\")"
      ],
      "metadata": {
        "colab": {
          "base_uri": "https://localhost:8080/"
        },
        "id": "k0RbzOK2L1xZ",
        "outputId": "1711ffa6-a8ff-4b6f-af98-5bb1ef98d751"
      },
      "execution_count": null,
      "outputs": [
        {
          "output_type": "stream",
          "name": "stdout",
          "text": [
            "5/5 [==============================] - 7s 161ms/step\n",
            "Your current architecture is compatible with the windowed dataset! :)\n"
          ]
        }
      ]
    },
    {
      "cell_type": "code",
      "source": [
        "# Get initial weights\n",
        "init_weights = model.get_weights()\n",
        "\n",
        "# Set the learning rate scheduler\n",
        "lr_schedule = tf.keras.callbacks.LearningRateScheduler(\n",
        "    lambda epoch: 1e-8 * 10**(epoch / 20))\n",
        "\n",
        "# Initialize the optimizer\n",
        "optimizer = tf.keras.optimizers.SGD(momentum=0.9)\n",
        "\n",
        "# Set the training parameters\n",
        "model.compile(loss=tf.keras.losses.Huber(), optimizer=optimizer)\n",
        "\n",
        "# Train the model\n",
        "history = model.fit(train_set, epochs=100, callbacks=[lr_schedule])"
      ],
      "metadata": {
        "colab": {
          "base_uri": "https://localhost:8080/"
        },
        "id": "lg_SnB7TM3la",
        "outputId": "12acc881-a6d4-444f-c7c9-64a6be8c58ee"
      },
      "execution_count": null,
      "outputs": [
        {
          "output_type": "stream",
          "name": "stdout",
          "text": [
            "Epoch 1/100\n",
            "5/5 [==============================] - 15s 38ms/step - loss: 3.3017 - lr: 1.0000e-08\n",
            "Epoch 2/100\n",
            "5/5 [==============================] - 0s 36ms/step - loss: 3.2636 - lr: 1.1220e-08\n",
            "Epoch 3/100\n",
            "5/5 [==============================] - 0s 30ms/step - loss: 3.1920 - lr: 1.2589e-08\n",
            "Epoch 4/100\n",
            "5/5 [==============================] - 0s 61ms/step - loss: 3.1006 - lr: 1.4125e-08\n",
            "Epoch 5/100\n",
            "5/5 [==============================] - 0s 61ms/step - loss: 2.9909 - lr: 1.5849e-08\n",
            "Epoch 6/100\n",
            "5/5 [==============================] - 0s 58ms/step - loss: 2.8693 - lr: 1.7783e-08\n",
            "Epoch 7/100\n",
            "5/5 [==============================] - 0s 62ms/step - loss: 2.7255 - lr: 1.9953e-08\n",
            "Epoch 8/100\n",
            "5/5 [==============================] - 0s 62ms/step - loss: 2.5683 - lr: 2.2387e-08\n",
            "Epoch 9/100\n",
            "5/5 [==============================] - 0s 63ms/step - loss: 2.4012 - lr: 2.5119e-08\n",
            "Epoch 10/100\n",
            "5/5 [==============================] - 0s 62ms/step - loss: 2.2033 - lr: 2.8184e-08\n",
            "Epoch 11/100\n",
            "5/5 [==============================] - 0s 59ms/step - loss: 1.9871 - lr: 3.1623e-08\n",
            "Epoch 12/100\n",
            "5/5 [==============================] - 0s 30ms/step - loss: 1.7449 - lr: 3.5481e-08\n",
            "Epoch 13/100\n",
            "5/5 [==============================] - 0s 31ms/step - loss: 1.5180 - lr: 3.9811e-08\n",
            "Epoch 14/100\n",
            "5/5 [==============================] - 0s 32ms/step - loss: 1.3020 - lr: 4.4668e-08\n",
            "Epoch 15/100\n",
            "5/5 [==============================] - 0s 31ms/step - loss: 1.1259 - lr: 5.0119e-08\n",
            "Epoch 16/100\n",
            "5/5 [==============================] - 0s 31ms/step - loss: 1.0088 - lr: 5.6234e-08\n",
            "Epoch 17/100\n",
            "5/5 [==============================] - 0s 31ms/step - loss: 0.9706 - lr: 6.3096e-08\n",
            "Epoch 18/100\n",
            "5/5 [==============================] - 0s 29ms/step - loss: 0.9536 - lr: 7.0795e-08\n",
            "Epoch 19/100\n",
            "5/5 [==============================] - 0s 31ms/step - loss: 0.9597 - lr: 7.9433e-08\n",
            "Epoch 20/100\n",
            "5/5 [==============================] - 0s 30ms/step - loss: 0.9575 - lr: 8.9125e-08\n",
            "Epoch 21/100\n",
            "5/5 [==============================] - 0s 30ms/step - loss: 0.9543 - lr: 1.0000e-07\n",
            "Epoch 22/100\n",
            "5/5 [==============================] - 0s 31ms/step - loss: 0.9535 - lr: 1.1220e-07\n",
            "Epoch 23/100\n",
            "5/5 [==============================] - 0s 30ms/step - loss: 0.9541 - lr: 1.2589e-07\n",
            "Epoch 24/100\n",
            "5/5 [==============================] - 0s 31ms/step - loss: 0.9517 - lr: 1.4125e-07\n",
            "Epoch 25/100\n",
            "5/5 [==============================] - 0s 31ms/step - loss: 0.9496 - lr: 1.5849e-07\n",
            "Epoch 26/100\n",
            "5/5 [==============================] - 0s 31ms/step - loss: 0.9496 - lr: 1.7783e-07\n",
            "Epoch 27/100\n",
            "5/5 [==============================] - 0s 30ms/step - loss: 0.9573 - lr: 1.9953e-07\n",
            "Epoch 28/100\n",
            "5/5 [==============================] - 0s 32ms/step - loss: 0.9580 - lr: 2.2387e-07\n",
            "Epoch 29/100\n",
            "5/5 [==============================] - 0s 32ms/step - loss: 0.9481 - lr: 2.5119e-07\n",
            "Epoch 30/100\n",
            "5/5 [==============================] - 0s 39ms/step - loss: 0.9488 - lr: 2.8184e-07\n",
            "Epoch 31/100\n",
            "5/5 [==============================] - 0s 33ms/step - loss: 0.9430 - lr: 3.1623e-07\n",
            "Epoch 32/100\n",
            "5/5 [==============================] - 0s 32ms/step - loss: 0.9406 - lr: 3.5481e-07\n",
            "Epoch 33/100\n",
            "5/5 [==============================] - 0s 32ms/step - loss: 0.9442 - lr: 3.9811e-07\n",
            "Epoch 34/100\n",
            "5/5 [==============================] - 0s 32ms/step - loss: 0.9356 - lr: 4.4668e-07\n",
            "Epoch 35/100\n",
            "5/5 [==============================] - 0s 36ms/step - loss: 0.9323 - lr: 5.0119e-07\n",
            "Epoch 36/100\n",
            "5/5 [==============================] - 0s 30ms/step - loss: 0.9721 - lr: 5.6234e-07\n",
            "Epoch 37/100\n",
            "5/5 [==============================] - 0s 32ms/step - loss: 0.9440 - lr: 6.3096e-07\n",
            "Epoch 38/100\n",
            "5/5 [==============================] - 0s 31ms/step - loss: 1.0156 - lr: 7.0795e-07\n",
            "Epoch 39/100\n",
            "5/5 [==============================] - 0s 30ms/step - loss: 0.9323 - lr: 7.9433e-07\n",
            "Epoch 40/100\n",
            "5/5 [==============================] - 0s 31ms/step - loss: 0.9831 - lr: 8.9125e-07\n",
            "Epoch 41/100\n",
            "5/5 [==============================] - 0s 35ms/step - loss: 1.0016 - lr: 1.0000e-06\n",
            "Epoch 42/100\n",
            "5/5 [==============================] - 0s 33ms/step - loss: 1.0136 - lr: 1.1220e-06\n",
            "Epoch 43/100\n",
            "5/5 [==============================] - 0s 32ms/step - loss: 0.9923 - lr: 1.2589e-06\n",
            "Epoch 44/100\n",
            "5/5 [==============================] - 0s 33ms/step - loss: 1.0562 - lr: 1.4125e-06\n",
            "Epoch 45/100\n",
            "5/5 [==============================] - 0s 31ms/step - loss: 1.0454 - lr: 1.5849e-06\n",
            "Epoch 46/100\n",
            "5/5 [==============================] - 0s 32ms/step - loss: 1.2293 - lr: 1.7783e-06\n",
            "Epoch 47/100\n",
            "5/5 [==============================] - 0s 32ms/step - loss: 1.0945 - lr: 1.9953e-06\n",
            "Epoch 48/100\n",
            "5/5 [==============================] - 0s 31ms/step - loss: 0.9612 - lr: 2.2387e-06\n",
            "Epoch 49/100\n",
            "5/5 [==============================] - 0s 31ms/step - loss: 0.9692 - lr: 2.5119e-06\n",
            "Epoch 50/100\n",
            "5/5 [==============================] - 0s 30ms/step - loss: 0.9888 - lr: 2.8184e-06\n",
            "Epoch 51/100\n",
            "5/5 [==============================] - 0s 30ms/step - loss: 1.2384 - lr: 3.1623e-06\n",
            "Epoch 52/100\n",
            "5/5 [==============================] - 0s 31ms/step - loss: 1.3026 - lr: 3.5481e-06\n",
            "Epoch 53/100\n",
            "5/5 [==============================] - 0s 33ms/step - loss: 1.2331 - lr: 3.9811e-06\n",
            "Epoch 54/100\n",
            "5/5 [==============================] - 0s 35ms/step - loss: 0.9054 - lr: 4.4668e-06\n",
            "Epoch 55/100\n",
            "5/5 [==============================] - 0s 60ms/step - loss: 0.9768 - lr: 5.0119e-06\n",
            "Epoch 56/100\n",
            "5/5 [==============================] - 0s 64ms/step - loss: 1.3288 - lr: 5.6234e-06\n",
            "Epoch 57/100\n",
            "5/5 [==============================] - 0s 62ms/step - loss: 1.7856 - lr: 6.3096e-06\n",
            "Epoch 58/100\n",
            "5/5 [==============================] - 0s 63ms/step - loss: 1.2410 - lr: 7.0795e-06\n",
            "Epoch 59/100\n",
            "5/5 [==============================] - 0s 61ms/step - loss: 0.9403 - lr: 7.9433e-06\n",
            "Epoch 60/100\n",
            "5/5 [==============================] - 0s 58ms/step - loss: 1.2806 - lr: 8.9125e-06\n",
            "Epoch 61/100\n",
            "5/5 [==============================] - 0s 35ms/step - loss: 1.5045 - lr: 1.0000e-05\n",
            "Epoch 62/100\n",
            "5/5 [==============================] - 0s 33ms/step - loss: 1.3800 - lr: 1.1220e-05\n",
            "Epoch 63/100\n",
            "5/5 [==============================] - 0s 31ms/step - loss: 2.4348 - lr: 1.2589e-05\n",
            "Epoch 64/100\n",
            "5/5 [==============================] - 0s 33ms/step - loss: 2.2823 - lr: 1.4125e-05\n",
            "Epoch 65/100\n",
            "5/5 [==============================] - 0s 36ms/step - loss: 2.3041 - lr: 1.5849e-05\n",
            "Epoch 66/100\n",
            "5/5 [==============================] - 0s 30ms/step - loss: 1.0531 - lr: 1.7783e-05\n",
            "Epoch 67/100\n",
            "5/5 [==============================] - 0s 36ms/step - loss: 1.1770 - lr: 1.9953e-05\n",
            "Epoch 68/100\n",
            "5/5 [==============================] - 0s 30ms/step - loss: 0.9316 - lr: 2.2387e-05\n",
            "Epoch 69/100\n",
            "5/5 [==============================] - 0s 33ms/step - loss: 1.5966 - lr: 2.5119e-05\n",
            "Epoch 70/100\n",
            "5/5 [==============================] - 0s 31ms/step - loss: 4.0684 - lr: 2.8184e-05\n",
            "Epoch 71/100\n",
            "5/5 [==============================] - 0s 30ms/step - loss: 2.9678 - lr: 3.1623e-05\n",
            "Epoch 72/100\n",
            "5/5 [==============================] - 0s 31ms/step - loss: 4.1976 - lr: 3.5481e-05\n",
            "Epoch 73/100\n",
            "5/5 [==============================] - 0s 30ms/step - loss: 3.4858 - lr: 3.9811e-05\n",
            "Epoch 74/100\n",
            "5/5 [==============================] - 0s 31ms/step - loss: 4.0516 - lr: 4.4668e-05\n",
            "Epoch 75/100\n",
            "5/5 [==============================] - 0s 32ms/step - loss: 2.4204 - lr: 5.0119e-05\n",
            "Epoch 76/100\n",
            "5/5 [==============================] - 0s 31ms/step - loss: 2.1606 - lr: 5.6234e-05\n",
            "Epoch 77/100\n",
            "5/5 [==============================] - 0s 34ms/step - loss: 1.5746 - lr: 6.3096e-05\n",
            "Epoch 78/100\n",
            "5/5 [==============================] - 0s 34ms/step - loss: 2.3772 - lr: 7.0795e-05\n",
            "Epoch 79/100\n",
            "5/5 [==============================] - 0s 31ms/step - loss: 1.0263 - lr: 7.9433e-05\n",
            "Epoch 80/100\n",
            "5/5 [==============================] - 0s 31ms/step - loss: 1.6110 - lr: 8.9125e-05\n",
            "Epoch 81/100\n",
            "5/5 [==============================] - 0s 35ms/step - loss: 4.1314 - lr: 1.0000e-04\n",
            "Epoch 82/100\n",
            "5/5 [==============================] - 0s 31ms/step - loss: 7.2850 - lr: 1.1220e-04\n",
            "Epoch 83/100\n",
            "5/5 [==============================] - 0s 31ms/step - loss: 5.7997 - lr: 1.2589e-04\n",
            "Epoch 84/100\n",
            "5/5 [==============================] - 0s 30ms/step - loss: 3.0834 - lr: 1.4125e-04\n",
            "Epoch 85/100\n",
            "5/5 [==============================] - 0s 34ms/step - loss: 3.6924 - lr: 1.5849e-04\n",
            "Epoch 86/100\n",
            "5/5 [==============================] - 0s 31ms/step - loss: 4.2485 - lr: 1.7783e-04\n",
            "Epoch 87/100\n",
            "5/5 [==============================] - 0s 32ms/step - loss: 4.3438 - lr: 1.9953e-04\n",
            "Epoch 88/100\n",
            "5/5 [==============================] - 0s 33ms/step - loss: 8.7049 - lr: 2.2387e-04\n",
            "Epoch 89/100\n",
            "5/5 [==============================] - 0s 37ms/step - loss: 7.1931 - lr: 2.5119e-04\n",
            "Epoch 90/100\n",
            "5/5 [==============================] - 0s 32ms/step - loss: 4.2873 - lr: 2.8184e-04\n",
            "Epoch 91/100\n",
            "5/5 [==============================] - 0s 31ms/step - loss: 2.9419 - lr: 3.1623e-04\n",
            "Epoch 92/100\n",
            "5/5 [==============================] - 0s 35ms/step - loss: 3.7785 - lr: 3.5481e-04\n",
            "Epoch 93/100\n",
            "5/5 [==============================] - 0s 34ms/step - loss: 2.0958 - lr: 3.9811e-04\n",
            "Epoch 94/100\n",
            "5/5 [==============================] - 0s 30ms/step - loss: 1.6724 - lr: 4.4668e-04\n",
            "Epoch 95/100\n",
            "5/5 [==============================] - 0s 30ms/step - loss: 1.8966 - lr: 5.0119e-04\n",
            "Epoch 96/100\n",
            "5/5 [==============================] - 0s 31ms/step - loss: 1.6217 - lr: 5.6234e-04\n",
            "Epoch 97/100\n",
            "5/5 [==============================] - 0s 32ms/step - loss: 1.5175 - lr: 6.3096e-04\n",
            "Epoch 98/100\n",
            "5/5 [==============================] - 0s 32ms/step - loss: 8.9193 - lr: 7.0795e-04\n",
            "Epoch 99/100\n",
            "5/5 [==============================] - 0s 40ms/step - loss: 6.3919 - lr: 7.9433e-04\n",
            "Epoch 100/100\n",
            "5/5 [==============================] - 0s 62ms/step - loss: 6.3356 - lr: 8.9125e-04\n"
          ]
        }
      ]
    },
    {
      "cell_type": "code",
      "source": [
        "# Define the learning rate array\n",
        "lrs = 1e-8 * (10 ** (np.arange(100) / 20))\n",
        "\n",
        "# Set the figure size\n",
        "plt.figure(figsize=(10, 6))\n",
        "\n",
        "# Set the grid\n",
        "plt.grid(True)\n",
        "\n",
        "# Plot the loss in log scale\n",
        "plt.semilogx(lrs, history.history[\"loss\"])\n",
        "\n",
        "# Increase the tickmarks size\n",
        "plt.tick_params('both', length=10, width=1, which='both')\n",
        "\n",
        "# Set the plot boundaries\n",
        "plt.axis([1e-8, 1e-3, 0, 50])"
      ],
      "metadata": {
        "colab": {
          "base_uri": "https://localhost:8080/",
          "height": 552
        },
        "id": "_U5sUnBTNdfC",
        "outputId": "f85e2713-42d4-415b-880a-86e02ea6e54c"
      },
      "execution_count": null,
      "outputs": [
        {
          "output_type": "execute_result",
          "data": {
            "text/plain": [
              "(1e-08, 0.001, 0.0, 50.0)"
            ]
          },
          "metadata": {},
          "execution_count": 15
        },
        {
          "output_type": "display_data",
          "data": {
            "text/plain": [
              "<Figure size 1000x600 with 1 Axes>"
            ],
            "image/png": "[encoded data removed]"
          },
          "metadata": {}
        }
      ]
    },
    {
      "cell_type": "code",
      "source": [
        "# Reset states generated by Keras\n",
        "tf.keras.backend.clear_session()\n",
        "\n",
        "# Reset the weights\n",
        "model.set_weights(init_weights)"
      ],
      "metadata": {
        "id": "MclF3BmrNnAi"
      },
      "execution_count": null,
      "outputs": []
    },
    {
      "cell_type": "code",
      "source": [
        "# Set the learning rate\n",
        "learning_rate = 1e-6 \n",
        "\n",
        "# Set the optimizer\n",
        "optimizer = tf.keras.optimizers.SGD(learning_rate=learning_rate, momentum=0.9)\n",
        "\n",
        "# Set the training parameters\n",
        "model.compile(loss=tf.keras.losses.Huber(),\n",
        "              optimizer=optimizer,\n",
        "              metrics=[\"mae\"])"
      ],
      "metadata": {
        "id": "DZIbxKGgNoMh"
      },
      "execution_count": null,
      "outputs": []
    },
    {
      "cell_type": "code",
      "source": [
        "# Train the model\n",
        "Epochs = 100\n",
        "history = model.fit(train_set,epochs=Epochs)"
      ],
      "metadata": {
        "colab": {
          "base_uri": "https://localhost:8080/"
        },
        "id": "ljSTZCVLN2F5",
        "outputId": "6495ca22-1715-4961-fb5d-ce87274f4847"
      },
      "execution_count": null,
      "outputs": [
        {
          "output_type": "stream",
          "name": "stdout",
          "text": [
            "Epoch 1/100\n",
            "5/5 [==============================] - 13s 70ms/step - loss: 2.7665 - mae: 3.2607\n",
            "Epoch 2/100\n",
            "5/5 [==============================] - 0s 62ms/step - loss: 0.9993 - mae: 1.4178\n",
            "Epoch 3/100\n",
            "5/5 [==============================] - 0s 61ms/step - loss: 1.6285 - mae: 2.1056\n",
            "Epoch 4/100\n",
            "5/5 [==============================] - 0s 56ms/step - loss: 1.2975 - mae: 1.7113\n",
            "Epoch 5/100\n",
            "5/5 [==============================] - 0s 44ms/step - loss: 1.1893 - mae: 1.5799\n",
            "Epoch 6/100\n",
            "5/5 [==============================] - 0s 32ms/step - loss: 1.1840 - mae: 1.6219\n",
            "Epoch 7/100\n",
            "5/5 [==============================] - 0s 29ms/step - loss: 0.9766 - mae: 1.3708\n",
            "Epoch 8/100\n",
            "5/5 [==============================] - 0s 32ms/step - loss: 1.1313 - mae: 1.5245\n",
            "Epoch 9/100\n",
            "5/5 [==============================] - 0s 30ms/step - loss: 1.0939 - mae: 1.5112\n",
            "Epoch 10/100\n",
            "5/5 [==============================] - 0s 32ms/step - loss: 1.0482 - mae: 1.4802\n",
            "Epoch 11/100\n",
            "5/5 [==============================] - 0s 30ms/step - loss: 1.0115 - mae: 1.3986\n",
            "Epoch 12/100\n",
            "5/5 [==============================] - 0s 33ms/step - loss: 0.9331 - mae: 1.3342\n",
            "Epoch 13/100\n",
            "5/5 [==============================] - 0s 30ms/step - loss: 0.9429 - mae: 1.3472\n",
            "Epoch 14/100\n",
            "5/5 [==============================] - 0s 33ms/step - loss: 0.9379 - mae: 1.3380\n",
            "Epoch 15/100\n",
            "5/5 [==============================] - 0s 29ms/step - loss: 1.0098 - mae: 1.3986\n",
            "Epoch 16/100\n",
            "5/5 [==============================] - 0s 32ms/step - loss: 0.9904 - mae: 1.4061\n",
            "Epoch 17/100\n",
            "5/5 [==============================] - 0s 31ms/step - loss: 1.0220 - mae: 1.4375\n",
            "Epoch 18/100\n",
            "5/5 [==============================] - 0s 33ms/step - loss: 0.9309 - mae: 1.3190\n",
            "Epoch 19/100\n",
            "5/5 [==============================] - 0s 33ms/step - loss: 0.9492 - mae: 1.3179\n",
            "Epoch 20/100\n",
            "5/5 [==============================] - 0s 31ms/step - loss: 0.9292 - mae: 1.3336\n",
            "Epoch 21/100\n",
            "5/5 [==============================] - 0s 34ms/step - loss: 0.9496 - mae: 1.3431\n",
            "Epoch 22/100\n",
            "5/5 [==============================] - 0s 32ms/step - loss: 0.9431 - mae: 1.3352\n",
            "Epoch 23/100\n",
            "5/5 [==============================] - 0s 32ms/step - loss: 0.9205 - mae: 1.3245\n",
            "Epoch 24/100\n",
            "5/5 [==============================] - 0s 30ms/step - loss: 0.9355 - mae: 1.3225\n",
            "Epoch 25/100\n",
            "5/5 [==============================] - 0s 31ms/step - loss: 1.0424 - mae: 1.4824\n",
            "Epoch 26/100\n",
            "5/5 [==============================] - 0s 32ms/step - loss: 0.9686 - mae: 1.3766\n",
            "Epoch 27/100\n",
            "5/5 [==============================] - 0s 34ms/step - loss: 0.9072 - mae: 1.3008\n",
            "Epoch 28/100\n",
            "5/5 [==============================] - 0s 31ms/step - loss: 0.9343 - mae: 1.3470\n",
            "Epoch 29/100\n",
            "5/5 [==============================] - 0s 31ms/step - loss: 0.9552 - mae: 1.3552\n",
            "Epoch 30/100\n",
            "5/5 [==============================] - 0s 35ms/step - loss: 0.9427 - mae: 1.3428\n",
            "Epoch 31/100\n",
            "5/5 [==============================] - 0s 33ms/step - loss: 0.9194 - mae: 1.3185\n",
            "Epoch 32/100\n",
            "5/5 [==============================] - 0s 31ms/step - loss: 0.9069 - mae: 1.2996\n",
            "Epoch 33/100\n",
            "5/5 [==============================] - 0s 31ms/step - loss: 0.9926 - mae: 1.3640\n",
            "Epoch 34/100\n",
            "5/5 [==============================] - 0s 32ms/step - loss: 0.9343 - mae: 1.3327\n",
            "Epoch 35/100\n",
            "5/5 [==============================] - 0s 32ms/step - loss: 1.0100 - mae: 1.4419\n",
            "Epoch 36/100\n",
            "5/5 [==============================] - 0s 32ms/step - loss: 0.9393 - mae: 1.3253\n",
            "Epoch 37/100\n",
            "5/5 [==============================] - 0s 34ms/step - loss: 0.8889 - mae: 1.2723\n",
            "Epoch 38/100\n",
            "5/5 [==============================] - 0s 30ms/step - loss: 1.0288 - mae: 1.4630\n",
            "Epoch 39/100\n",
            "5/5 [==============================] - 0s 31ms/step - loss: 0.8964 - mae: 1.3038\n",
            "Epoch 40/100\n",
            "5/5 [==============================] - 0s 31ms/step - loss: 0.9226 - mae: 1.2943\n",
            "Epoch 41/100\n",
            "5/5 [==============================] - 0s 30ms/step - loss: 0.9701 - mae: 1.3824\n",
            "Epoch 42/100\n",
            "5/5 [==============================] - 0s 33ms/step - loss: 0.9454 - mae: 1.3407\n",
            "Epoch 43/100\n",
            "5/5 [==============================] - 0s 31ms/step - loss: 0.9663 - mae: 1.3519\n",
            "Epoch 44/100\n",
            "5/5 [==============================] - 0s 40ms/step - loss: 0.9518 - mae: 1.3513\n",
            "Epoch 45/100\n",
            "5/5 [==============================] - 0s 56ms/step - loss: 0.9771 - mae: 1.4051\n",
            "Epoch 46/100\n",
            "5/5 [==============================] - 0s 60ms/step - loss: 0.8994 - mae: 1.2848\n",
            "Epoch 47/100\n",
            "5/5 [==============================] - 0s 64ms/step - loss: 0.9080 - mae: 1.3019\n",
            "Epoch 48/100\n",
            "5/5 [==============================] - 0s 57ms/step - loss: 0.9186 - mae: 1.3337\n",
            "Epoch 49/100\n",
            "5/5 [==============================] - 0s 59ms/step - loss: 0.9773 - mae: 1.3599\n",
            "Epoch 50/100\n",
            "5/5 [==============================] - 0s 58ms/step - loss: 0.9546 - mae: 1.3322\n",
            "Epoch 51/100\n",
            "5/5 [==============================] - 0s 32ms/step - loss: 0.9199 - mae: 1.3081\n",
            "Epoch 52/100\n",
            "5/5 [==============================] - 0s 31ms/step - loss: 0.9223 - mae: 1.3114\n",
            "Epoch 53/100\n",
            "5/5 [==============================] - 0s 33ms/step - loss: 0.9148 - mae: 1.2992\n",
            "Epoch 54/100\n",
            "5/5 [==============================] - 0s 35ms/step - loss: 0.8971 - mae: 1.2667\n",
            "Epoch 55/100\n",
            "5/5 [==============================] - 0s 31ms/step - loss: 0.8958 - mae: 1.2858\n",
            "Epoch 56/100\n",
            "5/5 [==============================] - 0s 31ms/step - loss: 0.8986 - mae: 1.2824\n",
            "Epoch 57/100\n",
            "5/5 [==============================] - 0s 33ms/step - loss: 0.9007 - mae: 1.2988\n",
            "Epoch 58/100\n",
            "5/5 [==============================] - 0s 34ms/step - loss: 0.9281 - mae: 1.3279\n",
            "Epoch 59/100\n",
            "5/5 [==============================] - 0s 32ms/step - loss: 0.9093 - mae: 1.3007\n",
            "Epoch 60/100\n",
            "5/5 [==============================] - 0s 30ms/step - loss: 0.8871 - mae: 1.2741\n",
            "Epoch 61/100\n",
            "5/5 [==============================] - 0s 29ms/step - loss: 0.9028 - mae: 1.2874\n",
            "Epoch 62/100\n",
            "5/5 [==============================] - 0s 31ms/step - loss: 0.9328 - mae: 1.3105\n",
            "Epoch 63/100\n",
            "5/5 [==============================] - 0s 36ms/step - loss: 0.9661 - mae: 1.3748\n",
            "Epoch 64/100\n",
            "5/5 [==============================] - 0s 32ms/step - loss: 0.8870 - mae: 1.2618\n",
            "Epoch 65/100\n",
            "5/5 [==============================] - 0s 32ms/step - loss: 0.9325 - mae: 1.3117\n",
            "Epoch 66/100\n",
            "5/5 [==============================] - 0s 33ms/step - loss: 0.8906 - mae: 1.2849\n",
            "Epoch 67/100\n",
            "5/5 [==============================] - 0s 30ms/step - loss: 0.9067 - mae: 1.2911\n",
            "Epoch 68/100\n",
            "5/5 [==============================] - 0s 33ms/step - loss: 0.9042 - mae: 1.3172\n",
            "Epoch 69/100\n",
            "5/5 [==============================] - 0s 33ms/step - loss: 0.9297 - mae: 1.3466\n",
            "Epoch 70/100\n",
            "5/5 [==============================] - 0s 31ms/step - loss: 0.8826 - mae: 1.2654\n",
            "Epoch 71/100\n",
            "5/5 [==============================] - 0s 30ms/step - loss: 0.8918 - mae: 1.2846\n",
            "Epoch 72/100\n",
            "5/5 [==============================] - 0s 31ms/step - loss: 0.8839 - mae: 1.2662\n",
            "Epoch 73/100\n",
            "5/5 [==============================] - 0s 32ms/step - loss: 0.8815 - mae: 1.2719\n",
            "Epoch 74/100\n",
            "5/5 [==============================] - 0s 31ms/step - loss: 0.9177 - mae: 1.2907\n",
            "Epoch 75/100\n",
            "5/5 [==============================] - 0s 32ms/step - loss: 0.8748 - mae: 1.2442\n",
            "Epoch 76/100\n",
            "5/5 [==============================] - 0s 36ms/step - loss: 0.9272 - mae: 1.3481\n",
            "Epoch 77/100\n",
            "5/5 [==============================] - 0s 32ms/step - loss: 0.9020 - mae: 1.3184\n",
            "Epoch 78/100\n",
            "5/5 [==============================] - 0s 34ms/step - loss: 0.9140 - mae: 1.3001\n",
            "Epoch 79/100\n",
            "5/5 [==============================] - 0s 30ms/step - loss: 0.9268 - mae: 1.3264\n",
            "Epoch 80/100\n",
            "5/5 [==============================] - 0s 30ms/step - loss: 0.8700 - mae: 1.2589\n",
            "Epoch 81/100\n",
            "5/5 [==============================] - 0s 32ms/step - loss: 0.8648 - mae: 1.2460\n",
            "Epoch 82/100\n",
            "5/5 [==============================] - 0s 30ms/step - loss: 0.8966 - mae: 1.3077\n",
            "Epoch 83/100\n",
            "5/5 [==============================] - 0s 34ms/step - loss: 0.8686 - mae: 1.2464\n",
            "Epoch 84/100\n",
            "5/5 [==============================] - 0s 32ms/step - loss: 0.8969 - mae: 1.2740\n",
            "Epoch 85/100\n",
            "5/5 [==============================] - 0s 34ms/step - loss: 0.8832 - mae: 1.2860\n",
            "Epoch 86/100\n",
            "5/5 [==============================] - 0s 31ms/step - loss: 0.8727 - mae: 1.2583\n",
            "Epoch 87/100\n",
            "5/5 [==============================] - 0s 31ms/step - loss: 0.9381 - mae: 1.3074\n",
            "Epoch 88/100\n",
            "5/5 [==============================] - 0s 30ms/step - loss: 0.9072 - mae: 1.3319\n",
            "Epoch 89/100\n",
            "5/5 [==============================] - 0s 30ms/step - loss: 0.9047 - mae: 1.3204\n",
            "Epoch 90/100\n",
            "5/5 [==============================] - 0s 31ms/step - loss: 0.9178 - mae: 1.2899\n",
            "Epoch 91/100\n",
            "5/5 [==============================] - 0s 33ms/step - loss: 0.9066 - mae: 1.2928\n",
            "Epoch 92/100\n",
            "5/5 [==============================] - 0s 63ms/step - loss: 0.8823 - mae: 1.2828\n",
            "Epoch 93/100\n",
            "5/5 [==============================] - 0s 59ms/step - loss: 0.8957 - mae: 1.2729\n",
            "Epoch 94/100\n",
            "5/5 [==============================] - 0s 64ms/step - loss: 0.8669 - mae: 1.2457\n",
            "Epoch 95/100\n",
            "5/5 [==============================] - 0s 61ms/step - loss: 0.8812 - mae: 1.2630\n",
            "Epoch 96/100\n",
            "5/5 [==============================] - 0s 60ms/step - loss: 0.8593 - mae: 1.2364\n",
            "Epoch 97/100\n",
            "5/5 [==============================] - 0s 59ms/step - loss: 0.8578 - mae: 1.2374\n",
            "Epoch 98/100\n",
            "5/5 [==============================] - 0s 59ms/step - loss: 0.9212 - mae: 1.3292\n",
            "Epoch 99/100\n",
            "5/5 [==============================] - 0s 53ms/step - loss: 0.9286 - mae: 1.2933\n",
            "Epoch 100/100\n",
            "5/5 [==============================] - 0s 66ms/step - loss: 0.9280 - mae: 1.2927\n"
          ]
        }
      ]
    },
    {
      "cell_type": "code",
      "source": [
        "def model_forecast(model, series, window_size, batch_size):\n",
        "    \"\"\"Uses an input model to generate predictions on data windows\n",
        "\n",
        "    Args:\n",
        "      model (TF Keras Model) - model that accepts data windows\n",
        "      series (array of float) - contains the values of the time series\n",
        "      window_size (int) - the number of time steps to include in the window\n",
        "      batch_size (int) - the batch size\n",
        "\n",
        "    Returns:\n",
        "      forecast (numpy array) - array containing predictions\n",
        "    \"\"\"\n",
        "\n",
        "    # Generate a TF Dataset from the series values\n",
        "    dataset = tf.data.Dataset.from_tensor_slices(series)\n",
        "\n",
        "    # Window the data but only take those with the specified size\n",
        "    dataset = dataset.window(window_size, shift=1, drop_remainder=True)\n",
        "\n",
        "    # Flatten the windows by putting its elements in a single batch\n",
        "    dataset = dataset.flat_map(lambda w: w.batch(window_size))\n",
        "    \n",
        "    # Create batches of windows\n",
        "    dataset = dataset.batch(batch_size).prefetch(1)\n",
        "    \n",
        "    # Get predictions on the entire dataset\n",
        "    forecast = model.predict(dataset)\n",
        "    \n",
        "    return forecast"
      ],
      "metadata": {
        "id": "-ELlKWGOOufn"
      },
      "execution_count": null,
      "outputs": []
    },
    {
      "cell_type": "code",
      "source": [
        "def compute_metrics(true_series, forecast):\n",
        "    \n",
        "    mse = tf.keras.metrics.mean_squared_error(true_series, forecast).numpy()\n",
        "    mae = tf.keras.metrics.mean_absolute_error(true_series, forecast).numpy()\n",
        "\n",
        "    return mse, mae"
      ],
      "metadata": {
        "id": "P0PawUqAOXLu"
      },
      "execution_count": null,
      "outputs": []
    },
    {
      "cell_type": "code",
      "source": [
        "cnn_forecast = model_forecast(model, G.SERIES, G.WINDOW_SIZE, G.BATCH_SIZE).squeeze()\n",
        "cnn_forecast = cnn_forecast[G.SPLIT_TIME - G.WINDOW_SIZE:-1]\n",
        "mse, mae = compute_metrics(series_valid, cnn_forecast)\n",
        "\n",
        "print(f\"mse: {mse:.2f}, mae: {mae:.2f} for forecast\")"
      ],
      "metadata": {
        "colab": {
          "base_uri": "https://localhost:8080/"
        },
        "id": "frlRqkXtOfYt",
        "outputId": "59ef9a87-d109-49bf-86a7-dd0bced9c047"
      },
      "execution_count": null,
      "outputs": [
        {
          "output_type": "stream",
          "name": "stdout",
          "text": [
            "8/8 [==============================] - 5s 14ms/step\n",
            "mse: 10.78, mae: 2.81 for forecast\n"
          ]
        }
      ]
    },
    {
      "cell_type": "code",
      "source": [
        "# Compute the forecast for all the series\n",
        "cnn_forecast = model_forecast(model, G.SERIES, G.WINDOW_SIZE, G.BATCH_SIZE).squeeze()\n",
        "tam = [None,None,None,None,None,None,None,None,None,None,None]\n",
        "\n",
        "\n",
        "# Slice the forecast to get only the predictions for the validation set\n",
        "# cnn_forecast = cnn_forecast[G.SPLIT_TIME - G.WINDOW_SIZE:-1]\n",
        "cnn_forecast = np.insert(cnn_forecast, 0, tam)\n",
        "\n",
        "# Plot the forecast\n",
        "plt.figure(figsize=(10, 5))\n",
        "plot_series(G.TIME, G.SERIES)\n",
        "plot_series(G.TIME, cnn_forecast)"
      ],
      "metadata": {
        "colab": {
          "base_uri": "https://localhost:8080/",
          "height": 480
        },
        "id": "kKeQPGFCPMLB",
        "outputId": "92321a4c-c9bf-40a4-f54c-5f30a65e4e25"
      },
      "execution_count": null,
      "outputs": [
        {
          "output_type": "stream",
          "name": "stdout",
          "text": [
            "8/8 [==============================] - 0s 13ms/step\n"
          ]
        },
        {
          "output_type": "display_data",
          "data": {
            "text/plain": [
              "<Figure size 1000x500 with 1 Axes>"
            ],
            "image/png": "[encoded data removed]"
          },
          "metadata": {}
        }
      ]
    },
    {
      "cell_type": "code",
      "source": [
        "plt.figure(figsize=(10, 5))\n",
        "plt.plot(range(10), history.history[\"loss\"][:10])\n",
        "plt.plot(range(10), history.history[\"mae\"][:10])\n",
        "plt.xlabel(\"Epochs\")\n",
        "plt.ylabel(\"Value\")\n",
        "\n",
        "plt.show()"
      ],
      "metadata": {
        "colab": {
          "base_uri": "https://localhost:8080/",
          "height": 461
        },
        "id": "to5Oy-NxR1-j",
        "outputId": "915d3408-98fe-4cd7-8e97-a16ec183aa95"
      },
      "execution_count": null,
      "outputs": [
        {
          "output_type": "display_data",
          "data": {
            "text/plain": [
              "<Figure size 1000x500 with 1 Axes>"
            ],
            "image/png": "[encoded data removed]"
          },
          "metadata": {}
        }
      ]
    },
    {
      "cell_type": "code",
      "source": [
        "# prepare data for forecasting\n",
        "last_window = G.SERIES[-G.WINDOW_SIZE:]\n",
        "last_window = np.reshape(last_window, (1, G.WINDOW_SIZE, 1))\n",
        "\n",
        "# make a forecast for 5 steps ahead\n",
        "forecast_norm = []\n",
        "for _ in range(24):\n",
        "    pred = model.predict(last_window)[0, 0]\n",
        "    forecast_norm.append(pred)\n",
        "    last_window = np.roll(last_window, -1, axis=1)\n",
        "    last_window[0, -1, 0] = pred\n",
        "\n",
        "# invert the normalization\n",
        "forecast = forecast_norm\n",
        "print(\"Forecast:\", forecast)"
      ],
      "metadata": {
        "colab": {
          "base_uri": "https://localhost:8080/"
        },
        "id": "EBmQ4eAT8caf",
        "outputId": "2e68f628-b81f-46ca-a24c-2b3cda953fbb"
      },
      "execution_count": null,
      "outputs": [
        {
          "output_type": "stream",
          "name": "stdout",
          "text": [
            "1/1 [==============================] - 3s 3s/step\n",
            "1/1 [==============================] - 0s 42ms/step\n",
            "1/1 [==============================] - 0s 50ms/step\n",
            "1/1 [==============================] - 0s 46ms/step\n",
            "1/1 [==============================] - 0s 45ms/step\n",
            "1/1 [==============================] - 0s 46ms/step\n",
            "1/1 [==============================] - 0s 45ms/step\n",
            "1/1 [==============================] - 0s 43ms/step\n",
            "1/1 [==============================] - 0s 46ms/step\n",
            "1/1 [==============================] - 0s 43ms/step\n",
            "1/1 [==============================] - 0s 59ms/step\n",
            "1/1 [==============================] - 0s 48ms/step\n",
            "1/1 [==============================] - 0s 49ms/step\n",
            "1/1 [==============================] - 0s 45ms/step\n",
            "1/1 [==============================] - 0s 44ms/step\n",
            "1/1 [==============================] - 0s 45ms/step\n",
            "1/1 [==============================] - 0s 41ms/step\n",
            "1/1 [==============================] - 0s 58ms/step\n",
            "1/1 [==============================] - 0s 72ms/step\n",
            "1/1 [==============================] - 0s 54ms/step\n",
            "1/1 [==============================] - 0s 46ms/step\n",
            "1/1 [==============================] - 0s 45ms/step\n",
            "1/1 [==============================] - 0s 42ms/step\n",
            "1/1 [==============================] - 0s 43ms/step\n",
            "Forecast: [23.830534, 22.99865, 23.494919, 22.786236, 23.340902, 22.81054, 24.295713, 23.557842, 24.022827, 24.02703, 25.119587, 23.768852, 24.676094, 24.718935, 24.621933, 24.715666, 24.539677, 24.724485, 24.460579, 24.558994, 24.475508, 24.611963, 24.328548, 24.576797]\n"
          ]
        }
      ]
    },
    {
      "cell_type": "code",
      "source": [],
      "metadata": {
        "id": "PHPxvymSLf-Q"
      },
      "execution_count": null,
      "outputs": []
    }
  ]
}