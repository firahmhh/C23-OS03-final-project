{
  "nbformat": 4,
  "nbformat_minor": 0,
  "metadata": {
    "colab": {
      "provenance": []
    },
    "kernelspec": {
      "name": "python3",
      "display_name": "Python 3"
    },
    "language_info": {
      "name": "python"
    }
  },
  "cells": [
    {
      "cell_type": "code",
      "execution_count": null,
      "metadata": {
        "colab": {
          "base_uri": "https://localhost:8080/"
        },
        "id": "se_nIqvRFuyO",
        "outputId": "063ebd75-2baa-4c5f-eed2-90a21f2ed2c4"
      },
      "outputs": [
        {
          "output_type": "stream",
          "name": "stdout",
          "text": [
            "Drive already mounted at /content/drive; to attempt to forcibly remount, call drive.mount(\"/content/drive\", force_remount=True).\n"
          ]
        }
      ],
      "source": [
        "import csv\n",
        "import numpy as np\n",
        "import tensorflow as tf\n",
        "import matplotlib.pyplot as plt\n",
        "import pandas as pd\n",
        "\n",
        "from dataclasses import dataclass\n",
        "from google.colab import drive\n",
        "drive.mount('/content/drive')"
      ]
    },
    {
      "cell_type": "code",
      "source": [
        "df1 = pd.read_csv('/content/drive/MyDrive/Dataset/Copy of Data Price Prediction - Bandeng-Grosir.csv', sep =',')"
      ],
      "metadata": {
        "id": "12UiO3NUDjhN"
      },
      "execution_count": null,
      "outputs": []
    },
    {
      "cell_type": "code",
      "source": [
        "Q1 = df1['Harga'].quantile(0.25)\n",
        "Q3 = df1['Harga'].quantile(0.75)\n",
        "IQR = Q3 - Q1\n",
        "# df = df1[(df1['Harga'] >= Q1 - 1.5 * IQR) & (df1['Harga'] <= Q3 + 1.5 * IQR)]\n",
        "threshold = 1.5*IQR\n",
        "median = np.median(df1['Harga'])\n",
        "outliers = (df1['Harga'] < Q1 - threshold) | (df1['Harga'] > Q3 + threshold)\n",
        "df1[outliers] = median"
      ],
      "metadata": {
        "id": "isMDMYveDvcD"
      },
      "execution_count": null,
      "outputs": []
    },
    {
      "cell_type": "code",
      "source": [],
      "metadata": {
        "id": "-EUhHfb-F9To"
      },
      "execution_count": null,
      "outputs": []
    },
    {
      "cell_type": "code",
      "source": [
        "# def get_data(filename):\n",
        "    \n",
        "#     times = []\n",
        "#     value = []\n",
        "\n",
        "#     with open(filename) as csvfile:\n",
        "        \n",
        "#         reader = csv.reader(csvfile, delimiter=',')\n",
        "#         next(reader)\n",
        "#         i = 0\n",
        "#         for row in reader:\n",
        "#             times.append(i)\n",
        "#             value.append(float(row[1])/1000)\n",
        "#             i+=1\n",
        "\n",
        "    \n",
        "#     return times, value\n",
        "\n",
        "\n",
        "\n",
        "def get_data(data):\n",
        "    \n",
        "    times = []\n",
        "    value = []\n",
        "\n",
        "    i = 0\n",
        "    for row in data:\n",
        "      times.append(i)\n",
        "      value.append(float(row)/1000)\n",
        "      i+=1\n",
        "\n",
        "    \n",
        "    return times, value\n",
        "\n",
        "\n",
        "\n"
      ],
      "metadata": {
        "id": "HP1EhGPwFzKR"
      },
      "execution_count": null,
      "outputs": []
    },
    {
      "cell_type": "code",
      "source": [
        "def plot_series(time, series, format=\"-\", start=0, end=None):\n",
        "    plt.plot(time[start:end], series[start:end], format)\n",
        "    plt.xlabel(\"Time\")\n",
        "    plt.ylabel(\"Value\")\n",
        "    plt.grid(True)"
      ],
      "metadata": {
        "id": "6S8Mf3yBHNTg"
      },
      "execution_count": null,
      "outputs": []
    },
    {
      "cell_type": "code",
      "source": [
        "# Test your function and save all \"global\" variables within the G class (G stands for global)\n",
        "@dataclass\n",
        "class G:\n",
        "    FILE_CSV = '/content/drive/MyDrive/Dataset/Copy of Data Price Prediction - Bandeng-Grosir.csv'\n",
        "    times, price = get_data(df1['Harga'])\n",
        "    TIME = np.array(times)\n",
        "    SERIES = np.array(price)\n",
        "    SPLIT_TIME = 62\n",
        "    WINDOW_SIZE = 12\n",
        "    BATCH_SIZE = 12\n",
        "    SHUFFLE_BUFFER_SIZE = 150\n"
      ],
      "metadata": {
        "id": "RZ2bR_YiGkSh"
      },
      "execution_count": null,
      "outputs": []
    },
    {
      "cell_type": "code",
      "source": [
        "plt.figure(figsize=(3, 2))\n",
        "plot_series(G.TIME, G.SERIES)\n",
        "plt.show()"
      ],
      "metadata": {
        "colab": {
          "base_uri": "https://localhost:8080/",
          "height": 234
        },
        "id": "R2HONSfzJRsk",
        "outputId": "57130bdd-81ce-4a7f-af0d-1987250a8e2a"
      },
      "execution_count": null,
      "outputs": [
        {
          "output_type": "display_data",
          "data": {
            "text/plain": [
              "<Figure size 300x200 with 1 Axes>"
            ],
            "image/png": "[encoded data removed]"
          },
          "metadata": {}
        }
      ]
    },
    {
      "cell_type": "code",
      "source": [
        "def train_val_split(time, series, time_step=G.SPLIT_TIME):\n",
        "\n",
        "    time_train = time[:time_step]\n",
        "    series_train = series[:time_step]\n",
        "    time_valid = time[time_step:]\n",
        "    series_valid = series[time_step:]\n",
        "\n",
        "    return time_train, series_train, time_valid, series_valid"
      ],
      "metadata": {
        "id": "AKhlCThVHhCZ"
      },
      "execution_count": null,
      "outputs": []
    },
    {
      "cell_type": "code",
      "source": [
        "# Split the dataset\n",
        "time_train, series_train, time_valid, series_valid = train_val_split(G.TIME, G.SERIES)"
      ],
      "metadata": {
        "id": "SF71F6BMJpF0"
      },
      "execution_count": null,
      "outputs": []
    },
    {
      "cell_type": "code",
      "source": [
        "def windowed_dataset(series, window_size=G.WINDOW_SIZE, batch_size=G.BATCH_SIZE, shuffle_buffer=G.SHUFFLE_BUFFER_SIZE):\n",
        "    ds = tf.data.Dataset.from_tensor_slices(series)\n",
        "    ds = ds.window(window_size + 1, shift=1, drop_remainder=True)\n",
        "    ds = ds.flat_map(lambda w: w.batch(window_size + 1))\n",
        "    ds = ds.shuffle(shuffle_buffer)\n",
        "    ds = ds.map(lambda w: (w[:-1], w[-1]))\n",
        "    ds = ds.batch(batch_size).prefetch(1)\n",
        "    return ds\n"
      ],
      "metadata": {
        "id": "f9kaadcXJe5M"
      },
      "execution_count": null,
      "outputs": []
    },
    {
      "cell_type": "code",
      "source": [
        "# Apply the transformation to the training set\n",
        "train_set = windowed_dataset(series_train, window_size=G.WINDOW_SIZE, batch_size=G.BATCH_SIZE, shuffle_buffer=G.SHUFFLE_BUFFER_SIZE)"
      ],
      "metadata": {
        "id": "Q84t5hDNJnDv"
      },
      "execution_count": null,
      "outputs": []
    },
    {
      "cell_type": "markdown",
      "source": [
        "## Build the Model\n",
        "\n",
        "Here is the model architecture you will be using. It is very similar to the last RNN you built but with the [Conv1D](https://www.tensorflow.org/api_docs/python/tf/keras/layers/Conv1D) layer at the input. One important [argument](https://www.tensorflow.org/api_docs/python/tf/keras/layers/Conv1D#args) here is the `padding`. For time series data, it is good practice to not let computations for a particular time step to be affected by values into the future. Here is one way of looking at it:\n",
        "\n",
        "* Let's say you have a small time series window with these values: `[1, 2, 3, 4, 5]`. This means the value `1` is at `t=0`, `2` is at `t=1`, etc.\n",
        "* If you have a 1D kernel of size `3`, then the first convolution will be for the values at `[1, 2, 3]` which are values for `t=0` to `t=2`.\n",
        "* When you pass this to the first timestep of the `LSTM` after the convolution, it means that the value at `t=0` of the LSTM depends on `t=1` and `t=2` which are values into the future.\n",
        "* For time series data, you want computations to only rely on current and previous time steps.\n",
        "* One way to do that is to pad the array depending on the kernel size and stride. For a kernel size of 3 and stride of 1, the window can be padded as such: `[0, 0, 1, 2, 3, 4, 5]`. `1` is still at `t=0` and two zeroes are prepended to simulate values in the past.\n",
        "* This way, the first stride will be at `[0, 0, 1]` and this does not contain any future values when it is passed on to subsequent layers.\n",
        "\n",
        "The `Conv1D` layer does this kind of padding by setting `padding=causal` and you'll see that below."
      ],
      "metadata": {
        "id": "M4vF3mFnKD-R"
      }
    },
    {
      "cell_type": "code",
      "source": [
        "def create_model():\n",
        "    \n",
        "    model = tf.keras.models.Sequential([ \n",
        "        tf.keras.layers.Conv1D(filters=32, kernel_size=3,\n",
        "                      strides=1, padding=\"causal\",\n",
        "                      activation=\"relu\",\n",
        "                      input_shape=[G.WINDOW_SIZE, 1]),\n",
        "        tf.keras.layers.Bidirectional(tf.keras.layers.LSTM(32, return_sequences=True)),\n",
        "        tf.keras.layers.Bidirectional(tf.keras.layers.LSTM(32, return_sequences=True)),\n",
        "        tf.keras.layers.Bidirectional(tf.keras.layers.LSTM(32)),\n",
        "        tf.keras.layers.Dense(30, activation='relu'),\n",
        "        tf.keras.layers.Dense(1),\n",
        "        tf.keras.layers.Lambda(lambda x: x * 100)\n",
        "    ]) \n",
        "\n",
        "    return model\n",
        "model = create_model()\n",
        "model.summary()"
      ],
      "metadata": {
        "colab": {
          "base_uri": "https://localhost:8080/"
        },
        "id": "wkMqwGDyKE1u",
        "outputId": "ee8b6bfb-bf55-4f90-d2e2-8af261bd3e8f"
      },
      "execution_count": null,
      "outputs": [
        {
          "output_type": "stream",
          "name": "stdout",
          "text": [
            "Model: \"sequential\"\n",
            "_________________________________________________________________\n",
            " Layer (type)                Output Shape              Param #   \n",
            "=================================================================\n",
            " conv1d (Conv1D)             (None, 12, 32)            128       \n",
            "                                                                 \n",
            " bidirectional (Bidirectiona  (None, 12, 64)           16640     \n",
            " l)                                                              \n",
            "                                                                 \n",
            " bidirectional_1 (Bidirectio  (None, 12, 64)           24832     \n",
            " nal)                                                            \n",
            "                                                                 \n",
            " bidirectional_2 (Bidirectio  (None, 64)               24832     \n",
            " nal)                                                            \n",
            "                                                                 \n",
            " dense (Dense)               (None, 30)                1950      \n",
            "                                                                 \n",
            " dense_1 (Dense)             (None, 1)                 31        \n",
            "                                                                 \n",
            " lambda (Lambda)             (None, 1)                 0         \n",
            "                                                                 \n",
            "=================================================================\n",
            "Total params: 68,413\n",
            "Trainable params: 68,413\n",
            "Non-trainable params: 0\n",
            "_________________________________________________________________\n"
          ]
        }
      ]
    },
    {
      "cell_type": "code",
      "source": [
        "# Test your uncompiled model\n",
        "uncompiled_model = create_model()\n",
        "\n",
        "try:\n",
        "    uncompiled_model.predict(train_set)\n",
        "except:\n",
        "    print(\"Your current architecture is incompatible with the windowed dataset, try adjusting it.\")\n",
        "else:\n",
        "    print(\"Your current architecture is compatible with the windowed dataset! :)\")"
      ],
      "metadata": {
        "colab": {
          "base_uri": "https://localhost:8080/"
        },
        "id": "k0RbzOK2L1xZ",
        "outputId": "897ba00d-9c82-4af1-8fb3-4ee81371d7aa"
      },
      "execution_count": null,
      "outputs": [
        {
          "output_type": "stream",
          "name": "stdout",
          "text": [
            "5/5 [==============================] - 3s 12ms/step\n",
            "Your current architecture is compatible with the windowed dataset! :)\n"
          ]
        }
      ]
    },
    {
      "cell_type": "code",
      "source": [
        "# Get initial weights\n",
        "init_weights = model.get_weights()\n",
        "\n",
        "# Set the learning rate scheduler\n",
        "lr_schedule = tf.keras.callbacks.LearningRateScheduler(\n",
        "    lambda epoch: 1e-8 * 10**(epoch / 20))\n",
        "\n",
        "# Initialize the optimizer\n",
        "optimizer = tf.keras.optimizers.SGD(momentum=0.9)\n",
        "\n",
        "# Set the training parameters\n",
        "model.compile(loss=tf.keras.losses.Huber(), optimizer=optimizer)\n",
        "\n",
        "# Train the model\n",
        "history = model.fit(train_set, epochs=100, callbacks=[lr_schedule])"
      ],
      "metadata": {
        "colab": {
          "base_uri": "https://localhost:8080/"
        },
        "id": "lg_SnB7TM3la",
        "outputId": "bc97a2bd-861c-4a96-e558-f73785febec8"
      },
      "execution_count": null,
      "outputs": [
        {
          "output_type": "stream",
          "name": "stdout",
          "text": [
            "Epoch 1/100\n",
            "5/5 [==============================] - 13s 39ms/step - loss: 10.1842 - lr: 1.0000e-08\n",
            "Epoch 2/100\n",
            "5/5 [==============================] - 0s 31ms/step - loss: 10.1433 - lr: 1.1220e-08\n",
            "Epoch 3/100\n",
            "5/5 [==============================] - 0s 31ms/step - loss: 10.0696 - lr: 1.2589e-08\n",
            "Epoch 4/100\n",
            "5/5 [==============================] - 0s 33ms/step - loss: 9.9707 - lr: 1.4125e-08\n",
            "Epoch 5/100\n",
            "5/5 [==============================] - 0s 61ms/step - loss: 9.8503 - lr: 1.5849e-08\n",
            "Epoch 6/100\n",
            "5/5 [==============================] - 0s 60ms/step - loss: 9.7098 - lr: 1.7783e-08\n",
            "Epoch 7/100\n",
            "5/5 [==============================] - 0s 61ms/step - loss: 9.5491 - lr: 1.9953e-08\n",
            "Epoch 8/100\n",
            "5/5 [==============================] - 0s 59ms/step - loss: 9.3675 - lr: 2.2387e-08\n",
            "Epoch 9/100\n",
            "5/5 [==============================] - 0s 58ms/step - loss: 9.1631 - lr: 2.5119e-08\n",
            "Epoch 10/100\n",
            "5/5 [==============================] - 0s 58ms/step - loss: 8.9343 - lr: 2.8184e-08\n",
            "Epoch 11/100\n",
            "5/5 [==============================] - 0s 60ms/step - loss: 8.6785 - lr: 3.1623e-08\n",
            "Epoch 12/100\n",
            "5/5 [==============================] - 0s 33ms/step - loss: 8.3929 - lr: 3.5481e-08\n",
            "Epoch 13/100\n",
            "5/5 [==============================] - 0s 32ms/step - loss: 8.0746 - lr: 3.9811e-08\n",
            "Epoch 14/100\n",
            "5/5 [==============================] - 0s 32ms/step - loss: 7.7197 - lr: 4.4668e-08\n",
            "Epoch 15/100\n",
            "5/5 [==============================] - 0s 33ms/step - loss: 7.3253 - lr: 5.0119e-08\n",
            "Epoch 16/100\n",
            "5/5 [==============================] - 0s 30ms/step - loss: 6.8873 - lr: 5.6234e-08\n",
            "Epoch 17/100\n",
            "5/5 [==============================] - 0s 35ms/step - loss: 6.4011 - lr: 6.3096e-08\n",
            "Epoch 18/100\n",
            "5/5 [==============================] - 0s 34ms/step - loss: 5.8627 - lr: 7.0795e-08\n",
            "Epoch 19/100\n",
            "5/5 [==============================] - 0s 33ms/step - loss: 5.2671 - lr: 7.9433e-08\n",
            "Epoch 20/100\n",
            "5/5 [==============================] - 0s 34ms/step - loss: 4.6091 - lr: 8.9125e-08\n",
            "Epoch 21/100\n",
            "5/5 [==============================] - 0s 31ms/step - loss: 3.8833 - lr: 1.0000e-07\n",
            "Epoch 22/100\n",
            "5/5 [==============================] - 0s 35ms/step - loss: 3.0846 - lr: 1.1220e-07\n",
            "Epoch 23/100\n",
            "5/5 [==============================] - 0s 32ms/step - loss: 2.2166 - lr: 1.2589e-07\n",
            "Epoch 24/100\n",
            "5/5 [==============================] - 0s 31ms/step - loss: 1.3710 - lr: 1.4125e-07\n",
            "Epoch 25/100\n",
            "5/5 [==============================] - 0s 34ms/step - loss: 0.7347 - lr: 1.5849e-07\n",
            "Epoch 26/100\n",
            "5/5 [==============================] - 0s 30ms/step - loss: 0.5256 - lr: 1.7783e-07\n",
            "Epoch 27/100\n",
            "5/5 [==============================] - 0s 36ms/step - loss: 0.5875 - lr: 1.9953e-07\n",
            "Epoch 28/100\n",
            "5/5 [==============================] - 0s 31ms/step - loss: 0.6285 - lr: 2.2387e-07\n",
            "Epoch 29/100\n",
            "5/5 [==============================] - 0s 33ms/step - loss: 0.5743 - lr: 2.5119e-07\n",
            "Epoch 30/100\n",
            "5/5 [==============================] - 0s 33ms/step - loss: 0.5196 - lr: 2.8184e-07\n",
            "Epoch 31/100\n",
            "5/5 [==============================] - 0s 30ms/step - loss: 0.5083 - lr: 3.1623e-07\n",
            "Epoch 32/100\n",
            "5/5 [==============================] - 0s 35ms/step - loss: 0.5063 - lr: 3.5481e-07\n",
            "Epoch 33/100\n",
            "5/5 [==============================] - 0s 31ms/step - loss: 0.5077 - lr: 3.9811e-07\n",
            "Epoch 34/100\n",
            "5/5 [==============================] - 0s 32ms/step - loss: 0.5109 - lr: 4.4668e-07\n",
            "Epoch 35/100\n",
            "5/5 [==============================] - 0s 32ms/step - loss: 0.5121 - lr: 5.0119e-07\n",
            "Epoch 36/100\n",
            "5/5 [==============================] - 0s 32ms/step - loss: 0.5083 - lr: 5.6234e-07\n",
            "Epoch 37/100\n",
            "5/5 [==============================] - 0s 34ms/step - loss: 0.5061 - lr: 6.3096e-07\n",
            "Epoch 38/100\n",
            "5/5 [==============================] - 0s 31ms/step - loss: 0.5061 - lr: 7.0795e-07\n",
            "Epoch 39/100\n",
            "5/5 [==============================] - 0s 35ms/step - loss: 0.5040 - lr: 7.9433e-07\n",
            "Epoch 40/100\n",
            "5/5 [==============================] - 0s 31ms/step - loss: 0.5411 - lr: 8.9125e-07\n",
            "Epoch 41/100\n",
            "5/5 [==============================] - 0s 32ms/step - loss: 0.5061 - lr: 1.0000e-06\n",
            "Epoch 42/100\n",
            "5/5 [==============================] - 0s 31ms/step - loss: 0.5213 - lr: 1.1220e-06\n",
            "Epoch 43/100\n",
            "5/5 [==============================] - 0s 33ms/step - loss: 0.5037 - lr: 1.2589e-06\n",
            "Epoch 44/100\n",
            "5/5 [==============================] - 0s 31ms/step - loss: 0.5136 - lr: 1.4125e-06\n",
            "Epoch 45/100\n",
            "5/5 [==============================] - 0s 34ms/step - loss: 0.5261 - lr: 1.5849e-06\n",
            "Epoch 46/100\n",
            "5/5 [==============================] - 0s 33ms/step - loss: 0.5111 - lr: 1.7783e-06\n",
            "Epoch 47/100\n",
            "5/5 [==============================] - 0s 33ms/step - loss: 0.5108 - lr: 1.9953e-06\n",
            "Epoch 48/100\n",
            "5/5 [==============================] - 0s 36ms/step - loss: 0.5201 - lr: 2.2387e-06\n",
            "Epoch 49/100\n",
            "5/5 [==============================] - 0s 32ms/step - loss: 0.5357 - lr: 2.5119e-06\n",
            "Epoch 50/100\n",
            "5/5 [==============================] - 0s 34ms/step - loss: 0.5053 - lr: 2.8184e-06\n",
            "Epoch 51/100\n",
            "5/5 [==============================] - 0s 35ms/step - loss: 0.5181 - lr: 3.1623e-06\n",
            "Epoch 52/100\n",
            "5/5 [==============================] - 0s 59ms/step - loss: 0.5172 - lr: 3.5481e-06\n",
            "Epoch 53/100\n",
            "5/5 [==============================] - 0s 61ms/step - loss: 0.5349 - lr: 3.9811e-06\n",
            "Epoch 54/100\n",
            "5/5 [==============================] - 0s 65ms/step - loss: 0.5040 - lr: 4.4668e-06\n",
            "Epoch 55/100\n",
            "5/5 [==============================] - 0s 59ms/step - loss: 0.5576 - lr: 5.0119e-06\n",
            "Epoch 56/100\n",
            "5/5 [==============================] - 0s 56ms/step - loss: 0.7125 - lr: 5.6234e-06\n",
            "Epoch 57/100\n",
            "5/5 [==============================] - 0s 62ms/step - loss: 0.7947 - lr: 6.3096e-06\n",
            "Epoch 58/100\n",
            "5/5 [==============================] - 0s 30ms/step - loss: 0.6568 - lr: 7.0795e-06\n",
            "Epoch 59/100\n",
            "5/5 [==============================] - 0s 39ms/step - loss: 0.5231 - lr: 7.9433e-06\n",
            "Epoch 60/100\n",
            "5/5 [==============================] - 0s 33ms/step - loss: 0.5517 - lr: 8.9125e-06\n",
            "Epoch 61/100\n",
            "5/5 [==============================] - 0s 31ms/step - loss: 0.6167 - lr: 1.0000e-05\n",
            "Epoch 62/100\n",
            "5/5 [==============================] - 0s 30ms/step - loss: 1.3727 - lr: 1.1220e-05\n",
            "Epoch 63/100\n",
            "5/5 [==============================] - 0s 32ms/step - loss: 1.3753 - lr: 1.2589e-05\n",
            "Epoch 64/100\n",
            "5/5 [==============================] - 0s 33ms/step - loss: 1.3457 - lr: 1.4125e-05\n",
            "Epoch 65/100\n",
            "5/5 [==============================] - 0s 33ms/step - loss: 0.7807 - lr: 1.5849e-05\n",
            "Epoch 66/100\n",
            "5/5 [==============================] - 0s 36ms/step - loss: 0.6887 - lr: 1.7783e-05\n",
            "Epoch 67/100\n",
            "5/5 [==============================] - 0s 32ms/step - loss: 0.8859 - lr: 1.9953e-05\n",
            "Epoch 68/100\n",
            "5/5 [==============================] - 0s 37ms/step - loss: 0.8423 - lr: 2.2387e-05\n",
            "Epoch 69/100\n",
            "5/5 [==============================] - 0s 37ms/step - loss: 0.9377 - lr: 2.5119e-05\n",
            "Epoch 70/100\n",
            "5/5 [==============================] - 0s 30ms/step - loss: 2.0634 - lr: 2.8184e-05\n",
            "Epoch 71/100\n",
            "5/5 [==============================] - 0s 65ms/step - loss: 2.2049 - lr: 3.1623e-05\n",
            "Epoch 72/100\n",
            "5/5 [==============================] - 0s 77ms/step - loss: 3.5749 - lr: 3.5481e-05\n",
            "Epoch 73/100\n",
            "5/5 [==============================] - 1s 122ms/step - loss: 2.7038 - lr: 3.9811e-05\n",
            "Epoch 74/100\n",
            "5/5 [==============================] - 1s 98ms/step - loss: 3.6542 - lr: 4.4668e-05\n",
            "Epoch 75/100\n",
            "5/5 [==============================] - 0s 76ms/step - loss: 4.3608 - lr: 5.0119e-05\n",
            "Epoch 76/100\n",
            "5/5 [==============================] - 0s 34ms/step - loss: 3.7714 - lr: 5.6234e-05\n",
            "Epoch 77/100\n",
            "5/5 [==============================] - 0s 36ms/step - loss: 2.5278 - lr: 6.3096e-05\n",
            "Epoch 78/100\n",
            "5/5 [==============================] - 0s 33ms/step - loss: 2.2912 - lr: 7.0795e-05\n",
            "Epoch 79/100\n",
            "5/5 [==============================] - 0s 33ms/step - loss: 1.4749 - lr: 7.9433e-05\n",
            "Epoch 80/100\n",
            "5/5 [==============================] - 0s 32ms/step - loss: 1.4729 - lr: 8.9125e-05\n",
            "Epoch 81/100\n",
            "5/5 [==============================] - 0s 33ms/step - loss: 3.0794 - lr: 1.0000e-04\n",
            "Epoch 82/100\n",
            "5/5 [==============================] - 0s 35ms/step - loss: 1.5576 - lr: 1.1220e-04\n",
            "Epoch 83/100\n",
            "5/5 [==============================] - 0s 32ms/step - loss: 1.2599 - lr: 1.2589e-04\n",
            "Epoch 84/100\n",
            "5/5 [==============================] - 0s 33ms/step - loss: 1.0682 - lr: 1.4125e-04\n",
            "Epoch 85/100\n",
            "5/5 [==============================] - 0s 31ms/step - loss: 1.5472 - lr: 1.5849e-04\n",
            "Epoch 86/100\n",
            "5/5 [==============================] - 0s 31ms/step - loss: 3.5980 - lr: 1.7783e-04\n",
            "Epoch 87/100\n",
            "5/5 [==============================] - 0s 32ms/step - loss: 4.5932 - lr: 1.9953e-04\n",
            "Epoch 88/100\n",
            "5/5 [==============================] - 0s 40ms/step - loss: 4.5926 - lr: 2.2387e-04\n",
            "Epoch 89/100\n",
            "5/5 [==============================] - 0s 59ms/step - loss: 4.0298 - lr: 2.5119e-04\n",
            "Epoch 90/100\n",
            "5/5 [==============================] - 0s 58ms/step - loss: 4.3217 - lr: 2.8184e-04\n",
            "Epoch 91/100\n",
            "5/5 [==============================] - 0s 66ms/step - loss: 4.5440 - lr: 3.1623e-04\n",
            "Epoch 92/100\n",
            "5/5 [==============================] - 0s 62ms/step - loss: 3.9552 - lr: 3.5481e-04\n",
            "Epoch 93/100\n",
            "5/5 [==============================] - 0s 73ms/step - loss: 1.4842 - lr: 3.9811e-04\n",
            "Epoch 94/100\n",
            "5/5 [==============================] - 0s 72ms/step - loss: 1.1436 - lr: 4.4668e-04\n",
            "Epoch 95/100\n",
            "5/5 [==============================] - 0s 46ms/step - loss: 1.5777 - lr: 5.0119e-04\n",
            "Epoch 96/100\n",
            "5/5 [==============================] - 0s 31ms/step - loss: 2.9057 - lr: 5.6234e-04\n",
            "Epoch 97/100\n",
            "5/5 [==============================] - 0s 33ms/step - loss: 8.9708 - lr: 6.3096e-04\n",
            "Epoch 98/100\n",
            "5/5 [==============================] - 0s 30ms/step - loss: 5.6727 - lr: 7.0795e-04\n",
            "Epoch 99/100\n",
            "5/5 [==============================] - 0s 33ms/step - loss: 4.9352 - lr: 7.9433e-04\n",
            "Epoch 100/100\n",
            "5/5 [==============================] - 0s 33ms/step - loss: 17.5438 - lr: 8.9125e-04\n"
          ]
        }
      ]
    },
    {
      "cell_type": "code",
      "source": [
        "# Define the learning rate array\n",
        "lrs = 1e-8 * (10 ** (np.arange(100) / 20))\n",
        "\n",
        "# Set the figure size\n",
        "plt.figure(figsize=(10, 6))\n",
        "\n",
        "# Set the grid\n",
        "plt.grid(True)\n",
        "\n",
        "# Plot the loss in log scale\n",
        "plt.semilogx(lrs, history.history[\"loss\"])\n",
        "\n",
        "# Increase the tickmarks size\n",
        "plt.tick_params('both', length=10, width=1, which='both')\n",
        "\n",
        "# Set the plot boundaries\n",
        "plt.axis([1e-8, 1e-3, 0, 50])"
      ],
      "metadata": {
        "colab": {
          "base_uri": "https://localhost:8080/",
          "height": 559
        },
        "id": "_U5sUnBTNdfC",
        "outputId": "1c1fe208-5203-4f15-b021-6852b122fcb2"
      },
      "execution_count": null,
      "outputs": [
        {
          "output_type": "execute_result",
          "data": {
            "text/plain": [
              "(1e-08, 0.001, 0.0, 50.0)"
            ]
          },
          "metadata": {},
          "execution_count": 107
        },
        {
          "output_type": "display_data",
          "data": {
            "text/plain": [
              "<Figure size 1000x600 with 1 Axes>"
            ],
            "image/png": "[encoded data removed]"
          },
          "metadata": {}
        }
      ]
    },
    {
      "cell_type": "code",
      "source": [
        "# Reset states generated by Keras\n",
        "tf.keras.backend.clear_session()\n",
        "\n",
        "# Reset the weights\n",
        "model.set_weights(init_weights)"
      ],
      "metadata": {
        "id": "MclF3BmrNnAi"
      },
      "execution_count": null,
      "outputs": []
    },
    {
      "cell_type": "code",
      "source": [
        "# Set the learning rate\n",
        "learning_rate = 1e-6\n",
        "\n",
        "# Set the optimizer\n",
        "optimizer = tf.keras.optimizers.SGD(learning_rate=learning_rate, momentum=0.9)\n",
        "\n",
        "# Set the training parameters\n",
        "model.compile(loss=tf.keras.losses.Huber(),\n",
        "              optimizer=optimizer,\n",
        "              metrics=[\"mae\"])"
      ],
      "metadata": {
        "id": "DZIbxKGgNoMh"
      },
      "execution_count": null,
      "outputs": []
    },
    {
      "cell_type": "code",
      "source": [
        "# Train the model\n",
        "Epochs = 80\n",
        "history = model.fit(train_set,epochs=Epochs)"
      ],
      "metadata": {
        "colab": {
          "base_uri": "https://localhost:8080/"
        },
        "id": "ljSTZCVLN2F5",
        "outputId": "19b6bdf5-1cbb-46d7-fe76-9df86e7b49e5"
      },
      "execution_count": null,
      "outputs": [
        {
          "output_type": "stream",
          "name": "stdout",
          "text": [
            "Epoch 1/80\n",
            "5/5 [==============================] - 13s 36ms/step - loss: 9.6219 - mae: 10.1219\n",
            "Epoch 2/80\n",
            "5/5 [==============================] - 0s 31ms/step - loss: 5.7769 - mae: 6.2769\n",
            "Epoch 3/80\n",
            "5/5 [==============================] - 0s 38ms/step - loss: 1.1542 - mae: 1.5943\n",
            "Epoch 4/80\n",
            "5/5 [==============================] - 0s 29ms/step - loss: 2.2352 - mae: 2.7209\n",
            "Epoch 5/80\n",
            "5/5 [==============================] - 0s 33ms/step - loss: 1.3771 - mae: 1.8440\n",
            "Epoch 6/80\n",
            "5/5 [==============================] - 0s 29ms/step - loss: 0.7445 - mae: 1.1698\n",
            "Epoch 7/80\n",
            "5/5 [==============================] - 0s 31ms/step - loss: 0.9644 - mae: 1.4082\n",
            "Epoch 8/80\n",
            "5/5 [==============================] - 0s 29ms/step - loss: 0.6426 - mae: 1.0418\n",
            "Epoch 9/80\n",
            "5/5 [==============================] - 0s 31ms/step - loss: 0.7000 - mae: 1.1022\n",
            "Epoch 10/80\n",
            "5/5 [==============================] - 0s 33ms/step - loss: 0.5890 - mae: 1.0038\n",
            "Epoch 11/80\n",
            "5/5 [==============================] - 0s 29ms/step - loss: 0.5480 - mae: 0.9396\n",
            "Epoch 12/80\n",
            "5/5 [==============================] - 0s 30ms/step - loss: 0.5348 - mae: 0.8808\n",
            "Epoch 13/80\n",
            "5/5 [==============================] - 0s 30ms/step - loss: 0.5219 - mae: 0.9177\n",
            "Epoch 14/80\n",
            "5/5 [==============================] - 0s 31ms/step - loss: 0.5704 - mae: 0.9586\n",
            "Epoch 15/80\n",
            "5/5 [==============================] - 0s 32ms/step - loss: 0.5020 - mae: 0.8663\n",
            "Epoch 16/80\n",
            "5/5 [==============================] - 0s 29ms/step - loss: 0.5411 - mae: 0.8849\n",
            "Epoch 17/80\n",
            "5/5 [==============================] - 0s 30ms/step - loss: 0.4989 - mae: 0.8695\n",
            "Epoch 18/80\n",
            "5/5 [==============================] - 0s 29ms/step - loss: 0.5065 - mae: 0.8793\n",
            "Epoch 19/80\n",
            "5/5 [==============================] - 0s 32ms/step - loss: 0.5042 - mae: 0.8854\n",
            "Epoch 20/80\n",
            "5/5 [==============================] - 0s 29ms/step - loss: 0.4896 - mae: 0.8580\n",
            "Epoch 21/80\n",
            "5/5 [==============================] - 0s 30ms/step - loss: 0.5042 - mae: 0.8648\n",
            "Epoch 22/80\n",
            "5/5 [==============================] - 0s 31ms/step - loss: 0.4863 - mae: 0.8628\n",
            "Epoch 23/80\n",
            "5/5 [==============================] - 0s 28ms/step - loss: 0.4916 - mae: 0.8708\n",
            "Epoch 24/80\n",
            "5/5 [==============================] - 0s 29ms/step - loss: 0.4987 - mae: 0.8514\n",
            "Epoch 25/80\n",
            "5/5 [==============================] - 0s 31ms/step - loss: 0.5055 - mae: 0.8619\n",
            "Epoch 26/80\n",
            "5/5 [==============================] - 0s 28ms/step - loss: 0.4847 - mae: 0.8556\n",
            "Epoch 27/80\n",
            "5/5 [==============================] - 0s 33ms/step - loss: 0.4812 - mae: 0.8504\n",
            "Epoch 28/80\n",
            "5/5 [==============================] - 0s 38ms/step - loss: 0.5310 - mae: 0.8906\n",
            "Epoch 29/80\n",
            "5/5 [==============================] - 0s 30ms/step - loss: 0.4843 - mae: 0.8376\n",
            "Epoch 30/80\n",
            "5/5 [==============================] - 0s 28ms/step - loss: 0.5013 - mae: 0.8839\n",
            "Epoch 31/80\n",
            "5/5 [==============================] - 0s 31ms/step - loss: 0.4809 - mae: 0.8526\n",
            "Epoch 32/80\n",
            "5/5 [==============================] - 0s 29ms/step - loss: 0.4911 - mae: 0.8483\n",
            "Epoch 33/80\n",
            "5/5 [==============================] - 0s 31ms/step - loss: 0.5140 - mae: 0.8663\n",
            "Epoch 34/80\n",
            "5/5 [==============================] - 0s 29ms/step - loss: 0.4806 - mae: 0.8489\n",
            "Epoch 35/80\n",
            "5/5 [==============================] - 0s 39ms/step - loss: 0.4976 - mae: 0.8772\n",
            "Epoch 36/80\n",
            "5/5 [==============================] - 0s 31ms/step - loss: 0.4871 - mae: 0.8688\n",
            "Epoch 37/80\n",
            "5/5 [==============================] - 0s 56ms/step - loss: 0.4885 - mae: 0.8541\n",
            "Epoch 38/80\n",
            "5/5 [==============================] - 0s 63ms/step - loss: 0.4868 - mae: 0.8552\n",
            "Epoch 39/80\n",
            "5/5 [==============================] - 0s 61ms/step - loss: 0.4836 - mae: 0.8516\n",
            "Epoch 40/80\n",
            "5/5 [==============================] - 0s 68ms/step - loss: 0.4865 - mae: 0.8519\n",
            "Epoch 41/80\n",
            "5/5 [==============================] - 0s 62ms/step - loss: 0.4854 - mae: 0.8551\n",
            "Epoch 42/80\n",
            "5/5 [==============================] - 0s 59ms/step - loss: 0.4878 - mae: 0.8665\n",
            "Epoch 43/80\n",
            "5/5 [==============================] - 0s 58ms/step - loss: 0.4929 - mae: 0.8647\n",
            "Epoch 44/80\n",
            "5/5 [==============================] - 0s 58ms/step - loss: 0.4867 - mae: 0.8608\n",
            "Epoch 45/80\n",
            "5/5 [==============================] - 0s 58ms/step - loss: 0.4734 - mae: 0.8422\n",
            "Epoch 46/80\n",
            "5/5 [==============================] - 0s 37ms/step - loss: 0.5121 - mae: 0.8701\n",
            "Epoch 47/80\n",
            "5/5 [==============================] - 0s 30ms/step - loss: 0.4869 - mae: 0.8628\n",
            "Epoch 48/80\n",
            "5/5 [==============================] - 0s 34ms/step - loss: 0.4859 - mae: 0.8639\n",
            "Epoch 49/80\n",
            "5/5 [==============================] - 0s 28ms/step - loss: 0.4768 - mae: 0.8518\n",
            "Epoch 50/80\n",
            "5/5 [==============================] - 0s 30ms/step - loss: 0.4791 - mae: 0.8412\n",
            "Epoch 51/80\n",
            "5/5 [==============================] - 0s 29ms/step - loss: 0.4805 - mae: 0.8460\n",
            "Epoch 52/80\n",
            "5/5 [==============================] - 0s 29ms/step - loss: 0.4847 - mae: 0.8573\n",
            "Epoch 53/80\n",
            "5/5 [==============================] - 0s 34ms/step - loss: 0.4827 - mae: 0.8597\n",
            "Epoch 54/80\n",
            "5/5 [==============================] - 0s 29ms/step - loss: 0.4902 - mae: 0.8657\n",
            "Epoch 55/80\n",
            "5/5 [==============================] - 0s 31ms/step - loss: 0.4815 - mae: 0.8621\n",
            "Epoch 56/80\n",
            "5/5 [==============================] - 0s 35ms/step - loss: 0.4809 - mae: 0.8459\n",
            "Epoch 57/80\n",
            "5/5 [==============================] - 0s 33ms/step - loss: 0.4869 - mae: 0.8541\n",
            "Epoch 58/80\n",
            "5/5 [==============================] - 0s 32ms/step - loss: 0.4847 - mae: 0.8662\n",
            "Epoch 59/80\n",
            "5/5 [==============================] - 0s 29ms/step - loss: 0.4796 - mae: 0.8602\n",
            "Epoch 60/80\n",
            "5/5 [==============================] - 0s 29ms/step - loss: 0.5078 - mae: 0.8622\n",
            "Epoch 61/80\n",
            "5/5 [==============================] - 0s 31ms/step - loss: 0.4838 - mae: 0.8402\n",
            "Epoch 62/80\n",
            "5/5 [==============================] - 0s 31ms/step - loss: 0.4938 - mae: 0.8721\n",
            "Epoch 63/80\n",
            "5/5 [==============================] - 0s 28ms/step - loss: 0.4786 - mae: 0.8502\n",
            "Epoch 64/80\n",
            "5/5 [==============================] - 0s 29ms/step - loss: 0.5264 - mae: 0.8794\n",
            "Epoch 65/80\n",
            "5/5 [==============================] - 0s 31ms/step - loss: 0.4689 - mae: 0.8283\n",
            "Epoch 66/80\n",
            "5/5 [==============================] - 0s 33ms/step - loss: 0.5087 - mae: 0.8899\n",
            "Epoch 67/80\n",
            "5/5 [==============================] - 0s 29ms/step - loss: 0.4813 - mae: 0.8582\n",
            "Epoch 68/80\n",
            "5/5 [==============================] - 0s 32ms/step - loss: 0.4786 - mae: 0.8412\n",
            "Epoch 69/80\n",
            "5/5 [==============================] - 0s 28ms/step - loss: 0.4897 - mae: 0.8593\n",
            "Epoch 70/80\n",
            "5/5 [==============================] - 0s 35ms/step - loss: 0.4824 - mae: 0.8504\n",
            "Epoch 71/80\n",
            "5/5 [==============================] - 0s 28ms/step - loss: 0.5051 - mae: 0.8526\n",
            "Epoch 72/80\n",
            "5/5 [==============================] - 0s 30ms/step - loss: 0.4968 - mae: 0.8518\n",
            "Epoch 73/80\n",
            "5/5 [==============================] - 0s 30ms/step - loss: 0.5000 - mae: 0.8814\n",
            "Epoch 74/80\n",
            "5/5 [==============================] - 0s 31ms/step - loss: 0.5093 - mae: 0.8865\n",
            "Epoch 75/80\n",
            "5/5 [==============================] - 0s 29ms/step - loss: 0.5048 - mae: 0.8581\n",
            "Epoch 76/80\n",
            "5/5 [==============================] - 0s 30ms/step - loss: 0.5134 - mae: 0.8579\n",
            "Epoch 77/80\n",
            "5/5 [==============================] - 0s 30ms/step - loss: 0.5033 - mae: 0.8751\n",
            "Epoch 78/80\n",
            "5/5 [==============================] - 0s 35ms/step - loss: 0.5202 - mae: 0.8971\n",
            "Epoch 79/80\n",
            "5/5 [==============================] - 0s 28ms/step - loss: 0.4847 - mae: 0.8482\n",
            "Epoch 80/80\n",
            "5/5 [==============================] - 0s 30ms/step - loss: 0.4811 - mae: 0.8447\n"
          ]
        }
      ]
    },
    {
      "cell_type": "code",
      "source": [
        "def model_forecast(model, series, window_size, batch_size):\n",
        "    \"\"\"Uses an input model to generate predictions on data windows\n",
        "\n",
        "    Args:\n",
        "      model (TF Keras Model) - model that accepts data windows\n",
        "      series (array of float) - contains the values of the time series\n",
        "      window_size (int) - the number of time steps to include in the window\n",
        "      batch_size (int) - the batch size\n",
        "\n",
        "    Returns:\n",
        "      forecast (numpy array) - array containing predictions\n",
        "    \"\"\"\n",
        "\n",
        "    # Generate a TF Dataset from the series values\n",
        "    dataset = tf.data.Dataset.from_tensor_slices(series)\n",
        "\n",
        "    # Window the data but only take those with the specified size\n",
        "    dataset = dataset.window(window_size, shift=1, drop_remainder=True)\n",
        "\n",
        "    # Flatten the windows by putting its elements in a single batch\n",
        "    dataset = dataset.flat_map(lambda w: w.batch(window_size))\n",
        "    \n",
        "    # Create batches of windows\n",
        "    dataset = dataset.batch(batch_size).prefetch(1)\n",
        "    \n",
        "    # Get predictions on the entire dataset\n",
        "    forecast = model.predict(dataset)\n",
        "    \n",
        "    return forecast"
      ],
      "metadata": {
        "id": "-ELlKWGOOufn"
      },
      "execution_count": null,
      "outputs": []
    },
    {
      "cell_type": "code",
      "source": [
        "def compute_metrics(true_series, forecast):\n",
        "    \n",
        "    mse = tf.keras.metrics.mean_squared_error(true_series, forecast).numpy()\n",
        "    mae = tf.keras.metrics.mean_absolute_error(true_series, forecast).numpy()\n",
        "\n",
        "    return mse, mae"
      ],
      "metadata": {
        "id": "P0PawUqAOXLu"
      },
      "execution_count": null,
      "outputs": []
    },
    {
      "cell_type": "code",
      "source": [
        "cnn_forecast = model_forecast(model, G.SERIES, G.WINDOW_SIZE, G.BATCH_SIZE).squeeze()\n",
        "cnn_forecast = cnn_forecast[G.SPLIT_TIME - G.WINDOW_SIZE:-1]\n",
        "mse, mae = compute_metrics(series_valid, cnn_forecast)\n",
        "\n",
        "print(f\"mse: {mse:.2f}, mae: {mae:.2f} for forecast\")"
      ],
      "metadata": {
        "colab": {
          "base_uri": "https://localhost:8080/"
        },
        "id": "frlRqkXtOfYt",
        "outputId": "333bec5a-a9b8-4bfc-b7ba-3a34b965df35"
      },
      "execution_count": null,
      "outputs": [
        {
          "output_type": "stream",
          "name": "stdout",
          "text": [
            "8/8 [==============================] - 5s 21ms/step\n",
            "mse: 2.66, mae: 1.31 for forecast\n"
          ]
        }
      ]
    },
    {
      "cell_type": "code",
      "source": [
        "# Compute the forecast for all the series\n",
        "cnn_forecast = model_forecast(model, G.SERIES, G.WINDOW_SIZE, G.BATCH_SIZE).squeeze()\n",
        "tam = [None,None,None,None,None,None,None,None,None,None,None]\n",
        "\n",
        "\n",
        "# Slice the forecast to get only the predictions for the validation set\n",
        "# cnn_forecast = cnn_forecast[G.SPLIT_TIME - G.WINDOW_SIZE:-1]\n",
        "cnn_forecast = np.insert(cnn_forecast, 0, tam)\n",
        "\n",
        "# Plot the forecast\n",
        "plt.figure(figsize=(10, 5))\n",
        "plot_series(G.TIME, G.SERIES)\n",
        "plot_series(G.TIME, cnn_forecast)"
      ],
      "metadata": {
        "colab": {
          "base_uri": "https://localhost:8080/",
          "height": 483
        },
        "id": "kKeQPGFCPMLB",
        "outputId": "5ba85203-670b-46dc-b8c3-4d41bf235631"
      },
      "execution_count": null,
      "outputs": [
        {
          "output_type": "stream",
          "name": "stdout",
          "text": [
            "8/8 [==============================] - 0s 14ms/step\n"
          ]
        },
        {
          "output_type": "display_data",
          "data": {
            "text/plain": [
              "<Figure size 1000x500 with 1 Axes>"
            ],
            "image/png": "[encoded data removed]"
          },
          "metadata": {}
        }
      ]
    },
    {
      "cell_type": "code",
      "source": [
        "plt.figure(figsize=(10, 5))\n",
        "plt.plot(range(10), history.history[\"loss\"][:10])\n",
        "plt.plot(range(10), history.history[\"mae\"][:10])\n",
        "plt.xlabel(\"Epochs\")\n",
        "plt.ylabel(\"Value\")\n",
        "\n",
        "plt.show()"
      ],
      "metadata": {
        "colab": {
          "base_uri": "https://localhost:8080/",
          "height": 465
        },
        "id": "to5Oy-NxR1-j",
        "outputId": "b21ab6dd-eaea-4ce8-fc47-a00ed3b338e2"
      },
      "execution_count": null,
      "outputs": [
        {
          "output_type": "display_data",
          "data": {
            "text/plain": [
              "<Figure size 1000x500 with 1 Axes>"
            ],
            "image/png": "[encoded data removed]"
          },
          "metadata": {}
        }
      ]
    },
    {
      "cell_type": "code",
      "source": [
        "# prepare data for forecasting\n",
        "last_window = G.SERIES[-G.WINDOW_SIZE:]\n",
        "last_window = np.reshape(last_window, (1, G.WINDOW_SIZE, 1))\n",
        "\n",
        "# make a forecast for 5 steps ahead\n",
        "forecast_norm = []\n",
        "for _ in range(24):\n",
        "    pred = model.predict(last_window)[0, 0]\n",
        "    forecast_norm.append(pred)\n",
        "    last_window = np.roll(last_window, -1, axis=1)\n",
        "    last_window[0, -1, 0] = pred\n",
        "\n",
        "# invert the normalization\n",
        "forecast = forecast_norm\n",
        "print(\"Forecast:\", forecast)"
      ],
      "metadata": {
        "colab": {
          "base_uri": "https://localhost:8080/"
        },
        "id": "EBmQ4eAT8caf",
        "outputId": "179bb390-d3ef-4ce7-e94b-fa35e0fef2e3"
      },
      "execution_count": null,
      "outputs": [
        {
          "output_type": "stream",
          "name": "stdout",
          "text": [
            "1/1 [==============================] - 2s 2s/step\n",
            "1/1 [==============================] - 0s 30ms/step\n",
            "1/1 [==============================] - 0s 28ms/step\n",
            "1/1 [==============================] - 0s 28ms/step\n",
            "1/1 [==============================] - 0s 31ms/step\n",
            "1/1 [==============================] - 0s 29ms/step\n",
            "1/1 [==============================] - 0s 26ms/step\n",
            "1/1 [==============================] - 0s 27ms/step\n",
            "1/1 [==============================] - 0s 33ms/step\n",
            "1/1 [==============================] - 0s 26ms/step\n",
            "1/1 [==============================] - 0s 26ms/step\n",
            "1/1 [==============================] - 0s 27ms/step\n",
            "1/1 [==============================] - 0s 31ms/step\n",
            "1/1 [==============================] - 0s 31ms/step\n",
            "1/1 [==============================] - 0s 35ms/step\n",
            "1/1 [==============================] - 0s 30ms/step\n",
            "1/1 [==============================] - 0s 34ms/step\n",
            "1/1 [==============================] - 0s 32ms/step\n",
            "1/1 [==============================] - 0s 29ms/step\n",
            "1/1 [==============================] - 0s 26ms/step\n",
            "1/1 [==============================] - 0s 30ms/step\n",
            "1/1 [==============================] - 0s 27ms/step\n",
            "1/1 [==============================] - 0s 27ms/step\n",
            "1/1 [==============================] - 0s 27ms/step\n",
            "Forecast: [20.772085, 20.75174, 20.738962, 21.038391, 20.591099, 20.931704, 20.936731, 21.087618, 20.88926, 20.866241, 20.869802, 20.969723, 20.961752, 20.968788, 20.973597, 21.01456, 20.971458, 21.017729, 21.017426, 21.034914, 21.015768, 21.020134, 21.025608, 21.040075]\n"
          ]
        }
      ]
    },
    {
      "cell_type": "code",
      "source": [],
      "metadata": {
        "id": "PHPxvymSLf-Q"
      },
      "execution_count": null,
      "outputs": []
    }
  ]
}