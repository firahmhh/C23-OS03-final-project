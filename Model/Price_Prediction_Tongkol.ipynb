{
  "nbformat": 4,
  "nbformat_minor": 0,
  "metadata": {
    "colab": {
      "provenance": []
    },
    "kernelspec": {
      "name": "python3",
      "display_name": "Python 3"
    },
    "language_info": {
      "name": "python"
    }
  },
  "cells": [
    {
      "cell_type": "code",
      "execution_count": null,
      "metadata": {
        "colab": {
          "base_uri": "https://localhost:8080/"
        },
        "id": "se_nIqvRFuyO",
        "outputId": "471b453d-cfdb-47bd-aefd-1a75ed093f9f"
      },
      "outputs": [
        {
          "output_type": "stream",
          "name": "stdout",
          "text": [
            "Drive already mounted at /content/drive; to attempt to forcibly remount, call drive.mount(\"/content/drive\", force_remount=True).\n"
          ]
        }
      ],
      "source": [
        "import csv\n",
        "import numpy as np\n",
        "import tensorflow as tf\n",
        "import matplotlib.pyplot as plt\n",
        "import pandas as pd\n",
        "\n",
        "from dataclasses import dataclass\n",
        "from google.colab import drive\n",
        "drive.mount('/content/drive')"
      ]
    },
    {
      "cell_type": "code",
      "source": [
        "df1 = pd.read_csv('/content/drive/MyDrive/Dataset/Copy of Data Price Prediction - Tongkol-Grosir.csv', sep =',')"
      ],
      "metadata": {
        "id": "12UiO3NUDjhN"
      },
      "execution_count": null,
      "outputs": []
    },
    {
      "cell_type": "code",
      "source": [
        "Q1 = df1['Harga'].quantile(0.25)\n",
        "Q3 = df1['Harga'].quantile(0.75)\n",
        "IQR = Q3 - Q1\n",
        "# df = df1[(df1['Harga'] >= Q1 - 1.5 * IQR) & (df1['Harga'] <= Q3 + 1.5 * IQR)]\n",
        "threshold = 1.5*IQR\n",
        "median = np.median(df1['Harga'])\n",
        "outliers = (df1['Harga'] < Q1 - threshold) | (df1['Harga'] > Q3 + threshold)\n",
        "df1[outliers] = median"
      ],
      "metadata": {
        "id": "isMDMYveDvcD"
      },
      "execution_count": null,
      "outputs": []
    },
    {
      "cell_type": "code",
      "source": [
        "# def get_data(filename):\n",
        "    \n",
        "#     times = []\n",
        "#     value = []\n",
        "\n",
        "#     with open(filename) as csvfile:\n",
        "        \n",
        "#         reader = csv.reader(csvfile, delimiter=',')\n",
        "#         next(reader)\n",
        "#         i = 0\n",
        "#         for row in reader:\n",
        "#             times.append(i)\n",
        "#             value.append(float(row[1])/1000)\n",
        "#             i+=1\n",
        "\n",
        "    \n",
        "#     return times, value\n",
        "\n",
        "\n",
        "\n",
        "def get_data(data):\n",
        "    \n",
        "    times = []\n",
        "    value = []\n",
        "\n",
        "    i = 0\n",
        "    for row in data:\n",
        "      times.append(i)\n",
        "      value.append(float(row)/1000)\n",
        "      i+=1\n",
        "\n",
        "    \n",
        "    return times, value\n",
        "\n",
        "\n",
        "\n"
      ],
      "metadata": {
        "id": "HP1EhGPwFzKR"
      },
      "execution_count": null,
      "outputs": []
    },
    {
      "cell_type": "code",
      "source": [
        "def plot_series(time, series, format=\"-\", start=0, end=None):\n",
        "    plt.plot(time[start:end], series[start:end], format)\n",
        "    plt.xlabel(\"Time\")\n",
        "    plt.ylabel(\"Value\")\n",
        "    plt.grid(True)"
      ],
      "metadata": {
        "id": "6S8Mf3yBHNTg"
      },
      "execution_count": null,
      "outputs": []
    },
    {
      "cell_type": "code",
      "source": [
        "# Test your function and save all \"global\" variables within the G class (G stands for global)\n",
        "@dataclass\n",
        "class G:\n",
        "    FILE_CSV = '/content/drive/MyDrive/Dataset/Copy of Data Price Prediction - Tongkol-Grosir.csv'\n",
        "    times, price = get_data(df1['Harga'])\n",
        "    TIME = np.array(times)\n",
        "    SERIES = np.array(price)\n",
        "    SPLIT_TIME = 62\n",
        "    WINDOW_SIZE = 12\n",
        "    BATCH_SIZE = 12\n",
        "    SHUFFLE_BUFFER_SIZE = 150\n"
      ],
      "metadata": {
        "id": "RZ2bR_YiGkSh"
      },
      "execution_count": null,
      "outputs": []
    },
    {
      "cell_type": "code",
      "source": [
        "plt.figure(figsize=(3, 2))\n",
        "plot_series(G.TIME, G.SERIES)\n",
        "plt.show()"
      ],
      "metadata": {
        "colab": {
          "base_uri": "https://localhost:8080/",
          "height": 234
        },
        "id": "R2HONSfzJRsk",
        "outputId": "361b7313-d0f2-4dc7-e0d6-859c0dc04ab7"
      },
      "execution_count": null,
      "outputs": [
        {
          "output_type": "display_data",
          "data": {
            "text/plain": [
              "<Figure size 300x200 with 1 Axes>"
            ],
            "image/png": "[encoded data removed]"
          },
          "metadata": {}
        }
      ]
    },
    {
      "cell_type": "code",
      "source": [
        "def train_val_split(time, series, time_step=G.SPLIT_TIME):\n",
        "\n",
        "    time_train = time[:time_step]\n",
        "    series_train = series[:time_step]\n",
        "    time_valid = time[time_step:]\n",
        "    series_valid = series[time_step:]\n",
        "\n",
        "    return time_train, series_train, time_valid, series_valid"
      ],
      "metadata": {
        "id": "AKhlCThVHhCZ"
      },
      "execution_count": null,
      "outputs": []
    },
    {
      "cell_type": "code",
      "source": [
        "# Split the dataset\n",
        "time_train, series_train, time_valid, series_valid = train_val_split(G.TIME, G.SERIES)"
      ],
      "metadata": {
        "id": "SF71F6BMJpF0"
      },
      "execution_count": null,
      "outputs": []
    },
    {
      "cell_type": "code",
      "source": [
        "def windowed_dataset(series, window_size=G.WINDOW_SIZE, batch_size=G.BATCH_SIZE, shuffle_buffer=G.SHUFFLE_BUFFER_SIZE):\n",
        "    ds = tf.data.Dataset.from_tensor_slices(series)\n",
        "    ds = ds.window(window_size + 1, shift=1, drop_remainder=True)\n",
        "    ds = ds.flat_map(lambda w: w.batch(window_size + 1))\n",
        "    ds = ds.shuffle(shuffle_buffer)\n",
        "    ds = ds.map(lambda w: (w[:-1], w[-1]))\n",
        "    ds = ds.batch(batch_size).prefetch(1)\n",
        "    return ds\n"
      ],
      "metadata": {
        "id": "f9kaadcXJe5M"
      },
      "execution_count": null,
      "outputs": []
    },
    {
      "cell_type": "code",
      "source": [
        "# Apply the transformation to the training set\n",
        "train_set = windowed_dataset(series_train, window_size=G.WINDOW_SIZE, batch_size=G.BATCH_SIZE, shuffle_buffer=G.SHUFFLE_BUFFER_SIZE)"
      ],
      "metadata": {
        "id": "Q84t5hDNJnDv"
      },
      "execution_count": null,
      "outputs": []
    },
    {
      "cell_type": "markdown",
      "source": [
        "## Build the Model\n",
        "\n",
        "Here is the model architecture you will be using. It is very similar to the last RNN you built but with the [Conv1D](https://www.tensorflow.org/api_docs/python/tf/keras/layers/Conv1D) layer at the input. One important [argument](https://www.tensorflow.org/api_docs/python/tf/keras/layers/Conv1D#args) here is the `padding`. For time series data, it is good practice to not let computations for a particular time step to be affected by values into the future. Here is one way of looking at it:\n",
        "\n",
        "* Let's say you have a small time series window with these values: `[1, 2, 3, 4, 5]`. This means the value `1` is at `t=0`, `2` is at `t=1`, etc.\n",
        "* If you have a 1D kernel of size `3`, then the first convolution will be for the values at `[1, 2, 3]` which are values for `t=0` to `t=2`.\n",
        "* When you pass this to the first timestep of the `LSTM` after the convolution, it means that the value at `t=0` of the LSTM depends on `t=1` and `t=2` which are values into the future.\n",
        "* For time series data, you want computations to only rely on current and previous time steps.\n",
        "* One way to do that is to pad the array depending on the kernel size and stride. For a kernel size of 3 and stride of 1, the window can be padded as such: `[0, 0, 1, 2, 3, 4, 5]`. `1` is still at `t=0` and two zeroes are prepended to simulate values in the past.\n",
        "* This way, the first stride will be at `[0, 0, 1]` and this does not contain any future values when it is passed on to subsequent layers.\n",
        "\n",
        "The `Conv1D` layer does this kind of padding by setting `padding=causal` and you'll see that below."
      ],
      "metadata": {
        "id": "M4vF3mFnKD-R"
      }
    },
    {
      "cell_type": "code",
      "source": [
        "def create_model():\n",
        "    \n",
        "    model = tf.keras.models.Sequential([ \n",
        "        tf.keras.layers.Conv1D(filters=32, kernel_size=3,\n",
        "                      strides=1, padding=\"causal\",\n",
        "                      activation=\"relu\",\n",
        "                      input_shape=[G.WINDOW_SIZE, 1]),\n",
        "        tf.keras.layers.Bidirectional(tf.keras.layers.LSTM(32, return_sequences=True)),\n",
        "        tf.keras.layers.Bidirectional(tf.keras.layers.LSTM(32, return_sequences=True)),\n",
        "        tf.keras.layers.Bidirectional(tf.keras.layers.LSTM(32)),\n",
        "        tf.keras.layers.Dense(15, activation='relu'),\n",
        "        tf.keras.layers.Dense(30, activation='relu'),\n",
        "        tf.keras.layers.Dense(1),\n",
        "        tf.keras.layers.Lambda(lambda x: x * 100)\n",
        "    ]) \n",
        "\n",
        "    return model\n",
        "model = create_model()\n",
        "model.summary()"
      ],
      "metadata": {
        "colab": {
          "base_uri": "https://localhost:8080/"
        },
        "id": "wkMqwGDyKE1u",
        "outputId": "89394735-0c21-43d3-8a4a-0ad392e1f31d"
      },
      "execution_count": null,
      "outputs": [
        {
          "output_type": "stream",
          "name": "stdout",
          "text": [
            "Model: \"sequential_1\"\n",
            "_________________________________________________________________\n",
            " Layer (type)                Output Shape              Param #   \n",
            "=================================================================\n",
            " conv1d_1 (Conv1D)           (None, 12, 32)            128       \n",
            "                                                                 \n",
            " bidirectional_3 (Bidirectio  (None, 12, 64)           16640     \n",
            " nal)                                                            \n",
            "                                                                 \n",
            " bidirectional_4 (Bidirectio  (None, 12, 64)           24832     \n",
            " nal)                                                            \n",
            "                                                                 \n",
            " bidirectional_5 (Bidirectio  (None, 64)               24832     \n",
            " nal)                                                            \n",
            "                                                                 \n",
            " dense_3 (Dense)             (None, 15)                975       \n",
            "                                                                 \n",
            " dense_4 (Dense)             (None, 30)                480       \n",
            "                                                                 \n",
            " dense_5 (Dense)             (None, 1)                 31        \n",
            "                                                                 \n",
            " lambda_1 (Lambda)           (None, 1)                 0         \n",
            "                                                                 \n",
            "=================================================================\n",
            "Total params: 67,918\n",
            "Trainable params: 67,918\n",
            "Non-trainable params: 0\n",
            "_________________________________________________________________\n"
          ]
        }
      ]
    },
    {
      "cell_type": "code",
      "source": [
        "# Test your uncompiled model\n",
        "uncompiled_model = create_model()\n",
        "\n",
        "try:\n",
        "    uncompiled_model.predict(train_set)\n",
        "except:\n",
        "    print(\"Your current architecture is incompatible with the windowed dataset, try adjusting it.\")\n",
        "else:\n",
        "    print(\"Your current architecture is compatible with the windowed dataset! :)\")"
      ],
      "metadata": {
        "colab": {
          "base_uri": "https://localhost:8080/"
        },
        "id": "k0RbzOK2L1xZ",
        "outputId": "55864d8c-f39a-4521-c608-8f1399fe5443"
      },
      "execution_count": null,
      "outputs": [
        {
          "output_type": "stream",
          "name": "stdout",
          "text": [
            "5/5 [==============================] - 3s 87ms/step\n",
            "Your current architecture is compatible with the windowed dataset! :)\n"
          ]
        }
      ]
    },
    {
      "cell_type": "code",
      "source": [
        "# Get initial weights\n",
        "init_weights = model.get_weights()\n",
        "\n",
        "# Set the learning rate scheduler\n",
        "lr_schedule = tf.keras.callbacks.LearningRateScheduler(\n",
        "    lambda epoch: 1e-8 * 10**(epoch / 20))\n",
        "\n",
        "# Initialize the optimizer\n",
        "optimizer = tf.keras.optimizers.SGD(momentum=0.9)\n",
        "\n",
        "# Set the training parameters\n",
        "model.compile(loss=tf.keras.losses.Huber(), optimizer=optimizer)\n",
        "\n",
        "# Train the model\n",
        "history = model.fit(train_set, epochs=100, callbacks=[lr_schedule])"
      ],
      "metadata": {
        "colab": {
          "base_uri": "https://localhost:8080/"
        },
        "id": "lg_SnB7TM3la",
        "outputId": "080a2744-1de4-49bf-abb8-ef34af9a2bb0"
      },
      "execution_count": null,
      "outputs": [
        {
          "output_type": "stream",
          "name": "stdout",
          "text": [
            "Epoch 1/100\n",
            "5/5 [==============================] - 12s 37ms/step - loss: 20.7529 - lr: 1.0000e-08\n",
            "Epoch 2/100\n",
            "5/5 [==============================] - 0s 31ms/step - loss: 20.7228 - lr: 1.1220e-08\n",
            "Epoch 3/100\n",
            "5/5 [==============================] - 0s 30ms/step - loss: 20.6684 - lr: 1.2589e-08\n",
            "Epoch 4/100\n",
            "5/5 [==============================] - 0s 29ms/step - loss: 20.5951 - lr: 1.4125e-08\n",
            "Epoch 5/100\n",
            "5/5 [==============================] - 0s 30ms/step - loss: 20.5053 - lr: 1.5849e-08\n",
            "Epoch 6/100\n",
            "5/5 [==============================] - 0s 30ms/step - loss: 20.4003 - lr: 1.7783e-08\n",
            "Epoch 7/100\n",
            "5/5 [==============================] - 0s 33ms/step - loss: 20.2796 - lr: 1.9953e-08\n",
            "Epoch 8/100\n",
            "5/5 [==============================] - 0s 31ms/step - loss: 20.1420 - lr: 2.2387e-08\n",
            "Epoch 9/100\n",
            "5/5 [==============================] - 0s 33ms/step - loss: 19.9851 - lr: 2.5119e-08\n",
            "Epoch 10/100\n",
            "5/5 [==============================] - 0s 31ms/step - loss: 19.8068 - lr: 2.8184e-08\n",
            "Epoch 11/100\n",
            "5/5 [==============================] - 0s 30ms/step - loss: 19.6029 - lr: 3.1623e-08\n",
            "Epoch 12/100\n",
            "5/5 [==============================] - 0s 29ms/step - loss: 19.3659 - lr: 3.5481e-08\n",
            "Epoch 13/100\n",
            "5/5 [==============================] - 0s 28ms/step - loss: 19.0878 - lr: 3.9811e-08\n",
            "Epoch 14/100\n",
            "5/5 [==============================] - 0s 32ms/step - loss: 18.7613 - lr: 4.4668e-08\n",
            "Epoch 15/100\n",
            "5/5 [==============================] - 0s 30ms/step - loss: 18.3672 - lr: 5.0119e-08\n",
            "Epoch 16/100\n",
            "5/5 [==============================] - 0s 30ms/step - loss: 17.9104 - lr: 5.6234e-08\n",
            "Epoch 17/100\n",
            "5/5 [==============================] - 0s 29ms/step - loss: 17.3879 - lr: 6.3096e-08\n",
            "Epoch 18/100\n",
            "5/5 [==============================] - 0s 33ms/step - loss: 16.8028 - lr: 7.0795e-08\n",
            "Epoch 19/100\n",
            "5/5 [==============================] - 0s 32ms/step - loss: 16.2055 - lr: 7.9433e-08\n",
            "Epoch 20/100\n",
            "5/5 [==============================] - 0s 29ms/step - loss: 15.5690 - lr: 8.9125e-08\n",
            "Epoch 21/100\n",
            "5/5 [==============================] - 0s 32ms/step - loss: 14.8631 - lr: 1.0000e-07\n",
            "Epoch 22/100\n",
            "5/5 [==============================] - 0s 29ms/step - loss: 14.0728 - lr: 1.1220e-07\n",
            "Epoch 23/100\n",
            "5/5 [==============================] - 0s 32ms/step - loss: 13.1827 - lr: 1.2589e-07\n",
            "Epoch 24/100\n",
            "5/5 [==============================] - 0s 29ms/step - loss: 12.1773 - lr: 1.4125e-07\n",
            "Epoch 25/100\n",
            "5/5 [==============================] - 0s 30ms/step - loss: 11.0390 - lr: 1.5849e-07\n",
            "Epoch 26/100\n",
            "5/5 [==============================] - 0s 33ms/step - loss: 9.7479 - lr: 1.7783e-07\n",
            "Epoch 27/100\n",
            "5/5 [==============================] - 0s 55ms/step - loss: 8.2807 - lr: 1.9953e-07\n",
            "Epoch 28/100\n",
            "5/5 [==============================] - 0s 55ms/step - loss: 6.5632 - lr: 2.2387e-07\n",
            "Epoch 29/100\n",
            "5/5 [==============================] - 0s 56ms/step - loss: 4.3281 - lr: 2.5119e-07\n",
            "Epoch 30/100\n",
            "5/5 [==============================] - 0s 57ms/step - loss: 2.1479 - lr: 2.8184e-07\n",
            "Epoch 31/100\n",
            "5/5 [==============================] - 0s 56ms/step - loss: 0.5304 - lr: 3.1623e-07\n",
            "Epoch 32/100\n",
            "5/5 [==============================] - 0s 56ms/step - loss: 0.3990 - lr: 3.5481e-07\n",
            "Epoch 33/100\n",
            "5/5 [==============================] - 0s 57ms/step - loss: 0.5817 - lr: 3.9811e-07\n",
            "Epoch 34/100\n",
            "5/5 [==============================] - 0s 34ms/step - loss: 0.4692 - lr: 4.4668e-07\n",
            "Epoch 35/100\n",
            "5/5 [==============================] - 0s 28ms/step - loss: 0.3406 - lr: 5.0119e-07\n",
            "Epoch 36/100\n",
            "5/5 [==============================] - 0s 29ms/step - loss: 0.3407 - lr: 5.6234e-07\n",
            "Epoch 37/100\n",
            "5/5 [==============================] - 0s 30ms/step - loss: 0.3648 - lr: 6.3096e-07\n",
            "Epoch 38/100\n",
            "5/5 [==============================] - 0s 32ms/step - loss: 0.3393 - lr: 7.0795e-07\n",
            "Epoch 39/100\n",
            "5/5 [==============================] - 0s 29ms/step - loss: 0.3475 - lr: 7.9433e-07\n",
            "Epoch 40/100\n",
            "5/5 [==============================] - 0s 28ms/step - loss: 0.3848 - lr: 8.9125e-07\n",
            "Epoch 41/100\n",
            "5/5 [==============================] - 0s 29ms/step - loss: 0.3240 - lr: 1.0000e-06\n",
            "Epoch 42/100\n",
            "5/5 [==============================] - 0s 29ms/step - loss: 0.3520 - lr: 1.1220e-06\n",
            "Epoch 43/100\n",
            "5/5 [==============================] - 0s 30ms/step - loss: 0.3340 - lr: 1.2589e-06\n",
            "Epoch 44/100\n",
            "5/5 [==============================] - 0s 31ms/step - loss: 0.3445 - lr: 1.4125e-06\n",
            "Epoch 45/100\n",
            "5/5 [==============================] - 0s 30ms/step - loss: 0.3312 - lr: 1.5849e-06\n",
            "Epoch 46/100\n",
            "5/5 [==============================] - 0s 29ms/step - loss: 0.3483 - lr: 1.7783e-06\n",
            "Epoch 47/100\n",
            "5/5 [==============================] - 0s 30ms/step - loss: 0.3542 - lr: 1.9953e-06\n",
            "Epoch 48/100\n",
            "5/5 [==============================] - 0s 36ms/step - loss: 0.3283 - lr: 2.2387e-06\n",
            "Epoch 49/100\n",
            "5/5 [==============================] - 0s 30ms/step - loss: 0.3746 - lr: 2.5119e-06\n",
            "Epoch 50/100\n",
            "5/5 [==============================] - 0s 29ms/step - loss: 0.4276 - lr: 2.8184e-06\n",
            "Epoch 51/100\n",
            "5/5 [==============================] - 0s 33ms/step - loss: 0.3797 - lr: 3.1623e-06\n",
            "Epoch 52/100\n",
            "5/5 [==============================] - 0s 32ms/step - loss: 0.3154 - lr: 3.5481e-06\n",
            "Epoch 53/100\n",
            "5/5 [==============================] - 0s 30ms/step - loss: 0.5056 - lr: 3.9811e-06\n",
            "Epoch 54/100\n",
            "5/5 [==============================] - 0s 30ms/step - loss: 0.4902 - lr: 4.4668e-06\n",
            "Epoch 55/100\n",
            "5/5 [==============================] - 0s 33ms/step - loss: 0.3925 - lr: 5.0119e-06\n",
            "Epoch 56/100\n",
            "5/5 [==============================] - 0s 29ms/step - loss: 0.4238 - lr: 5.6234e-06\n",
            "Epoch 57/100\n",
            "5/5 [==============================] - 0s 31ms/step - loss: 0.5035 - lr: 6.3096e-06\n",
            "Epoch 58/100\n",
            "5/5 [==============================] - 0s 32ms/step - loss: 0.3820 - lr: 7.0795e-06\n",
            "Epoch 59/100\n",
            "5/5 [==============================] - 0s 33ms/step - loss: 0.3609 - lr: 7.9433e-06\n",
            "Epoch 60/100\n",
            "5/5 [==============================] - 0s 34ms/step - loss: 0.4094 - lr: 8.9125e-06\n",
            "Epoch 61/100\n",
            "5/5 [==============================] - 0s 30ms/step - loss: 0.4075 - lr: 1.0000e-05\n",
            "Epoch 62/100\n",
            "5/5 [==============================] - 0s 33ms/step - loss: 0.3624 - lr: 1.1220e-05\n",
            "Epoch 63/100\n",
            "5/5 [==============================] - 0s 31ms/step - loss: 0.3324 - lr: 1.2589e-05\n",
            "Epoch 64/100\n",
            "5/5 [==============================] - 0s 30ms/step - loss: 0.3707 - lr: 1.4125e-05\n",
            "Epoch 65/100\n",
            "5/5 [==============================] - 0s 33ms/step - loss: 0.5479 - lr: 1.5849e-05\n",
            "Epoch 66/100\n",
            "5/5 [==============================] - 0s 33ms/step - loss: 0.3483 - lr: 1.7783e-05\n",
            "Epoch 67/100\n",
            "5/5 [==============================] - 0s 33ms/step - loss: 0.4038 - lr: 1.9953e-05\n",
            "Epoch 68/100\n",
            "5/5 [==============================] - 0s 29ms/step - loss: 0.6118 - lr: 2.2387e-05\n",
            "Epoch 69/100\n",
            "5/5 [==============================] - 0s 33ms/step - loss: 0.4661 - lr: 2.5119e-05\n",
            "Epoch 70/100\n",
            "5/5 [==============================] - 0s 29ms/step - loss: 0.8525 - lr: 2.8184e-05\n",
            "Epoch 71/100\n",
            "5/5 [==============================] - 0s 57ms/step - loss: 0.6098 - lr: 3.1623e-05\n",
            "Epoch 72/100\n",
            "5/5 [==============================] - 0s 58ms/step - loss: 0.5425 - lr: 3.5481e-05\n",
            "Epoch 73/100\n",
            "5/5 [==============================] - 0s 55ms/step - loss: 0.8387 - lr: 3.9811e-05\n",
            "Epoch 74/100\n",
            "5/5 [==============================] - 0s 56ms/step - loss: 1.0535 - lr: 4.4668e-05\n",
            "Epoch 75/100\n",
            "5/5 [==============================] - 0s 79ms/step - loss: 0.4008 - lr: 5.0119e-05\n",
            "Epoch 76/100\n",
            "5/5 [==============================] - 1s 94ms/step - loss: 0.8356 - lr: 5.6234e-05\n",
            "Epoch 77/100\n",
            "5/5 [==============================] - 0s 57ms/step - loss: 0.3447 - lr: 6.3096e-05\n",
            "Epoch 78/100\n",
            "5/5 [==============================] - 0s 55ms/step - loss: 0.8727 - lr: 7.0795e-05\n",
            "Epoch 79/100\n",
            "5/5 [==============================] - 0s 29ms/step - loss: 0.7811 - lr: 7.9433e-05\n",
            "Epoch 80/100\n",
            "5/5 [==============================] - 0s 32ms/step - loss: 1.1264 - lr: 8.9125e-05\n",
            "Epoch 81/100\n",
            "5/5 [==============================] - 0s 30ms/step - loss: 2.6387 - lr: 1.0000e-04\n",
            "Epoch 82/100\n",
            "5/5 [==============================] - 0s 33ms/step - loss: 1.8786 - lr: 1.1220e-04\n",
            "Epoch 83/100\n",
            "5/5 [==============================] - 0s 30ms/step - loss: 1.7532 - lr: 1.2589e-04\n",
            "Epoch 84/100\n",
            "5/5 [==============================] - 0s 32ms/step - loss: 0.6222 - lr: 1.4125e-04\n",
            "Epoch 85/100\n",
            "5/5 [==============================] - 0s 32ms/step - loss: 0.8590 - lr: 1.5849e-04\n",
            "Epoch 86/100\n",
            "5/5 [==============================] - 0s 33ms/step - loss: 1.2598 - lr: 1.7783e-04\n",
            "Epoch 87/100\n",
            "5/5 [==============================] - 0s 29ms/step - loss: 1.3031 - lr: 1.9953e-04\n",
            "Epoch 88/100\n",
            "5/5 [==============================] - 0s 31ms/step - loss: 2.0567 - lr: 2.2387e-04\n",
            "Epoch 89/100\n",
            "5/5 [==============================] - 0s 30ms/step - loss: 4.6944 - lr: 2.5119e-04\n",
            "Epoch 90/100\n",
            "5/5 [==============================] - 0s 32ms/step - loss: 8.7154 - lr: 2.8184e-04\n",
            "Epoch 91/100\n",
            "5/5 [==============================] - 0s 29ms/step - loss: 10.0421 - lr: 3.1623e-04\n",
            "Epoch 92/100\n",
            "5/5 [==============================] - 0s 33ms/step - loss: 7.9339 - lr: 3.5481e-04\n",
            "Epoch 93/100\n",
            "5/5 [==============================] - 0s 30ms/step - loss: 10.0427 - lr: 3.9811e-04\n",
            "Epoch 94/100\n",
            "5/5 [==============================] - 0s 34ms/step - loss: 8.7427 - lr: 4.4668e-04\n",
            "Epoch 95/100\n",
            "5/5 [==============================] - 0s 31ms/step - loss: 7.2457 - lr: 5.0119e-04\n",
            "Epoch 96/100\n",
            "5/5 [==============================] - 0s 30ms/step - loss: 3.3816 - lr: 5.6234e-04\n",
            "Epoch 97/100\n",
            "5/5 [==============================] - 0s 60ms/step - loss: 2.6791 - lr: 6.3096e-04\n",
            "Epoch 98/100\n",
            "5/5 [==============================] - 0s 61ms/step - loss: 3.8175 - lr: 7.0795e-04\n",
            "Epoch 99/100\n",
            "5/5 [==============================] - 0s 31ms/step - loss: 4.1313 - lr: 7.9433e-04\n",
            "Epoch 100/100\n",
            "5/5 [==============================] - 1s 97ms/step - loss: 5.2424 - lr: 8.9125e-04\n"
          ]
        }
      ]
    },
    {
      "cell_type": "code",
      "source": [
        "# Define the learning rate array\n",
        "lrs = 1e-8 * (10 ** (np.arange(100) / 20))\n",
        "\n",
        "# Set the figure size\n",
        "plt.figure(figsize=(10, 6))\n",
        "\n",
        "# Set the grid\n",
        "plt.grid(True)\n",
        "\n",
        "# Plot the loss in log scale\n",
        "plt.semilogx(lrs, history.history[\"loss\"])\n",
        "\n",
        "# Increase the tickmarks size\n",
        "plt.tick_params('both', length=10, width=1, which='both')\n",
        "\n",
        "# Set the plot boundaries\n",
        "plt.axis([1e-8, 1e-3, 0, 50])"
      ],
      "metadata": {
        "colab": {
          "base_uri": "https://localhost:8080/",
          "height": 552
        },
        "id": "_U5sUnBTNdfC",
        "outputId": "a759701e-e101-4ba5-e147-d82b5f4e34b1"
      },
      "execution_count": null,
      "outputs": [
        {
          "output_type": "execute_result",
          "data": {
            "text/plain": [
              "(1e-08, 0.001, 0.0, 50.0)"
            ]
          },
          "metadata": {},
          "execution_count": 17
        },
        {
          "output_type": "display_data",
          "data": {
            "text/plain": [
              "<Figure size 1000x600 with 1 Axes>"
            ],
            "image/png": "[encoded data removed]"
          },
          "metadata": {}
        }
      ]
    },
    {
      "cell_type": "code",
      "source": [
        "# Reset states generated by Keras\n",
        "tf.keras.backend.clear_session()\n",
        "\n",
        "# Reset the weights\n",
        "model.set_weights(init_weights)"
      ],
      "metadata": {
        "id": "MclF3BmrNnAi"
      },
      "execution_count": null,
      "outputs": []
    },
    {
      "cell_type": "code",
      "source": [
        "# Set the learning rate\n",
        "learning_rate = 1e-6\n",
        "\n",
        "# Set the optimizer\n",
        "optimizer = tf.keras.optimizers.SGD(learning_rate=learning_rate, momentum=0.9)\n",
        "\n",
        "# Set the training parameters\n",
        "model.compile(loss=tf.keras.losses.Huber(),\n",
        "              optimizer=optimizer,\n",
        "              metrics=[\"mae\"])"
      ],
      "metadata": {
        "id": "DZIbxKGgNoMh"
      },
      "execution_count": null,
      "outputs": []
    },
    {
      "cell_type": "code",
      "source": [
        "# Train the model\n",
        "Epochs = 100\n",
        "history = model.fit(train_set,epochs=Epochs)"
      ],
      "metadata": {
        "colab": {
          "base_uri": "https://localhost:8080/"
        },
        "id": "ljSTZCVLN2F5",
        "outputId": "a7caf2b6-b8db-4ecd-cc38-d18d02895ba3"
      },
      "execution_count": null,
      "outputs": [
        {
          "output_type": "stream",
          "name": "stdout",
          "text": [
            "Epoch 1/100\n",
            "5/5 [==============================] - 13s 40ms/step - loss: 20.3328 - mae: 20.8328\n",
            "Epoch 2/100\n",
            "5/5 [==============================] - 0s 34ms/step - loss: 17.0513 - mae: 17.5513\n",
            "Epoch 3/100\n",
            "5/5 [==============================] - 0s 29ms/step - loss: 11.3240 - mae: 11.8240\n",
            "Epoch 4/100\n",
            "5/5 [==============================] - 0s 33ms/step - loss: 3.6610 - mae: 4.1577\n",
            "Epoch 5/100\n",
            "5/5 [==============================] - 0s 30ms/step - loss: 1.0597 - mae: 1.5059\n",
            "Epoch 6/100\n",
            "5/5 [==============================] - 0s 31ms/step - loss: 2.4870 - mae: 2.9870\n",
            "Epoch 7/100\n",
            "5/5 [==============================] - 0s 30ms/step - loss: 1.3011 - mae: 1.7642\n",
            "Epoch 8/100\n",
            "5/5 [==============================] - 0s 33ms/step - loss: 0.4771 - mae: 0.8309\n",
            "Epoch 9/100\n",
            "5/5 [==============================] - 0s 29ms/step - loss: 0.8321 - mae: 1.2903\n",
            "Epoch 10/100\n",
            "5/5 [==============================] - 0s 30ms/step - loss: 0.4525 - mae: 0.8257\n",
            "Epoch 11/100\n",
            "5/5 [==============================] - 0s 61ms/step - loss: 0.4528 - mae: 0.8252\n",
            "Epoch 12/100\n",
            "5/5 [==============================] - 0s 62ms/step - loss: 0.3975 - mae: 0.7511\n",
            "Epoch 13/100\n",
            "5/5 [==============================] - 0s 56ms/step - loss: 0.3372 - mae: 0.6975\n",
            "Epoch 14/100\n",
            "5/5 [==============================] - 0s 57ms/step - loss: 0.3791 - mae: 0.7402\n",
            "Epoch 15/100\n",
            "5/5 [==============================] - 0s 61ms/step - loss: 0.3353 - mae: 0.6991\n",
            "Epoch 16/100\n",
            "5/5 [==============================] - 0s 61ms/step - loss: 0.3312 - mae: 0.6899\n",
            "Epoch 17/100\n",
            "5/5 [==============================] - 0s 55ms/step - loss: 0.3274 - mae: 0.6858\n",
            "Epoch 18/100\n",
            "5/5 [==============================] - 0s 40ms/step - loss: 0.3334 - mae: 0.6923\n",
            "Epoch 19/100\n",
            "5/5 [==============================] - 0s 30ms/step - loss: 0.3343 - mae: 0.6945\n",
            "Epoch 20/100\n",
            "5/5 [==============================] - 0s 30ms/step - loss: 0.3286 - mae: 0.6897\n",
            "Epoch 21/100\n",
            "5/5 [==============================] - 0s 32ms/step - loss: 0.3438 - mae: 0.7061\n",
            "Epoch 22/100\n",
            "5/5 [==============================] - 0s 30ms/step - loss: 0.3559 - mae: 0.7093\n",
            "Epoch 23/100\n",
            "5/5 [==============================] - 0s 32ms/step - loss: 0.3298 - mae: 0.6839\n",
            "Epoch 24/100\n",
            "5/5 [==============================] - 0s 33ms/step - loss: 0.3434 - mae: 0.7111\n",
            "Epoch 25/100\n",
            "5/5 [==============================] - 0s 34ms/step - loss: 0.3496 - mae: 0.7127\n",
            "Epoch 26/100\n",
            "5/5 [==============================] - 0s 30ms/step - loss: 0.3296 - mae: 0.6861\n",
            "Epoch 27/100\n",
            "5/5 [==============================] - 0s 30ms/step - loss: 0.3334 - mae: 0.6994\n",
            "Epoch 28/100\n",
            "5/5 [==============================] - 0s 30ms/step - loss: 0.3614 - mae: 0.7267\n",
            "Epoch 29/100\n",
            "5/5 [==============================] - 0s 35ms/step - loss: 0.3383 - mae: 0.7031\n",
            "Epoch 30/100\n",
            "5/5 [==============================] - 0s 32ms/step - loss: 0.3325 - mae: 0.6952\n",
            "Epoch 31/100\n",
            "5/5 [==============================] - 0s 30ms/step - loss: 0.3288 - mae: 0.6877\n",
            "Epoch 32/100\n",
            "5/5 [==============================] - 0s 29ms/step - loss: 0.3355 - mae: 0.6970\n",
            "Epoch 33/100\n",
            "5/5 [==============================] - 0s 31ms/step - loss: 0.3398 - mae: 0.7038\n",
            "Epoch 34/100\n",
            "5/5 [==============================] - 0s 29ms/step - loss: 0.3298 - mae: 0.6822\n",
            "Epoch 35/100\n",
            "5/5 [==============================] - 0s 30ms/step - loss: 0.3470 - mae: 0.7057\n",
            "Epoch 36/100\n",
            "5/5 [==============================] - 0s 30ms/step - loss: 0.3572 - mae: 0.7192\n",
            "Epoch 37/100\n",
            "5/5 [==============================] - 0s 30ms/step - loss: 0.3364 - mae: 0.6917\n",
            "Epoch 38/100\n",
            "5/5 [==============================] - 0s 33ms/step - loss: 0.3293 - mae: 0.6911\n",
            "Epoch 39/100\n",
            "5/5 [==============================] - 0s 31ms/step - loss: 0.3463 - mae: 0.7119\n",
            "Epoch 40/100\n",
            "5/5 [==============================] - 0s 30ms/step - loss: 0.3301 - mae: 0.6930\n",
            "Epoch 41/100\n",
            "5/5 [==============================] - 0s 31ms/step - loss: 0.3267 - mae: 0.6849\n",
            "Epoch 42/100\n",
            "5/5 [==============================] - 0s 36ms/step - loss: 0.3282 - mae: 0.6881\n",
            "Epoch 43/100\n",
            "5/5 [==============================] - 0s 31ms/step - loss: 0.3306 - mae: 0.6888\n",
            "Epoch 44/100\n",
            "5/5 [==============================] - 0s 29ms/step - loss: 0.3318 - mae: 0.6920\n",
            "Epoch 45/100\n",
            "5/5 [==============================] - 0s 32ms/step - loss: 0.3320 - mae: 0.6926\n",
            "Epoch 46/100\n",
            "5/5 [==============================] - 0s 33ms/step - loss: 0.3365 - mae: 0.6926\n",
            "Epoch 47/100\n",
            "5/5 [==============================] - 0s 30ms/step - loss: 0.3316 - mae: 0.6896\n",
            "Epoch 48/100\n",
            "5/5 [==============================] - 0s 29ms/step - loss: 0.3278 - mae: 0.6879\n",
            "Epoch 49/100\n",
            "5/5 [==============================] - 0s 31ms/step - loss: 0.3273 - mae: 0.6864\n",
            "Epoch 50/100\n",
            "5/5 [==============================] - 0s 35ms/step - loss: 0.3264 - mae: 0.6854\n",
            "Epoch 51/100\n",
            "5/5 [==============================] - 0s 32ms/step - loss: 0.3264 - mae: 0.6853\n",
            "Epoch 52/100\n",
            "5/5 [==============================] - 0s 30ms/step - loss: 0.3315 - mae: 0.6893\n",
            "Epoch 53/100\n",
            "5/5 [==============================] - 0s 33ms/step - loss: 0.3314 - mae: 0.6885\n",
            "Epoch 54/100\n",
            "5/5 [==============================] - 0s 30ms/step - loss: 0.3331 - mae: 0.6966\n",
            "Epoch 55/100\n",
            "5/5 [==============================] - 0s 33ms/step - loss: 0.3453 - mae: 0.7038\n",
            "Epoch 56/100\n",
            "5/5 [==============================] - 0s 30ms/step - loss: 0.3380 - mae: 0.7010\n",
            "Epoch 57/100\n",
            "5/5 [==============================] - 0s 32ms/step - loss: 0.3725 - mae: 0.7388\n",
            "Epoch 58/100\n",
            "5/5 [==============================] - 0s 31ms/step - loss: 0.3407 - mae: 0.7002\n",
            "Epoch 59/100\n",
            "5/5 [==============================] - 0s 31ms/step - loss: 0.3318 - mae: 0.6778\n",
            "Epoch 60/100\n",
            "5/5 [==============================] - 0s 60ms/step - loss: 0.4028 - mae: 0.7688\n",
            "Epoch 61/100\n",
            "5/5 [==============================] - 0s 62ms/step - loss: 0.3270 - mae: 0.6933\n",
            "Epoch 62/100\n",
            "5/5 [==============================] - 0s 57ms/step - loss: 0.3603 - mae: 0.7253\n",
            "Epoch 63/100\n",
            "5/5 [==============================] - 0s 56ms/step - loss: 0.3438 - mae: 0.7104\n",
            "Epoch 64/100\n",
            "5/5 [==============================] - 0s 54ms/step - loss: 0.3352 - mae: 0.6939\n",
            "Epoch 65/100\n",
            "5/5 [==============================] - 0s 55ms/step - loss: 0.3400 - mae: 0.6999\n",
            "Epoch 66/100\n",
            "5/5 [==============================] - 0s 57ms/step - loss: 0.3263 - mae: 0.6841\n",
            "Epoch 67/100\n",
            "5/5 [==============================] - 0s 37ms/step - loss: 0.3506 - mae: 0.7170\n",
            "Epoch 68/100\n",
            "5/5 [==============================] - 0s 29ms/step - loss: 0.3403 - mae: 0.7015\n",
            "Epoch 69/100\n",
            "5/5 [==============================] - 0s 29ms/step - loss: 0.3309 - mae: 0.6901\n",
            "Epoch 70/100\n",
            "5/5 [==============================] - 0s 30ms/step - loss: 0.3369 - mae: 0.6957\n",
            "Epoch 71/100\n",
            "5/5 [==============================] - 0s 33ms/step - loss: 0.3349 - mae: 0.6938\n",
            "Epoch 72/100\n",
            "5/5 [==============================] - 0s 36ms/step - loss: 0.3373 - mae: 0.7055\n",
            "Epoch 73/100\n",
            "5/5 [==============================] - 0s 29ms/step - loss: 0.3368 - mae: 0.7045\n",
            "Epoch 74/100\n",
            "5/5 [==============================] - 0s 30ms/step - loss: 0.3273 - mae: 0.6859\n",
            "Epoch 75/100\n",
            "5/5 [==============================] - 0s 31ms/step - loss: 0.3278 - mae: 0.6867\n",
            "Epoch 76/100\n",
            "5/5 [==============================] - 0s 33ms/step - loss: 0.3218 - mae: 0.6801\n",
            "Epoch 77/100\n",
            "5/5 [==============================] - 0s 29ms/step - loss: 0.3667 - mae: 0.7351\n",
            "Epoch 78/100\n",
            "5/5 [==============================] - 0s 33ms/step - loss: 0.3581 - mae: 0.7281\n",
            "Epoch 79/100\n",
            "5/5 [==============================] - 0s 31ms/step - loss: 0.3267 - mae: 0.6838\n",
            "Epoch 80/100\n",
            "5/5 [==============================] - 0s 35ms/step - loss: 0.3345 - mae: 0.6962\n",
            "Epoch 81/100\n",
            "5/5 [==============================] - 0s 30ms/step - loss: 0.3267 - mae: 0.6880\n",
            "Epoch 82/100\n",
            "5/5 [==============================] - 0s 30ms/step - loss: 0.3257 - mae: 0.6827\n",
            "Epoch 83/100\n",
            "5/5 [==============================] - 0s 30ms/step - loss: 0.3305 - mae: 0.6880\n",
            "Epoch 84/100\n",
            "5/5 [==============================] - 0s 33ms/step - loss: 0.3299 - mae: 0.6892\n",
            "Epoch 85/100\n",
            "5/5 [==============================] - 0s 29ms/step - loss: 0.3480 - mae: 0.7081\n",
            "Epoch 86/100\n",
            "5/5 [==============================] - 0s 29ms/step - loss: 0.3460 - mae: 0.7162\n",
            "Epoch 87/100\n",
            "5/5 [==============================] - 0s 30ms/step - loss: 0.3638 - mae: 0.7289\n",
            "Epoch 88/100\n",
            "5/5 [==============================] - 0s 32ms/step - loss: 0.3475 - mae: 0.7101\n",
            "Epoch 89/100\n",
            "5/5 [==============================] - 0s 29ms/step - loss: 0.3275 - mae: 0.6899\n",
            "Epoch 90/100\n",
            "5/5 [==============================] - 0s 32ms/step - loss: 0.3337 - mae: 0.6930\n",
            "Epoch 91/100\n",
            "5/5 [==============================] - 0s 29ms/step - loss: 0.3284 - mae: 0.6867\n",
            "Epoch 92/100\n",
            "5/5 [==============================] - 0s 32ms/step - loss: 0.3348 - mae: 0.6936\n",
            "Epoch 93/100\n",
            "5/5 [==============================] - 0s 35ms/step - loss: 0.3373 - mae: 0.6946\n",
            "Epoch 94/100\n",
            "5/5 [==============================] - 0s 35ms/step - loss: 0.3340 - mae: 0.6889\n",
            "Epoch 95/100\n",
            "5/5 [==============================] - 0s 31ms/step - loss: 0.3260 - mae: 0.6849\n",
            "Epoch 96/100\n",
            "5/5 [==============================] - 0s 34ms/step - loss: 0.3287 - mae: 0.6881\n",
            "Epoch 97/100\n",
            "5/5 [==============================] - 0s 30ms/step - loss: 0.3274 - mae: 0.6865\n",
            "Epoch 98/100\n",
            "5/5 [==============================] - 0s 33ms/step - loss: 0.3270 - mae: 0.6853\n",
            "Epoch 99/100\n",
            "5/5 [==============================] - 0s 30ms/step - loss: 0.3305 - mae: 0.6919\n",
            "Epoch 100/100\n",
            "5/5 [==============================] - 0s 33ms/step - loss: 0.3468 - mae: 0.7157\n"
          ]
        }
      ]
    },
    {
      "cell_type": "code",
      "source": [
        "def model_forecast(model, series, window_size, batch_size):\n",
        "    \"\"\"Uses an input model to generate predictions on data windows\n",
        "\n",
        "    Args:\n",
        "      model (TF Keras Model) - model that accepts data windows\n",
        "      series (array of float) - contains the values of the time series\n",
        "      window_size (int) - the number of time steps to include in the window\n",
        "      batch_size (int) - the batch size\n",
        "\n",
        "    Returns:\n",
        "      forecast (numpy array) - array containing predictions\n",
        "    \"\"\"\n",
        "\n",
        "    # Generate a TF Dataset from the series values\n",
        "    dataset = tf.data.Dataset.from_tensor_slices(series)\n",
        "\n",
        "    # Window the data but only take those with the specified size\n",
        "    dataset = dataset.window(window_size, shift=1, drop_remainder=True)\n",
        "\n",
        "    # Flatten the windows by putting its elements in a single batch\n",
        "    dataset = dataset.flat_map(lambda w: w.batch(window_size))\n",
        "    \n",
        "    # Create batches of windows\n",
        "    dataset = dataset.batch(batch_size).prefetch(1)\n",
        "    \n",
        "    # Get predictions on the entire dataset\n",
        "    forecast = model.predict(dataset)\n",
        "    \n",
        "    return forecast"
      ],
      "metadata": {
        "id": "-ELlKWGOOufn"
      },
      "execution_count": null,
      "outputs": []
    },
    {
      "cell_type": "code",
      "source": [
        "def compute_metrics(true_series, forecast):\n",
        "    \n",
        "    mse = tf.keras.metrics.mean_squared_error(true_series, forecast).numpy()\n",
        "    mae = tf.keras.metrics.mean_absolute_error(true_series, forecast).numpy()\n",
        "\n",
        "    return mse, mae"
      ],
      "metadata": {
        "id": "P0PawUqAOXLu"
      },
      "execution_count": null,
      "outputs": []
    },
    {
      "cell_type": "code",
      "source": [
        "cnn_forecast = model_forecast(model, G.SERIES, G.WINDOW_SIZE, G.BATCH_SIZE).squeeze()\n",
        "cnn_forecast = cnn_forecast[G.SPLIT_TIME - G.WINDOW_SIZE:-1]\n",
        "mse, mae = compute_metrics(series_valid, cnn_forecast)\n",
        "\n",
        "print(f\"mse: {mse:.2f}, mae: {mae:.2f} for forecast\")"
      ],
      "metadata": {
        "colab": {
          "base_uri": "https://localhost:8080/"
        },
        "id": "frlRqkXtOfYt",
        "outputId": "4597a24c-cf57-4492-f2ef-36afd40b2711"
      },
      "execution_count": null,
      "outputs": [
        {
          "output_type": "stream",
          "name": "stdout",
          "text": [
            "8/8 [==============================] - 3s 20ms/step\n",
            "mse: 0.94, mae: 0.70 for forecast\n"
          ]
        }
      ]
    },
    {
      "cell_type": "code",
      "source": [
        "# Compute the forecast for all the series\n",
        "cnn_forecast = model_forecast(model, G.SERIES, G.WINDOW_SIZE, G.BATCH_SIZE).squeeze()\n",
        "tam = [None,None,None,None,None,None,None,None,None,None,None]\n",
        "\n",
        "\n",
        "# Slice the forecast to get only the predictions for the validation set\n",
        "# cnn_forecast = cnn_forecast[G.SPLIT_TIME - G.WINDOW_SIZE:-1]\n",
        "cnn_forecast = np.insert(cnn_forecast, 0, tam)\n",
        "\n",
        "# Plot the forecast\n",
        "plt.figure(figsize=(10, 5))\n",
        "plot_series(G.TIME, G.SERIES)\n",
        "plot_series(G.TIME, cnn_forecast)"
      ],
      "metadata": {
        "colab": {
          "base_uri": "https://localhost:8080/",
          "height": 480
        },
        "id": "kKeQPGFCPMLB",
        "outputId": "a55dce2f-9b5d-4968-84fb-274313636024"
      },
      "execution_count": null,
      "outputs": [
        {
          "output_type": "stream",
          "name": "stdout",
          "text": [
            "8/8 [==============================] - 0s 20ms/step\n"
          ]
        },
        {
          "output_type": "display_data",
          "data": {
            "text/plain": [
              "<Figure size 1000x500 with 1 Axes>"
            ],
            "image/png": "[encoded data removed]"
          },
          "metadata": {}
        }
      ]
    },
    {
      "cell_type": "code",
      "source": [
        "plt.figure(figsize=(10, 5))\n",
        "plt.plot(range(Epochs), history.history[\"loss\"])\n",
        "plt.plot(range(Epochs), history.history[\"mae\"])\n",
        "plt.xlabel(\"Epochs\")\n",
        "plt.ylabel(\"Value\")\n",
        "\n",
        "plt.show()"
      ],
      "metadata": {
        "colab": {
          "base_uri": "https://localhost:8080/",
          "height": 463
        },
        "id": "to5Oy-NxR1-j",
        "outputId": "01f3f532-d5bc-4d33-fea9-6b287b562da6"
      },
      "execution_count": null,
      "outputs": [
        {
          "output_type": "display_data",
          "data": {
            "text/plain": [
              "<Figure size 1000x500 with 1 Axes>"
            ],
            "image/png": "[encoded data removed]"
          },
          "metadata": {}
        }
      ]
    },
    {
      "cell_type": "code",
      "source": [
        "# prepare data for forecasting\n",
        "last_window = G.SERIES[-G.WINDOW_SIZE:]\n",
        "last_window = np.reshape(last_window, (1, G.WINDOW_SIZE, 1))\n",
        "\n",
        "# make a forecast for 5 steps ahead\n",
        "forecast_norm = []\n",
        "for _ in range(24):\n",
        "    pred = model.predict(last_window)[0, 0]\n",
        "    forecast_norm.append(pred)\n",
        "    last_window = np.roll(last_window, -1, axis=1)\n",
        "    last_window[0, -1, 0] = pred\n",
        "\n",
        "# invert the normalization\n",
        "forecast = forecast_norm\n",
        "print(\"Forecast:\", forecast)"
      ],
      "metadata": {
        "colab": {
          "base_uri": "https://localhost:8080/"
        },
        "id": "EBmQ4eAT8caf",
        "outputId": "e2474b8f-25fd-49cf-ef5c-e4f4eb9ddd76"
      },
      "execution_count": null,
      "outputs": [
        {
          "output_type": "stream",
          "name": "stdout",
          "text": [
            "1/1 [==============================] - 3s 3s/step\n",
            "1/1 [==============================] - 0s 29ms/step\n",
            "1/1 [==============================] - 0s 30ms/step\n",
            "1/1 [==============================] - 0s 28ms/step\n",
            "1/1 [==============================] - 0s 26ms/step\n",
            "1/1 [==============================] - 0s 27ms/step\n",
            "1/1 [==============================] - 0s 24ms/step\n",
            "1/1 [==============================] - 0s 27ms/step\n",
            "1/1 [==============================] - 0s 25ms/step\n",
            "1/1 [==============================] - 0s 27ms/step\n",
            "1/1 [==============================] - 0s 25ms/step\n",
            "1/1 [==============================] - 0s 26ms/step\n",
            "1/1 [==============================] - 0s 33ms/step\n",
            "1/1 [==============================] - 0s 28ms/step\n",
            "1/1 [==============================] - 0s 24ms/step\n",
            "1/1 [==============================] - 0s 26ms/step\n",
            "1/1 [==============================] - 0s 33ms/step\n",
            "1/1 [==============================] - 0s 25ms/step\n",
            "1/1 [==============================] - 0s 26ms/step\n",
            "1/1 [==============================] - 0s 35ms/step\n",
            "1/1 [==============================] - 0s 23ms/step\n",
            "1/1 [==============================] - 0s 26ms/step\n",
            "1/1 [==============================] - 0s 26ms/step\n",
            "1/1 [==============================] - 0s 30ms/step\n",
            "Forecast: [20.235542, 20.250412, 20.258205, 20.260204, 20.220856, 20.203205, 20.18113, 20.154322, 20.23009, 20.254633, 20.269707, 20.28304, 20.277563, 20.276714, 20.275127, 20.272865, 20.2727, 20.2733, 20.275446, 20.27933, 20.279705, 20.28013, 20.280235, 20.279808]\n"
          ]
        }
      ]
    },
    {
      "cell_type": "code",
      "source": [],
      "metadata": {
        "id": "PHPxvymSLf-Q"
      },
      "execution_count": null,
      "outputs": []
    }
  ]
}