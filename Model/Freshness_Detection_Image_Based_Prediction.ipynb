{
  "nbformat": 4,
  "nbformat_minor": 0,
  "metadata": {
    "colab": {
      "provenance": []
    },
    "kernelspec": {
      "name": "python3",
      "display_name": "Python 3"
    },
    "language_info": {
      "name": "python"
    }
  },
  "cells": [
    {
      "cell_type": "code",
      "execution_count": null,
      "metadata": {
        "colab": {
          "base_uri": "https://localhost:8080/"
        },
        "id": "MRbD5ZA7qxCb",
        "outputId": "9be55e10-52de-419e-8fc8-216c4c3c1325"
      },
      "outputs": [
        {
          "output_type": "stream",
          "name": "stdout",
          "text": [
            "Drive already mounted at /content/drive; to attempt to forcibly remount, call drive.mount(\"/content/drive\", force_remount=True).\n",
            "TensorFlow version:  2.12.0\n"
          ]
        }
      ],
      "source": [
        "import io\n",
        "import os\n",
        "import random\n",
        "import shutil\n",
        "import itertools\n",
        "import numpy as np\n",
        "import sklearn.metrics\n",
        "import tensorflow as tf\n",
        "import matplotlib.pyplot as plt\n",
        "\n",
        "from tensorflow.keras.preprocessing.image import ImageDataGenerator\n",
        "from tensorflow import keras\n",
        "from datetime import datetime\n",
        "from shutil import copyfile\n",
        "from os import getcwd\n",
        "\n",
        "from google.colab import drive\n",
        "drive.mount('/content/drive')\n",
        "print(\"TensorFlow version: \", tf.__version__)"
      ]
    },
    {
      "cell_type": "markdown",
      "source": [
        "#### Making Empty Folder in Drive"
      ],
      "metadata": {
        "id": "yLH1CtYVZpFt"
      }
    },
    {
      "cell_type": "code",
      "source": [
        "root_dir = '/content/drive/MyDrive/ML/Dataset/FreshNess'\n",
        "\n",
        "if os.path.exists(root_dir):\n",
        "  shutil.rmtree(root_dir)\n",
        "\n",
        "def create_train_val_dirs(root_path):\n",
        "  train_dir = os.path.join(root_path, 'training')\n",
        "  validation_dir = os.path.join(root_path, 'validation')\n",
        "\n",
        "\n",
        "  train_busuk_dir = os.path.join(train_dir, 'busuk')\n",
        "  train_kurang_segar_dir = os.path.join(train_dir, 'kurang_segar')\n",
        "  train_segar_dir = os.path.join(train_dir, 'segar')\n",
        "  os.makedirs(train_busuk_dir)\n",
        "  os.makedirs(train_kurang_segar_dir)\n",
        "  os.makedirs(train_segar_dir)\n",
        "\n",
        "  \n",
        "  validation_busuk_dir = os.path.join(validation_dir, 'busuk')\n",
        "  validation_kurang_segar_dir = os.path.join(validation_dir, 'kurang_segar')\n",
        "  validation_segar_dir = os.path.join(validation_dir, 'segar')\n",
        "  os.makedirs(validation_busuk_dir)\n",
        "  os.makedirs(validation_kurang_segar_dir)\n",
        "  os.makedirs(validation_segar_dir)\n",
        "\n",
        "try:\n",
        "  create_train_val_dirs(root_path=root_dir)\n",
        "except FileExistsError:\n",
        "  print(\"You should not be seeing this since the upper directory is removed beforehand\")"
      ],
      "metadata": {
        "id": "P1y9kVzWrVdv"
      },
      "execution_count": null,
      "outputs": []
    },
    {
      "cell_type": "code",
      "source": [
        "def split_data(SOURCE_DIR, TRAINING_DIR, VALIDATION_DIR, SPLIT_SIZE):\n",
        "  files = os.listdir(SOURCE_DIR)\n",
        "\n",
        "  split = (len(files)*SPLIT_SIZE)\n",
        "\n",
        "  #Randomize the file sample\n",
        "  files = random.sample(files, len(files))\n",
        "\n",
        "  train = files[:int(split)]\n",
        "    \n",
        "  \n",
        "  for name in train:\n",
        "    source = os.path.join(SOURCE_DIR, name)\n",
        "    destination = os.path.join(TRAINING_DIR, name)\n",
        "    if os.path.getsize(source)>0:\n",
        "      copyfile(source, destination) \n",
        "    else:\n",
        "      print(f\"{name} is zero length, so ignoring.\")\n",
        "\n",
        "\n",
        "  valid = files[int(split):]\n",
        "  \n",
        "  for name in valid:\n",
        "    source = os.path.join(SOURCE_DIR, name)\n",
        "    destination = os.path.join(VALIDATION_DIR, name)\n",
        "    if os.path.getsize(source)>0:\n",
        "      copyfile(source, destination) \n",
        "    else:\n",
        "      print(f\"{name} is zero length, so ignoring.\")"
      ],
      "metadata": {
        "id": "u30wqys_ULJ3"
      },
      "execution_count": null,
      "outputs": []
    },
    {
      "cell_type": "markdown",
      "source": [
        "#### Split and add the images"
      ],
      "metadata": {
        "id": "kzSRUKwAZ6_N"
      }
    },
    {
      "cell_type": "code",
      "source": [
        "# Define paths\n",
        "SEGAR_DIR = \"/content/drive/MyDrive/ML/Dataset/Gills (1)/segar\"\n",
        "KURANG_SEGAR_DIR = \"/content/drive/MyDrive/ML/Dataset/Gills (1)/kurang-segar\"\n",
        "BUSUK_DIR = \"/content/drive/MyDrive/ML/Dataset/Gills (1)/busuk\"\n",
        "\n",
        "TRAINING_DIR = \"/content/drive/MyDrive/ML/Dataset/FreshNess/training\"\n",
        "VALIDATION_DIR = \"/content/drive/MyDrive/ML/Dataset/FreshNess/validation\"\n",
        "\n",
        "TRAINING_SEGAR_DIR = os.path.join(TRAINING_DIR, \"segar/\")\n",
        "VALIDATION_SEGAR_DIR = os.path.join(VALIDATION_DIR, \"segar/\")\n",
        "TRAINING_KURANG_SEGAR_DIR = os.path.join(TRAINING_DIR, \"kurang_segar/\")\n",
        "VALIDATION_KURANG_SEGAR_DIR = os.path.join(VALIDATION_DIR, \"kurang_segar/\")\n",
        "\n",
        "TRAINING_BUSUK_DIR = os.path.join(TRAINING_DIR, \"busuk/\")\n",
        "VALIDATION_BUSUK_DIR = os.path.join(VALIDATION_DIR, \"busuk/\")\n",
        "\n",
        "# Empty directories in case you run this cell multiple times\n",
        "if len(os.listdir(TRAINING_SEGAR_DIR)) > 0:\n",
        "  for file in os.scandir(TRAINING_SEGAR_DIR):\n",
        "    os.remove(file.path)\n",
        "if len(os.listdir(TRAINING_KURANG_SEGAR_DIR)) > 0:\n",
        "  for file in os.scandir(TRAINING_KURANG_SEGAR_DIR):\n",
        "    os.remove(file.path)\n",
        "if len(os.listdir(TRAINING_BUSUK_DIR)) > 0:\n",
        "  for file in os.scandir(TRAINING_BUSUK_DIR):\n",
        "    os.remove(file.path)\n",
        "if len(os.listdir(VALIDATION_SEGAR_DIR)) > 0:\n",
        "  for file in os.scandir(VALIDATION_SEGAR_DIR):\n",
        "    os.remove(file.path)\n",
        "if len(os.listdir(VALIDATION_KURANG_SEGAR_DIR)) > 0:\n",
        "  for file in os.scandir(VALIDATION_KURANG_SEGAR_DIR):\n",
        "    os.remove(file.path)\n",
        "if len(os.listdir(VALIDATION_BUSUK_DIR)) > 0:\n",
        "  for file in os.scandir(VALIDATION_BUSUK_DIR):\n",
        "    os.remove(file.path)\n",
        "\n",
        "# Define proportion of images used for training\n",
        "split_size = .7\n",
        "\n",
        "# Run the function\n",
        "# NOTE: Messages about zero length images should be printed out\n",
        "split_data(SEGAR_DIR, TRAINING_SEGAR_DIR, VALIDATION_SEGAR_DIR, split_size)\n",
        "split_data(KURANG_SEGAR_DIR, TRAINING_KURANG_SEGAR_DIR, VALIDATION_KURANG_SEGAR_DIR, split_size)\n",
        "split_data(BUSUK_DIR, TRAINING_BUSUK_DIR, VALIDATION_BUSUK_DIR, split_size)\n",
        "\n",
        "# Your function should perform copies rather than moving images so original directories should contain unchanged images\n",
        "print(f\"Original fresh directory has {len(os.listdir(SEGAR_DIR))} images\")\n",
        "print(f\"Original less_fresh directory has {len(os.listdir(KURANG_SEGAR_DIR))} images\")\n",
        "print(f\"Original spoiled directory has {len(os.listdir(BUSUK_DIR))} images\\n\")\n",
        "\n",
        "# Training and validation splits. Check that the number of images matches the expected output.\n",
        "print(f\"There are {len(os.listdir(TRAINING_SEGAR_DIR))} images of fresh fish for training\")\n",
        "print(f\"There are {len(os.listdir(VALIDATION_SEGAR_DIR))} images of fresh fish for validation\")\n",
        "print(f\"There are {len(os.listdir(TRAINING_KURANG_SEGAR_DIR))} images of less fresh fish for training\")\n",
        "print(f\"There are {len(os.listdir(VALIDATION_KURANG_SEGAR_DIR))} images of less fresh fish for validation\")\n",
        "print(f\"There are {len(os.listdir(TRAINING_BUSUK_DIR))} images of spoiled fish for training\")\n",
        "print(f\"There are {len(os.listdir(VALIDATION_BUSUK_DIR))} images of spoiled fish for validation\")"
      ],
      "metadata": {
        "colab": {
          "base_uri": "https://localhost:8080/"
        },
        "id": "84YGqgr2UVKB",
        "outputId": "7ab15312-869a-45cd-9f9a-b1cc08e4c9a9"
      },
      "execution_count": null,
      "outputs": [
        {
          "output_type": "stream",
          "name": "stdout",
          "text": [
            "Original fresh directory has 50 images\n",
            "Original less_fresh directory has 50 images\n",
            "Original spoiled directory has 55 images\n",
            "\n",
            "There are 35 images of fresh fish for training\n",
            "There are 15 images of fresh fish for validation\n",
            "There are 35 images of less fresh fish for training\n",
            "There are 15 images of less fresh fish for validation\n",
            "There are 38 images of spoiled fish for training\n",
            "There are 17 images of spoiled fish for validation\n"
          ]
        }
      ]
    },
    {
      "cell_type": "code",
      "source": [
        "def train_val_generators(TRAINING_DIR, VALIDATION_DIR):\n",
        "  # Instantiate the ImageDataGenerator class (don't forget to set the arguments to augment the images)\n",
        "  train_datagen = ImageDataGenerator(rescale=1.0/225,\n",
        "                                     horizontal_flip=True,\n",
        "                                     fill_mode=\"nearest\")\n",
        "\n",
        "  # Pass in the appropriate arguments to the flow_from_directory method\n",
        "  train_generator = train_datagen.flow_from_directory(directory=TRAINING_DIR,\n",
        "                                                      batch_size=20,\n",
        "                                                      class_mode=\"categorical\",\n",
        "                                                      target_size=(150,150))\n",
        "\n",
        "  # Instantiate the ImageDataGenerator class (don't forget to set the rescale argument)\n",
        "  validation_datagen = ImageDataGenerator(rescale=1.0/225)\n",
        "\n",
        "  # Pass in the appropriate arguments to the flow_from_directory method\n",
        "  validation_generator = validation_datagen.flow_from_directory(directory=VALIDATION_DIR,\n",
        "                                                                batch_size=20,\n",
        "                                                                class_mode=\"categorical\",\n",
        "                                                                target_size=(150,150))\n",
        "  return train_generator, validation_generator"
      ],
      "metadata": {
        "id": "PyIxz4o8b2V8"
      },
      "execution_count": null,
      "outputs": []
    },
    {
      "cell_type": "code",
      "source": [
        "train_generator, validation_generator = train_val_generators(TRAINING_DIR, VALIDATION_DIR)"
      ],
      "metadata": {
        "colab": {
          "base_uri": "https://localhost:8080/"
        },
        "id": "X_Ku7-mXb4NC",
        "outputId": "213b0ad3-b9a3-4168-cc18-80732fd4e2ea"
      },
      "execution_count": null,
      "outputs": [
        {
          "output_type": "stream",
          "name": "stdout",
          "text": [
            "Found 108 images belonging to 3 classes.\n",
            "Found 47 images belonging to 3 classes.\n"
          ]
        }
      ]
    },
    {
      "cell_type": "code",
      "source": [
        "# Build the model\n",
        "model = tf.keras.models.Sequential([\n",
        "    tf.keras.layers.Conv2D(32,(3,3),activation=tf.nn.relu,input_shape=(150,150,3)),\n",
        "    tf.keras.layers.MaxPooling2D(2, 2),\n",
        "    tf.keras.layers.Conv2D(64, (3,3), activation='relu'),\n",
        "    tf.keras.layers.MaxPooling2D(2,2),\n",
        "    tf.keras.layers.Flatten(),\n",
        "    tf.keras.layers.Dense(128, activation='relu'),\n",
        "    tf.keras.layers.Dense(3, activation='softmax')\n",
        "])\n",
        "\n",
        "model.compile(optimizer=tf.keras.optimizers.Adam(),\n",
        "              loss='categorical_crossentropy',\n",
        "              metrics=['accuracy'])"
      ],
      "metadata": {
        "id": "VvMQA-WKrYPT"
      },
      "execution_count": null,
      "outputs": []
    },
    {
      "cell_type": "code",
      "source": [
        "class myCallback(tf.keras.callbacks.Callback):\n",
        "  def on_epoch_end(self,epoch,logs={}):\n",
        "    if(logs.get(\"accuracy\")>0.9999 and logs.get(\"val_accuracy\")>0.98):\n",
        "      print(\"stop train!\")\n",
        "      self.model.stop_training=True"
      ],
      "metadata": {
        "id": "_RpagvbMb8aY"
      },
      "execution_count": null,
      "outputs": []
    },
    {
      "cell_type": "code",
      "source": [
        "callbacks = myCallback()\n",
        "# Train the model\n",
        "# Note that this may take some time.\n",
        "history = model.fit(train_generator,epochs=25,verbose=1,validation_data=validation_generator)"
      ],
      "metadata": {
        "colab": {
          "base_uri": "https://localhost:8080/"
        },
        "id": "QKmNwa1pb-UD",
        "outputId": "45c5eb2d-3ebc-4361-8655-cd17e4d404ef"
      },
      "execution_count": null,
      "outputs": [
        {
          "output_type": "stream",
          "name": "stdout",
          "text": [
            "Epoch 1/25\n",
            "6/6 [==============================] - 6s 888ms/step - loss: 4.1150 - accuracy: 0.3333 - val_loss: 1.4756 - val_accuracy: 0.3191\n",
            "Epoch 2/25\n",
            "6/6 [==============================] - 8s 1s/step - loss: 1.0295 - accuracy: 0.4259 - val_loss: 0.9218 - val_accuracy: 0.3617\n",
            "Epoch 3/25\n",
            "6/6 [==============================] - 6s 950ms/step - loss: 0.7519 - accuracy: 0.6296 - val_loss: 0.5792 - val_accuracy: 0.8723\n",
            "Epoch 4/25\n",
            "6/6 [==============================] - 6s 966ms/step - loss: 0.3466 - accuracy: 0.9444 - val_loss: 0.2714 - val_accuracy: 0.9574\n",
            "Epoch 5/25\n",
            "6/6 [==============================] - 5s 822ms/step - loss: 0.1868 - accuracy: 0.9537 - val_loss: 0.1295 - val_accuracy: 0.9574\n",
            "Epoch 6/25\n",
            "6/6 [==============================] - 7s 1s/step - loss: 0.0889 - accuracy: 0.9815 - val_loss: 0.1903 - val_accuracy: 0.9574\n",
            "Epoch 7/25\n",
            "6/6 [==============================] - 5s 821ms/step - loss: 0.0876 - accuracy: 0.9630 - val_loss: 0.3071 - val_accuracy: 0.9362\n",
            "Epoch 8/25\n",
            "6/6 [==============================] - 6s 963ms/step - loss: 0.1053 - accuracy: 0.9537 - val_loss: 0.4433 - val_accuracy: 0.8936\n",
            "Epoch 9/25\n",
            "6/6 [==============================] - 5s 828ms/step - loss: 0.0654 - accuracy: 0.9630 - val_loss: 0.1557 - val_accuracy: 0.9574\n",
            "Epoch 10/25\n",
            "6/6 [==============================] - 8s 1s/step - loss: 0.0988 - accuracy: 0.9722 - val_loss: 0.3932 - val_accuracy: 0.7872\n",
            "Epoch 11/25\n",
            "6/6 [==============================] - 5s 830ms/step - loss: 0.1315 - accuracy: 0.9352 - val_loss: 0.9240 - val_accuracy: 0.7660\n",
            "Epoch 12/25\n",
            "6/6 [==============================] - 6s 960ms/step - loss: 0.0267 - accuracy: 0.9907 - val_loss: 0.1070 - val_accuracy: 0.9787\n",
            "Epoch 13/25\n",
            "6/6 [==============================] - 5s 819ms/step - loss: 0.0412 - accuracy: 0.9907 - val_loss: 0.1136 - val_accuracy: 0.9787\n",
            "Epoch 14/25\n",
            "6/6 [==============================] - 7s 1s/step - loss: 0.0628 - accuracy: 0.9722 - val_loss: 1.4696 - val_accuracy: 0.7234\n",
            "Epoch 15/25\n",
            "6/6 [==============================] - 5s 821ms/step - loss: 0.1742 - accuracy: 0.9352 - val_loss: 0.3251 - val_accuracy: 0.9362\n",
            "Epoch 16/25\n",
            "6/6 [==============================] - 7s 1s/step - loss: 0.2289 - accuracy: 0.8981 - val_loss: 0.8543 - val_accuracy: 0.7234\n",
            "Epoch 17/25\n",
            "6/6 [==============================] - 5s 820ms/step - loss: 0.2003 - accuracy: 0.8704 - val_loss: 0.5541 - val_accuracy: 0.8936\n",
            "Epoch 18/25\n",
            "6/6 [==============================] - 7s 1s/step - loss: 0.0457 - accuracy: 0.9815 - val_loss: 0.0991 - val_accuracy: 0.9787\n",
            "Epoch 19/25\n",
            "6/6 [==============================] - 5s 813ms/step - loss: 0.0103 - accuracy: 1.0000 - val_loss: 0.1241 - val_accuracy: 0.9787\n",
            "Epoch 20/25\n",
            "6/6 [==============================] - 7s 1s/step - loss: 0.0058 - accuracy: 1.0000 - val_loss: 0.2092 - val_accuracy: 0.9362\n",
            "Epoch 21/25\n",
            "6/6 [==============================] - 5s 794ms/step - loss: 0.0077 - accuracy: 1.0000 - val_loss: 0.1152 - val_accuracy: 0.9787\n",
            "Epoch 22/25\n",
            "6/6 [==============================] - 7s 1s/step - loss: 0.0028 - accuracy: 1.0000 - val_loss: 0.0930 - val_accuracy: 0.9787\n",
            "Epoch 23/25\n",
            "6/6 [==============================] - 5s 828ms/step - loss: 0.0024 - accuracy: 1.0000 - val_loss: 0.0970 - val_accuracy: 0.9787\n",
            "Epoch 24/25\n",
            "6/6 [==============================] - 7s 1s/step - loss: 0.0019 - accuracy: 1.0000 - val_loss: 0.1098 - val_accuracy: 0.9787\n",
            "Epoch 25/25\n",
            "6/6 [==============================] - 5s 827ms/step - loss: 0.0015 - accuracy: 1.0000 - val_loss: 0.1241 - val_accuracy: 0.9787\n"
          ]
        }
      ]
    },
    {
      "cell_type": "code",
      "source": [
        "# Plot the chart for accuracy and loss on both training and validation\n",
        "acc = history.history['accuracy']\n",
        "val_acc = history.history['val_accuracy']\n",
        "loss = history.history['loss']\n",
        "val_loss = history.history['val_loss']\n",
        "\n",
        "epochs = range(len(acc))\n",
        "\n",
        "plt.plot(epochs, acc, 'r', label='Training accuracy')\n",
        "plt.plot(epochs, val_acc, 'b', label='Validation accuracy')\n",
        "plt.title('Training and validation accuracy')\n",
        "plt.legend()\n",
        "plt.figure()\n",
        "\n",
        "plt.plot(epochs, loss, 'r', label='Training Loss')\n",
        "plt.plot(epochs, val_loss, 'b', label='Validation Loss')\n",
        "plt.title('Training and validation loss')\n",
        "plt.legend()\n",
        "\n",
        "plt.show()"
      ],
      "metadata": {
        "colab": {
          "base_uri": "https://localhost:8080/",
          "height": 887
        },
        "id": "aP1PjfVvcrwx",
        "outputId": "9ffc2683-b4b7-4ab0-fe95-17fdb740c0cd"
      },
      "execution_count": null,
      "outputs": [
        {
          "output_type": "display_data",
          "data": {
            "text/plain": [
              "<Figure size 640x480 with 1 Axes>"
            ],
            "image/png": "[encoded data removed]"
          },
          "metadata": {}
        },
        {
          "output_type": "display_data",
          "data": {
            "text/plain": [
              "<Figure size 640x480 with 1 Axes>"
            ],
            "image/png": "[encoded data removed]"
          },
          "metadata": {}
        }
      ]
    },
    {
      "cell_type": "code",
      "source": [
        "import numpy as np\n",
        "\n",
        "from google.colab import files\n",
        "from tensorflow.keras.utils import load_img, img_to_array\n",
        "\n",
        "uploaded=files.upload()\n",
        "\n",
        "for fn in uploaded.keys():\n",
        " \n",
        "  # predicting images\n",
        "  path='/content/' + fn\n",
        "  img=load_img(path, target_size=(150, 150))\n",
        "\n",
        "  x=img_to_array(img)\n",
        "  x /= 255\n",
        "  x=np.expand_dims(x, axis=0)\n",
        "  images = np.vstack([x])\n",
        "\n",
        "  classes = model.predict(images)\n",
        "\n",
        "  print(classes)"
      ],
      "metadata": {
        "id": "IGC1BzS2eGlw",
        "colab": {
          "base_uri": "https://localhost:8080/",
          "height": 401
        },
        "outputId": "63f1308a-79d1-4c00-efe1-9c65541500c3"
      },
      "execution_count": null,
      "outputs": [
        {
          "output_type": "display_data",
          "data": {
            "text/plain": [
              "<IPython.core.display.HTML object>"
            ],
            "text/html": [
              "\n",
              "     <input type=\"file\" id=\"files-fa71d927-0221-420f-9e38-4ecc517e4958\" name=\"files[]\" multiple disabled\n",
              "        style=\"border:none\" />\n",
              "     <output id=\"result-fa71d927-0221-420f-9e38-4ecc517e4958\">\n",
              "      Upload widget is only available when the cell has been executed in the\n",
              "      current browser session. Please rerun this cell to enable.\n",
              "      </output>\n",
              "      <script>// Copyright 2017 Google LLC\n",
              "//\n",
              "// Licensed under the Apache License, Version 2.0 (the \"License\");\n",
              "// you may not use this file except in compliance with the License.\n",
              "// You may obtain a copy of the License at\n",
              "//\n",
              "//      http://www.apache.org/licenses/LICENSE-2.0\n",
              "//\n",
              "// Unless required by applicable law or agreed to in writing, software\n",
              "// distributed under the License is distributed on an \"AS IS\" BASIS,\n",
              "// WITHOUT WARRANTIES OR CONDITIONS OF ANY KIND, either express or implied.\n",
              "// See the License for the specific language governing permissions and\n",
              "// limitations under the License.\n",
              "\n",
              "/**\n",
              " * @fileoverview Helpers for google.colab Python module.\n",
              " */\n",
              "(function(scope) {\n",
              "function span(text, styleAttributes = {}) {\n",
              "  const element = document.createElement('span');\n",
              "  element.textContent = text;\n",
              "  for (const key of Object.keys(styleAttributes)) {\n",
              "    element.style[key] = styleAttributes[key];\n",
              "  }\n",
              "  return element;\n",
              "}\n",
              "\n",
              "// Max number of bytes which will be uploaded at a time.\n",
              "const MAX_PAYLOAD_SIZE = 100 * 1024;\n",
              "\n",
              "function _uploadFiles(inputId, outputId) {\n",
              "  const steps = uploadFilesStep(inputId, outputId);\n",
              "  const outputElement = document.getElementById(outputId);\n",
              "  // Cache steps on the outputElement to make it available for the next call\n",
              "  // to uploadFilesContinue from Python.\n",
              "  outputElement.steps = steps;\n",
              "\n",
              "  return _uploadFilesContinue(outputId);\n",
              "}\n",
              "\n",
              "// This is roughly an async generator (not supported in the browser yet),\n",
              "// where there are multiple asynchronous steps and the Python side is going\n",
              "// to poll for completion of each step.\n",
              "// This uses a Promise to block the python side on completion of each step,\n",
              "// then passes the result of the previous step as the input to the next step.\n",
              "function _uploadFilesContinue(outputId) {\n",
              "  const outputElement = document.getElementById(outputId);\n",
              "  const steps = outputElement.steps;\n",
              "\n",
              "  const next = steps.next(outputElement.lastPromiseValue);\n",
              "  return Promise.resolve(next.value.promise).then((value) => {\n",
              "    // Cache the last promise value to make it available to the next\n",
              "    // step of the generator.\n",
              "    outputElement.lastPromiseValue = value;\n",
              "    return next.value.response;\n",
              "  });\n",
              "}\n",
              "\n",
              "/**\n",
              " * Generator function which is called between each async step of the upload\n",
              " * process.\n",
              " * @param {string} inputId Element ID of the input file picker element.\n",
              " * @param {string} outputId Element ID of the output display.\n",
              " * @return {!Iterable<!Object>} Iterable of next steps.\n",
              " */\n",
              "function* uploadFilesStep(inputId, outputId) {\n",
              "  const inputElement = document.getElementById(inputId);\n",
              "  inputElement.disabled = false;\n",
              "\n",
              "  const outputElement = document.getElementById(outputId);\n",
              "  outputElement.innerHTML = '';\n",
              "\n",
              "  const pickedPromise = new Promise((resolve) => {\n",
              "    inputElement.addEventListener('change', (e) => {\n",
              "      resolve(e.target.files);\n",
              "    });\n",
              "  });\n",
              "\n",
              "  const cancel = document.createElement('button');\n",
              "  inputElement.parentElement.appendChild(cancel);\n",
              "  cancel.textContent = 'Cancel upload';\n",
              "  const cancelPromise = new Promise((resolve) => {\n",
              "    cancel.onclick = () => {\n",
              "      resolve(null);\n",
              "    };\n",
              "  });\n",
              "\n",
              "  // Wait for the user to pick the files.\n",
              "  const files = yield {\n",
              "    promise: Promise.race([pickedPromise, cancelPromise]),\n",
              "    response: {\n",
              "      action: 'starting',\n",
              "    }\n",
              "  };\n",
              "\n",
              "  cancel.remove();\n",
              "\n",
              "  // Disable the input element since further picks are not allowed.\n",
              "  inputElement.disabled = true;\n",
              "\n",
              "  if (!files) {\n",
              "    return {\n",
              "      response: {\n",
              "        action: 'complete',\n",
              "      }\n",
              "    };\n",
              "  }\n",
              "\n",
              "  for (const file of files) {\n",
              "    const li = document.createElement('li');\n",
              "    li.append(span(file.name, {fontWeight: 'bold'}));\n",
              "    li.append(span(\n",
              "        `(${file.type || 'n/a'}) - ${file.size} bytes, ` +\n",
              "        `last modified: ${\n",
              "            file.lastModifiedDate ? file.lastModifiedDate.toLocaleDateString() :\n",
              "                                    'n/a'} - `));\n",
              "    const percent = span('0% done');\n",
              "    li.appendChild(percent);\n",
              "\n",
              "    outputElement.appendChild(li);\n",
              "\n",
              "    const fileDataPromise = new Promise((resolve) => {\n",
              "      const reader = new FileReader();\n",
              "      reader.onload = (e) => {\n",
              "        resolve(e.target.result);\n",
              "      };\n",
              "      reader.readAsArrayBuffer(file);\n",
              "    });\n",
              "    // Wait for the data to be ready.\n",
              "    let fileData = yield {\n",
              "      promise: fileDataPromise,\n",
              "      response: {\n",
              "        action: 'continue',\n",
              "      }\n",
              "    };\n",
              "\n",
              "    // Use a chunked sending to avoid message size limits. See b/62115660.\n",
              "    let position = 0;\n",
              "    do {\n",
              "      const length = Math.min(fileData.byteLength - position, MAX_PAYLOAD_SIZE);\n",
              "      const chunk = new Uint8Array(fileData, position, length);\n",
              "      position += length;\n",
              "\n",
              "      const base64 = btoa(String.fromCharCode.apply(null, chunk));\n",
              "      yield {\n",
              "        response: {\n",
              "          action: 'append',\n",
              "          file: file.name,\n",
              "          data: base64,\n",
              "        },\n",
              "      };\n",
              "\n",
              "      let percentDone = fileData.byteLength === 0 ?\n",
              "          100 :\n",
              "          Math.round((position / fileData.byteLength) * 100);\n",
              "      percent.textContent = `${percentDone}% done`;\n",
              "\n",
              "    } while (position < fileData.byteLength);\n",
              "  }\n",
              "\n",
              "  // All done.\n",
              "  yield {\n",
              "    response: {\n",
              "      action: 'complete',\n",
              "    }\n",
              "  };\n",
              "}\n",
              "\n",
              "scope.google = scope.google || {};\n",
              "scope.google.colab = scope.google.colab || {};\n",
              "scope.google.colab._files = {\n",
              "  _uploadFiles,\n",
              "  _uploadFilesContinue,\n",
              "};\n",
              "})(self);\n",
              "</script> "
            ]
          },
          "metadata": {}
        },
        {
          "output_type": "error",
          "ename": "KeyboardInterrupt",
          "evalue": "ignored",
          "traceback": [
            "\u001b[0;31m---------------------------------------------------------------------------\u001b[0m",
            "\u001b[0;31mKeyboardInterrupt\u001b[0m                         Traceback (most recent call last)",
            "\u001b[0;32m<ipython-input-17-6a6aa5310bf9>\u001b[0m in \u001b[0;36m<cell line: 6>\u001b[0;34m()\u001b[0m\n\u001b[1;32m      4\u001b[0m \u001b[0;32mfrom\u001b[0m \u001b[0mtensorflow\u001b[0m\u001b[0;34m.\u001b[0m\u001b[0mkeras\u001b[0m\u001b[0;34m.\u001b[0m\u001b[0mutils\u001b[0m \u001b[0;32mimport\u001b[0m \u001b[0mload_img\u001b[0m\u001b[0;34m,\u001b[0m \u001b[0mimg_to_array\u001b[0m\u001b[0;34m\u001b[0m\u001b[0;34m\u001b[0m\u001b[0m\n\u001b[1;32m      5\u001b[0m \u001b[0;34m\u001b[0m\u001b[0m\n\u001b[0;32m----> 6\u001b[0;31m \u001b[0muploaded\u001b[0m\u001b[0;34m=\u001b[0m\u001b[0mfiles\u001b[0m\u001b[0;34m.\u001b[0m\u001b[0mupload\u001b[0m\u001b[0;34m(\u001b[0m\u001b[0;34m)\u001b[0m\u001b[0;34m\u001b[0m\u001b[0;34m\u001b[0m\u001b[0m\n\u001b[0m\u001b[1;32m      7\u001b[0m \u001b[0;34m\u001b[0m\u001b[0m\n\u001b[1;32m      8\u001b[0m \u001b[0;32mfor\u001b[0m \u001b[0mfn\u001b[0m \u001b[0;32min\u001b[0m \u001b[0muploaded\u001b[0m\u001b[0;34m.\u001b[0m\u001b[0mkeys\u001b[0m\u001b[0;34m(\u001b[0m\u001b[0;34m)\u001b[0m\u001b[0;34m:\u001b[0m\u001b[0;34m\u001b[0m\u001b[0;34m\u001b[0m\u001b[0m\n",
            "\u001b[0;32m/usr/local/lib/python3.10/dist-packages/google/colab/files.py\u001b[0m in \u001b[0;36mupload\u001b[0;34m()\u001b[0m\n\u001b[1;32m     67\u001b[0m   \"\"\"\n\u001b[1;32m     68\u001b[0m \u001b[0;34m\u001b[0m\u001b[0m\n\u001b[0;32m---> 69\u001b[0;31m   \u001b[0muploaded_files\u001b[0m \u001b[0;34m=\u001b[0m \u001b[0m_upload_files\u001b[0m\u001b[0;34m(\u001b[0m\u001b[0mmultiple\u001b[0m\u001b[0;34m=\u001b[0m\u001b[0;32mTrue\u001b[0m\u001b[0;34m)\u001b[0m\u001b[0;34m\u001b[0m\u001b[0;34m\u001b[0m\u001b[0m\n\u001b[0m\u001b[1;32m     70\u001b[0m   \u001b[0;31m# Mapping from original filename to filename as saved locally.\u001b[0m\u001b[0;34m\u001b[0m\u001b[0;34m\u001b[0m\u001b[0m\n\u001b[1;32m     71\u001b[0m   \u001b[0mlocal_filenames\u001b[0m \u001b[0;34m=\u001b[0m \u001b[0mdict\u001b[0m\u001b[0;34m(\u001b[0m\u001b[0;34m)\u001b[0m\u001b[0;34m\u001b[0m\u001b[0;34m\u001b[0m\u001b[0m\n",
            "\u001b[0;32m/usr/local/lib/python3.10/dist-packages/google/colab/files.py\u001b[0m in \u001b[0;36m_upload_files\u001b[0;34m(multiple)\u001b[0m\n\u001b[1;32m    151\u001b[0m \u001b[0;34m\u001b[0m\u001b[0m\n\u001b[1;32m    152\u001b[0m   \u001b[0;31m# First result is always an indication that the file picker has completed.\u001b[0m\u001b[0;34m\u001b[0m\u001b[0;34m\u001b[0m\u001b[0m\n\u001b[0;32m--> 153\u001b[0;31m   result = _output.eval_js(\n\u001b[0m\u001b[1;32m    154\u001b[0m       'google.colab._files._uploadFiles(\"{input_id}\", \"{output_id}\")'.format(\n\u001b[1;32m    155\u001b[0m           \u001b[0minput_id\u001b[0m\u001b[0;34m=\u001b[0m\u001b[0minput_id\u001b[0m\u001b[0;34m,\u001b[0m \u001b[0moutput_id\u001b[0m\u001b[0;34m=\u001b[0m\u001b[0moutput_id\u001b[0m\u001b[0;34m\u001b[0m\u001b[0;34m\u001b[0m\u001b[0m\n",
            "\u001b[0;32m/usr/local/lib/python3.10/dist-packages/google/colab/output/_js.py\u001b[0m in \u001b[0;36meval_js\u001b[0;34m(script, ignore_result, timeout_sec)\u001b[0m\n\u001b[1;32m     38\u001b[0m   \u001b[0;32mif\u001b[0m \u001b[0mignore_result\u001b[0m\u001b[0;34m:\u001b[0m\u001b[0;34m\u001b[0m\u001b[0;34m\u001b[0m\u001b[0m\n\u001b[1;32m     39\u001b[0m     \u001b[0;32mreturn\u001b[0m\u001b[0;34m\u001b[0m\u001b[0;34m\u001b[0m\u001b[0m\n\u001b[0;32m---> 40\u001b[0;31m   \u001b[0;32mreturn\u001b[0m \u001b[0m_message\u001b[0m\u001b[0;34m.\u001b[0m\u001b[0mread_reply_from_input\u001b[0m\u001b[0;34m(\u001b[0m\u001b[0mrequest_id\u001b[0m\u001b[0;34m,\u001b[0m \u001b[0mtimeout_sec\u001b[0m\u001b[0;34m)\u001b[0m\u001b[0;34m\u001b[0m\u001b[0;34m\u001b[0m\u001b[0m\n\u001b[0m\u001b[1;32m     41\u001b[0m \u001b[0;34m\u001b[0m\u001b[0m\n\u001b[1;32m     42\u001b[0m \u001b[0;34m\u001b[0m\u001b[0m\n",
            "\u001b[0;32m/usr/local/lib/python3.10/dist-packages/google/colab/_message.py\u001b[0m in \u001b[0;36mread_reply_from_input\u001b[0;34m(message_id, timeout_sec)\u001b[0m\n\u001b[1;32m     94\u001b[0m     \u001b[0mreply\u001b[0m \u001b[0;34m=\u001b[0m \u001b[0m_read_next_input_message\u001b[0m\u001b[0;34m(\u001b[0m\u001b[0;34m)\u001b[0m\u001b[0;34m\u001b[0m\u001b[0;34m\u001b[0m\u001b[0m\n\u001b[1;32m     95\u001b[0m     \u001b[0;32mif\u001b[0m \u001b[0mreply\u001b[0m \u001b[0;34m==\u001b[0m \u001b[0m_NOT_READY\u001b[0m \u001b[0;32mor\u001b[0m \u001b[0;32mnot\u001b[0m \u001b[0misinstance\u001b[0m\u001b[0;34m(\u001b[0m\u001b[0mreply\u001b[0m\u001b[0;34m,\u001b[0m \u001b[0mdict\u001b[0m\u001b[0;34m)\u001b[0m\u001b[0;34m:\u001b[0m\u001b[0;34m\u001b[0m\u001b[0;34m\u001b[0m\u001b[0m\n\u001b[0;32m---> 96\u001b[0;31m       \u001b[0mtime\u001b[0m\u001b[0;34m.\u001b[0m\u001b[0msleep\u001b[0m\u001b[0;34m(\u001b[0m\u001b[0;36m0.025\u001b[0m\u001b[0;34m)\u001b[0m\u001b[0;34m\u001b[0m\u001b[0;34m\u001b[0m\u001b[0m\n\u001b[0m\u001b[1;32m     97\u001b[0m       \u001b[0;32mcontinue\u001b[0m\u001b[0;34m\u001b[0m\u001b[0;34m\u001b[0m\u001b[0m\n\u001b[1;32m     98\u001b[0m     if (\n",
            "\u001b[0;31mKeyboardInterrupt\u001b[0m: "
          ]
        }
      ]
    },
    {
      "cell_type": "code",
      "source": [],
      "metadata": {
        "id": "m-0R8g52kfyg"
      },
      "execution_count": null,
      "outputs": []
    }
  ]
}